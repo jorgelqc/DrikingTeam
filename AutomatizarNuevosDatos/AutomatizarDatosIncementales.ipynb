{
 "cells": [
  {
   "cell_type": "markdown",
   "metadata": {},
   "source": [
    "La librería que vamos a usar para la automatización del monitoreo de los datos, es Watchdog. Estuvimos averiguando y es una muy buena herramienta para identificar cambios en el sistema de archivos en tiempo real. Es particularmente útil cuando necesitas realizar acciones automáticas en respuesta a eventos como la creación, modificación, o eliminación de archivos y directorios. Es por eso, que nos decidimos por Watchdog"
   ]
  },
  {
   "cell_type": "markdown",
   "metadata": {},
   "source": [
    "Para interactual con la base de datos, vamos a usar pyodbc. Ver con cual resulta mas fácil"
   ]
  },
  {
   "cell_type": "code",
   "execution_count": null,
   "metadata": {},
   "outputs": [],
   "source": [
    "# Conectarse a la base de datos en cuestion\n",
    "\n",
    "import pyodbc\n",
    "import pandas as pd\n",
    "from sqlalchemy import create_engine\n",
    "\n",
    "# Configuración de la cadena de conexión\n",
    "server = 'your_server_name.database.windows.net'\n",
    "database = 'your_db_name'\n",
    "username = 'your_username'\n",
    "password = 'your_password'\n",
    "driver = '{ODBC Driver 17 for SQL Server}'\n",
    "\n",
    "# Conexión con pyodbc\n",
    "conn = pyodbc.connect(f'DRIVER={driver};SERVER={server};DATABASE={database};UID={username};PWD={password}')\n",
    "\n",
    "# O, si prefieres usar SQLAlchemy para manejar la conexión y ejecutar el DataFrame\n",
    "engine = create_engine(f'mssql+pyodbc://{username}:{password}@{server}/{database}?driver=ODBC+Driver+17+for+SQL+Server')\n"
   ]
  },
  {
   "cell_type": "code",
   "execution_count": null,
   "metadata": {},
   "outputs": [],
   "source": [
    "# Leer el último registro procesado\n",
    "\n",
    "last_ingestion = pd.read_sql('SELECT TOP 1 * FROM ingestion_control ORDER BY last_ingestion_id DESC', conn)\n",
    "last_id = last_ingestion['last_ingestion_id'].iloc[0] if not last_ingestion.empty else 0\n"
   ]
  },
  {
   "cell_type": "code",
   "execution_count": null,
   "metadata": {},
   "outputs": [],
   "source": [
    "# Cargar el CSV en un DataFrame de pandas\n",
    "df = pd.read_csv('path/to/your/data.csv')"
   ]
  },
  {
   "cell_type": "code",
   "execution_count": null,
   "metadata": {},
   "outputs": [],
   "source": [
    "\n",
    "# Filtrar los nuevos registros que no han sido procesados\n",
    "new_data = df[df['id_column'] > last_id]"
   ]
  },
  {
   "cell_type": "code",
   "execution_count": null,
   "metadata": {},
   "outputs": [],
   "source": [
    "# Insertar los nuevos datos en la base de datos\n",
    "if not new_data.empty:\n",
    "    new_data.to_sql('your_table_name', engine, if_exists='append', index=False)\n",
    "\n",
    "    # Actualizar la tabla de control con el último ID procesado\n",
    "    last_processed_id = new_data['id_column'].max()\n",
    "    engine.execute(f\"INSERT INTO ingestion_control (last_ingestion_id, last_ingestion_timestamp) VALUES ({last_processed_id}, CURRENT_TIMESTAMP)\")\n",
    "else:\n",
    "    print(\"No hay nuevos datos para insertar.\")"
   ]
  }
 ],
 "metadata": {
  "language_info": {
   "name": "python"
  }
 },
 "nbformat": 4,
 "nbformat_minor": 2
}
