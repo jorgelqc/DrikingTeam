{
 "cells": [
  {
   "cell_type": "markdown",
   "metadata": {},
   "source": [
    "# Drinking Team"
   ]
  },
  {
   "cell_type": "markdown",
   "metadata": {},
   "source": [
    "(Agregar descripcion del proyecto)"
   ]
  },
  {
   "cell_type": "markdown",
   "metadata": {},
   "source": [
    "# Capitulo 1 - Recoleccion de datos y analisis de DataSets"
   ]
  },
  {
   "cell_type": "code",
   "execution_count": 3,
   "metadata": {},
   "outputs": [],
   "source": [
    "# Importamos las librerias necesarias\n",
    "import numpy as np\n",
    "import pandas as pd\n",
    "import matplotlib.pyplot as plt\n",
    "import seaborn as sns"
   ]
  },
  {
   "cell_type": "code",
   "execution_count": 13,
   "metadata": {},
   "outputs": [],
   "source": [
    "url = 'https://drive.google.com/uc?export=download&id=1h3We42lIDv8lqY0siWLXo5MMwgrGrt6J'\n",
    "inventario_inicial = pd.read_csv(url)\n",
    "\n",
    "url = 'https://drive.google.com/uc?export=download&id=13oLTpxnY7CRd9iR604N8kfKvmbBla8VG'\n",
    "inventario_final = pd.read_csv(url)\n",
    "\n",
    "url = 'https://drive.usercontent.google.com/download?id=1Id7ERr7pXVJCfempvpEzseJ8WPF_Hs5j&export=download&authuser=0&confirm=t&uuid=3f33a3fd-2696-4250-b026-b62f6c445e4a&at=APZUnTUbyMP2tLICvQCO15n8Z4fY%3A1723646561085'\n",
    "compras = pd.read_csv(url)\n",
    "\n",
    "url = 'https://drive.usercontent.google.com/download?id=1QvW3YxNzlQy9FbBZuil6VlE2ZQSIPC4o&export=download&authuser=0&confirm=t&uuid=277da297-06fa-4d0e-9cc4-8e607e577846&at=APZUnTWdj6JrNn6b7VQ9vwcoCaZN%3A1723646612159'\n",
    "ventas = pd.read_csv(url)"
   ]
  },
  {
   "cell_type": "code",
   "execution_count": 14,
   "metadata": {},
   "outputs": [],
   "source": [
    "# Abrimos los archivos .csv\n",
    "inventario_inicial = pd.read_csv('https://drive.google.com/uc?export=download&id=1h3We42lIDv8lqY0siWLXo5MMwgrGrt6J')\n",
    "inventario_final = pd.read_csv('https://drive.google.com/uc?export=download&id=13oLTpxnY7CRd9iR604N8kfKvmbBla8VG')\n",
    "compras = pd.read_csv('https://drive.usercontent.google.com/download?id=1Id7ERr7pXVJCfempvpEzseJ8WPF_Hs5j&export=download&authuser=0&confirm=t&uuid=3f33a3fd-2696-4250-b026-b62f6c445e4a&at=APZUnTUbyMP2tLICvQCO15n8Z4fY%3A1723646561085')\n",
    "ventas = pd.read_csv('https://drive.usercontent.google.com/download?id=1QvW3YxNzlQy9FbBZuil6VlE2ZQSIPC4o&export=download&authuser=0&confirm=t&uuid=277da297-06fa-4d0e-9cc4-8e607e577846&at=APZUnTWdj6JrNn6b7VQ9vwcoCaZN%3A1723646612159')"
   ]
  },
  {
   "cell_type": "markdown",
   "metadata": {},
   "source": [
    "## Vemos la informacion que contiene cada dataset"
   ]
  },
  {
   "cell_type": "markdown",
   "metadata": {},
   "source": [
    "### Analizamos inventario_inicial"
   ]
  },
  {
   "cell_type": "code",
   "execution_count": 15,
   "metadata": {},
   "outputs": [
    {
     "data": {
      "text/html": [
       "<div>\n",
       "<style scoped>\n",
       "    .dataframe tbody tr th:only-of-type {\n",
       "        vertical-align: middle;\n",
       "    }\n",
       "\n",
       "    .dataframe tbody tr th {\n",
       "        vertical-align: top;\n",
       "    }\n",
       "\n",
       "    .dataframe thead th {\n",
       "        text-align: right;\n",
       "    }\n",
       "</style>\n",
       "<table border=\"1\" class=\"dataframe\">\n",
       "  <thead>\n",
       "    <tr style=\"text-align: right;\">\n",
       "      <th></th>\n",
       "      <th>InventoryId</th>\n",
       "      <th>Store</th>\n",
       "      <th>City</th>\n",
       "      <th>Brand</th>\n",
       "      <th>Description</th>\n",
       "      <th>Size</th>\n",
       "      <th>onHand</th>\n",
       "      <th>Price</th>\n",
       "      <th>startDate</th>\n",
       "    </tr>\n",
       "  </thead>\n",
       "  <tbody>\n",
       "    <tr>\n",
       "      <th>0</th>\n",
       "      <td>1_HARDERSFIELD_58</td>\n",
       "      <td>1</td>\n",
       "      <td>HARDERSFIELD</td>\n",
       "      <td>58</td>\n",
       "      <td>Gekkeikan Black &amp; Gold Sake</td>\n",
       "      <td>750mL</td>\n",
       "      <td>8</td>\n",
       "      <td>12.99</td>\n",
       "      <td>2016-01-01</td>\n",
       "    </tr>\n",
       "    <tr>\n",
       "      <th>1</th>\n",
       "      <td>1_HARDERSFIELD_60</td>\n",
       "      <td>1</td>\n",
       "      <td>HARDERSFIELD</td>\n",
       "      <td>60</td>\n",
       "      <td>Canadian Club 1858 VAP</td>\n",
       "      <td>750mL</td>\n",
       "      <td>7</td>\n",
       "      <td>10.99</td>\n",
       "      <td>2016-01-01</td>\n",
       "    </tr>\n",
       "    <tr>\n",
       "      <th>2</th>\n",
       "      <td>1_HARDERSFIELD_62</td>\n",
       "      <td>1</td>\n",
       "      <td>HARDERSFIELD</td>\n",
       "      <td>62</td>\n",
       "      <td>Herradura Silver Tequila</td>\n",
       "      <td>750mL</td>\n",
       "      <td>6</td>\n",
       "      <td>36.99</td>\n",
       "      <td>2016-01-01</td>\n",
       "    </tr>\n",
       "    <tr>\n",
       "      <th>3</th>\n",
       "      <td>1_HARDERSFIELD_63</td>\n",
       "      <td>1</td>\n",
       "      <td>HARDERSFIELD</td>\n",
       "      <td>63</td>\n",
       "      <td>Herradura Reposado Tequila</td>\n",
       "      <td>750mL</td>\n",
       "      <td>3</td>\n",
       "      <td>38.99</td>\n",
       "      <td>2016-01-01</td>\n",
       "    </tr>\n",
       "    <tr>\n",
       "      <th>4</th>\n",
       "      <td>1_HARDERSFIELD_72</td>\n",
       "      <td>1</td>\n",
       "      <td>HARDERSFIELD</td>\n",
       "      <td>72</td>\n",
       "      <td>No. 3 London Dry Gin</td>\n",
       "      <td>750mL</td>\n",
       "      <td>6</td>\n",
       "      <td>34.99</td>\n",
       "      <td>2016-01-01</td>\n",
       "    </tr>\n",
       "  </tbody>\n",
       "</table>\n",
       "</div>"
      ],
      "text/plain": [
       "         InventoryId  Store          City  Brand                  Description  \\\n",
       "0  1_HARDERSFIELD_58      1  HARDERSFIELD     58  Gekkeikan Black & Gold Sake   \n",
       "1  1_HARDERSFIELD_60      1  HARDERSFIELD     60       Canadian Club 1858 VAP   \n",
       "2  1_HARDERSFIELD_62      1  HARDERSFIELD     62     Herradura Silver Tequila   \n",
       "3  1_HARDERSFIELD_63      1  HARDERSFIELD     63   Herradura Reposado Tequila   \n",
       "4  1_HARDERSFIELD_72      1  HARDERSFIELD     72         No. 3 London Dry Gin   \n",
       "\n",
       "    Size  onHand  Price   startDate  \n",
       "0  750mL       8  12.99  2016-01-01  \n",
       "1  750mL       7  10.99  2016-01-01  \n",
       "2  750mL       6  36.99  2016-01-01  \n",
       "3  750mL       3  38.99  2016-01-01  \n",
       "4  750mL       6  34.99  2016-01-01  "
      ]
     },
     "execution_count": 15,
     "metadata": {},
     "output_type": "execute_result"
    }
   ],
   "source": [
    "inventario_inicial.head(5)"
   ]
  },
  {
   "cell_type": "code",
   "execution_count": 16,
   "metadata": {},
   "outputs": [
    {
     "data": {
      "text/plain": [
       "<bound method DataFrame.info of                InventoryId  Store          City  Brand  \\\n",
       "0        1_HARDERSFIELD_58      1  HARDERSFIELD     58   \n",
       "1        1_HARDERSFIELD_60      1  HARDERSFIELD     60   \n",
       "2        1_HARDERSFIELD_62      1  HARDERSFIELD     62   \n",
       "3        1_HARDERSFIELD_63      1  HARDERSFIELD     63   \n",
       "4        1_HARDERSFIELD_72      1  HARDERSFIELD     72   \n",
       "...                    ...    ...           ...    ...   \n",
       "206524  79_BALLYMENA_46985     79     BALLYMENA  46985   \n",
       "206525  79_BALLYMENA_47014     79     BALLYMENA  47014   \n",
       "206526  79_BALLYMENA_47090     79     BALLYMENA  47090   \n",
       "206527  79_BALLYMENA_90011     79     BALLYMENA  90011   \n",
       "206528  79_BALLYMENA_90089     79     BALLYMENA  90089   \n",
       "\n",
       "                         Description   Size  onHand   Price   startDate  \n",
       "0        Gekkeikan Black & Gold Sake  750mL       8   12.99  2016-01-01  \n",
       "1             Canadian Club 1858 VAP  750mL       7   10.99  2016-01-01  \n",
       "2           Herradura Silver Tequila  750mL       6   36.99  2016-01-01  \n",
       "3         Herradura Reposado Tequila  750mL       3   38.99  2016-01-01  \n",
       "4               No. 3 London Dry Gin  750mL       6   34.99  2016-01-01  \n",
       "...                              ...    ...     ...     ...         ...  \n",
       "206524  Rodney Strong Cab Svgn Alexa  750mL      13   22.99  2016-01-01  \n",
       "206525           Juan Gil Jumilla Rd  750mL      13   13.99  2016-01-01  \n",
       "206526    Napa Cellars Cab Svgn Napa  750mL      19   23.99  2016-01-01  \n",
       "206527  Ch Pichon Longville 12 Pauil  750mL      12  144.99  2016-01-01  \n",
       "206528    Ch Lynch Bages 12 Pauillac  750mL      24  119.99  2016-01-01  \n",
       "\n",
       "[206529 rows x 9 columns]>"
      ]
     },
     "execution_count": 16,
     "metadata": {},
     "output_type": "execute_result"
    }
   ],
   "source": [
    "inventario_inicial.info"
   ]
  },
  {
   "cell_type": "code",
   "execution_count": 17,
   "metadata": {},
   "outputs": [
    {
     "data": {
      "text/plain": [
       "Index(['InventoryId', 'Store', 'City', 'Brand', 'Description', 'Size',\n",
       "       'onHand', 'Price', 'startDate'],\n",
       "      dtype='object')"
      ]
     },
     "execution_count": 17,
     "metadata": {},
     "output_type": "execute_result"
    }
   ],
   "source": [
    "inventario_inicial.columns"
   ]
  },
  {
   "cell_type": "markdown",
   "metadata": {},
   "source": [
    "Para saber mas sobre esta tabla vamos a analizar la columna startDate\n"
   ]
  },
  {
   "cell_type": "code",
   "execution_count": 18,
   "metadata": {},
   "outputs": [
    {
     "name": "stdout",
     "output_type": "stream",
     "text": [
      "2016-01-01\n",
      "2016-01-01\n"
     ]
    }
   ],
   "source": [
    "fecha_mas_vieja = inventario_inicial['startDate'].min()\n",
    "fecha_mas_nueva = inventario_inicial['startDate'].max()\n",
    "print(fecha_mas_nueva)\n",
    "print(fecha_mas_vieja)\n"
   ]
  },
  {
   "cell_type": "markdown",
   "metadata": {},
   "source": [
    "Vamos a asegurarnos que son todas las mismas fechas"
   ]
  },
  {
   "cell_type": "code",
   "execution_count": 19,
   "metadata": {},
   "outputs": [
    {
     "name": "stdout",
     "output_type": "stream",
     "text": [
      "Número de fechas únicas: 1\n"
     ]
    }
   ],
   "source": [
    "unique_dates_count = inventario_inicial['startDate'].nunique()\n",
    "print(f\"Número de fechas únicas: {unique_dates_count}\")"
   ]
  },
  {
   "cell_type": "markdown",
   "metadata": {},
   "source": [
    "Efectivamente esta tabla indica el inventario existente al 2016-01-01\n",
    "\n",
    "Posee 206529 rows x 9 columns\n",
    "\n",
    "Sus columnas son: ['InventoryId', 'Store', 'City', 'Brand', 'Description', 'Size','onHand', 'Price', 'startDate']\n",
    "\n",
    "La columna InventoryId podria ser utilizada como key"
   ]
  },
  {
   "cell_type": "markdown",
   "metadata": {},
   "source": [
    "### Ahora analizaremos inventario_final para asegurarnos que es el inventario a una fecha final "
   ]
  },
  {
   "cell_type": "code",
   "execution_count": 20,
   "metadata": {},
   "outputs": [
    {
     "data": {
      "text/html": [
       "<div>\n",
       "<style scoped>\n",
       "    .dataframe tbody tr th:only-of-type {\n",
       "        vertical-align: middle;\n",
       "    }\n",
       "\n",
       "    .dataframe tbody tr th {\n",
       "        vertical-align: top;\n",
       "    }\n",
       "\n",
       "    .dataframe thead th {\n",
       "        text-align: right;\n",
       "    }\n",
       "</style>\n",
       "<table border=\"1\" class=\"dataframe\">\n",
       "  <thead>\n",
       "    <tr style=\"text-align: right;\">\n",
       "      <th></th>\n",
       "      <th>InventoryId</th>\n",
       "      <th>Store</th>\n",
       "      <th>City</th>\n",
       "      <th>Brand</th>\n",
       "      <th>Description</th>\n",
       "      <th>Size</th>\n",
       "      <th>onHand</th>\n",
       "      <th>Price</th>\n",
       "      <th>endDate</th>\n",
       "    </tr>\n",
       "  </thead>\n",
       "  <tbody>\n",
       "    <tr>\n",
       "      <th>0</th>\n",
       "      <td>1_HARDERSFIELD_58</td>\n",
       "      <td>1</td>\n",
       "      <td>HARDERSFIELD</td>\n",
       "      <td>58</td>\n",
       "      <td>Gekkeikan Black &amp; Gold Sake</td>\n",
       "      <td>750mL</td>\n",
       "      <td>11</td>\n",
       "      <td>12.99</td>\n",
       "      <td>2016-12-31</td>\n",
       "    </tr>\n",
       "    <tr>\n",
       "      <th>1</th>\n",
       "      <td>1_HARDERSFIELD_62</td>\n",
       "      <td>1</td>\n",
       "      <td>HARDERSFIELD</td>\n",
       "      <td>62</td>\n",
       "      <td>Herradura Silver Tequila</td>\n",
       "      <td>750mL</td>\n",
       "      <td>7</td>\n",
       "      <td>36.99</td>\n",
       "      <td>2016-12-31</td>\n",
       "    </tr>\n",
       "    <tr>\n",
       "      <th>2</th>\n",
       "      <td>1_HARDERSFIELD_63</td>\n",
       "      <td>1</td>\n",
       "      <td>HARDERSFIELD</td>\n",
       "      <td>63</td>\n",
       "      <td>Herradura Reposado Tequila</td>\n",
       "      <td>750mL</td>\n",
       "      <td>7</td>\n",
       "      <td>38.99</td>\n",
       "      <td>2016-12-31</td>\n",
       "    </tr>\n",
       "    <tr>\n",
       "      <th>3</th>\n",
       "      <td>1_HARDERSFIELD_72</td>\n",
       "      <td>1</td>\n",
       "      <td>HARDERSFIELD</td>\n",
       "      <td>72</td>\n",
       "      <td>No. 3 London Dry Gin</td>\n",
       "      <td>750mL</td>\n",
       "      <td>4</td>\n",
       "      <td>34.99</td>\n",
       "      <td>2016-12-31</td>\n",
       "    </tr>\n",
       "    <tr>\n",
       "      <th>4</th>\n",
       "      <td>1_HARDERSFIELD_75</td>\n",
       "      <td>1</td>\n",
       "      <td>HARDERSFIELD</td>\n",
       "      <td>75</td>\n",
       "      <td>Three Olives Tomato Vodka</td>\n",
       "      <td>750mL</td>\n",
       "      <td>7</td>\n",
       "      <td>14.99</td>\n",
       "      <td>2016-12-31</td>\n",
       "    </tr>\n",
       "  </tbody>\n",
       "</table>\n",
       "</div>"
      ],
      "text/plain": [
       "         InventoryId  Store          City  Brand                  Description  \\\n",
       "0  1_HARDERSFIELD_58      1  HARDERSFIELD     58  Gekkeikan Black & Gold Sake   \n",
       "1  1_HARDERSFIELD_62      1  HARDERSFIELD     62     Herradura Silver Tequila   \n",
       "2  1_HARDERSFIELD_63      1  HARDERSFIELD     63   Herradura Reposado Tequila   \n",
       "3  1_HARDERSFIELD_72      1  HARDERSFIELD     72         No. 3 London Dry Gin   \n",
       "4  1_HARDERSFIELD_75      1  HARDERSFIELD     75    Three Olives Tomato Vodka   \n",
       "\n",
       "    Size  onHand  Price     endDate  \n",
       "0  750mL      11  12.99  2016-12-31  \n",
       "1  750mL       7  36.99  2016-12-31  \n",
       "2  750mL       7  38.99  2016-12-31  \n",
       "3  750mL       4  34.99  2016-12-31  \n",
       "4  750mL       7  14.99  2016-12-31  "
      ]
     },
     "execution_count": 20,
     "metadata": {},
     "output_type": "execute_result"
    }
   ],
   "source": [
    "inventario_final.head(5)"
   ]
  },
  {
   "cell_type": "code",
   "execution_count": 21,
   "metadata": {},
   "outputs": [
    {
     "data": {
      "text/plain": [
       "<bound method DataFrame.info of               InventoryId  Store          City  Brand  \\\n",
       "0       1_HARDERSFIELD_58      1  HARDERSFIELD     58   \n",
       "1       1_HARDERSFIELD_62      1  HARDERSFIELD     62   \n",
       "2       1_HARDERSFIELD_63      1  HARDERSFIELD     63   \n",
       "3       1_HARDERSFIELD_72      1  HARDERSFIELD     72   \n",
       "4       1_HARDERSFIELD_75      1  HARDERSFIELD     75   \n",
       "...                   ...    ...           ...    ...   \n",
       "224484  81_PEMBROKE_90087     81      PEMBROKE  90087   \n",
       "224485  81_PEMBROKE_90088     81      PEMBROKE  90088   \n",
       "224486  81_PEMBROKE_90089     81      PEMBROKE  90089   \n",
       "224487  81_PEMBROKE_90090     81      PEMBROKE  90090   \n",
       "224488  81_PEMBROKE_90604     81      PEMBROKE  90604   \n",
       "\n",
       "                         Description   Size  onHand   Price     endDate  \n",
       "0        Gekkeikan Black & Gold Sake  750mL      11   12.99  2016-12-31  \n",
       "1           Herradura Silver Tequila  750mL       7   36.99  2016-12-31  \n",
       "2         Herradura Reposado Tequila  750mL       7   38.99  2016-12-31  \n",
       "3               No. 3 London Dry Gin  750mL       4   34.99  2016-12-31  \n",
       "4          Three Olives Tomato Vodka  750mL       7   14.99  2016-12-31  \n",
       "...                              ...    ...     ...     ...         ...  \n",
       "224484  Ch Mouton Rothschild 12 Paui  750mL       3  469.99  2016-12-31  \n",
       "224485  Ch Le Petite Mouton 12 Pauil  750mL       3  134.99  2016-12-31  \n",
       "224486    Ch Lynch Bages 12 Pauillac  750mL       3  119.99  2016-12-31  \n",
       "224487       Ch Lafite Rothschild 12  750mL       3  649.99  2016-12-31  \n",
       "224488        Ch Lynch Bages Pauilac  750mL       2  119.99  2016-12-31  \n",
       "\n",
       "[224489 rows x 9 columns]>"
      ]
     },
     "execution_count": 21,
     "metadata": {},
     "output_type": "execute_result"
    }
   ],
   "source": [
    "inventario_final.info"
   ]
  },
  {
   "cell_type": "code",
   "execution_count": 22,
   "metadata": {},
   "outputs": [
    {
     "data": {
      "text/plain": [
       "Index(['InventoryId', 'Store', 'City', 'Brand', 'Description', 'Size',\n",
       "       'onHand', 'Price', 'endDate'],\n",
       "      dtype='object')"
      ]
     },
     "execution_count": 22,
     "metadata": {},
     "output_type": "execute_result"
    }
   ],
   "source": [
    "inventario_final.columns"
   ]
  },
  {
   "cell_type": "code",
   "execution_count": 23,
   "metadata": {},
   "outputs": [
    {
     "name": "stdout",
     "output_type": "stream",
     "text": [
      "Número de fechas únicas: 1\n"
     ]
    }
   ],
   "source": [
    "unique_dates_count = inventario_final['endDate'].nunique()\n",
    "\n",
    "print(f\"Número de fechas únicas: {unique_dates_count}\")"
   ]
  },
  {
   "cell_type": "markdown",
   "metadata": {},
   "source": [
    "Efectivamente esta tabla indica el inventario existente al 2016-01-01\n",
    "\n",
    "Posee 224489 rows x 9 columns\n",
    "\n",
    "Sus columnas son: 'InventoryId', 'Store', 'City', 'Brand', 'Description', 'Size', 'onHand', 'Price', 'endDate'\n",
    "\n",
    "La columna InventoryId podria ser utilizada como key\n",
    "\n",
    "Las filas no cohinciden con el numero de inventario_inicial"
   ]
  },
  {
   "cell_type": "markdown",
   "metadata": {},
   "source": [
    "### Ahora veamos compras"
   ]
  },
  {
   "cell_type": "code",
   "execution_count": 24,
   "metadata": {},
   "outputs": [
    {
     "data": {
      "text/html": [
       "<div>\n",
       "<style scoped>\n",
       "    .dataframe tbody tr th:only-of-type {\n",
       "        vertical-align: middle;\n",
       "    }\n",
       "\n",
       "    .dataframe tbody tr th {\n",
       "        vertical-align: top;\n",
       "    }\n",
       "\n",
       "    .dataframe thead th {\n",
       "        text-align: right;\n",
       "    }\n",
       "</style>\n",
       "<table border=\"1\" class=\"dataframe\">\n",
       "  <thead>\n",
       "    <tr style=\"text-align: right;\">\n",
       "      <th></th>\n",
       "      <th>InventoryId</th>\n",
       "      <th>Store</th>\n",
       "      <th>Brand</th>\n",
       "      <th>Description</th>\n",
       "      <th>Size</th>\n",
       "      <th>VendorNumber</th>\n",
       "      <th>VendorName</th>\n",
       "      <th>PONumber</th>\n",
       "      <th>PODate</th>\n",
       "      <th>ReceivingDate</th>\n",
       "      <th>InvoiceDate</th>\n",
       "      <th>PayDate</th>\n",
       "      <th>PurchasePrice</th>\n",
       "      <th>Quantity</th>\n",
       "      <th>Dollars</th>\n",
       "      <th>Classification</th>\n",
       "    </tr>\n",
       "  </thead>\n",
       "  <tbody>\n",
       "    <tr>\n",
       "      <th>0</th>\n",
       "      <td>69_MOUNTMEND_8412</td>\n",
       "      <td>69</td>\n",
       "      <td>8412</td>\n",
       "      <td>Tequila Ocho Plata Fresno</td>\n",
       "      <td>750mL</td>\n",
       "      <td>105</td>\n",
       "      <td>ALTAMAR BRANDS LLC</td>\n",
       "      <td>8124</td>\n",
       "      <td>2015-12-21</td>\n",
       "      <td>2016-01-02</td>\n",
       "      <td>2016-01-04</td>\n",
       "      <td>2016-02-16</td>\n",
       "      <td>35.71</td>\n",
       "      <td>6</td>\n",
       "      <td>214.26</td>\n",
       "      <td>1</td>\n",
       "    </tr>\n",
       "    <tr>\n",
       "      <th>1</th>\n",
       "      <td>30_CULCHETH_5255</td>\n",
       "      <td>30</td>\n",
       "      <td>5255</td>\n",
       "      <td>TGI Fridays Ultimte Mudslide</td>\n",
       "      <td>1.75L</td>\n",
       "      <td>4466</td>\n",
       "      <td>AMERICAN VINTAGE BEVERAGE</td>\n",
       "      <td>8137</td>\n",
       "      <td>2015-12-22</td>\n",
       "      <td>2016-01-01</td>\n",
       "      <td>2016-01-07</td>\n",
       "      <td>2016-02-21</td>\n",
       "      <td>9.35</td>\n",
       "      <td>4</td>\n",
       "      <td>37.40</td>\n",
       "      <td>1</td>\n",
       "    </tr>\n",
       "    <tr>\n",
       "      <th>2</th>\n",
       "      <td>34_PITMERDEN_5215</td>\n",
       "      <td>34</td>\n",
       "      <td>5215</td>\n",
       "      <td>TGI Fridays Long Island Iced</td>\n",
       "      <td>1.75L</td>\n",
       "      <td>4466</td>\n",
       "      <td>AMERICAN VINTAGE BEVERAGE</td>\n",
       "      <td>8137</td>\n",
       "      <td>2015-12-22</td>\n",
       "      <td>2016-01-02</td>\n",
       "      <td>2016-01-07</td>\n",
       "      <td>2016-02-21</td>\n",
       "      <td>9.41</td>\n",
       "      <td>5</td>\n",
       "      <td>47.05</td>\n",
       "      <td>1</td>\n",
       "    </tr>\n",
       "    <tr>\n",
       "      <th>3</th>\n",
       "      <td>1_HARDERSFIELD_5255</td>\n",
       "      <td>1</td>\n",
       "      <td>5255</td>\n",
       "      <td>TGI Fridays Ultimte Mudslide</td>\n",
       "      <td>1.75L</td>\n",
       "      <td>4466</td>\n",
       "      <td>AMERICAN VINTAGE BEVERAGE</td>\n",
       "      <td>8137</td>\n",
       "      <td>2015-12-22</td>\n",
       "      <td>2016-01-01</td>\n",
       "      <td>2016-01-07</td>\n",
       "      <td>2016-02-21</td>\n",
       "      <td>9.35</td>\n",
       "      <td>6</td>\n",
       "      <td>56.10</td>\n",
       "      <td>1</td>\n",
       "    </tr>\n",
       "    <tr>\n",
       "      <th>4</th>\n",
       "      <td>76_DONCASTER_2034</td>\n",
       "      <td>76</td>\n",
       "      <td>2034</td>\n",
       "      <td>Glendalough Double Barrel</td>\n",
       "      <td>750mL</td>\n",
       "      <td>388</td>\n",
       "      <td>ATLANTIC IMPORTING COMPANY</td>\n",
       "      <td>8169</td>\n",
       "      <td>2015-12-24</td>\n",
       "      <td>2016-01-02</td>\n",
       "      <td>2016-01-09</td>\n",
       "      <td>2016-02-16</td>\n",
       "      <td>21.32</td>\n",
       "      <td>5</td>\n",
       "      <td>106.60</td>\n",
       "      <td>1</td>\n",
       "    </tr>\n",
       "  </tbody>\n",
       "</table>\n",
       "</div>"
      ],
      "text/plain": [
       "           InventoryId  Store  Brand                   Description   Size  \\\n",
       "0    69_MOUNTMEND_8412     69   8412     Tequila Ocho Plata Fresno  750mL   \n",
       "1     30_CULCHETH_5255     30   5255  TGI Fridays Ultimte Mudslide  1.75L   \n",
       "2    34_PITMERDEN_5215     34   5215  TGI Fridays Long Island Iced  1.75L   \n",
       "3  1_HARDERSFIELD_5255      1   5255  TGI Fridays Ultimte Mudslide  1.75L   \n",
       "4    76_DONCASTER_2034     76   2034     Glendalough Double Barrel  750mL   \n",
       "\n",
       "   VendorNumber                   VendorName  PONumber      PODate  \\\n",
       "0           105  ALTAMAR BRANDS LLC               8124  2015-12-21   \n",
       "1          4466  AMERICAN VINTAGE BEVERAGE        8137  2015-12-22   \n",
       "2          4466  AMERICAN VINTAGE BEVERAGE        8137  2015-12-22   \n",
       "3          4466  AMERICAN VINTAGE BEVERAGE        8137  2015-12-22   \n",
       "4           388  ATLANTIC IMPORTING COMPANY       8169  2015-12-24   \n",
       "\n",
       "  ReceivingDate InvoiceDate     PayDate  PurchasePrice  Quantity  Dollars  \\\n",
       "0    2016-01-02  2016-01-04  2016-02-16          35.71         6   214.26   \n",
       "1    2016-01-01  2016-01-07  2016-02-21           9.35         4    37.40   \n",
       "2    2016-01-02  2016-01-07  2016-02-21           9.41         5    47.05   \n",
       "3    2016-01-01  2016-01-07  2016-02-21           9.35         6    56.10   \n",
       "4    2016-01-02  2016-01-09  2016-02-16          21.32         5   106.60   \n",
       "\n",
       "   Classification  \n",
       "0               1  \n",
       "1               1  \n",
       "2               1  \n",
       "3               1  \n",
       "4               1  "
      ]
     },
     "execution_count": 24,
     "metadata": {},
     "output_type": "execute_result"
    }
   ],
   "source": [
    "compras.head(5)"
   ]
  },
  {
   "cell_type": "code",
   "execution_count": 25,
   "metadata": {},
   "outputs": [
    {
     "data": {
      "text/plain": [
       "<bound method DataFrame.info of                   InventoryId  Store  Brand                   Description  \\\n",
       "0           69_MOUNTMEND_8412     69   8412     Tequila Ocho Plata Fresno   \n",
       "1            30_CULCHETH_5255     30   5255  TGI Fridays Ultimte Mudslide   \n",
       "2           34_PITMERDEN_5215     34   5215  TGI Fridays Long Island Iced   \n",
       "3         1_HARDERSFIELD_5255      1   5255  TGI Fridays Ultimte Mudslide   \n",
       "4           76_DONCASTER_2034     76   2034     Glendalough Double Barrel   \n",
       "...                       ...    ...    ...                           ...   \n",
       "2372469     49_GARIGILL_22298     49  22298       Zorvino Vyds Sangiovese   \n",
       "2372470  1_HARDERSFIELD_19556      1  19556    Zorvino Bacca Z Blackberry   \n",
       "2372471   66_EANVERNESS_22297     66  22297            Zorvino Vyds Pearz   \n",
       "2372472    69_MOUNTMEND_19557     69  19557  Zorvino Fragole Z Strawberry   \n",
       "2372473    55_DRY GULCH_22298     55  22298       Zorvino Vyds Sangiovese   \n",
       "\n",
       "          Size  VendorNumber                   VendorName  PONumber  \\\n",
       "0        750mL           105  ALTAMAR BRANDS LLC               8124   \n",
       "1        1.75L          4466  AMERICAN VINTAGE BEVERAGE        8137   \n",
       "2        1.75L          4466  AMERICAN VINTAGE BEVERAGE        8137   \n",
       "3        1.75L          4466  AMERICAN VINTAGE BEVERAGE        8137   \n",
       "4        750mL           388  ATLANTIC IMPORTING COMPANY       8169   \n",
       "...        ...           ...                          ...       ...   \n",
       "2372469  750mL         90058  ZORVINO VINEYARDS               13593   \n",
       "2372470  750mL         90058  ZORVINO VINEYARDS               13593   \n",
       "2372471  750mL         90058  ZORVINO VINEYARDS               13593   \n",
       "2372472  750mL         90058  ZORVINO VINEYARDS               13593   \n",
       "2372473  750mL         90058  ZORVINO VINEYARDS               13593   \n",
       "\n",
       "             PODate ReceivingDate InvoiceDate     PayDate  PurchasePrice  \\\n",
       "0        2015-12-21    2016-01-02  2016-01-04  2016-02-16          35.71   \n",
       "1        2015-12-22    2016-01-01  2016-01-07  2016-02-21           9.35   \n",
       "2        2015-12-22    2016-01-02  2016-01-07  2016-02-21           9.41   \n",
       "3        2015-12-22    2016-01-01  2016-01-07  2016-02-21           9.35   \n",
       "4        2015-12-24    2016-01-02  2016-01-09  2016-02-16          21.32   \n",
       "...             ...           ...         ...         ...            ...   \n",
       "2372469  2016-12-19    2016-12-28  2017-01-09  2017-02-06           8.06   \n",
       "2372470  2016-12-19    2016-12-27  2017-01-09  2017-02-06           9.39   \n",
       "2372471  2016-12-19    2016-12-26  2017-01-09  2017-02-06           6.75   \n",
       "2372472  2016-12-19    2016-12-26  2017-01-09  2017-02-06           9.39   \n",
       "2372473  2016-12-19    2016-12-28  2017-01-09  2017-02-06           8.06   \n",
       "\n",
       "         Quantity  Dollars  Classification  \n",
       "0               6   214.26               1  \n",
       "1               4    37.40               1  \n",
       "2               5    47.05               1  \n",
       "3               6    56.10               1  \n",
       "4               5   106.60               1  \n",
       "...           ...      ...             ...  \n",
       "2372469        12    96.72               2  \n",
       "2372470        12   112.68               2  \n",
       "2372471        12    81.00               2  \n",
       "2372472        12   112.68               2  \n",
       "2372473        12    96.72               2  \n",
       "\n",
       "[2372474 rows x 16 columns]>"
      ]
     },
     "execution_count": 25,
     "metadata": {},
     "output_type": "execute_result"
    }
   ],
   "source": [
    "compras.info"
   ]
  },
  {
   "cell_type": "code",
   "execution_count": 26,
   "metadata": {},
   "outputs": [
    {
     "data": {
      "text/plain": [
       "Index(['InventoryId', 'Store', 'Brand', 'Description', 'Size', 'VendorNumber',\n",
       "       'VendorName', 'PONumber', 'PODate', 'ReceivingDate', 'InvoiceDate',\n",
       "       'PayDate', 'PurchasePrice', 'Quantity', 'Dollars', 'Classification'],\n",
       "      dtype='object')"
      ]
     },
     "execution_count": 26,
     "metadata": {},
     "output_type": "execute_result"
    }
   ],
   "source": [
    "compras.columns"
   ]
  },
  {
   "cell_type": "markdown",
   "metadata": {},
   "source": [
    "compras = pd.read_csv('PurchasesFINAL12312016.csv'):\n",
    "Indica las compras hechas por la empresa\n",
    "\n",
    "Posee 2372474 rows x 16 columns\n",
    "\n",
    "Sus columnas son : 'InventoryId', 'Store', 'Brand', 'Description', 'Size', 'VendorNumber',\n",
    "       'VendorName', 'PONumber', 'PODate', 'ReceivingDate', 'InvoiceDate',\n",
    "       'PayDate', 'PurchasePrice', 'Quantity', 'Dollars', 'Classification'\n",
    "\n",
    "Vemos que existen columnas similares con otras tablas como 'InventoryId', 'PONumber', 'PODate', 'PayDate'. \n",
    "Ver si estas cohinciden con las otras tablas \n"
   ]
  },
  {
   "cell_type": "markdown",
   "metadata": {},
   "source": [
    "### Ahora veamos Ventas"
   ]
  },
  {
   "cell_type": "code",
   "execution_count": 27,
   "metadata": {},
   "outputs": [
    {
     "data": {
      "text/html": [
       "<div>\n",
       "<style scoped>\n",
       "    .dataframe tbody tr th:only-of-type {\n",
       "        vertical-align: middle;\n",
       "    }\n",
       "\n",
       "    .dataframe tbody tr th {\n",
       "        vertical-align: top;\n",
       "    }\n",
       "\n",
       "    .dataframe thead th {\n",
       "        text-align: right;\n",
       "    }\n",
       "</style>\n",
       "<table border=\"1\" class=\"dataframe\">\n",
       "  <thead>\n",
       "    <tr style=\"text-align: right;\">\n",
       "      <th></th>\n",
       "      <th>InventoryId</th>\n",
       "      <th>Store</th>\n",
       "      <th>Brand</th>\n",
       "      <th>Description</th>\n",
       "      <th>Size</th>\n",
       "      <th>SalesQuantity</th>\n",
       "      <th>SalesDollars</th>\n",
       "      <th>SalesPrice</th>\n",
       "      <th>SalesDate</th>\n",
       "      <th>Volume</th>\n",
       "      <th>Classification</th>\n",
       "      <th>ExciseTax</th>\n",
       "      <th>VendorNo</th>\n",
       "      <th>VendorName</th>\n",
       "    </tr>\n",
       "  </thead>\n",
       "  <tbody>\n",
       "    <tr>\n",
       "      <th>0</th>\n",
       "      <td>1_HARDERSFIELD_1004</td>\n",
       "      <td>1</td>\n",
       "      <td>1004</td>\n",
       "      <td>Jim Beam w/2 Rocks Glasses</td>\n",
       "      <td>750mL</td>\n",
       "      <td>1</td>\n",
       "      <td>16.49</td>\n",
       "      <td>16.49</td>\n",
       "      <td>1/1/2016</td>\n",
       "      <td>750</td>\n",
       "      <td>1</td>\n",
       "      <td>0.79</td>\n",
       "      <td>12546</td>\n",
       "      <td>JIM BEAM BRANDS COMPANY</td>\n",
       "    </tr>\n",
       "    <tr>\n",
       "      <th>1</th>\n",
       "      <td>1_HARDERSFIELD_1004</td>\n",
       "      <td>1</td>\n",
       "      <td>1004</td>\n",
       "      <td>Jim Beam w/2 Rocks Glasses</td>\n",
       "      <td>750mL</td>\n",
       "      <td>2</td>\n",
       "      <td>32.98</td>\n",
       "      <td>16.49</td>\n",
       "      <td>1/2/2016</td>\n",
       "      <td>750</td>\n",
       "      <td>1</td>\n",
       "      <td>1.57</td>\n",
       "      <td>12546</td>\n",
       "      <td>JIM BEAM BRANDS COMPANY</td>\n",
       "    </tr>\n",
       "    <tr>\n",
       "      <th>2</th>\n",
       "      <td>1_HARDERSFIELD_1004</td>\n",
       "      <td>1</td>\n",
       "      <td>1004</td>\n",
       "      <td>Jim Beam w/2 Rocks Glasses</td>\n",
       "      <td>750mL</td>\n",
       "      <td>1</td>\n",
       "      <td>16.49</td>\n",
       "      <td>16.49</td>\n",
       "      <td>1/3/2016</td>\n",
       "      <td>750</td>\n",
       "      <td>1</td>\n",
       "      <td>0.79</td>\n",
       "      <td>12546</td>\n",
       "      <td>JIM BEAM BRANDS COMPANY</td>\n",
       "    </tr>\n",
       "    <tr>\n",
       "      <th>3</th>\n",
       "      <td>1_HARDERSFIELD_1004</td>\n",
       "      <td>1</td>\n",
       "      <td>1004</td>\n",
       "      <td>Jim Beam w/2 Rocks Glasses</td>\n",
       "      <td>750mL</td>\n",
       "      <td>1</td>\n",
       "      <td>14.49</td>\n",
       "      <td>14.49</td>\n",
       "      <td>1/8/2016</td>\n",
       "      <td>750</td>\n",
       "      <td>1</td>\n",
       "      <td>0.79</td>\n",
       "      <td>12546</td>\n",
       "      <td>JIM BEAM BRANDS COMPANY</td>\n",
       "    </tr>\n",
       "    <tr>\n",
       "      <th>4</th>\n",
       "      <td>1_HARDERSFIELD_1005</td>\n",
       "      <td>1</td>\n",
       "      <td>1005</td>\n",
       "      <td>Maker's Mark Combo Pack</td>\n",
       "      <td>375mL 2 Pk</td>\n",
       "      <td>2</td>\n",
       "      <td>69.98</td>\n",
       "      <td>34.99</td>\n",
       "      <td>1/9/2016</td>\n",
       "      <td>375</td>\n",
       "      <td>1</td>\n",
       "      <td>0.79</td>\n",
       "      <td>12546</td>\n",
       "      <td>JIM BEAM BRANDS COMPANY</td>\n",
       "    </tr>\n",
       "  </tbody>\n",
       "</table>\n",
       "</div>"
      ],
      "text/plain": [
       "           InventoryId  Store  Brand                 Description        Size  \\\n",
       "0  1_HARDERSFIELD_1004      1   1004  Jim Beam w/2 Rocks Glasses       750mL   \n",
       "1  1_HARDERSFIELD_1004      1   1004  Jim Beam w/2 Rocks Glasses       750mL   \n",
       "2  1_HARDERSFIELD_1004      1   1004  Jim Beam w/2 Rocks Glasses       750mL   \n",
       "3  1_HARDERSFIELD_1004      1   1004  Jim Beam w/2 Rocks Glasses       750mL   \n",
       "4  1_HARDERSFIELD_1005      1   1005     Maker's Mark Combo Pack  375mL 2 Pk   \n",
       "\n",
       "   SalesQuantity  SalesDollars  SalesPrice SalesDate  Volume  Classification  \\\n",
       "0              1         16.49       16.49  1/1/2016     750               1   \n",
       "1              2         32.98       16.49  1/2/2016     750               1   \n",
       "2              1         16.49       16.49  1/3/2016     750               1   \n",
       "3              1         14.49       14.49  1/8/2016     750               1   \n",
       "4              2         69.98       34.99  1/9/2016     375               1   \n",
       "\n",
       "   ExciseTax  VendorNo                   VendorName  \n",
       "0       0.79     12546  JIM BEAM BRANDS COMPANY      \n",
       "1       1.57     12546  JIM BEAM BRANDS COMPANY      \n",
       "2       0.79     12546  JIM BEAM BRANDS COMPANY      \n",
       "3       0.79     12546  JIM BEAM BRANDS COMPANY      \n",
       "4       0.79     12546  JIM BEAM BRANDS COMPANY      "
      ]
     },
     "execution_count": 27,
     "metadata": {},
     "output_type": "execute_result"
    }
   ],
   "source": [
    "ventas.head()"
   ]
  },
  {
   "cell_type": "code",
   "execution_count": 28,
   "metadata": {},
   "outputs": [
    {
     "data": {
      "text/plain": [
       "<bound method DataFrame.info of                  InventoryId  Store  Brand                 Description  \\\n",
       "0        1_HARDERSFIELD_1004      1   1004  Jim Beam w/2 Rocks Glasses   \n",
       "1        1_HARDERSFIELD_1004      1   1004  Jim Beam w/2 Rocks Glasses   \n",
       "2        1_HARDERSFIELD_1004      1   1004  Jim Beam w/2 Rocks Glasses   \n",
       "3        1_HARDERSFIELD_1004      1   1004  Jim Beam w/2 Rocks Glasses   \n",
       "4        1_HARDERSFIELD_1005      1   1005     Maker's Mark Combo Pack   \n",
       "...                      ...    ...    ...                         ...   \n",
       "1048570  19_WINTERVALE_39384     19  39384    F Coppola Diamond Pnt Nr   \n",
       "1048571  19_WINTERVALE_39384     19  39384    F Coppola Diamond Pnt Nr   \n",
       "1048572  19_WINTERVALE_39384     19  39384    F Coppola Diamond Pnt Nr   \n",
       "1048573  19_WINTERVALE_39384     19  39384    F Coppola Diamond Pnt Nr   \n",
       "1048574  19_WINTERVALE_39384     19  39384    F Coppola Diamond Pnt Nr   \n",
       "\n",
       "               Size  SalesQuantity  SalesDollars  SalesPrice  SalesDate  \\\n",
       "0             750mL              1         16.49       16.49   1/1/2016   \n",
       "1             750mL              2         32.98       16.49   1/2/2016   \n",
       "2             750mL              1         16.49       16.49   1/3/2016   \n",
       "3             750mL              1         14.49       14.49   1/8/2016   \n",
       "4        375mL 2 Pk              2         69.98       34.99   1/9/2016   \n",
       "...             ...            ...           ...         ...        ...   \n",
       "1048570       750mL              4         51.80       12.95  2/12/2016   \n",
       "1048571       750mL              8        103.60       12.95  2/13/2016   \n",
       "1048572       750mL              1         12.95       12.95  2/19/2016   \n",
       "1048573       750mL              3         38.85       12.95  2/22/2016   \n",
       "1048574       750mL              2         25.90       12.95  2/24/2016   \n",
       "\n",
       "         Volume  Classification  ExciseTax  VendorNo  \\\n",
       "0           750               1       0.79     12546   \n",
       "1           750               1       1.57     12546   \n",
       "2           750               1       0.79     12546   \n",
       "3           750               1       0.79     12546   \n",
       "4           375               1       0.79     12546   \n",
       "...         ...             ...        ...       ...   \n",
       "1048570     750               2       0.45      2000   \n",
       "1048571     750               2       0.90      2000   \n",
       "1048572     750               2       0.11      2000   \n",
       "1048573     750               2       0.34      2000   \n",
       "1048574     750               2       0.22      2000   \n",
       "\n",
       "                          VendorName  \n",
       "0        JIM BEAM BRANDS COMPANY      \n",
       "1        JIM BEAM BRANDS COMPANY      \n",
       "2        JIM BEAM BRANDS COMPANY      \n",
       "3        JIM BEAM BRANDS COMPANY      \n",
       "4        JIM BEAM BRANDS COMPANY      \n",
       "...                              ...  \n",
       "1048570  SOUTHERN WINE & SPIRITS NE   \n",
       "1048571  SOUTHERN WINE & SPIRITS NE   \n",
       "1048572  SOUTHERN WINE & SPIRITS NE   \n",
       "1048573  SOUTHERN WINE & SPIRITS NE   \n",
       "1048574  SOUTHERN WINE & SPIRITS NE   \n",
       "\n",
       "[1048575 rows x 14 columns]>"
      ]
     },
     "execution_count": 28,
     "metadata": {},
     "output_type": "execute_result"
    }
   ],
   "source": [
    "ventas.info"
   ]
  },
  {
   "cell_type": "code",
   "execution_count": 29,
   "metadata": {},
   "outputs": [
    {
     "data": {
      "text/plain": [
       "Index(['InventoryId', 'Store', 'Brand', 'Description', 'Size', 'SalesQuantity',\n",
       "       'SalesDollars', 'SalesPrice', 'SalesDate', 'Volume', 'Classification',\n",
       "       'ExciseTax', 'VendorNo', 'VendorName'],\n",
       "      dtype='object')"
      ]
     },
     "execution_count": 29,
     "metadata": {},
     "output_type": "execute_result"
    }
   ],
   "source": [
    "ventas.columns"
   ]
  },
  {
   "cell_type": "markdown",
   "metadata": {},
   "source": [
    "ventas: Indica las ventas realizadas\n",
    "\n",
    "Posee 1048575 rows x 14 columns\n",
    "\n",
    "Sus columnas son: 'InventoryId', 'Store', 'Brand', 'Description', 'Size', 'SalesQuantity',\n",
    "       'SalesDollars', 'SalesPrice', 'SalesDate', 'Volume', 'Classification',\n",
    "       'ExciseTax', 'VendorNo', 'VendorName'"
   ]
  },
  {
   "cell_type": "markdown",
   "metadata": {},
   "source": [
    "# Capitulo 2 -  Busqueda y limpieza de valores nulos y duplicados\n",
    "# Función para verificar valores nulos y vacíos"
   ]
  },
  {
   "cell_type": "code",
   "execution_count": 30,
   "metadata": {},
   "outputs": [
    {
     "name": "stdout",
     "output_type": "stream",
     "text": [
      "\n",
      "Dataset: inventario_inicial\n",
      "Valores nulos en cada columna:\n",
      "InventoryId    0\n",
      "Store          0\n",
      "City           0\n",
      "Brand          0\n",
      "Description    0\n",
      "Size           0\n",
      "onHand         0\n",
      "Price          0\n",
      "startDate      0\n",
      "dtype: int64\n",
      "\n",
      "Valores vacíos en cada columna:\n",
      "InventoryId    0\n",
      "Store          0\n",
      "City           0\n",
      "Brand          0\n",
      "Description    0\n",
      "Size           0\n",
      "onHand         0\n",
      "Price          0\n",
      "startDate      0\n",
      "dtype: int64\n",
      "\n",
      "Dataset: inventario_final\n",
      "Valores nulos en cada columna:\n",
      "InventoryId       0\n",
      "Store             0\n",
      "City           1284\n",
      "Brand             0\n",
      "Description       0\n",
      "Size              0\n",
      "onHand            0\n",
      "Price             0\n",
      "endDate           0\n",
      "dtype: int64\n",
      "\n",
      "Valores vacíos en cada columna:\n",
      "InventoryId    0\n",
      "Store          0\n",
      "City           0\n",
      "Brand          0\n",
      "Description    0\n",
      "Size           0\n",
      "onHand         0\n",
      "Price          0\n",
      "endDate        0\n",
      "dtype: int64\n",
      "\n",
      "Dataset: compras\n",
      "Valores nulos en cada columna:\n",
      "InventoryId       0\n",
      "Store             0\n",
      "Brand             0\n",
      "Description       0\n",
      "Size              3\n",
      "VendorNumber      0\n",
      "VendorName        0\n",
      "PONumber          0\n",
      "PODate            0\n",
      "ReceivingDate     0\n",
      "InvoiceDate       0\n",
      "PayDate           0\n",
      "PurchasePrice     0\n",
      "Quantity          0\n",
      "Dollars           0\n",
      "Classification    0\n",
      "dtype: int64\n",
      "\n",
      "Valores vacíos en cada columna:\n",
      "InventoryId       0\n",
      "Store             0\n",
      "Brand             0\n",
      "Description       0\n",
      "Size              0\n",
      "VendorNumber      0\n",
      "VendorName        0\n",
      "PONumber          0\n",
      "PODate            0\n",
      "ReceivingDate     0\n",
      "InvoiceDate       0\n",
      "PayDate           0\n",
      "PurchasePrice     0\n",
      "Quantity          0\n",
      "Dollars           0\n",
      "Classification    0\n",
      "dtype: int64\n",
      "\n",
      "Dataset: ventas\n",
      "Valores nulos en cada columna:\n",
      "InventoryId       0\n",
      "Store             0\n",
      "Brand             0\n",
      "Description       0\n",
      "Size              0\n",
      "SalesQuantity     0\n",
      "SalesDollars      0\n",
      "SalesPrice        0\n",
      "SalesDate         0\n",
      "Volume            0\n",
      "Classification    0\n",
      "ExciseTax         0\n",
      "VendorNo          0\n",
      "VendorName        0\n",
      "dtype: int64\n",
      "\n",
      "Valores vacíos en cada columna:\n",
      "InventoryId       0\n",
      "Store             0\n",
      "Brand             0\n",
      "Description       0\n",
      "Size              0\n",
      "SalesQuantity     0\n",
      "SalesDollars      0\n",
      "SalesPrice        0\n",
      "SalesDate         0\n",
      "Volume            0\n",
      "Classification    0\n",
      "ExciseTax         0\n",
      "VendorNo          0\n",
      "VendorName        0\n",
      "dtype: int64\n"
     ]
    }
   ],
   "source": [
    "def check_missing_values(df, name):\n",
    "    print(f\"\\nDataset: {name}\")\n",
    "    print(\"Valores nulos en cada columna:\")\n",
    "    print(df.isnull().sum())\n",
    "    \n",
    "    print(\"\\nValores vacíos en cada columna:\")\n",
    "    print(df.apply(lambda x: x.str.strip().eq('').sum() if x.dtype == \"object\" else 0))\n",
    "\n",
    "# Verificar los valores nulos y vacíos en cada dataset\n",
    "check_missing_values(inventario_inicial, 'inventario_inicial')\n",
    "check_missing_values(inventario_final, 'inventario_final')\n",
    "check_missing_values(compras, 'compras')\n",
    "check_missing_values(ventas, 'ventas')"
   ]
  },
  {
   "cell_type": "code",
   "execution_count": 31,
   "metadata": {},
   "outputs": [
    {
     "name": "stdout",
     "output_type": "stream",
     "text": [
      "\n",
      "Dataset: inventario_inicial\n",
      "No se encontraron filas con valores nulos en inventario_inicial.\n",
      "\n",
      "Dataset: inventario_final\n",
      "Filas con valores nulos en inventario_final:\n",
      "       InventoryId  Store City  Brand                   Description   Size  \\\n",
      "113895      46__58     46  NaN     58   Gekkeikan Black & Gold Sake  750mL   \n",
      "113896      46__62     46  NaN     62      Herradura Silver Tequila  750mL   \n",
      "113897      46__63     46  NaN     63    Herradura Reposado Tequila  750mL   \n",
      "113898      46__77     46  NaN     77   Three Olives Espresso Vodka  750mL   \n",
      "113899     46__106     46  NaN    106      Mr Boston Peach Schnapps  Liter   \n",
      "...            ...    ...  ...    ...                           ...    ...   \n",
      "115174   46__46447     46  NaN  46447         Gascon Malbec Mendoza  750mL   \n",
      "115175   46__46458     46  NaN  46458      Layer Cake Barosa Shiraz  750mL   \n",
      "115176   46__46476     46  NaN  46476          Tilia Malbec Mendoza  750mL   \n",
      "115177   46__46764     46  NaN  46764  Clayhouse Adobe Red Paso Rbl  750mL   \n",
      "115178   46__46830     46  NaN  46830         Pacific Rim Sweet Rsl  750mL   \n",
      "\n",
      "        onHand  Price     endDate  \n",
      "113895       0  12.99  2016-12-31  \n",
      "113896       0  36.99  2016-12-31  \n",
      "113897       0  38.99  2016-12-31  \n",
      "113898       0  14.99  2016-12-31  \n",
      "113899       0   4.49  2016-12-31  \n",
      "...        ...    ...         ...  \n",
      "115174       0  10.99  2016-12-31  \n",
      "115175       0  15.99  2016-12-31  \n",
      "115176       0   9.99  2016-12-31  \n",
      "115177       0  11.99  2016-12-31  \n",
      "115178       0   8.99  2016-12-31  \n",
      "\n",
      "[1284 rows x 9 columns]\n",
      "\n",
      "Dataset: compras\n",
      "Filas con valores nulos en compras:\n",
      "                 InventoryId  Store  Brand                 Description Size  \\\n",
      "1109668    34_PITMERDEN_3121     34   3121    Pinnacle Rainbow Sherbet  NaN   \n",
      "1112426    34_PITMERDEN_5678     34   5678      Skinnygirl Pina Colada  NaN   \n",
      "1116302  39_EASTHALLOW_15365     39  15365  Alabaster 07 Tinta de Toro  NaN   \n",
      "\n",
      "         VendorNumber                   VendorName  PONumber      PODate  \\\n",
      "1109668         12546  JIM BEAM BRANDS COMPANY         10938  2016-06-27   \n",
      "1112426         12546  JIM BEAM BRANDS COMPANY         10938  2016-06-27   \n",
      "1116302          9552  M S WALKER INC                  10972  2016-06-29   \n",
      "\n",
      "        ReceivingDate InvoiceDate     PayDate  PurchasePrice  Quantity  \\\n",
      "1109668    2016-07-04  2016-07-13  2016-08-16           6.93         7   \n",
      "1112426    2016-07-09  2016-07-13  2016-08-16           6.93         6   \n",
      "1116302    2016-07-07  2016-07-13  2016-08-21          91.83         1   \n",
      "\n",
      "         Dollars  Classification  \n",
      "1109668    48.51               1  \n",
      "1112426    41.58               1  \n",
      "1116302    91.83               2  \n",
      "\n",
      "Dataset: ventas\n",
      "No se encontraron filas con valores nulos en ventas.\n"
     ]
    }
   ],
   "source": [
    "# Lista de tus datasets y sus nombres\n",
    "datasets = [\n",
    "            (inventario_inicial, 'inventario_inicial'),\n",
    "            (inventario_final, 'inventario_final'),\n",
    "            (compras, 'compras'),\n",
    "            (ventas, 'ventas')]\n",
    "\n",
    "# Ciclo para iterar sobre cada dataset y buscar filas con valores nulos\n",
    "for df, name in datasets:\n",
    "    print(f\"\\nDataset: {name}\")\n",
    "    filas_nulas = df[df.isnull().any(axis=1)]\n",
    "    if not filas_nulas.empty:\n",
    "        print(f\"Filas con valores nulos en {name}:\")\n",
    "        print(filas_nulas)\n",
    "    else:\n",
    "        print(f\"No se encontraron filas con valores nulos en {name}.\")"
   ]
  },
  {
   "cell_type": "code",
   "execution_count": 32,
   "metadata": {},
   "outputs": [
    {
     "name": "stdout",
     "output_type": "stream",
     "text": [
      "\n",
      "Dataset: inventario_inicial\n",
      "Total de valores nulos en inventario_inicial: 0\n",
      "\n",
      "Dataset: inventario_final\n",
      "Total de valores nulos en inventario_final: 1284\n",
      "\n",
      "Dataset: compras\n",
      "Total de valores nulos en compras: 3\n",
      "\n",
      "Dataset: ventas\n",
      "Total de valores nulos en ventas: 0\n"
     ]
    }
   ],
   "source": [
    "for df, name in datasets:\n",
    "    print(f\"\\nDataset: {name}\")\n",
    "    total_nulos = df.isnull().sum().sum()  # Suma total de valores nulos en el dataset\n",
    "    print(f\"Total de valores nulos en {name}: {total_nulos}\")"
   ]
  },
  {
   "cell_type": "markdown",
   "metadata": {},
   "source": [
    "## Limpieza de los DataFrame"
   ]
  },
  {
   "cell_type": "markdown",
   "metadata": {},
   "source": [
    "### Ahora veamos los valores nulos de inventario_final"
   ]
  },
  {
   "cell_type": "code",
   "execution_count": 33,
   "metadata": {},
   "outputs": [
    {
     "name": "stdout",
     "output_type": "stream",
     "text": [
      "Valores únicos en la columna 'City':\n",
      "['HARDERSFIELD' 'ASHBORNE' 'HORNSEY' 'EANVERNESS' 'SUTTON' 'GOULCREST'\n",
      " 'STANMORE' 'ALNERWICK' 'BLACKPOOL' 'CARDEND' 'LEESIDE' 'TARMSWORTH'\n",
      " 'BROMWICH' 'WANBORNE' 'LUNDY' 'OLDHAM' 'FURNESS' 'WINTERVALE'\n",
      " 'BREDWARDINE' 'BALERNO' 'SHARNWICK' 'ARBINGTON' 'PALPERROTH' 'CAERSHIRE'\n",
      " \"KNIFE'S EDGE\" 'MOUNTMEND' 'LARNWICK' 'AYLESBURY' 'CULCHETH' 'PITMERDEN'\n",
      " 'HALIVAARA' 'LEWES' 'PAETHSMOUTH' 'EASTHALLOW' 'BULLMAR' 'BLACK HOLLOW'\n",
      " 'WOLFORD' 'PORTHCRAWL' 'VERITAS' nan \"PELLA'S WISH\" 'NORFOLK' 'GARIGILL'\n",
      " 'ABERDEEN' 'GRAYCOTT' 'HILLFAR' 'GUTHRAM' 'DRY GULCH' \"BEGGAR'S HOLE\"\n",
      " 'LANTEGLOS' 'HARTLEPOOL' 'CLAETHORPES' 'IRRAGIN' 'AETHELNEY' 'KILMARNOCK'\n",
      " 'SWORDBREAK' 'CESTERFIELD' 'LUTON' 'SOLARIS' 'KELD' 'CLARCTON'\n",
      " 'DONCASTER' 'PAENTMARWY' 'BARNCOMBE' 'TAMWORTH' 'EASTHAVEN' 'BALLYMENA'\n",
      " 'PEMBROKE']\n",
      "\n",
      "Número total de valores únicos en 'City': 68\n"
     ]
    }
   ],
   "source": [
    "# Obtener los valores únicos en la columna 'City'\n",
    "valores_unicos_city = inventario_final['City'].unique()\n",
    "\n",
    "# Mostrar los valores únicos\n",
    "print(\"Valores únicos en la columna 'City':\")\n",
    "print(valores_unicos_city)\n",
    "\n",
    "# Contar cuántos valores únicos hay\n",
    "print(f\"\\nNúmero total de valores únicos en 'City': {len(valores_unicos_city)}\")"
   ]
  },
  {
   "cell_type": "markdown",
   "metadata": {},
   "source": [
    "Decidimos rellerar los valores nulos en City con 'Desconocido' par no eliminar ni rellenar con informacion erronea"
   ]
  },
  {
   "cell_type": "code",
   "execution_count": 34,
   "metadata": {},
   "outputs": [
    {
     "name": "stderr",
     "output_type": "stream",
     "text": [
      "C:\\Users\\SAMSUNG\\AppData\\Local\\Temp\\ipykernel_37748\\129095551.py:1: FutureWarning: A value is trying to be set on a copy of a DataFrame or Series through chained assignment using an inplace method.\n",
      "The behavior will change in pandas 3.0. This inplace method will never work because the intermediate object on which we are setting values always behaves as a copy.\n",
      "\n",
      "For example, when doing 'df[col].method(value, inplace=True)', try using 'df.method({col: value}, inplace=True)' or df[col] = df[col].method(value) instead, to perform the operation inplace on the original object.\n",
      "\n",
      "\n",
      "  inventario_final['City'].fillna('Desconocido', inplace=True)\n"
     ]
    }
   ],
   "source": [
    "inventario_final['City'].fillna('Desconocido', inplace=True)"
   ]
  },
  {
   "cell_type": "markdown",
   "metadata": {},
   "source": [
    "### Ahora veamos el dataset 'compras'"
   ]
  },
  {
   "cell_type": "code",
   "execution_count": 35,
   "metadata": {},
   "outputs": [
    {
     "name": "stdout",
     "output_type": "stream",
     "text": [
      "0\n"
     ]
    },
    {
     "name": "stderr",
     "output_type": "stream",
     "text": [
      "C:\\Users\\SAMSUNG\\AppData\\Local\\Temp\\ipykernel_37748\\2708867146.py:2: FutureWarning: A value is trying to be set on a copy of a DataFrame or Series through chained assignment using an inplace method.\n",
      "The behavior will change in pandas 3.0. This inplace method will never work because the intermediate object on which we are setting values always behaves as a copy.\n",
      "\n",
      "For example, when doing 'df[col].method(value, inplace=True)', try using 'df.method({col: value}, inplace=True)' or df[col] = df[col].method(value) instead, to perform the operation inplace on the original object.\n",
      "\n",
      "\n",
      "  compras['Size'].fillna('Desconocido', inplace=True)\n"
     ]
    }
   ],
   "source": [
    "# Rellenar los valores NaN en la columna 'Size' con 'Desconocido'\n",
    "compras['Size'].fillna('Desconocido', inplace=True)\n",
    "\n",
    "# Verificar que los valores NaN han sido reemplazados\n",
    "print(compras['Size'].isnull().sum())"
   ]
  },
  {
   "cell_type": "markdown",
   "metadata": {},
   "source": [
    "Decidimo rellenar los datos vacios con 'Desconocido' para na afectar los datos geograficos legitimos"
   ]
  },
  {
   "cell_type": "markdown",
   "metadata": {},
   "source": [
    "### Verifiquemos si queda algun Nulo"
   ]
  },
  {
   "cell_type": "code",
   "execution_count": 36,
   "metadata": {},
   "outputs": [
    {
     "name": "stdout",
     "output_type": "stream",
     "text": [
      "\n",
      "Dataset: inventario_inicial\n",
      "Total de valores nulos en inventario_inicial: 0\n",
      "\n",
      "Dataset: inventario_final\n",
      "Total de valores nulos en inventario_final: 0\n",
      "\n",
      "Dataset: compras\n",
      "Total de valores nulos en compras: 0\n",
      "\n",
      "Dataset: ventas\n",
      "Total de valores nulos en ventas: 0\n"
     ]
    }
   ],
   "source": [
    "# Lista de tus datasets y sus nombres\n",
    "datasets = [\n",
    "            (inventario_inicial, 'inventario_inicial'),\n",
    "            (inventario_final, 'inventario_final'),\n",
    "            (compras, 'compras'),\n",
    "            (ventas, 'ventas')]\n",
    "\n",
    "for df, name in datasets:\n",
    "    print(f\"\\nDataset: {name}\")\n",
    "    total_nulos = df.isnull().sum().sum()  # Suma total de valores nulos en el dataset\n",
    "    print(f\"Total de valores nulos en {name}: {total_nulos}\")"
   ]
  },
  {
   "cell_type": "markdown",
   "metadata": {},
   "source": [
    "Exito!!!"
   ]
  },
  {
   "cell_type": "markdown",
   "metadata": {},
   "source": [
    "### Configuracion de fechas"
   ]
  },
  {
   "cell_type": "markdown",
   "metadata": {},
   "source": [
    "Nos aseguramos que las columnas de fechas esten con el formato datetime"
   ]
  },
  {
   "cell_type": "code",
   "execution_count": 37,
   "metadata": {},
   "outputs": [
    {
     "name": "stdout",
     "output_type": "stream",
     "text": [
      "InventoryId            object\n",
      "Store                   int64\n",
      "City                   object\n",
      "Brand                   int64\n",
      "Description            object\n",
      "Size                   object\n",
      "onHand                  int64\n",
      "Price                 float64\n",
      "startDate      datetime64[ns]\n",
      "dtype: object\n"
     ]
    }
   ],
   "source": [
    "# Convertir la columna 'startDate' a datetime\n",
    "inventario_inicial['startDate'] = pd.to_datetime(inventario_inicial['startDate'], errors='coerce')\n",
    "\n",
    "# Verificar los tipos de datos para asegurarse de que 'startDate' es datetime64\n",
    "print(inventario_inicial.dtypes)"
   ]
  },
  {
   "cell_type": "code",
   "execution_count": 38,
   "metadata": {},
   "outputs": [
    {
     "name": "stdout",
     "output_type": "stream",
     "text": [
      "InventoryId            object\n",
      "Store                   int64\n",
      "City                   object\n",
      "Brand                   int64\n",
      "Description            object\n",
      "Size                   object\n",
      "onHand                  int64\n",
      "Price                 float64\n",
      "endDate        datetime64[ns]\n",
      "dtype: object\n"
     ]
    }
   ],
   "source": [
    "# Convertir la columna 'startDate' a datetime\n",
    "inventario_final['endDate'] = pd.to_datetime(inventario_final['endDate'], errors='coerce')\n",
    "\n",
    "# Verificar los tipos de datos para asegurarse de que 'startDate' es datetime64\n",
    "print(inventario_final.dtypes)"
   ]
  },
  {
   "cell_type": "code",
   "execution_count": 39,
   "metadata": {},
   "outputs": [
    {
     "name": "stdout",
     "output_type": "stream",
     "text": [
      "InventoryId               object\n",
      "Store                      int64\n",
      "Brand                      int64\n",
      "Description               object\n",
      "Size                      object\n",
      "VendorNumber               int64\n",
      "VendorName                object\n",
      "PONumber                   int64\n",
      "PODate            datetime64[ns]\n",
      "ReceivingDate     datetime64[ns]\n",
      "InvoiceDate       datetime64[ns]\n",
      "PayDate           datetime64[ns]\n",
      "PurchasePrice            float64\n",
      "Quantity                   int64\n",
      "Dollars                  float64\n",
      "Classification             int64\n",
      "dtype: object\n"
     ]
    }
   ],
   "source": [
    "# Convertir las columnas de fecha a datetime\n",
    "compras['PODate'] = pd.to_datetime(compras['PODate'], errors='coerce')\n",
    "compras['ReceivingDate'] = pd.to_datetime(compras['ReceivingDate'], errors='coerce')\n",
    "compras['InvoiceDate'] = pd.to_datetime(compras['InvoiceDate'], errors='coerce')\n",
    "compras['PayDate'] = pd.to_datetime(compras['PayDate'], errors='coerce')\n",
    "\n",
    "# Verificar los tipos de datos para asegurarse de que las columnas son datetime64\n",
    "print(compras.dtypes)"
   ]
  },
  {
   "cell_type": "code",
   "execution_count": 40,
   "metadata": {},
   "outputs": [],
   "source": [
    "# Convertir las columnas de fecha a datetime\n",
    "ventas['SalesDate'] = pd.to_datetime(ventas['SalesDate'], errors='coerce')"
   ]
  },
  {
   "cell_type": "markdown",
   "metadata": {},
   "source": [
    "Verificamos la existencia de datos duplicados"
   ]
  },
  {
   "cell_type": "code",
   "execution_count": 3,
   "metadata": {},
   "outputs": [
    {
     "name": "stdout",
     "output_type": "stream",
     "text": [
      "Duplicados en inventario_inicial: 0\n",
      "Duplicados en inventario_final: 0\n",
      "Duplicados en compras: 0\n",
      "Duplicados en ventas: 0\n"
     ]
    }
   ],
   "source": [
    "print(\"Duplicados en inventario_inicial:\", inventario_inicial.duplicated().sum())\n",
    "print(\"Duplicados en inventario_final:\", inventario_final.duplicated().sum())\n",
    "print(\"Duplicados en compras:\", compras.duplicated().sum())\n",
    "print(\"Duplicados en ventas:\", ventas.duplicated().sum())\n"
   ]
  },
  {
   "cell_type": "markdown",
   "metadata": {},
   "source": [
    "### Guardamos los dataset limpios"
   ]
  },
  {
   "cell_type": "code",
   "execution_count": 41,
   "metadata": {},
   "outputs": [],
   "source": [
    "inventario_inicial.to_csv('inventario_inicial_limpio.csv', index=True)\n",
    "inventario_final.to_csv('inventario_final_limpio.csv', index=True)\n",
    "compras.to_csv('compras_limpio.csv', index=True)\n",
    "ventas.to_csv('ventas_limpio.csv', index=True)"
   ]
  },
  {
   "cell_type": "markdown",
   "metadata": {},
   "source": [
    "# Capitulo 3 - Estadisticas, Visualizaciones y Correlaciones"
   ]
  },
  {
   "cell_type": "code",
   "execution_count": 4,
   "metadata": {},
   "outputs": [],
   "source": [
    "# Abrimos los datasets limpios\n",
    "inventario_inicial = pd.read_csv('inventario_inicial_limpio.csv')\n",
    "inventario_final = pd.read_csv('inventario_final_limpio.csv')\n",
    "compras = pd.read_csv('compras_limpio.csv')\n",
    "ventas = pd.read_csv('ventas_limpio.csv')"
   ]
  },
  {
   "cell_type": "markdown",
   "metadata": {},
   "source": [
    "Utilizacmos el metodo describe para obtener los datos estadisticos basicos"
   ]
  },
  {
   "cell_type": "code",
   "execution_count": 15,
   "metadata": {},
   "outputs": [
    {
     "name": "stdout",
     "output_type": "stream",
     "text": [
      "Estadísticas de Inventario Inicial:\n",
      "         Unnamed: 0          Store          Brand         onHand  \\\n",
      "count  206529.00000  206529.000000  206529.000000  206529.000000   \n",
      "mean   103264.00000      42.122457   13761.482320      20.429455   \n",
      "std     59619.93121      23.191393   13059.429355      31.467342   \n",
      "min         0.00000       1.000000      58.000000       0.000000   \n",
      "25%     51632.00000      22.000000    3746.000000       7.000000   \n",
      "50%    103264.00000      42.000000    8010.000000      12.000000   \n",
      "75%    154896.00000      64.000000   22143.000000      21.000000   \n",
      "max    206528.00000      79.000000   90090.000000    1251.000000   \n",
      "\n",
      "               Price  \n",
      "count  206529.000000  \n",
      "mean       22.253910  \n",
      "std        70.178964  \n",
      "min         0.000000  \n",
      "25%         9.990000  \n",
      "50%        14.990000  \n",
      "75%        21.990000  \n",
      "max     13999.900000  \n",
      "\n",
      "Estadísticas de Inventario Final:\n",
      "          Unnamed: 0          Store          Brand         onHand  \\\n",
      "count  224489.000000  224489.000000  224489.000000  224489.000000   \n",
      "mean   112244.000000      43.505740   14356.370513      21.763988   \n",
      "std     64804.536627      23.326415   13118.467851      37.233576   \n",
      "min         0.000000       1.000000      58.000000       0.000000   \n",
      "25%     56122.000000      23.000000    3798.000000       7.000000   \n",
      "50%    112244.000000      44.000000    8259.000000      12.000000   \n",
      "75%    168366.000000      66.000000   23965.000000      22.000000   \n",
      "max    224488.000000      81.000000   90631.000000    3676.000000   \n",
      "\n",
      "               Price  \n",
      "count  224489.000000  \n",
      "mean       23.585583  \n",
      "std        79.202775  \n",
      "min         0.490000  \n",
      "25%         9.990000  \n",
      "50%        14.990000  \n",
      "75%        23.490000  \n",
      "max     13999.900000  \n",
      "\n",
      "Estadísticas de Compras:\n",
      "         Unnamed: 0         Store         Brand  VendorNumber      PONumber  \\\n",
      "count  2.372474e+06  2.372474e+06  2.372474e+06  2.372474e+06  2.372474e+06   \n",
      "mean   1.186236e+06  4.465133e+01  1.241864e+04  6.886436e+03  1.104094e+04   \n",
      "std    6.848744e+05  2.351245e+01  1.255728e+04  8.066694e+03  1.565340e+03   \n",
      "min    0.000000e+00  1.000000e+00  5.800000e+01  2.000000e+00  8.106000e+03   \n",
      "25%    5.931182e+05  2.500000e+01  3.639000e+03  3.252000e+03  9.761000e+03   \n",
      "50%    1.186236e+06  4.800000e+01  6.523000e+03  4.425000e+03  1.110300e+04   \n",
      "75%    1.779355e+06  6.700000e+01  1.887700e+04  9.552000e+03  1.239700e+04   \n",
      "max    2.372473e+06  8.100000e+01  9.063100e+04  2.013590e+05  1.366100e+04   \n",
      "\n",
      "       PurchasePrice      Quantity       Dollars  Classification  \n",
      "count   2.372474e+06  2.372474e+06  2.372474e+06    2.372474e+06  \n",
      "mean    1.205005e+01  1.415585e+01  1.356815e+02    1.443520e+00  \n",
      "std     1.794510e+01  2.344616e+01  2.816649e+02    4.967999e-01  \n",
      "min     0.000000e+00  1.000000e+00  0.000000e+00    1.000000e+00  \n",
      "25%     6.120000e+00  6.000000e+00  4.926000e+01    1.000000e+00  \n",
      "50%     9.220000e+00  1.000000e+01  8.393000e+01    1.000000e+00  \n",
      "75%     1.449000e+01  1.200000e+01  1.405200e+02    2.000000e+00  \n",
      "max     5.681810e+03  3.816000e+03  5.017570e+04    2.000000e+00  \n",
      "\n",
      "Estadísticas de Ventas:\n",
      "         Unnamed: 0         Store         Brand  SalesQuantity  SalesDollars  \\\n",
      "count  1.048575e+06  1.048575e+06  1.048575e+06   1.048575e+06  1.048575e+06   \n",
      "mean   5.242870e+05  4.008063e+01  1.216959e+04   2.337619e+00  3.160420e+01   \n",
      "min    0.000000e+00  1.000000e+00  5.800000e+01   1.000000e+00  4.900000e-01   \n",
      "25%    2.621435e+05  1.500000e+01  3.680000e+03   1.000000e+00  1.099000e+01   \n",
      "50%    5.242870e+05  3.900000e+01  6.296000e+03   1.000000e+00  1.799000e+01   \n",
      "75%    7.864305e+05  6.400000e+01  1.795400e+04   2.000000e+00  3.199000e+01   \n",
      "max    1.048574e+06  7.900000e+01  9.008900e+04   4.320000e+02  1.327997e+04   \n",
      "std    3.026977e+05  2.435739e+01  1.241921e+04   3.511492e+00  6.570249e+01   \n",
      "\n",
      "         SalesPrice                      SalesDate        Volume  \\\n",
      "count  1.048575e+06                        1048575  1.048575e+06   \n",
      "mean   1.543162e+01  2016-01-19 21:59:18.574636288  9.500280e+02   \n",
      "min    4.900000e-01            2016-01-01 00:00:00  5.000000e+01   \n",
      "25%    8.990000e+00            2016-01-10 00:00:00  7.500000e+02   \n",
      "50%    1.299000e+01            2016-01-19 00:00:00  7.500000e+02   \n",
      "75%    1.899000e+01            2016-01-28 00:00:00  1.500000e+03   \n",
      "max    4.999990e+03            2016-02-29 00:00:00  2.000000e+04   \n",
      "std    1.404967e+01                            NaN  7.142708e+02   \n",
      "\n",
      "       Classification     ExciseTax      VendorNo  \n",
      "count    1.048575e+06  1.048575e+06  1.048575e+06  \n",
      "mean     1.416550e+00  1.326847e+00  6.995043e+03  \n",
      "min      1.000000e+00  1.000000e-02  2.000000e+00  \n",
      "25%      1.000000e+00  1.600000e-01  3.252000e+03  \n",
      "50%      1.000000e+00  6.800000e-01  4.425000e+03  \n",
      "75%      2.000000e+00  1.570000e+00  9.552000e+03  \n",
      "max      2.000000e+00  3.785200e+02  1.733570e+05  \n",
      "std      4.929872e-01  3.407898e+00  8.426736e+03  \n"
     ]
    }
   ],
   "source": [
    "# Estadísticas para inventario inicial\n",
    "print(\"Estadísticas de Inventario Inicial:\")\n",
    "print(inventario_inicial.describe())\n",
    "\n",
    "# Estadísticas para inventario final\n",
    "print(\"\\nEstadísticas de Inventario Final:\")\n",
    "print(inventario_final.describe())\n",
    "\n",
    "# Estadísticas para compras\n",
    "print(\"\\nEstadísticas de Compras:\")\n",
    "print(compras.describe())\n",
    "\n",
    "# Estadísticas para ventas\n",
    "print(\"\\nEstadísticas de Ventas:\")\n",
    "print(ventas.describe())\n"
   ]
  },
  {
   "cell_type": "code",
   "execution_count": 5,
   "metadata": {},
   "outputs": [
    {
     "name": "stdout",
     "output_type": "stream",
     "text": [
      "Index(['Unnamed: 0', 'InventoryId', 'Store', 'Brand', 'Description', 'Size',\n",
      "       'SalesQuantity', 'SalesDollars', 'SalesPrice', 'SalesDate', 'Volume',\n",
      "       'Classification', 'ExciseTax', 'VendorNo', 'VendorName'],\n",
      "      dtype='object')\n"
     ]
    }
   ],
   "source": [
    "print(ventas.columns)\n"
   ]
  },
  {
   "cell_type": "code",
   "execution_count": 42,
   "metadata": {},
   "outputs": [],
   "source": [
    "# Convertir la columna 'SalesDate' a datetime si no se ha hecho antes\n",
    "ventas['SalesDate'] = pd.to_datetime(ventas['SalesDate'])\n",
    "\n",
    "# Establecer 'SalesDate' como el índice del DataFrame\n",
    "ventas.set_index('SalesDate', inplace=True)\n"
   ]
  },
  {
   "cell_type": "code",
   "execution_count": 43,
   "metadata": {},
   "outputs": [
    {
     "name": "stderr",
     "output_type": "stream",
     "text": [
      "C:\\Users\\SAMSUNG\\AppData\\Local\\Temp\\ipykernel_37748\\4011384746.py:2: FutureWarning: 'M' is deprecated and will be removed in a future version, please use 'ME' instead.\n",
      "  ventas_mensuales = ventas.resample('M').sum()  # Cambia 'sum' por otra función si es necesario\n"
     ]
    }
   ],
   "source": [
    "    # Asumiendo que tienes una columna que representa el total en dólares de las ventas\n",
    "    ventas_mensuales = ventas.resample('M').sum()  # Cambia 'sum' por otra función si es necesario\n"
   ]
  },
  {
   "cell_type": "code",
   "execution_count": 8,
   "metadata": {},
   "outputs": [
    {
     "data": {
      "text/plain": [
       "60"
      ]
     },
     "execution_count": 8,
     "metadata": {},
     "output_type": "execute_result"
    }
   ],
   "source": [
    "ventas['SalesDate'].nunique()\n"
   ]
  },
  {
   "cell_type": "code",
   "execution_count": 9,
   "metadata": {},
   "outputs": [
    {
     "data": {
      "text/plain": [
       "SalesDate\n",
       "2016-01-29    54142\n",
       "2016-01-30    47256\n",
       "2016-01-23    44792\n",
       "2016-01-22    44276\n",
       "2016-01-15    43946\n",
       "2016-01-09    43639\n",
       "2016-01-16    41359\n",
       "2016-01-08    41249\n",
       "2016-01-02    38449\n",
       "2016-01-21    30204\n",
       "2016-01-31    30164\n",
       "2016-01-28    29699\n",
       "2016-01-17    29329\n",
       "2016-01-14    28649\n",
       "2016-01-24    27798\n",
       "2016-01-07    27027\n",
       "2016-01-27    24352\n",
       "2016-01-01    24282\n",
       "2016-01-20    24146\n",
       "2016-01-06    23277\n",
       "2016-01-03    23217\n",
       "2016-01-13    23213\n",
       "2016-01-12    23116\n",
       "2016-01-18    22575\n",
       "2016-01-10    22487\n",
       "2016-01-19    22325\n",
       "2016-01-26    22149\n",
       "2016-01-11    21353\n",
       "2016-01-25    19928\n",
       "2016-01-05    19614\n",
       "2016-01-04    19584\n",
       "2016-02-12     6218\n",
       "2016-02-13     6176\n",
       "2016-02-06     5891\n",
       "2016-02-19     5752\n",
       "2016-02-26     5515\n",
       "2016-02-27     5414\n",
       "2016-02-20     5227\n",
       "2016-02-05     4876\n",
       "2016-02-11     4047\n",
       "2016-02-18     3652\n",
       "2016-02-04     3599\n",
       "2016-02-25     3566\n",
       "2016-02-07     3540\n",
       "2016-02-14     3465\n",
       "2016-02-17     3288\n",
       "2016-02-23     3230\n",
       "2016-02-10     3117\n",
       "2016-02-28     3109\n",
       "2016-02-02     3056\n",
       "2016-02-15     3040\n",
       "2016-02-22     2952\n",
       "2016-02-03     2944\n",
       "2016-02-21     2912\n",
       "2016-02-09     2873\n",
       "2016-02-29     2845\n",
       "2016-02-01     2743\n",
       "2016-02-24     2741\n",
       "2016-02-16     2641\n",
       "2016-02-08     2550\n",
       "Name: count, dtype: int64"
      ]
     },
     "execution_count": 9,
     "metadata": {},
     "output_type": "execute_result"
    }
   ],
   "source": [
    "ventas['SalesDate'].value_counts()"
   ]
  },
  {
   "cell_type": "code",
   "execution_count": 14,
   "metadata": {},
   "outputs": [
    {
     "data": {
      "image/png": "[encoded data removed]",
      "text/plain": [
       "<Figure size 1200x600 with 1 Axes>"
      ]
     },
     "metadata": {},
     "output_type": "display_data"
    }
   ],
   "source": [
    "# Convertir 'SalesDate' a datetime si no se ha hecho antes\n",
    "ventas['SalesDate'] = pd.to_datetime(ventas['SalesDate'])\n",
    "\n",
    "# Contar las apariciones y luego ordenar por fecha\n",
    "conteo_fechas = ventas['SalesDate'].value_counts().sort_index()\n",
    "\n",
    "### Paso 2: Graficar\n",
    "\n",
    "plt.figure(figsize=(12, 6))  # Tamaño del gráfico\n",
    "plt.plot(conteo_fechas.index, conteo_fechas.values, marker='o', linestyle='-')\n",
    "plt.title('Frecuencia de Ventas por Fecha')\n",
    "plt.xlabel('Fecha')\n",
    "plt.ylabel('Número de Transacciones')\n",
    "plt.grid(True)\n",
    "plt.xticks(rotation=45)  # Rotar las etiquetas del eje x para mejor legibilidad\n",
    "plt.tight_layout()  # Ajusta automáticamente los parámetros de la subtrama para dar espacio al contenido\n",
    "plt.show()"
   ]
  },
  {
   "cell_type": "markdown",
   "metadata": {},
   "source": []
  },
  {
   "cell_type": "code",
   "execution_count": 1,
   "metadata": {},
   "outputs": [
    {
     "name": "stdout",
     "output_type": "stream",
     "text": [
      "Ocurrió un error al intentar conectar a la base de datos: ('08001', '[08001] [Microsoft][ODBC SQL Server Driver][DBNETLIB]No existe el servidor SQL Server o se ha denegado el acceso al mismo. (17) (SQLDriverConnect); [08001] [Microsoft][ODBC SQL Server Driver][DBNETLIB]ConnectionOpen (Connect()). (53)')\n"
     ]
    }
   ],
   "source": [
    "import pyodbc\n",
    "\n",
    "# Configura los detalles de la conexión usando la información proporcionada\n",
    "server = 'JORGE\\SQLEXPRESS'  # Nombre del servidor\n",
    "database = 'DrinkinTeamDB'  # Nombre de la base de datos\n",
    "username = 'datafusionlatam'  # Usuario\n",
    "password = 'DAFTHENRY'  # Contraseña\n",
    "\n",
    "# Cadena de conexión\n",
    "connection_string = f'DRIVER={{SQL Server}};SERVER={server};DATABASE={database};UID={username};PWD={password}'\n",
    "\n",
    "# Intenta conectarte a la base de datos\n",
    "try:\n",
    "    conn = pyodbc.connect(connection_string)\n",
    "    print(\"Conexión exitosa!\")\n",
    "except Exception as e:\n",
    "    print(\"Ocurrió un error al intentar conectar a la base de datos:\", e)\n",
    "\n"
   ]
  },
  {
   "cell_type": "code",
   "execution_count": 2,
   "metadata": {},
   "outputs": [
    {
     "name": "stdout",
     "output_type": "stream",
     "text": [
      "Error al conectar a la base de datos: ('08001', '[08001] [Microsoft][ODBC SQL Server Driver][DBNETLIB]No existe el servidor SQL Server o se ha denegado el acceso al mismo. (17) (SQLDriverConnect); [08001] [Microsoft][ODBC SQL Server Driver][DBNETLIB]ConnectionOpen (Connect()). (53)')\n"
     ]
    }
   ],
   "source": [
    "import pyodbc\n",
    "\n",
    "server = 'JORGE\\SQLEXPRESS'  # Cambia esto por la dirección IP o el nombre de red del servidor de SQL Server de tu compañero\n",
    "database = 'DrinkinTeamDB'\n",
    "username = 'datafusionlatam'\n",
    "password = 'DAFTHENRY'\n",
    "\n",
    "connection_string = f'DRIVER={{SQL Server}};SERVER={server};DATABASE={database};UID={username};PWD={password}'\n",
    "try:\n",
    "    conn = pyodbc.connect(connection_string)\n",
    "    print(\"Conexión exitosa!\")\n",
    "except Exception as e:\n",
    "    print(\"Error al conectar a la base de datos:\", e)\n"
   ]
  },
  {
   "cell_type": "code",
   "execution_count": null,
   "metadata": {},
   "outputs": [],
   "source": [
    "p"
   ]
  }
 ],
 "metadata": {
  "kernelspec": {
   "display_name": "Python 3",
   "language": "python",
   "name": "python3"
  },
  "language_info": {
   "codemirror_mode": {
    "name": "ipython",
    "version": 3
   },
   "file_extension": ".py",
   "mimetype": "text/x-python",
   "name": "python",
   "nbconvert_exporter": "python",
   "pygments_lexer": "ipython3",
   "version": "3.11.9"
  }
 },
 "nbformat": 4,
 "nbformat_minor": 2
}
