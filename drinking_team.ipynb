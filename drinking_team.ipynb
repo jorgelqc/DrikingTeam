{
 "cells": [
  {
   "cell_type": "code",
   "execution_count": 1,
   "metadata": {},
   "outputs": [],
   "source": [
    "# Importamos las librerias necesarias\n",
    "import numpy as np\n",
    "import pandas as pd\n",
    "import matplotlib.pyplot as plt\n",
    "import seaborn as sns"
   ]
  },
  {
   "cell_type": "code",
   "execution_count": 2,
   "metadata": {},
   "outputs": [],
   "source": [
    "# Abrimos los archivos .csv\n",
    "precio_compras = pd.read_csv(r\"C:\\Users\\SAMSUNG\\Desktop\\Datos\\2017PurchasePricesDec.csv\")\n",
    "inventario_inicial = pd.read_csv(r'C:\\Users\\SAMSUNG\\Desktop\\Datos\\BegInvFINAL12312016.csv')\n",
    "inventario_final = pd.read_csv(r\"C:\\Users\\SAMSUNG\\Desktop\\Datos\\EndInvFINAL12312016.csv\")\n",
    "compras_invoice= pd.read_csv(r\"C:\\Users\\SAMSUNG\\Desktop\\Datos\\InvoicePurchases12312016.csv\")\n",
    "compras = pd.read_csv(r\"C:\\Users\\SAMSUNG\\Desktop\\Datos\\PurchasesFINAL12312016.csv\")\n",
    "ventas = pd.read_csv(r\"C:\\Users\\SAMSUNG\\Desktop\\Datos\\SalesFINAL12312016.csv\")\n"
   ]
  },
  {
   "cell_type": "markdown",
   "metadata": {},
   "source": [
    "Vemos la informacion que contiene cada dataset\n",
    "Empezamos revisando compras_precio\n"
   ]
  },
  {
   "cell_type": "code",
   "execution_count": 7,
   "metadata": {},
   "outputs": [
    {
     "data": {
      "text/html": [
       "<div>\n",
       "<style scoped>\n",
       "    .dataframe tbody tr th:only-of-type {\n",
       "        vertical-align: middle;\n",
       "    }\n",
       "\n",
       "    .dataframe tbody tr th {\n",
       "        vertical-align: top;\n",
       "    }\n",
       "\n",
       "    .dataframe thead th {\n",
       "        text-align: right;\n",
       "    }\n",
       "</style>\n",
       "<table border=\"1\" class=\"dataframe\">\n",
       "  <thead>\n",
       "    <tr style=\"text-align: right;\">\n",
       "      <th></th>\n",
       "      <th>Brand</th>\n",
       "      <th>Description</th>\n",
       "      <th>Price</th>\n",
       "      <th>Size</th>\n",
       "      <th>Volume</th>\n",
       "      <th>Classification</th>\n",
       "      <th>PurchasePrice</th>\n",
       "      <th>VendorNumber</th>\n",
       "      <th>VendorName</th>\n",
       "    </tr>\n",
       "  </thead>\n",
       "  <tbody>\n",
       "    <tr>\n",
       "      <th>0</th>\n",
       "      <td>58</td>\n",
       "      <td>Gekkeikan Black &amp; Gold Sake</td>\n",
       "      <td>12.99</td>\n",
       "      <td>750mL</td>\n",
       "      <td>750</td>\n",
       "      <td>1</td>\n",
       "      <td>9.28</td>\n",
       "      <td>8320</td>\n",
       "      <td>SHAW ROSS INT L IMP LTD</td>\n",
       "    </tr>\n",
       "    <tr>\n",
       "      <th>1</th>\n",
       "      <td>62</td>\n",
       "      <td>Herradura Silver Tequila</td>\n",
       "      <td>36.99</td>\n",
       "      <td>750mL</td>\n",
       "      <td>750</td>\n",
       "      <td>1</td>\n",
       "      <td>28.67</td>\n",
       "      <td>1128</td>\n",
       "      <td>BROWN-FORMAN CORP</td>\n",
       "    </tr>\n",
       "    <tr>\n",
       "      <th>2</th>\n",
       "      <td>63</td>\n",
       "      <td>Herradura Reposado Tequila</td>\n",
       "      <td>38.99</td>\n",
       "      <td>750mL</td>\n",
       "      <td>750</td>\n",
       "      <td>1</td>\n",
       "      <td>30.46</td>\n",
       "      <td>1128</td>\n",
       "      <td>BROWN-FORMAN CORP</td>\n",
       "    </tr>\n",
       "    <tr>\n",
       "      <th>3</th>\n",
       "      <td>72</td>\n",
       "      <td>No. 3 London Dry Gin</td>\n",
       "      <td>34.99</td>\n",
       "      <td>750mL</td>\n",
       "      <td>750</td>\n",
       "      <td>1</td>\n",
       "      <td>26.11</td>\n",
       "      <td>9165</td>\n",
       "      <td>ULTRA BEVERAGE COMPANY LLP</td>\n",
       "    </tr>\n",
       "    <tr>\n",
       "      <th>4</th>\n",
       "      <td>75</td>\n",
       "      <td>Three Olives Tomato Vodka</td>\n",
       "      <td>14.99</td>\n",
       "      <td>750mL</td>\n",
       "      <td>750</td>\n",
       "      <td>1</td>\n",
       "      <td>10.94</td>\n",
       "      <td>7245</td>\n",
       "      <td>PROXIMO SPIRITS INC.</td>\n",
       "    </tr>\n",
       "  </tbody>\n",
       "</table>\n",
       "</div>"
      ],
      "text/plain": [
       "   Brand                  Description  Price   Size Volume  Classification  \\\n",
       "0     58  Gekkeikan Black & Gold Sake  12.99  750mL    750               1   \n",
       "1     62     Herradura Silver Tequila  36.99  750mL    750               1   \n",
       "2     63   Herradura Reposado Tequila  38.99  750mL    750               1   \n",
       "3     72         No. 3 London Dry Gin  34.99  750mL    750               1   \n",
       "4     75    Three Olives Tomato Vodka  14.99  750mL    750               1   \n",
       "\n",
       "   PurchasePrice  VendorNumber                   VendorName  \n",
       "0           9.28          8320  SHAW ROSS INT L IMP LTD      \n",
       "1          28.67          1128  BROWN-FORMAN CORP            \n",
       "2          30.46          1128  BROWN-FORMAN CORP            \n",
       "3          26.11          9165  ULTRA BEVERAGE COMPANY LLP   \n",
       "4          10.94          7245  PROXIMO SPIRITS INC.         "
      ]
     },
     "execution_count": 7,
     "metadata": {},
     "output_type": "execute_result"
    }
   ],
   "source": [
    "precio_compras.head()\n"
   ]
  },
  {
   "cell_type": "code",
   "execution_count": 8,
   "metadata": {},
   "outputs": [
    {
     "data": {
      "text/plain": [
       "<bound method DataFrame.info of        Brand                   Description  Price    Size Volume  \\\n",
       "0         58   Gekkeikan Black & Gold Sake  12.99   750mL    750   \n",
       "1         62      Herradura Silver Tequila  36.99   750mL    750   \n",
       "2         63    Herradura Reposado Tequila  38.99   750mL    750   \n",
       "3         72          No. 3 London Dry Gin  34.99   750mL    750   \n",
       "4         75     Three Olives Tomato Vodka  14.99   750mL    750   \n",
       "...      ...                           ...    ...     ...    ...   \n",
       "12256  44917     Ferreira 10-Yr Tawny Port  24.99   750mL    750   \n",
       "12257  44944     Sanford Santa Rita Pnt Nr  22.99   750mL    750   \n",
       "12258  45016  Neal One Lane Bridg Cab Svgn  93.99   750mL    750   \n",
       "12259  46011       Folonari Pnt Nr Venezie  12.99  1500ml   1500   \n",
       "12260  46964     Calera Viognier Mt Harlan  35.99   750mL    750   \n",
       "\n",
       "       Classification  PurchasePrice  VendorNumber  \\\n",
       "0                   1           9.28          8320   \n",
       "1                   1          28.67          1128   \n",
       "2                   1          30.46          1128   \n",
       "3                   1          26.11          9165   \n",
       "4                   1          10.94          7245   \n",
       "...               ...            ...           ...   \n",
       "12256               2          16.55         90024   \n",
       "12257               2          14.93          4425   \n",
       "12258               2          61.43         10754   \n",
       "12259               2           8.90          9744   \n",
       "12260               2          24.32         10754   \n",
       "\n",
       "                        VendorName  \n",
       "0      SHAW ROSS INT L IMP LTD      \n",
       "1      BROWN-FORMAN CORP            \n",
       "2      BROWN-FORMAN CORP            \n",
       "3      ULTRA BEVERAGE COMPANY LLP   \n",
       "4      PROXIMO SPIRITS INC.         \n",
       "...                            ...  \n",
       "12256  VINILANDIA USA               \n",
       "12257        MARTIGNETTI COMPANIES  \n",
       "12258  PERFECTA WINES               \n",
       "12259  FREDERICK WILDMAN & SONS     \n",
       "12260  PERFECTA WINES               \n",
       "\n",
       "[12261 rows x 9 columns]>"
      ]
     },
     "execution_count": 8,
     "metadata": {},
     "output_type": "execute_result"
    }
   ],
   "source": [
    "precio_compras.info "
   ]
  },
  {
   "cell_type": "code",
   "execution_count": 9,
   "metadata": {},
   "outputs": [
    {
     "data": {
      "text/plain": [
       "Index(['Brand', 'Description', 'Price', 'Size', 'Volume', 'Classification',\n",
       "       'PurchasePrice', 'VendorNumber', 'VendorName'],\n",
       "      dtype='object')"
      ]
     },
     "execution_count": 9,
     "metadata": {},
     "output_type": "execute_result"
    }
   ],
   "source": [
    "precio_compras.columns"
   ]
  },
  {
   "cell_type": "markdown",
   "metadata": {},
   "source": [
    "##### compras_precio : Indica el precio de compra de los productos, y el proveedor.\n",
    "##### Posee [12261 filas x 9 columnas].\n",
    "##### Sus columnas son: ['Brand', 'Description', 'Price', 'Size', 'Volume', 'Classification', 'PurchasePrice', 'VendorNumber', 'VendorName']\n"
   ]
  },
  {
   "cell_type": "markdown",
   "metadata": {},
   "source": [
    "## Ahora analizamos inventario_inicial"
   ]
  },
  {
   "cell_type": "code",
   "execution_count": 10,
   "metadata": {},
   "outputs": [
    {
     "data": {
      "text/html": [
       "<div>\n",
       "<style scoped>\n",
       "    .dataframe tbody tr th:only-of-type {\n",
       "        vertical-align: middle;\n",
       "    }\n",
       "\n",
       "    .dataframe tbody tr th {\n",
       "        vertical-align: top;\n",
       "    }\n",
       "\n",
       "    .dataframe thead th {\n",
       "        text-align: right;\n",
       "    }\n",
       "</style>\n",
       "<table border=\"1\" class=\"dataframe\">\n",
       "  <thead>\n",
       "    <tr style=\"text-align: right;\">\n",
       "      <th></th>\n",
       "      <th>InventoryId</th>\n",
       "      <th>Store</th>\n",
       "      <th>City</th>\n",
       "      <th>Brand</th>\n",
       "      <th>Description</th>\n",
       "      <th>Size</th>\n",
       "      <th>onHand</th>\n",
       "      <th>Price</th>\n",
       "      <th>startDate</th>\n",
       "    </tr>\n",
       "  </thead>\n",
       "  <tbody>\n",
       "    <tr>\n",
       "      <th>0</th>\n",
       "      <td>1_HARDERSFIELD_58</td>\n",
       "      <td>1</td>\n",
       "      <td>HARDERSFIELD</td>\n",
       "      <td>58</td>\n",
       "      <td>Gekkeikan Black &amp; Gold Sake</td>\n",
       "      <td>750mL</td>\n",
       "      <td>8</td>\n",
       "      <td>12.99</td>\n",
       "      <td>2016-01-01</td>\n",
       "    </tr>\n",
       "    <tr>\n",
       "      <th>1</th>\n",
       "      <td>1_HARDERSFIELD_60</td>\n",
       "      <td>1</td>\n",
       "      <td>HARDERSFIELD</td>\n",
       "      <td>60</td>\n",
       "      <td>Canadian Club 1858 VAP</td>\n",
       "      <td>750mL</td>\n",
       "      <td>7</td>\n",
       "      <td>10.99</td>\n",
       "      <td>2016-01-01</td>\n",
       "    </tr>\n",
       "    <tr>\n",
       "      <th>2</th>\n",
       "      <td>1_HARDERSFIELD_62</td>\n",
       "      <td>1</td>\n",
       "      <td>HARDERSFIELD</td>\n",
       "      <td>62</td>\n",
       "      <td>Herradura Silver Tequila</td>\n",
       "      <td>750mL</td>\n",
       "      <td>6</td>\n",
       "      <td>36.99</td>\n",
       "      <td>2016-01-01</td>\n",
       "    </tr>\n",
       "    <tr>\n",
       "      <th>3</th>\n",
       "      <td>1_HARDERSFIELD_63</td>\n",
       "      <td>1</td>\n",
       "      <td>HARDERSFIELD</td>\n",
       "      <td>63</td>\n",
       "      <td>Herradura Reposado Tequila</td>\n",
       "      <td>750mL</td>\n",
       "      <td>3</td>\n",
       "      <td>38.99</td>\n",
       "      <td>2016-01-01</td>\n",
       "    </tr>\n",
       "    <tr>\n",
       "      <th>4</th>\n",
       "      <td>1_HARDERSFIELD_72</td>\n",
       "      <td>1</td>\n",
       "      <td>HARDERSFIELD</td>\n",
       "      <td>72</td>\n",
       "      <td>No. 3 London Dry Gin</td>\n",
       "      <td>750mL</td>\n",
       "      <td>6</td>\n",
       "      <td>34.99</td>\n",
       "      <td>2016-01-01</td>\n",
       "    </tr>\n",
       "  </tbody>\n",
       "</table>\n",
       "</div>"
      ],
      "text/plain": [
       "         InventoryId  Store          City  Brand                  Description  \\\n",
       "0  1_HARDERSFIELD_58      1  HARDERSFIELD     58  Gekkeikan Black & Gold Sake   \n",
       "1  1_HARDERSFIELD_60      1  HARDERSFIELD     60       Canadian Club 1858 VAP   \n",
       "2  1_HARDERSFIELD_62      1  HARDERSFIELD     62     Herradura Silver Tequila   \n",
       "3  1_HARDERSFIELD_63      1  HARDERSFIELD     63   Herradura Reposado Tequila   \n",
       "4  1_HARDERSFIELD_72      1  HARDERSFIELD     72         No. 3 London Dry Gin   \n",
       "\n",
       "    Size  onHand  Price   startDate  \n",
       "0  750mL       8  12.99  2016-01-01  \n",
       "1  750mL       7  10.99  2016-01-01  \n",
       "2  750mL       6  36.99  2016-01-01  \n",
       "3  750mL       3  38.99  2016-01-01  \n",
       "4  750mL       6  34.99  2016-01-01  "
      ]
     },
     "execution_count": 10,
     "metadata": {},
     "output_type": "execute_result"
    }
   ],
   "source": [
    "inventario_inicial.head(5)"
   ]
  },
  {
   "cell_type": "code",
   "execution_count": 11,
   "metadata": {},
   "outputs": [
    {
     "data": {
      "text/plain": [
       "<bound method DataFrame.info of                InventoryId  Store          City  Brand  \\\n",
       "0        1_HARDERSFIELD_58      1  HARDERSFIELD     58   \n",
       "1        1_HARDERSFIELD_60      1  HARDERSFIELD     60   \n",
       "2        1_HARDERSFIELD_62      1  HARDERSFIELD     62   \n",
       "3        1_HARDERSFIELD_63      1  HARDERSFIELD     63   \n",
       "4        1_HARDERSFIELD_72      1  HARDERSFIELD     72   \n",
       "...                    ...    ...           ...    ...   \n",
       "206524  79_BALLYMENA_46985     79     BALLYMENA  46985   \n",
       "206525  79_BALLYMENA_47014     79     BALLYMENA  47014   \n",
       "206526  79_BALLYMENA_47090     79     BALLYMENA  47090   \n",
       "206527  79_BALLYMENA_90011     79     BALLYMENA  90011   \n",
       "206528  79_BALLYMENA_90089     79     BALLYMENA  90089   \n",
       "\n",
       "                         Description   Size  onHand   Price   startDate  \n",
       "0        Gekkeikan Black & Gold Sake  750mL       8   12.99  2016-01-01  \n",
       "1             Canadian Club 1858 VAP  750mL       7   10.99  2016-01-01  \n",
       "2           Herradura Silver Tequila  750mL       6   36.99  2016-01-01  \n",
       "3         Herradura Reposado Tequila  750mL       3   38.99  2016-01-01  \n",
       "4               No. 3 London Dry Gin  750mL       6   34.99  2016-01-01  \n",
       "...                              ...    ...     ...     ...         ...  \n",
       "206524  Rodney Strong Cab Svgn Alexa  750mL      13   22.99  2016-01-01  \n",
       "206525           Juan Gil Jumilla Rd  750mL      13   13.99  2016-01-01  \n",
       "206526    Napa Cellars Cab Svgn Napa  750mL      19   23.99  2016-01-01  \n",
       "206527  Ch Pichon Longville 12 Pauil  750mL      12  144.99  2016-01-01  \n",
       "206528    Ch Lynch Bages 12 Pauillac  750mL      24  119.99  2016-01-01  \n",
       "\n",
       "[206529 rows x 9 columns]>"
      ]
     },
     "execution_count": 11,
     "metadata": {},
     "output_type": "execute_result"
    }
   ],
   "source": [
    "inventario_inicial.info"
   ]
  },
  {
   "cell_type": "code",
   "execution_count": 12,
   "metadata": {},
   "outputs": [
    {
     "data": {
      "text/plain": [
       "Index(['InventoryId', 'Store', 'City', 'Brand', 'Description', 'Size',\n",
       "       'onHand', 'Price', 'startDate'],\n",
       "      dtype='object')"
      ]
     },
     "execution_count": 12,
     "metadata": {},
     "output_type": "execute_result"
    }
   ],
   "source": [
    "inventario_inicial.columns\n"
   ]
  },
  {
   "cell_type": "markdown",
   "metadata": {},
   "source": [
    "Para saber mas sobre esta tabla vamos a analizar la columna startDate\n"
   ]
  },
  {
   "cell_type": "code",
   "execution_count": 13,
   "metadata": {},
   "outputs": [
    {
     "name": "stdout",
     "output_type": "stream",
     "text": [
      "2016-01-01\n",
      "2016-01-01\n"
     ]
    }
   ],
   "source": [
    "fecha_mas_vieja = inventario_inicial['startDate'].min()\n",
    "fecha_mas_nueva = inventario_inicial['startDate'].max()\n",
    "print(fecha_mas_nueva)\n",
    "print(fecha_mas_vieja)\n"
   ]
  },
  {
   "cell_type": "markdown",
   "metadata": {},
   "source": [
    "Vamos a asegurarnos que son todas las mismas fechas"
   ]
  },
  {
   "cell_type": "code",
   "execution_count": 16,
   "metadata": {},
   "outputs": [
    {
     "name": "stdout",
     "output_type": "stream",
     "text": [
      "Número de fechas únicas: 1\n"
     ]
    }
   ],
   "source": [
    "unique_dates_count = inventario_inicial['startDate'].nunique()\n",
    "print(f\"Número de fechas únicas: {unique_dates_count}\")"
   ]
  },
  {
   "cell_type": "markdown",
   "metadata": {},
   "source": [
    "##### Efectivamente esta tabla indica el inventario existente al 2016-01-01\n",
    "##### Posee 206529 rows x 9 columns\n",
    "##### Sus columnas son: ['InventoryId', 'Store', 'City', 'Brand', 'Description', 'Size','onHand', 'Price', 'startDate']\n",
    "##### La columna InventoryId podria ser utilizada como key\n"
   ]
  },
  {
   "cell_type": "markdown",
   "metadata": {},
   "source": [
    "## Ahora analizaremos inventario_final para asegurarnos que es el inventario a una fecha final "
   ]
  },
  {
   "cell_type": "code",
   "execution_count": 17,
   "metadata": {},
   "outputs": [
    {
     "data": {
      "text/html": [
       "<div>\n",
       "<style scoped>\n",
       "    .dataframe tbody tr th:only-of-type {\n",
       "        vertical-align: middle;\n",
       "    }\n",
       "\n",
       "    .dataframe tbody tr th {\n",
       "        vertical-align: top;\n",
       "    }\n",
       "\n",
       "    .dataframe thead th {\n",
       "        text-align: right;\n",
       "    }\n",
       "</style>\n",
       "<table border=\"1\" class=\"dataframe\">\n",
       "  <thead>\n",
       "    <tr style=\"text-align: right;\">\n",
       "      <th></th>\n",
       "      <th>InventoryId</th>\n",
       "      <th>Store</th>\n",
       "      <th>City</th>\n",
       "      <th>Brand</th>\n",
       "      <th>Description</th>\n",
       "      <th>Size</th>\n",
       "      <th>onHand</th>\n",
       "      <th>Price</th>\n",
       "      <th>endDate</th>\n",
       "    </tr>\n",
       "  </thead>\n",
       "  <tbody>\n",
       "    <tr>\n",
       "      <th>0</th>\n",
       "      <td>1_HARDERSFIELD_58</td>\n",
       "      <td>1</td>\n",
       "      <td>HARDERSFIELD</td>\n",
       "      <td>58</td>\n",
       "      <td>Gekkeikan Black &amp; Gold Sake</td>\n",
       "      <td>750mL</td>\n",
       "      <td>11</td>\n",
       "      <td>12.99</td>\n",
       "      <td>2016-12-31</td>\n",
       "    </tr>\n",
       "    <tr>\n",
       "      <th>1</th>\n",
       "      <td>1_HARDERSFIELD_62</td>\n",
       "      <td>1</td>\n",
       "      <td>HARDERSFIELD</td>\n",
       "      <td>62</td>\n",
       "      <td>Herradura Silver Tequila</td>\n",
       "      <td>750mL</td>\n",
       "      <td>7</td>\n",
       "      <td>36.99</td>\n",
       "      <td>2016-12-31</td>\n",
       "    </tr>\n",
       "    <tr>\n",
       "      <th>2</th>\n",
       "      <td>1_HARDERSFIELD_63</td>\n",
       "      <td>1</td>\n",
       "      <td>HARDERSFIELD</td>\n",
       "      <td>63</td>\n",
       "      <td>Herradura Reposado Tequila</td>\n",
       "      <td>750mL</td>\n",
       "      <td>7</td>\n",
       "      <td>38.99</td>\n",
       "      <td>2016-12-31</td>\n",
       "    </tr>\n",
       "    <tr>\n",
       "      <th>3</th>\n",
       "      <td>1_HARDERSFIELD_72</td>\n",
       "      <td>1</td>\n",
       "      <td>HARDERSFIELD</td>\n",
       "      <td>72</td>\n",
       "      <td>No. 3 London Dry Gin</td>\n",
       "      <td>750mL</td>\n",
       "      <td>4</td>\n",
       "      <td>34.99</td>\n",
       "      <td>2016-12-31</td>\n",
       "    </tr>\n",
       "    <tr>\n",
       "      <th>4</th>\n",
       "      <td>1_HARDERSFIELD_75</td>\n",
       "      <td>1</td>\n",
       "      <td>HARDERSFIELD</td>\n",
       "      <td>75</td>\n",
       "      <td>Three Olives Tomato Vodka</td>\n",
       "      <td>750mL</td>\n",
       "      <td>7</td>\n",
       "      <td>14.99</td>\n",
       "      <td>2016-12-31</td>\n",
       "    </tr>\n",
       "  </tbody>\n",
       "</table>\n",
       "</div>"
      ],
      "text/plain": [
       "         InventoryId  Store          City  Brand                  Description  \\\n",
       "0  1_HARDERSFIELD_58      1  HARDERSFIELD     58  Gekkeikan Black & Gold Sake   \n",
       "1  1_HARDERSFIELD_62      1  HARDERSFIELD     62     Herradura Silver Tequila   \n",
       "2  1_HARDERSFIELD_63      1  HARDERSFIELD     63   Herradura Reposado Tequila   \n",
       "3  1_HARDERSFIELD_72      1  HARDERSFIELD     72         No. 3 London Dry Gin   \n",
       "4  1_HARDERSFIELD_75      1  HARDERSFIELD     75    Three Olives Tomato Vodka   \n",
       "\n",
       "    Size  onHand  Price     endDate  \n",
       "0  750mL      11  12.99  2016-12-31  \n",
       "1  750mL       7  36.99  2016-12-31  \n",
       "2  750mL       7  38.99  2016-12-31  \n",
       "3  750mL       4  34.99  2016-12-31  \n",
       "4  750mL       7  14.99  2016-12-31  "
      ]
     },
     "execution_count": 17,
     "metadata": {},
     "output_type": "execute_result"
    }
   ],
   "source": [
    "inventario_final.head(5)"
   ]
  },
  {
   "cell_type": "code",
   "execution_count": 18,
   "metadata": {},
   "outputs": [
    {
     "data": {
      "text/plain": [
       "<bound method DataFrame.info of               InventoryId  Store          City  Brand  \\\n",
       "0       1_HARDERSFIELD_58      1  HARDERSFIELD     58   \n",
       "1       1_HARDERSFIELD_62      1  HARDERSFIELD     62   \n",
       "2       1_HARDERSFIELD_63      1  HARDERSFIELD     63   \n",
       "3       1_HARDERSFIELD_72      1  HARDERSFIELD     72   \n",
       "4       1_HARDERSFIELD_75      1  HARDERSFIELD     75   \n",
       "...                   ...    ...           ...    ...   \n",
       "224484  81_PEMBROKE_90087     81      PEMBROKE  90087   \n",
       "224485  81_PEMBROKE_90088     81      PEMBROKE  90088   \n",
       "224486  81_PEMBROKE_90089     81      PEMBROKE  90089   \n",
       "224487  81_PEMBROKE_90090     81      PEMBROKE  90090   \n",
       "224488  81_PEMBROKE_90604     81      PEMBROKE  90604   \n",
       "\n",
       "                         Description   Size  onHand   Price     endDate  \n",
       "0        Gekkeikan Black & Gold Sake  750mL      11   12.99  2016-12-31  \n",
       "1           Herradura Silver Tequila  750mL       7   36.99  2016-12-31  \n",
       "2         Herradura Reposado Tequila  750mL       7   38.99  2016-12-31  \n",
       "3               No. 3 London Dry Gin  750mL       4   34.99  2016-12-31  \n",
       "4          Three Olives Tomato Vodka  750mL       7   14.99  2016-12-31  \n",
       "...                              ...    ...     ...     ...         ...  \n",
       "224484  Ch Mouton Rothschild 12 Paui  750mL       3  469.99  2016-12-31  \n",
       "224485  Ch Le Petite Mouton 12 Pauil  750mL       3  134.99  2016-12-31  \n",
       "224486    Ch Lynch Bages 12 Pauillac  750mL       3  119.99  2016-12-31  \n",
       "224487       Ch Lafite Rothschild 12  750mL       3  649.99  2016-12-31  \n",
       "224488        Ch Lynch Bages Pauilac  750mL       2  119.99  2016-12-31  \n",
       "\n",
       "[224489 rows x 9 columns]>"
      ]
     },
     "execution_count": 18,
     "metadata": {},
     "output_type": "execute_result"
    }
   ],
   "source": [
    "inventario_final.info"
   ]
  },
  {
   "cell_type": "code",
   "execution_count": 19,
   "metadata": {},
   "outputs": [
    {
     "data": {
      "text/plain": [
       "Index(['InventoryId', 'Store', 'City', 'Brand', 'Description', 'Size',\n",
       "       'onHand', 'Price', 'endDate'],\n",
       "      dtype='object')"
      ]
     },
     "execution_count": 19,
     "metadata": {},
     "output_type": "execute_result"
    }
   ],
   "source": [
    "inventario_final.columns"
   ]
  },
  {
   "cell_type": "code",
   "execution_count": 20,
   "metadata": {},
   "outputs": [
    {
     "name": "stdout",
     "output_type": "stream",
     "text": [
      "Número de fechas únicas: 1\n"
     ]
    }
   ],
   "source": [
    "unique_dates_count = inventario_final['endDate'].nunique()\n",
    "\n",
    "print(f\"Número de fechas únicas: {unique_dates_count}\")"
   ]
  },
  {
   "cell_type": "markdown",
   "metadata": {},
   "source": [
    "##### Efectivamente esta tabla indica el inventario existente al 2016-01-01\n",
    "##### Posee 224489 rows x 9 columns\n",
    "##### Sus columnas son: 'InventoryId', 'Store', 'City', 'Brand', 'Description', 'Size', 'onHand', 'Price', 'endDate'\n",
    "##### La columna InventoryId podria ser utilizada como key\n",
    "##### Las filas no cohinciden con el numero de inventario_inicial\n"
   ]
  },
  {
   "cell_type": "code",
   "execution_count": 21,
   "metadata": {},
   "outputs": [],
   "source": [
    "##### Efectivamente esta tabla indica el inventario existente al 2016-01-01\n",
    "##### Posee 224489 rows x 9 columns\n",
    "##### Sus columnas son: 'InventoryId', 'Store', 'City', 'Brand', 'Description', 'Size', 'onHand', 'Price', 'endDate'\n",
    "##### La columna InventoryId podria ser utilizada como key\n",
    "##### Las filas no cohinciden con el numero de inventario_inicial\n"
   ]
  },
  {
   "cell_type": "markdown",
   "metadata": {},
   "source": [
    "### Ahora analizaremos compras_invoice"
   ]
  },
  {
   "cell_type": "code",
   "execution_count": 23,
   "metadata": {},
   "outputs": [
    {
     "data": {
      "text/html": [
       "<div>\n",
       "<style scoped>\n",
       "    .dataframe tbody tr th:only-of-type {\n",
       "        vertical-align: middle;\n",
       "    }\n",
       "\n",
       "    .dataframe tbody tr th {\n",
       "        vertical-align: top;\n",
       "    }\n",
       "\n",
       "    .dataframe thead th {\n",
       "        text-align: right;\n",
       "    }\n",
       "</style>\n",
       "<table border=\"1\" class=\"dataframe\">\n",
       "  <thead>\n",
       "    <tr style=\"text-align: right;\">\n",
       "      <th></th>\n",
       "      <th>VendorNumber</th>\n",
       "      <th>VendorName</th>\n",
       "      <th>InvoiceDate</th>\n",
       "      <th>PONumber</th>\n",
       "      <th>PODate</th>\n",
       "      <th>PayDate</th>\n",
       "      <th>Quantity</th>\n",
       "      <th>Dollars</th>\n",
       "      <th>Freight</th>\n",
       "      <th>Approval</th>\n",
       "    </tr>\n",
       "  </thead>\n",
       "  <tbody>\n",
       "    <tr>\n",
       "      <th>0</th>\n",
       "      <td>105</td>\n",
       "      <td>ALTAMAR BRANDS LLC</td>\n",
       "      <td>2016-01-04</td>\n",
       "      <td>8124</td>\n",
       "      <td>2015-12-21</td>\n",
       "      <td>2016-02-16</td>\n",
       "      <td>6</td>\n",
       "      <td>214.26</td>\n",
       "      <td>3.47</td>\n",
       "      <td>NaN</td>\n",
       "    </tr>\n",
       "    <tr>\n",
       "      <th>1</th>\n",
       "      <td>4466</td>\n",
       "      <td>AMERICAN VINTAGE BEVERAGE</td>\n",
       "      <td>2016-01-07</td>\n",
       "      <td>8137</td>\n",
       "      <td>2015-12-22</td>\n",
       "      <td>2016-02-21</td>\n",
       "      <td>15</td>\n",
       "      <td>140.55</td>\n",
       "      <td>8.57</td>\n",
       "      <td>NaN</td>\n",
       "    </tr>\n",
       "    <tr>\n",
       "      <th>2</th>\n",
       "      <td>388</td>\n",
       "      <td>ATLANTIC IMPORTING COMPANY</td>\n",
       "      <td>2016-01-09</td>\n",
       "      <td>8169</td>\n",
       "      <td>2015-12-24</td>\n",
       "      <td>2016-02-16</td>\n",
       "      <td>5</td>\n",
       "      <td>106.60</td>\n",
       "      <td>4.61</td>\n",
       "      <td>NaN</td>\n",
       "    </tr>\n",
       "    <tr>\n",
       "      <th>3</th>\n",
       "      <td>480</td>\n",
       "      <td>BACARDI USA INC</td>\n",
       "      <td>2016-01-12</td>\n",
       "      <td>8106</td>\n",
       "      <td>2015-12-20</td>\n",
       "      <td>2016-02-05</td>\n",
       "      <td>10100</td>\n",
       "      <td>137483.78</td>\n",
       "      <td>2935.20</td>\n",
       "      <td>NaN</td>\n",
       "    </tr>\n",
       "    <tr>\n",
       "      <th>4</th>\n",
       "      <td>516</td>\n",
       "      <td>BANFI PRODUCTS CORP</td>\n",
       "      <td>2016-01-07</td>\n",
       "      <td>8170</td>\n",
       "      <td>2015-12-24</td>\n",
       "      <td>2016-02-12</td>\n",
       "      <td>1935</td>\n",
       "      <td>15527.25</td>\n",
       "      <td>429.20</td>\n",
       "      <td>NaN</td>\n",
       "    </tr>\n",
       "  </tbody>\n",
       "</table>\n",
       "</div>"
      ],
      "text/plain": [
       "   VendorNumber                   VendorName InvoiceDate  PONumber  \\\n",
       "0           105  ALTAMAR BRANDS LLC           2016-01-04      8124   \n",
       "1          4466  AMERICAN VINTAGE BEVERAGE    2016-01-07      8137   \n",
       "2           388  ATLANTIC IMPORTING COMPANY   2016-01-09      8169   \n",
       "3           480  BACARDI USA INC              2016-01-12      8106   \n",
       "4           516  BANFI PRODUCTS CORP          2016-01-07      8170   \n",
       "\n",
       "       PODate     PayDate  Quantity    Dollars  Freight Approval  \n",
       "0  2015-12-21  2016-02-16         6     214.26     3.47      NaN  \n",
       "1  2015-12-22  2016-02-21        15     140.55     8.57      NaN  \n",
       "2  2015-12-24  2016-02-16         5     106.60     4.61      NaN  \n",
       "3  2015-12-20  2016-02-05     10100  137483.78  2935.20      NaN  \n",
       "4  2015-12-24  2016-02-12      1935   15527.25   429.20      NaN  "
      ]
     },
     "execution_count": 23,
     "metadata": {},
     "output_type": "execute_result"
    }
   ],
   "source": [
    "compras_invoice.head()"
   ]
  },
  {
   "cell_type": "code",
   "execution_count": 24,
   "metadata": {},
   "outputs": [
    {
     "data": {
      "text/plain": [
       "<bound method DataFrame.info of       VendorNumber                   VendorName InvoiceDate  PONumber  \\\n",
       "0              105  ALTAMAR BRANDS LLC           2016-01-04      8124   \n",
       "1             4466  AMERICAN VINTAGE BEVERAGE    2016-01-07      8137   \n",
       "2              388  ATLANTIC IMPORTING COMPANY   2016-01-09      8169   \n",
       "3              480  BACARDI USA INC              2016-01-12      8106   \n",
       "4              516  BANFI PRODUCTS CORP          2016-01-07      8170   \n",
       "...            ...                          ...         ...       ...   \n",
       "5538          9622  WEIN BAUER INC               2017-01-06     13626   \n",
       "5539          9625  WESTERN SPIRITS BEVERAGE CO  2017-01-10     13661   \n",
       "5540          3664  WILLIAM GRANT & SONS INC     2017-01-02     13643   \n",
       "5541          9815  WINE GROUP INC               2017-01-03     13602   \n",
       "5542         90058  ZORVINO VINEYARDS            2017-01-05     13574   \n",
       "\n",
       "          PODate     PayDate  Quantity    Dollars  Freight Approval  \n",
       "0     2015-12-21  2016-02-16         6     214.26     3.47      NaN  \n",
       "1     2015-12-22  2016-02-21        15     140.55     8.57      NaN  \n",
       "2     2015-12-24  2016-02-16         5     106.60     4.61      NaN  \n",
       "3     2015-12-20  2016-02-05     10100  137483.78  2935.20      NaN  \n",
       "4     2015-12-24  2016-02-12      1935   15527.25   429.20      NaN  \n",
       "...          ...         ...       ...        ...      ...      ...  \n",
       "5538  2016-12-21  2017-02-10        90    1563.00     8.60      NaN  \n",
       "5539  2016-12-23  2017-02-18      4617   37300.48   186.50      NaN  \n",
       "5540  2016-12-22  2017-02-04      9848  202815.78   932.95      NaN  \n",
       "5541  2016-12-20  2017-02-08     24747  149007.56   819.54      NaN  \n",
       "5542  2016-12-18  2017-02-12       437    3608.11    16.60      NaN  \n",
       "\n",
       "[5543 rows x 10 columns]>"
      ]
     },
     "execution_count": 24,
     "metadata": {},
     "output_type": "execute_result"
    }
   ],
   "source": [
    "compras_invoice.info"
   ]
  },
  {
   "cell_type": "code",
   "execution_count": 25,
   "metadata": {},
   "outputs": [
    {
     "data": {
      "text/plain": [
       "Index(['VendorNumber', 'VendorName', 'InvoiceDate', 'PONumber', 'PODate',\n",
       "       'PayDate', 'Quantity', 'Dollars', 'Freight', 'Approval'],\n",
       "      dtype='object')"
      ]
     },
     "execution_count": 25,
     "metadata": {},
     "output_type": "execute_result"
    }
   ],
   "source": [
    "compras_invoice.columns"
   ]
  },
  {
   "cell_type": "markdown",
   "metadata": {},
   "source": [
    "Indica los pedidos realizados \n",
    "\n",
    "Posee 5543 rows x 10 columns\n",
    "\n",
    "Sus columnas son : 'VendorNumber', 'VendorName', 'InvoiceDate', 'PONumber', 'PODate',\n",
    "       'PayDate', 'Quantity', 'Dollars', 'Freight', 'Approval'\n"
   ]
  },
  {
   "cell_type": "markdown",
   "metadata": {},
   "source": [
    "### Ahora veamos compras"
   ]
  },
  {
   "cell_type": "code",
   "execution_count": 26,
   "metadata": {},
   "outputs": [
    {
     "data": {
      "text/html": [
       "<div>\n",
       "<style scoped>\n",
       "    .dataframe tbody tr th:only-of-type {\n",
       "        vertical-align: middle;\n",
       "    }\n",
       "\n",
       "    .dataframe tbody tr th {\n",
       "        vertical-align: top;\n",
       "    }\n",
       "\n",
       "    .dataframe thead th {\n",
       "        text-align: right;\n",
       "    }\n",
       "</style>\n",
       "<table border=\"1\" class=\"dataframe\">\n",
       "  <thead>\n",
       "    <tr style=\"text-align: right;\">\n",
       "      <th></th>\n",
       "      <th>InventoryId</th>\n",
       "      <th>Store</th>\n",
       "      <th>Brand</th>\n",
       "      <th>Description</th>\n",
       "      <th>Size</th>\n",
       "      <th>VendorNumber</th>\n",
       "      <th>VendorName</th>\n",
       "      <th>PONumber</th>\n",
       "      <th>PODate</th>\n",
       "      <th>ReceivingDate</th>\n",
       "      <th>InvoiceDate</th>\n",
       "      <th>PayDate</th>\n",
       "      <th>PurchasePrice</th>\n",
       "      <th>Quantity</th>\n",
       "      <th>Dollars</th>\n",
       "      <th>Classification</th>\n",
       "    </tr>\n",
       "  </thead>\n",
       "  <tbody>\n",
       "    <tr>\n",
       "      <th>0</th>\n",
       "      <td>69_MOUNTMEND_8412</td>\n",
       "      <td>69</td>\n",
       "      <td>8412</td>\n",
       "      <td>Tequila Ocho Plata Fresno</td>\n",
       "      <td>750mL</td>\n",
       "      <td>105</td>\n",
       "      <td>ALTAMAR BRANDS LLC</td>\n",
       "      <td>8124</td>\n",
       "      <td>2015-12-21</td>\n",
       "      <td>2016-01-02</td>\n",
       "      <td>2016-01-04</td>\n",
       "      <td>2016-02-16</td>\n",
       "      <td>35.71</td>\n",
       "      <td>6</td>\n",
       "      <td>214.26</td>\n",
       "      <td>1</td>\n",
       "    </tr>\n",
       "    <tr>\n",
       "      <th>1</th>\n",
       "      <td>30_CULCHETH_5255</td>\n",
       "      <td>30</td>\n",
       "      <td>5255</td>\n",
       "      <td>TGI Fridays Ultimte Mudslide</td>\n",
       "      <td>1.75L</td>\n",
       "      <td>4466</td>\n",
       "      <td>AMERICAN VINTAGE BEVERAGE</td>\n",
       "      <td>8137</td>\n",
       "      <td>2015-12-22</td>\n",
       "      <td>2016-01-01</td>\n",
       "      <td>2016-01-07</td>\n",
       "      <td>2016-02-21</td>\n",
       "      <td>9.35</td>\n",
       "      <td>4</td>\n",
       "      <td>37.40</td>\n",
       "      <td>1</td>\n",
       "    </tr>\n",
       "    <tr>\n",
       "      <th>2</th>\n",
       "      <td>34_PITMERDEN_5215</td>\n",
       "      <td>34</td>\n",
       "      <td>5215</td>\n",
       "      <td>TGI Fridays Long Island Iced</td>\n",
       "      <td>1.75L</td>\n",
       "      <td>4466</td>\n",
       "      <td>AMERICAN VINTAGE BEVERAGE</td>\n",
       "      <td>8137</td>\n",
       "      <td>2015-12-22</td>\n",
       "      <td>2016-01-02</td>\n",
       "      <td>2016-01-07</td>\n",
       "      <td>2016-02-21</td>\n",
       "      <td>9.41</td>\n",
       "      <td>5</td>\n",
       "      <td>47.05</td>\n",
       "      <td>1</td>\n",
       "    </tr>\n",
       "    <tr>\n",
       "      <th>3</th>\n",
       "      <td>1_HARDERSFIELD_5255</td>\n",
       "      <td>1</td>\n",
       "      <td>5255</td>\n",
       "      <td>TGI Fridays Ultimte Mudslide</td>\n",
       "      <td>1.75L</td>\n",
       "      <td>4466</td>\n",
       "      <td>AMERICAN VINTAGE BEVERAGE</td>\n",
       "      <td>8137</td>\n",
       "      <td>2015-12-22</td>\n",
       "      <td>2016-01-01</td>\n",
       "      <td>2016-01-07</td>\n",
       "      <td>2016-02-21</td>\n",
       "      <td>9.35</td>\n",
       "      <td>6</td>\n",
       "      <td>56.10</td>\n",
       "      <td>1</td>\n",
       "    </tr>\n",
       "    <tr>\n",
       "      <th>4</th>\n",
       "      <td>76_DONCASTER_2034</td>\n",
       "      <td>76</td>\n",
       "      <td>2034</td>\n",
       "      <td>Glendalough Double Barrel</td>\n",
       "      <td>750mL</td>\n",
       "      <td>388</td>\n",
       "      <td>ATLANTIC IMPORTING COMPANY</td>\n",
       "      <td>8169</td>\n",
       "      <td>2015-12-24</td>\n",
       "      <td>2016-01-02</td>\n",
       "      <td>2016-01-09</td>\n",
       "      <td>2016-02-16</td>\n",
       "      <td>21.32</td>\n",
       "      <td>5</td>\n",
       "      <td>106.60</td>\n",
       "      <td>1</td>\n",
       "    </tr>\n",
       "  </tbody>\n",
       "</table>\n",
       "</div>"
      ],
      "text/plain": [
       "           InventoryId  Store  Brand                   Description   Size  \\\n",
       "0    69_MOUNTMEND_8412     69   8412     Tequila Ocho Plata Fresno  750mL   \n",
       "1     30_CULCHETH_5255     30   5255  TGI Fridays Ultimte Mudslide  1.75L   \n",
       "2    34_PITMERDEN_5215     34   5215  TGI Fridays Long Island Iced  1.75L   \n",
       "3  1_HARDERSFIELD_5255      1   5255  TGI Fridays Ultimte Mudslide  1.75L   \n",
       "4    76_DONCASTER_2034     76   2034     Glendalough Double Barrel  750mL   \n",
       "\n",
       "   VendorNumber                   VendorName  PONumber      PODate  \\\n",
       "0           105  ALTAMAR BRANDS LLC               8124  2015-12-21   \n",
       "1          4466  AMERICAN VINTAGE BEVERAGE        8137  2015-12-22   \n",
       "2          4466  AMERICAN VINTAGE BEVERAGE        8137  2015-12-22   \n",
       "3          4466  AMERICAN VINTAGE BEVERAGE        8137  2015-12-22   \n",
       "4           388  ATLANTIC IMPORTING COMPANY       8169  2015-12-24   \n",
       "\n",
       "  ReceivingDate InvoiceDate     PayDate  PurchasePrice  Quantity  Dollars  \\\n",
       "0    2016-01-02  2016-01-04  2016-02-16          35.71         6   214.26   \n",
       "1    2016-01-01  2016-01-07  2016-02-21           9.35         4    37.40   \n",
       "2    2016-01-02  2016-01-07  2016-02-21           9.41         5    47.05   \n",
       "3    2016-01-01  2016-01-07  2016-02-21           9.35         6    56.10   \n",
       "4    2016-01-02  2016-01-09  2016-02-16          21.32         5   106.60   \n",
       "\n",
       "   Classification  \n",
       "0               1  \n",
       "1               1  \n",
       "2               1  \n",
       "3               1  \n",
       "4               1  "
      ]
     },
     "execution_count": 26,
     "metadata": {},
     "output_type": "execute_result"
    }
   ],
   "source": [
    "compras.head(5)"
   ]
  },
  {
   "cell_type": "code",
   "execution_count": 27,
   "metadata": {},
   "outputs": [
    {
     "data": {
      "text/plain": [
       "<bound method DataFrame.info of                   InventoryId  Store  Brand                   Description  \\\n",
       "0           69_MOUNTMEND_8412     69   8412     Tequila Ocho Plata Fresno   \n",
       "1            30_CULCHETH_5255     30   5255  TGI Fridays Ultimte Mudslide   \n",
       "2           34_PITMERDEN_5215     34   5215  TGI Fridays Long Island Iced   \n",
       "3         1_HARDERSFIELD_5255      1   5255  TGI Fridays Ultimte Mudslide   \n",
       "4           76_DONCASTER_2034     76   2034     Glendalough Double Barrel   \n",
       "...                       ...    ...    ...                           ...   \n",
       "2372469     49_GARIGILL_22298     49  22298       Zorvino Vyds Sangiovese   \n",
       "2372470  1_HARDERSFIELD_19556      1  19556    Zorvino Bacca Z Blackberry   \n",
       "2372471   66_EANVERNESS_22297     66  22297            Zorvino Vyds Pearz   \n",
       "2372472    69_MOUNTMEND_19557     69  19557  Zorvino Fragole Z Strawberry   \n",
       "2372473    55_DRY GULCH_22298     55  22298       Zorvino Vyds Sangiovese   \n",
       "\n",
       "          Size  VendorNumber                   VendorName  PONumber  \\\n",
       "0        750mL           105  ALTAMAR BRANDS LLC               8124   \n",
       "1        1.75L          4466  AMERICAN VINTAGE BEVERAGE        8137   \n",
       "2        1.75L          4466  AMERICAN VINTAGE BEVERAGE        8137   \n",
       "3        1.75L          4466  AMERICAN VINTAGE BEVERAGE        8137   \n",
       "4        750mL           388  ATLANTIC IMPORTING COMPANY       8169   \n",
       "...        ...           ...                          ...       ...   \n",
       "2372469  750mL         90058  ZORVINO VINEYARDS               13593   \n",
       "2372470  750mL         90058  ZORVINO VINEYARDS               13593   \n",
       "2372471  750mL         90058  ZORVINO VINEYARDS               13593   \n",
       "2372472  750mL         90058  ZORVINO VINEYARDS               13593   \n",
       "2372473  750mL         90058  ZORVINO VINEYARDS               13593   \n",
       "\n",
       "             PODate ReceivingDate InvoiceDate     PayDate  PurchasePrice  \\\n",
       "0        2015-12-21    2016-01-02  2016-01-04  2016-02-16          35.71   \n",
       "1        2015-12-22    2016-01-01  2016-01-07  2016-02-21           9.35   \n",
       "2        2015-12-22    2016-01-02  2016-01-07  2016-02-21           9.41   \n",
       "3        2015-12-22    2016-01-01  2016-01-07  2016-02-21           9.35   \n",
       "4        2015-12-24    2016-01-02  2016-01-09  2016-02-16          21.32   \n",
       "...             ...           ...         ...         ...            ...   \n",
       "2372469  2016-12-19    2016-12-28  2017-01-09  2017-02-06           8.06   \n",
       "2372470  2016-12-19    2016-12-27  2017-01-09  2017-02-06           9.39   \n",
       "2372471  2016-12-19    2016-12-26  2017-01-09  2017-02-06           6.75   \n",
       "2372472  2016-12-19    2016-12-26  2017-01-09  2017-02-06           9.39   \n",
       "2372473  2016-12-19    2016-12-28  2017-01-09  2017-02-06           8.06   \n",
       "\n",
       "         Quantity  Dollars  Classification  \n",
       "0               6   214.26               1  \n",
       "1               4    37.40               1  \n",
       "2               5    47.05               1  \n",
       "3               6    56.10               1  \n",
       "4               5   106.60               1  \n",
       "...           ...      ...             ...  \n",
       "2372469        12    96.72               2  \n",
       "2372470        12   112.68               2  \n",
       "2372471        12    81.00               2  \n",
       "2372472        12   112.68               2  \n",
       "2372473        12    96.72               2  \n",
       "\n",
       "[2372474 rows x 16 columns]>"
      ]
     },
     "execution_count": 27,
     "metadata": {},
     "output_type": "execute_result"
    }
   ],
   "source": [
    "compras.info"
   ]
  },
  {
   "cell_type": "code",
   "execution_count": 28,
   "metadata": {},
   "outputs": [
    {
     "data": {
      "text/plain": [
       "Index(['InventoryId', 'Store', 'Brand', 'Description', 'Size', 'VendorNumber',\n",
       "       'VendorName', 'PONumber', 'PODate', 'ReceivingDate', 'InvoiceDate',\n",
       "       'PayDate', 'PurchasePrice', 'Quantity', 'Dollars', 'Classification'],\n",
       "      dtype='object')"
      ]
     },
     "execution_count": 28,
     "metadata": {},
     "output_type": "execute_result"
    }
   ],
   "source": [
    "compras.columns"
   ]
  },
  {
   "cell_type": "markdown",
   "metadata": {},
   "source": [
    "compras = pd.read_csv('PurchasesFINAL12312016.csv'):\n",
    "Indica las compras hechas por la empresa\n",
    "\n",
    "Posee 2372474 rows x 16 columns\n",
    "\n",
    "Sus columnas son : 'InventoryId', 'Store', 'Brand', 'Description', 'Size', 'VendorNumber',\n",
    "       'VendorName', 'PONumber', 'PODate', 'ReceivingDate', 'InvoiceDate',\n",
    "       'PayDate', 'PurchasePrice', 'Quantity', 'Dollars', 'Classification'\n",
    "\n",
    "Vemos que existen columnas similares con otras tablas como 'InventoryId', 'PONumber', 'PODate', 'PayDate'. \n",
    "Ver si estas cohinciden con las otras tablas \n"
   ]
  },
  {
   "cell_type": "markdown",
   "metadata": {},
   "source": [
    "### Ahora veamos Ventas"
   ]
  },
  {
   "cell_type": "code",
   "execution_count": 29,
   "metadata": {},
   "outputs": [
    {
     "data": {
      "text/html": [
       "<div>\n",
       "<style scoped>\n",
       "    .dataframe tbody tr th:only-of-type {\n",
       "        vertical-align: middle;\n",
       "    }\n",
       "\n",
       "    .dataframe tbody tr th {\n",
       "        vertical-align: top;\n",
       "    }\n",
       "\n",
       "    .dataframe thead th {\n",
       "        text-align: right;\n",
       "    }\n",
       "</style>\n",
       "<table border=\"1\" class=\"dataframe\">\n",
       "  <thead>\n",
       "    <tr style=\"text-align: right;\">\n",
       "      <th></th>\n",
       "      <th>InventoryId</th>\n",
       "      <th>Store</th>\n",
       "      <th>Brand</th>\n",
       "      <th>Description</th>\n",
       "      <th>Size</th>\n",
       "      <th>SalesQuantity</th>\n",
       "      <th>SalesDollars</th>\n",
       "      <th>SalesPrice</th>\n",
       "      <th>SalesDate</th>\n",
       "      <th>Volume</th>\n",
       "      <th>Classification</th>\n",
       "      <th>ExciseTax</th>\n",
       "      <th>VendorNo</th>\n",
       "      <th>VendorName</th>\n",
       "    </tr>\n",
       "  </thead>\n",
       "  <tbody>\n",
       "    <tr>\n",
       "      <th>0</th>\n",
       "      <td>1_HARDERSFIELD_1004</td>\n",
       "      <td>1</td>\n",
       "      <td>1004</td>\n",
       "      <td>Jim Beam w/2 Rocks Glasses</td>\n",
       "      <td>750mL</td>\n",
       "      <td>1</td>\n",
       "      <td>16.49</td>\n",
       "      <td>16.49</td>\n",
       "      <td>1/1/2016</td>\n",
       "      <td>750</td>\n",
       "      <td>1</td>\n",
       "      <td>0.79</td>\n",
       "      <td>12546</td>\n",
       "      <td>JIM BEAM BRANDS COMPANY</td>\n",
       "    </tr>\n",
       "    <tr>\n",
       "      <th>1</th>\n",
       "      <td>1_HARDERSFIELD_1004</td>\n",
       "      <td>1</td>\n",
       "      <td>1004</td>\n",
       "      <td>Jim Beam w/2 Rocks Glasses</td>\n",
       "      <td>750mL</td>\n",
       "      <td>2</td>\n",
       "      <td>32.98</td>\n",
       "      <td>16.49</td>\n",
       "      <td>1/2/2016</td>\n",
       "      <td>750</td>\n",
       "      <td>1</td>\n",
       "      <td>1.57</td>\n",
       "      <td>12546</td>\n",
       "      <td>JIM BEAM BRANDS COMPANY</td>\n",
       "    </tr>\n",
       "    <tr>\n",
       "      <th>2</th>\n",
       "      <td>1_HARDERSFIELD_1004</td>\n",
       "      <td>1</td>\n",
       "      <td>1004</td>\n",
       "      <td>Jim Beam w/2 Rocks Glasses</td>\n",
       "      <td>750mL</td>\n",
       "      <td>1</td>\n",
       "      <td>16.49</td>\n",
       "      <td>16.49</td>\n",
       "      <td>1/3/2016</td>\n",
       "      <td>750</td>\n",
       "      <td>1</td>\n",
       "      <td>0.79</td>\n",
       "      <td>12546</td>\n",
       "      <td>JIM BEAM BRANDS COMPANY</td>\n",
       "    </tr>\n",
       "    <tr>\n",
       "      <th>3</th>\n",
       "      <td>1_HARDERSFIELD_1004</td>\n",
       "      <td>1</td>\n",
       "      <td>1004</td>\n",
       "      <td>Jim Beam w/2 Rocks Glasses</td>\n",
       "      <td>750mL</td>\n",
       "      <td>1</td>\n",
       "      <td>14.49</td>\n",
       "      <td>14.49</td>\n",
       "      <td>1/8/2016</td>\n",
       "      <td>750</td>\n",
       "      <td>1</td>\n",
       "      <td>0.79</td>\n",
       "      <td>12546</td>\n",
       "      <td>JIM BEAM BRANDS COMPANY</td>\n",
       "    </tr>\n",
       "    <tr>\n",
       "      <th>4</th>\n",
       "      <td>1_HARDERSFIELD_1005</td>\n",
       "      <td>1</td>\n",
       "      <td>1005</td>\n",
       "      <td>Maker's Mark Combo Pack</td>\n",
       "      <td>375mL 2 Pk</td>\n",
       "      <td>2</td>\n",
       "      <td>69.98</td>\n",
       "      <td>34.99</td>\n",
       "      <td>1/9/2016</td>\n",
       "      <td>375</td>\n",
       "      <td>1</td>\n",
       "      <td>0.79</td>\n",
       "      <td>12546</td>\n",
       "      <td>JIM BEAM BRANDS COMPANY</td>\n",
       "    </tr>\n",
       "  </tbody>\n",
       "</table>\n",
       "</div>"
      ],
      "text/plain": [
       "           InventoryId  Store  Brand                 Description        Size  \\\n",
       "0  1_HARDERSFIELD_1004      1   1004  Jim Beam w/2 Rocks Glasses       750mL   \n",
       "1  1_HARDERSFIELD_1004      1   1004  Jim Beam w/2 Rocks Glasses       750mL   \n",
       "2  1_HARDERSFIELD_1004      1   1004  Jim Beam w/2 Rocks Glasses       750mL   \n",
       "3  1_HARDERSFIELD_1004      1   1004  Jim Beam w/2 Rocks Glasses       750mL   \n",
       "4  1_HARDERSFIELD_1005      1   1005     Maker's Mark Combo Pack  375mL 2 Pk   \n",
       "\n",
       "   SalesQuantity  SalesDollars  SalesPrice SalesDate  Volume  Classification  \\\n",
       "0              1         16.49       16.49  1/1/2016     750               1   \n",
       "1              2         32.98       16.49  1/2/2016     750               1   \n",
       "2              1         16.49       16.49  1/3/2016     750               1   \n",
       "3              1         14.49       14.49  1/8/2016     750               1   \n",
       "4              2         69.98       34.99  1/9/2016     375               1   \n",
       "\n",
       "   ExciseTax  VendorNo                   VendorName  \n",
       "0       0.79     12546  JIM BEAM BRANDS COMPANY      \n",
       "1       1.57     12546  JIM BEAM BRANDS COMPANY      \n",
       "2       0.79     12546  JIM BEAM BRANDS COMPANY      \n",
       "3       0.79     12546  JIM BEAM BRANDS COMPANY      \n",
       "4       0.79     12546  JIM BEAM BRANDS COMPANY      "
      ]
     },
     "execution_count": 29,
     "metadata": {},
     "output_type": "execute_result"
    }
   ],
   "source": [
    "ventas.head()"
   ]
  },
  {
   "cell_type": "code",
   "execution_count": 30,
   "metadata": {},
   "outputs": [
    {
     "data": {
      "text/plain": [
       "<bound method DataFrame.info of                  InventoryId  Store  Brand                 Description  \\\n",
       "0        1_HARDERSFIELD_1004      1   1004  Jim Beam w/2 Rocks Glasses   \n",
       "1        1_HARDERSFIELD_1004      1   1004  Jim Beam w/2 Rocks Glasses   \n",
       "2        1_HARDERSFIELD_1004      1   1004  Jim Beam w/2 Rocks Glasses   \n",
       "3        1_HARDERSFIELD_1004      1   1004  Jim Beam w/2 Rocks Glasses   \n",
       "4        1_HARDERSFIELD_1005      1   1005     Maker's Mark Combo Pack   \n",
       "...                      ...    ...    ...                         ...   \n",
       "1048570  19_WINTERVALE_39384     19  39384    F Coppola Diamond Pnt Nr   \n",
       "1048571  19_WINTERVALE_39384     19  39384    F Coppola Diamond Pnt Nr   \n",
       "1048572  19_WINTERVALE_39384     19  39384    F Coppola Diamond Pnt Nr   \n",
       "1048573  19_WINTERVALE_39384     19  39384    F Coppola Diamond Pnt Nr   \n",
       "1048574  19_WINTERVALE_39384     19  39384    F Coppola Diamond Pnt Nr   \n",
       "\n",
       "               Size  SalesQuantity  SalesDollars  SalesPrice  SalesDate  \\\n",
       "0             750mL              1         16.49       16.49   1/1/2016   \n",
       "1             750mL              2         32.98       16.49   1/2/2016   \n",
       "2             750mL              1         16.49       16.49   1/3/2016   \n",
       "3             750mL              1         14.49       14.49   1/8/2016   \n",
       "4        375mL 2 Pk              2         69.98       34.99   1/9/2016   \n",
       "...             ...            ...           ...         ...        ...   \n",
       "1048570       750mL              4         51.80       12.95  2/12/2016   \n",
       "1048571       750mL              8        103.60       12.95  2/13/2016   \n",
       "1048572       750mL              1         12.95       12.95  2/19/2016   \n",
       "1048573       750mL              3         38.85       12.95  2/22/2016   \n",
       "1048574       750mL              2         25.90       12.95  2/24/2016   \n",
       "\n",
       "         Volume  Classification  ExciseTax  VendorNo  \\\n",
       "0           750               1       0.79     12546   \n",
       "1           750               1       1.57     12546   \n",
       "2           750               1       0.79     12546   \n",
       "3           750               1       0.79     12546   \n",
       "4           375               1       0.79     12546   \n",
       "...         ...             ...        ...       ...   \n",
       "1048570     750               2       0.45      2000   \n",
       "1048571     750               2       0.90      2000   \n",
       "1048572     750               2       0.11      2000   \n",
       "1048573     750               2       0.34      2000   \n",
       "1048574     750               2       0.22      2000   \n",
       "\n",
       "                          VendorName  \n",
       "0        JIM BEAM BRANDS COMPANY      \n",
       "1        JIM BEAM BRANDS COMPANY      \n",
       "2        JIM BEAM BRANDS COMPANY      \n",
       "3        JIM BEAM BRANDS COMPANY      \n",
       "4        JIM BEAM BRANDS COMPANY      \n",
       "...                              ...  \n",
       "1048570  SOUTHERN WINE & SPIRITS NE   \n",
       "1048571  SOUTHERN WINE & SPIRITS NE   \n",
       "1048572  SOUTHERN WINE & SPIRITS NE   \n",
       "1048573  SOUTHERN WINE & SPIRITS NE   \n",
       "1048574  SOUTHERN WINE & SPIRITS NE   \n",
       "\n",
       "[1048575 rows x 14 columns]>"
      ]
     },
     "execution_count": 30,
     "metadata": {},
     "output_type": "execute_result"
    }
   ],
   "source": [
    "ventas.info"
   ]
  },
  {
   "cell_type": "code",
   "execution_count": 31,
   "metadata": {},
   "outputs": [
    {
     "data": {
      "text/plain": [
       "Index(['InventoryId', 'Store', 'Brand', 'Description', 'Size', 'SalesQuantity',\n",
       "       'SalesDollars', 'SalesPrice', 'SalesDate', 'Volume', 'Classification',\n",
       "       'ExciseTax', 'VendorNo', 'VendorName'],\n",
       "      dtype='object')"
      ]
     },
     "execution_count": 31,
     "metadata": {},
     "output_type": "execute_result"
    }
   ],
   "source": [
    "ventas.columns"
   ]
  },
  {
   "cell_type": "markdown",
   "metadata": {},
   "source": [
    "ventas: Indica las ventas realizadas\n",
    "\n",
    "Posee 1048575 rows x 14 columns\n",
    "\n",
    "Sus columnas son: 'InventoryId', 'Store', 'Brand', 'Description', 'Size', 'SalesQuantity',\n",
    "       'SalesDollars', 'SalesPrice', 'SalesDate', 'Volume', 'Classification',\n",
    "       'ExciseTax', 'VendorNo', 'VendorName'"
   ]
  },
  {
   "cell_type": "markdown",
   "metadata": {},
   "source": [
    "# Buscamos valores nulos\n",
    "# Función para verificar valores nulos y vacíos"
   ]
  },
  {
   "cell_type": "code",
   "execution_count": 32,
   "metadata": {},
   "outputs": [
    {
     "name": "stdout",
     "output_type": "stream",
     "text": [
      "\n",
      "Dataset: precio_compras\n",
      "Valores nulos en cada columna:\n",
      "Brand             0\n",
      "Description       1\n",
      "Price             0\n",
      "Size              1\n",
      "Volume            1\n",
      "Classification    0\n",
      "PurchasePrice     0\n",
      "VendorNumber      0\n",
      "VendorName        0\n",
      "dtype: int64\n",
      "\n",
      "Valores vacíos en cada columna:\n",
      "Brand             0\n",
      "Description       0\n",
      "Price             0\n",
      "Size              0\n",
      "Volume            0\n",
      "Classification    0\n",
      "PurchasePrice     0\n",
      "VendorNumber      0\n",
      "VendorName        0\n",
      "dtype: int64\n",
      "\n",
      "Dataset: inventario_inicial\n",
      "Valores nulos en cada columna:\n",
      "InventoryId    0\n",
      "Store          0\n",
      "City           0\n",
      "Brand          0\n",
      "Description    0\n",
      "Size           0\n",
      "onHand         0\n",
      "Price          0\n",
      "startDate      0\n",
      "dtype: int64\n",
      "\n",
      "Valores vacíos en cada columna:\n",
      "InventoryId    0\n",
      "Store          0\n",
      "City           0\n",
      "Brand          0\n",
      "Description    0\n",
      "Size           0\n",
      "onHand         0\n",
      "Price          0\n",
      "startDate      0\n",
      "dtype: int64\n",
      "\n",
      "Dataset: inventario_final\n",
      "Valores nulos en cada columna:\n",
      "InventoryId       0\n",
      "Store             0\n",
      "City           1284\n",
      "Brand             0\n",
      "Description       0\n",
      "Size              0\n",
      "onHand            0\n",
      "Price             0\n",
      "endDate           0\n",
      "dtype: int64\n",
      "\n",
      "Valores vacíos en cada columna:\n",
      "InventoryId    0\n",
      "Store          0\n",
      "City           0\n",
      "Brand          0\n",
      "Description    0\n",
      "Size           0\n",
      "onHand         0\n",
      "Price          0\n",
      "endDate        0\n",
      "dtype: int64\n",
      "\n",
      "Dataset: compras_invoice\n",
      "Valores nulos en cada columna:\n",
      "VendorNumber       0\n",
      "VendorName         0\n",
      "InvoiceDate        0\n",
      "PONumber           0\n",
      "PODate             0\n",
      "PayDate            0\n",
      "Quantity           0\n",
      "Dollars            0\n",
      "Freight            0\n",
      "Approval        5169\n",
      "dtype: int64\n",
      "\n",
      "Valores vacíos en cada columna:\n",
      "VendorNumber    0\n",
      "VendorName      0\n",
      "InvoiceDate     0\n",
      "PONumber        0\n",
      "PODate          0\n",
      "PayDate         0\n",
      "Quantity        0\n",
      "Dollars         0\n",
      "Freight         0\n",
      "Approval        0\n",
      "dtype: int64\n",
      "\n",
      "Dataset: compras\n",
      "Valores nulos en cada columna:\n",
      "InventoryId       0\n",
      "Store             0\n",
      "Brand             0\n",
      "Description       0\n",
      "Size              3\n",
      "VendorNumber      0\n",
      "VendorName        0\n",
      "PONumber          0\n",
      "PODate            0\n",
      "ReceivingDate     0\n",
      "InvoiceDate       0\n",
      "PayDate           0\n",
      "PurchasePrice     0\n",
      "Quantity          0\n",
      "Dollars           0\n",
      "Classification    0\n",
      "dtype: int64\n",
      "\n",
      "Valores vacíos en cada columna:\n",
      "InventoryId       0\n",
      "Store             0\n",
      "Brand             0\n",
      "Description       0\n",
      "Size              0\n",
      "VendorNumber      0\n",
      "VendorName        0\n",
      "PONumber          0\n",
      "PODate            0\n",
      "ReceivingDate     0\n",
      "InvoiceDate       0\n",
      "PayDate           0\n",
      "PurchasePrice     0\n",
      "Quantity          0\n",
      "Dollars           0\n",
      "Classification    0\n",
      "dtype: int64\n",
      "\n",
      "Dataset: ventas\n",
      "Valores nulos en cada columna:\n",
      "InventoryId       0\n",
      "Store             0\n",
      "Brand             0\n",
      "Description       0\n",
      "Size              0\n",
      "SalesQuantity     0\n",
      "SalesDollars      0\n",
      "SalesPrice        0\n",
      "SalesDate         0\n",
      "Volume            0\n",
      "Classification    0\n",
      "ExciseTax         0\n",
      "VendorNo          0\n",
      "VendorName        0\n",
      "dtype: int64\n",
      "\n",
      "Valores vacíos en cada columna:\n",
      "InventoryId       0\n",
      "Store             0\n",
      "Brand             0\n",
      "Description       0\n",
      "Size              0\n",
      "SalesQuantity     0\n",
      "SalesDollars      0\n",
      "SalesPrice        0\n",
      "SalesDate         0\n",
      "Volume            0\n",
      "Classification    0\n",
      "ExciseTax         0\n",
      "VendorNo          0\n",
      "VendorName        0\n",
      "dtype: int64\n"
     ]
    }
   ],
   "source": [
    "def check_missing_values(df, name):\n",
    "    print(f\"\\nDataset: {name}\")\n",
    "    print(\"Valores nulos en cada columna:\")\n",
    "    print(df.isnull().sum())\n",
    "    \n",
    "    print(\"\\nValores vacíos en cada columna:\")\n",
    "    print(df.apply(lambda x: x.str.strip().eq('').sum() if x.dtype == \"object\" else 0))\n",
    "\n",
    "# Verificar los valores nulos y vacíos en cada dataset\n",
    "check_missing_values(precio_compras, 'precio_compras')\n",
    "check_missing_values(inventario_inicial, 'inventario_inicial')\n",
    "check_missing_values(inventario_final, 'inventario_final')\n",
    "check_missing_values(compras_invoice, 'compras_invoice')\n",
    "check_missing_values(compras, 'compras')\n",
    "check_missing_values(ventas, 'ventas')"
   ]
  },
  {
   "cell_type": "code",
   "execution_count": 34,
   "metadata": {},
   "outputs": [
    {
     "name": "stdout",
     "output_type": "stream",
     "text": [
      "\n",
      "Dataset: precio_compras\n",
      "Filas con valores nulos en precio_compras:\n",
      "      Brand Description  Price Size Volume  Classification  PurchasePrice  \\\n",
      "7915   4202         NaN    0.0  NaN    NaN               1          11.19   \n",
      "\n",
      "      VendorNumber                   VendorName  \n",
      "7915           480  BACARDI USA INC              \n",
      "\n",
      "Dataset: inventario_inicial\n",
      "No se encontraron filas con valores nulos en inventario_inicial.\n",
      "\n",
      "Dataset: inventario_final\n",
      "Filas con valores nulos en inventario_final:\n",
      "       InventoryId  Store City  Brand                   Description   Size  \\\n",
      "113895      46__58     46  NaN     58   Gekkeikan Black & Gold Sake  750mL   \n",
      "113896      46__62     46  NaN     62      Herradura Silver Tequila  750mL   \n",
      "113897      46__63     46  NaN     63    Herradura Reposado Tequila  750mL   \n",
      "113898      46__77     46  NaN     77   Three Olives Espresso Vodka  750mL   \n",
      "113899     46__106     46  NaN    106      Mr Boston Peach Schnapps  Liter   \n",
      "...            ...    ...  ...    ...                           ...    ...   \n",
      "115174   46__46447     46  NaN  46447         Gascon Malbec Mendoza  750mL   \n",
      "115175   46__46458     46  NaN  46458      Layer Cake Barosa Shiraz  750mL   \n",
      "115176   46__46476     46  NaN  46476          Tilia Malbec Mendoza  750mL   \n",
      "115177   46__46764     46  NaN  46764  Clayhouse Adobe Red Paso Rbl  750mL   \n",
      "115178   46__46830     46  NaN  46830         Pacific Rim Sweet Rsl  750mL   \n",
      "\n",
      "        onHand  Price     endDate  \n",
      "113895       0  12.99  2016-12-31  \n",
      "113896       0  36.99  2016-12-31  \n",
      "113897       0  38.99  2016-12-31  \n",
      "113898       0  14.99  2016-12-31  \n",
      "113899       0   4.49  2016-12-31  \n",
      "...        ...    ...         ...  \n",
      "115174       0  10.99  2016-12-31  \n",
      "115175       0  15.99  2016-12-31  \n",
      "115176       0   9.99  2016-12-31  \n",
      "115177       0  11.99  2016-12-31  \n",
      "115178       0   8.99  2016-12-31  \n",
      "\n",
      "[1284 rows x 9 columns]\n",
      "\n",
      "Dataset: compras_invoice\n",
      "Filas con valores nulos en compras_invoice:\n",
      "      VendorNumber                   VendorName InvoiceDate  PONumber  \\\n",
      "0              105  ALTAMAR BRANDS LLC           2016-01-04      8124   \n",
      "1             4466  AMERICAN VINTAGE BEVERAGE    2016-01-07      8137   \n",
      "2              388  ATLANTIC IMPORTING COMPANY   2016-01-09      8169   \n",
      "3              480  BACARDI USA INC              2016-01-12      8106   \n",
      "4              516  BANFI PRODUCTS CORP          2016-01-07      8170   \n",
      "...            ...                          ...         ...       ...   \n",
      "5538          9622  WEIN BAUER INC               2017-01-06     13626   \n",
      "5539          9625  WESTERN SPIRITS BEVERAGE CO  2017-01-10     13661   \n",
      "5540          3664  WILLIAM GRANT & SONS INC     2017-01-02     13643   \n",
      "5541          9815  WINE GROUP INC               2017-01-03     13602   \n",
      "5542         90058  ZORVINO VINEYARDS            2017-01-05     13574   \n",
      "\n",
      "          PODate     PayDate  Quantity    Dollars  Freight Approval  \n",
      "0     2015-12-21  2016-02-16         6     214.26     3.47      NaN  \n",
      "1     2015-12-22  2016-02-21        15     140.55     8.57      NaN  \n",
      "2     2015-12-24  2016-02-16         5     106.60     4.61      NaN  \n",
      "3     2015-12-20  2016-02-05     10100  137483.78  2935.20      NaN  \n",
      "4     2015-12-24  2016-02-12      1935   15527.25   429.20      NaN  \n",
      "...          ...         ...       ...        ...      ...      ...  \n",
      "5538  2016-12-21  2017-02-10        90    1563.00     8.60      NaN  \n",
      "5539  2016-12-23  2017-02-18      4617   37300.48   186.50      NaN  \n",
      "5540  2016-12-22  2017-02-04      9848  202815.78   932.95      NaN  \n",
      "5541  2016-12-20  2017-02-08     24747  149007.56   819.54      NaN  \n",
      "5542  2016-12-18  2017-02-12       437    3608.11    16.60      NaN  \n",
      "\n",
      "[5169 rows x 10 columns]\n",
      "\n",
      "Dataset: compras\n",
      "Filas con valores nulos en compras:\n",
      "                 InventoryId  Store  Brand                 Description Size  \\\n",
      "1109668    34_PITMERDEN_3121     34   3121    Pinnacle Rainbow Sherbet  NaN   \n",
      "1112426    34_PITMERDEN_5678     34   5678      Skinnygirl Pina Colada  NaN   \n",
      "1116302  39_EASTHALLOW_15365     39  15365  Alabaster 07 Tinta de Toro  NaN   \n",
      "\n",
      "         VendorNumber                   VendorName  PONumber      PODate  \\\n",
      "1109668         12546  JIM BEAM BRANDS COMPANY         10938  2016-06-27   \n",
      "1112426         12546  JIM BEAM BRANDS COMPANY         10938  2016-06-27   \n",
      "1116302          9552  M S WALKER INC                  10972  2016-06-29   \n",
      "\n",
      "        ReceivingDate InvoiceDate     PayDate  PurchasePrice  Quantity  \\\n",
      "1109668    2016-07-04  2016-07-13  2016-08-16           6.93         7   \n",
      "1112426    2016-07-09  2016-07-13  2016-08-16           6.93         6   \n",
      "1116302    2016-07-07  2016-07-13  2016-08-21          91.83         1   \n",
      "\n",
      "         Dollars  Classification  \n",
      "1109668    48.51               1  \n",
      "1112426    41.58               1  \n",
      "1116302    91.83               2  \n",
      "\n",
      "Dataset: ventas\n",
      "No se encontraron filas con valores nulos en ventas.\n"
     ]
    }
   ],
   "source": [
    "# Lista de tus datasets y sus nombres\n",
    "datasets = [(precio_compras, 'precio_compras'),\n",
    "            (inventario_inicial, 'inventario_inicial'),\n",
    "            (inventario_final, 'inventario_final'),\n",
    "            (compras_invoice, 'compras_invoice'),\n",
    "            (compras, 'compras'),\n",
    "            (ventas, 'ventas')]\n",
    "\n",
    "# Ciclo para iterar sobre cada dataset y buscar filas con valores nulos\n",
    "for df, name in datasets:\n",
    "    print(f\"\\nDataset: {name}\")\n",
    "    filas_nulas = df[df.isnull().any(axis=1)]\n",
    "    if not filas_nulas.empty:\n",
    "        print(f\"Filas con valores nulos en {name}:\")\n",
    "        print(filas_nulas)\n",
    "    else:\n",
    "        print(f\"No se encontraron filas con valores nulos en {name}.\")"
   ]
  },
  {
   "cell_type": "code",
   "execution_count": 35,
   "metadata": {},
   "outputs": [
    {
     "name": "stdout",
     "output_type": "stream",
     "text": [
      "\n",
      "Dataset: precio_compras\n",
      "Total de valores nulos en precio_compras: 3\n",
      "\n",
      "Dataset: inventario_inicial\n",
      "Total de valores nulos en inventario_inicial: 0\n",
      "\n",
      "Dataset: inventario_final\n",
      "Total de valores nulos en inventario_final: 1284\n",
      "\n",
      "Dataset: compras_invoice\n",
      "Total de valores nulos en compras_invoice: 5169\n",
      "\n",
      "Dataset: compras\n",
      "Total de valores nulos en compras: 3\n",
      "\n",
      "Dataset: ventas\n",
      "Total de valores nulos en ventas: 0\n"
     ]
    }
   ],
   "source": [
    "for df, name in datasets:\n",
    "    print(f\"\\nDataset: {name}\")\n",
    "    total_nulos = df.isnull().sum().sum()  # Suma total de valores nulos en el dataset\n",
    "    print(f\"Total de valores nulos en {name}: {total_nulos}\")"
   ]
  },
  {
   "cell_type": "markdown",
   "metadata": {},
   "source": [
    "Hagamos un analisis mas profundo de los valores nulos para saber que tratamiento darles\n",
    "\n",
    "### Limpieza de valores nulos en precio_compra"
   ]
  },
  {
   "cell_type": "code",
   "execution_count": null,
   "metadata": {},
   "outputs": [],
   "source": [
    "# Filtrar las filas donde la columna 'Brand' tiene el valor 4202\n",
    "brand_4202 = precio_compras[precio_compras['Brand'] == 4202]\n",
    "\n",
    "# Mostrar las filas correspondientes para ver 'Description', 'Size' y 'Volume'\n",
    "print(brand_4202[['Brand', 'Description', 'Size', 'Volume']])"
   ]
  },
  {
   "cell_type": "markdown",
   "metadata": {},
   "source": [
    "Puedo ver que existe una columna 'Brand' en 'ventas'. Voy a ver si tiene algun valor para rellenar 'Brand' en precios_compras"
   ]
  },
  {
   "cell_type": "code",
   "execution_count": null,
   "metadata": {},
   "outputs": [],
   "source": [
    "# Filtrar las filas donde la columna 'Brand' tiene el valor 4202 en el dataset 'ventas'\n",
    "brand_4202_ventas = ventas[ventas['Brand'] == 4202]\n",
    "\n",
    "# Mostrar las filas correspondientes para ver los valores asociados\n",
    "print(brand_4202_ventas[['Brand', 'Description', 'Size', 'Volume']])"
   ]
  },
  {
   "cell_type": "code",
   "execution_count": null,
   "metadata": {},
   "outputs": [],
   "source": [
    "# Filtrar las filas donde la columna 'Brand' tiene el valor 4202 en el dataset 'compras'\n",
    "brand_4202_compras = compras[compras['Brand'] == 4202]\n",
    "\n",
    "# Mostrar las filas correspondientes para ver los valores asociados\n",
    "print(brand_4202_compras[['Brand', 'Description', 'Size']])"
   ]
  },
  {
   "cell_type": "markdown",
   "metadata": {},
   "source": [
    "El codigo 4202 no existe asique vamos a eliminarlo del dataset"
   ]
  },
  {
   "cell_type": "code",
   "execution_count": null,
   "metadata": {},
   "outputs": [],
   "source": [
    "# Eliminar filas donde 'Brand' es 4202 en el dataset 'precio_compras'\n",
    "precio_compras = precio_compras[precio_compras['Brand'] != 4202]\n",
    "\n",
    "# Verificar que las filas fueron eliminadas\n",
    "print(precio_compras[precio_compras['Brand'] == 4202])  # Esto debería devolver un DataFrame vacío"
   ]
  },
  {
   "cell_type": "markdown",
   "metadata": {},
   "source": [
    "### Ahora veamos los valores nulos de inventario_final"
   ]
  },
  {
   "cell_type": "code",
   "execution_count": null,
   "metadata": {},
   "outputs": [],
   "source": [
    "# Obtener los valores únicos en la columna 'City'\n",
    "valores_unicos_city = inventario_final['City'].unique()\n",
    "\n",
    "# Mostrar los valores únicos\n",
    "print(\"Valores únicos en la columna 'City':\")\n",
    "print(valores_unicos_city)\n",
    "\n",
    "# Contar cuántos valores únicos hay\n",
    "print(f\"\\nNúmero total de valores únicos en 'City': {len(valores_unicos_city)}\")"
   ]
  },
  {
   "cell_type": "markdown",
   "metadata": {},
   "source": [
    "DEcidimos rellerar los valores nulos en City con 'Desconocido' par no eliminar ni rellenar con informacion erronea"
   ]
  },
  {
   "cell_type": "code",
   "execution_count": null,
   "metadata": {},
   "outputs": [],
   "source": [
    "inventario_final['City'].fillna('Desconocido', inplace=True)"
   ]
  },
  {
   "cell_type": "markdown",
   "metadata": {},
   "source": [
    "### Ahora veamos los nulos en compras_invoice"
   ]
  },
  {
   "cell_type": "code",
   "execution_count": 11,
   "metadata": {},
   "outputs": [
    {
     "name": "stdout",
     "output_type": "stream",
     "text": [
      "Valores únicos en la columna 'Approval':\n",
      "[nan 'Frank Delahunt']\n",
      "\n",
      "Número total de valores únicos en 'Approval': 2\n"
     ]
    }
   ],
   "source": [
    "#Obtener los valores únicos en la columna 'Approval'\n",
    "valores_unicos_approval = compras_invoice['Approval'].unique()\n",
    "\n",
    "# Mostrar los valores únicos\n",
    "print(\"Valores únicos en la columna 'Approval':\")\n",
    "print(valores_unicos_approval)\n",
    "\n",
    "# Contar cuántos valores únicos hay\n",
    "print(f\"\\nNúmero total de valores únicos en 'Approval': {len(valores_unicos_approval)}\")"
   ]
  },
  {
   "cell_type": "markdown",
   "metadata": {},
   "source": [
    "Como todas las aprobaciones fueron echas por 'Frank Delahunt', suponemos que es el unico habilitado para aprobar, entonces rellenaremos los datos con este nombre"
   ]
  },
  {
   "cell_type": "code",
   "execution_count": null,
   "metadata": {},
   "outputs": [],
   "source": [
    "# Rellenar los valores NaN en la columna 'Approval' con 'Frank Delahunt'\n",
    "compras_invoice['Approval'].fillna('Frank Delahunt', inplace=True)\n",
    "\n",
    "# Verificar que los valores NaN han sido reemplazados\n",
    "print(compras_invoice['Approval'].isnull().sum())"
   ]
  },
  {
   "cell_type": "markdown",
   "metadata": {},
   "source": [
    "### Ahora veamos el dataset 'compras'"
   ]
  },
  {
   "cell_type": "code",
   "execution_count": 14,
   "metadata": {},
   "outputs": [
    {
     "name": "stdout",
     "output_type": "stream",
     "text": [
      "0\n"
     ]
    },
    {
     "name": "stderr",
     "output_type": "stream",
     "text": [
      "C:\\Users\\SAMSUNG\\AppData\\Local\\Temp\\ipykernel_10600\\63751555.py:2: FutureWarning: A value is trying to be set on a copy of a DataFrame or Series through chained assignment using an inplace method.\n",
      "The behavior will change in pandas 3.0. This inplace method will never work because the intermediate object on which we are setting values always behaves as a copy.\n",
      "\n",
      "For example, when doing 'df[col].method(value, inplace=True)', try using 'df.method({col: value}, inplace=True)' or df[col] = df[col].method(value) instead, to perform the operation inplace on the original object.\n",
      "\n",
      "\n",
      "  compras['Size'].fillna('Desconocido', inplace=True)\n"
     ]
    }
   ],
   "source": [
    "# Rellenar los valores NaN en la columna 'Size' con 'Desconocido'\n",
    "compras['Size'].fillna('Desconocido', inplace=True)\n",
    "\n",
    "# Verificar que los valores NaN han sido reemplazados\n",
    "print(compras['Size'].isnull().sum())\n"
   ]
  },
  {
   "cell_type": "code",
   "execution_count": null,
   "metadata": {},
   "outputs": [],
   "source": []
  },
  {
   "cell_type": "markdown",
   "metadata": {},
   "source": [
    "### Verifiquemos si queda algun Nulo"
   ]
  },
  {
   "cell_type": "code",
   "execution_count": 16,
   "metadata": {},
   "outputs": [
    {
     "name": "stdout",
     "output_type": "stream",
     "text": [
      "\n",
      "Dataset: precio_compras\n",
      "Total de valores nulos en precio_compras: 0\n",
      "\n",
      "Dataset: inventario_inicial\n",
      "Total de valores nulos en inventario_inicial: 0\n",
      "\n",
      "Dataset: inventario_final\n",
      "Total de valores nulos en inventario_final: 0\n",
      "\n",
      "Dataset: compras_invoice\n",
      "Total de valores nulos en compras_invoice: 0\n",
      "\n",
      "Dataset: compras\n",
      "Total de valores nulos en compras: 0\n",
      "\n",
      "Dataset: ventas\n",
      "Total de valores nulos en ventas: 0\n"
     ]
    }
   ],
   "source": [
    "# Lista de tus datasets y sus nombres\n",
    "datasets = [(precio_compras, 'precio_compras'),\n",
    "            (inventario_inicial, 'inventario_inicial'),\n",
    "            (inventario_final, 'inventario_final'),\n",
    "            (compras_invoice, 'compras_invoice'),\n",
    "            (compras, 'compras'),\n",
    "            (ventas, 'ventas')]\n",
    "\n",
    "for df, name in datasets:\n",
    "    print(f\"\\nDataset: {name}\")\n",
    "    total_nulos = df.isnull().sum().sum()  # Suma total de valores nulos en el dataset\n",
    "    print(f\"Total de valores nulos en {name}: {total_nulos}\")"
   ]
  },
  {
   "cell_type": "markdown",
   "metadata": {},
   "source": [
    "EXITO!!!!"
   ]
  },
  {
   "cell_type": "markdown",
   "metadata": {},
   "source": []
  }
 ],
 "metadata": {
  "kernelspec": {
   "display_name": "Python 3",
   "language": "python",
   "name": "python3"
  },
  "language_info": {
   "codemirror_mode": {
    "name": "ipython",
    "version": 3
   },
   "file_extension": ".py",
   "mimetype": "text/x-python",
   "name": "python",
   "nbconvert_exporter": "python",
   "pygments_lexer": "ipython3",
   "version": "3.11.9"
  }
 },
 "nbformat": 4,
 "nbformat_minor": 2
}
