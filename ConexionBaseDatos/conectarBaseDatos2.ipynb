{
 "cells": [
  {
   "cell_type": "code",
   "execution_count": 7,
   "metadata": {},
   "outputs": [
    {
     "name": "stdout",
     "output_type": "stream",
     "text": [
      "Collecting pyodbc\n",
      "  Downloading pyodbc-5.1.0-cp310-cp310-win_amd64.whl (68 kB)\n",
      "     -------------------------------------- 68.7/68.7 KB 943.5 kB/s eta 0:00:00\n",
      "Installing collected packages: pyodbc\n",
      "Successfully installed pyodbc-5.1.0\n",
      "Note: you may need to restart the kernel to use updated packages.\n"
     ]
    },
    {
     "name": "stderr",
     "output_type": "stream",
     "text": [
      "WARNING: You are using pip version 22.0.4; however, version 24.2 is available.\n",
      "You should consider upgrading via the 'c:\\Users\\Usuario1\\AppData\\Local\\Programs\\Python\\Python310\\python.exe -m pip install --upgrade pip' command.\n"
     ]
    }
   ],
   "source": [
    "pip install pyodbc"
   ]
  },
  {
   "cell_type": "code",
   "execution_count": 2,
   "metadata": {},
   "outputs": [],
   "source": [
    "import pyodbc"
   ]
  },
  {
   "cell_type": "code",
   "execution_count": null,
   "metadata": {},
   "outputs": [],
   "source": [
    "# Configura los detalles de la conexión usando la información proporcionada\n",
    "server = '104.198.176.117' #servidor\n",
    "database = 'DrinkingTeamDB'  # Nombre de la base de datos\n",
    "username = 'datafusionlatam'  # Usuario\n",
    "password = 'DAFTHENRY'  # Contraseña\n",
    "port = '1433' #puerto\n",
    "\n",
    "# Cadena de conexión\n",
    "cnxn_str = f\"DRIVER={{ODBC Driver 17 for SQL Server}};SERVER={server};DATABASE={database};UID={username};PWD={password};PORT={port};ENCRYPT=no;\"\n",
    "\n",
    "# Conectarse a la base de datos\n",
    "cnxn = pyodbc.connect(cnxn_str)\n",
    "\n",
    "# Crear un cursor para ejecutar consultas\n",
    "cursor = cnxn.cursor()\n",
    "\n",
    "# Ejecutar una consulta\n",
    "# cursor.execute(\"SELECT * FROM Productos\")\n",
    "\n",
    "# Recuperar los resultados\n",
    "# rows = cursor.fetchall()\n",
    "\n",
    "# Imprimir los resultados\n",
    "# for row in rows:\n",
    "#    print(row)\n",
    "\n",
    "# Cerrar la conexión\n",
    "cnxn.close()"
   ]
  },
  {
   "cell_type": "markdown",
   "metadata": {},
   "source": [
    "probando cargar datos con mi base local"
   ]
  },
  {
   "cell_type": "code",
   "execution_count": 10,
   "metadata": {},
   "outputs": [
    {
     "name": "stdout",
     "output_type": "stream",
     "text": [
      "Requirement already satisfied: sqlalchemy in c:\\users\\usuario1\\appdata\\local\\programs\\python\\python310\\lib\\site-packages (2.0.32)\n",
      "Requirement already satisfied: greenlet!=0.4.17 in c:\\users\\usuario1\\appdata\\local\\programs\\python\\python310\\lib\\site-packages (from sqlalchemy) (3.0.3)\n",
      "Requirement already satisfied: typing-extensions>=4.6.0 in c:\\users\\usuario1\\appdata\\roaming\\python\\python310\\site-packages (from sqlalchemy) (4.12.2)\n",
      "Note: you may need to restart the kernel to use updated packages.\n"
     ]
    },
    {
     "name": "stderr",
     "output_type": "stream",
     "text": [
      "WARNING: You are using pip version 22.0.4; however, version 24.2 is available.\n",
      "You should consider upgrading via the 'c:\\Users\\Usuario1\\AppData\\Local\\Programs\\Python\\Python310\\python.exe -m pip install --upgrade pip' command.\n"
     ]
    }
   ],
   "source": [
    "pip install sqlalchemy\n"
   ]
  },
  {
   "cell_type": "code",
   "execution_count": 3,
   "metadata": {},
   "outputs": [],
   "source": [
    "import pandas as pd\n",
    "import pyodbc\n",
    "import sqlalchemy"
   ]
  },
  {
   "cell_type": "markdown",
   "metadata": {},
   "source": [
    "conectando a la base local para una vez que esten todas bien, poder subir los datos a la nube (cambiando la conexion de arriba hacia la base que esta en google cloud)"
   ]
  },
  {
   "cell_type": "code",
   "execution_count": 75,
   "metadata": {},
   "outputs": [],
   "source": [
    "from sqlalchemy import create_engine\n",
    "\n",
    "# Configura la conexión a la base de datos local\n",
    "db_user = 'IgnaPrueba'\n",
    "db_pass = 'DAFTHENRY'\n",
    "db_name = 'DrinkingTeamDB'\n",
    "db_host = 'DESKTOP-NP4VJ1H\\SQLEXPRESS'  # Para entornos locales, a menudo es 'localhost' o '127.0.0.1'\n",
    "db_port = '1433'  # Puerto predeterminado de SQL Server, puede variar si has configurado otro\n",
    "\n",
    "# Crear la cadena de conexión\n",
    "engine = create_engine(f'mssql+pyodbc://{db_user}:{db_pass}@{db_host}:{db_port}/{db_name}?driver=ODBC+Driver+17+for+SQL+Server')\n"
   ]
  },
  {
   "cell_type": "markdown",
   "metadata": {},
   "source": [
    "Aqui estoy leyendo todo el codigo de Compras. Hay que hacer lo mismo con los otros 3 dataset, pero hay que ver si los leemos completos o si solamente leemos las columnas que nos interesan. En lo personal, iria solamente por las columnas que nos interesan cargar los datos en la base de datos. "
   ]
  },
  {
   "cell_type": "code",
   "execution_count": 52,
   "metadata": {},
   "outputs": [],
   "source": [
    "#df = pd.read_csv('https://drive.usercontent.google.com/download?id=1Id7ERr7pXVJCfempvpEzseJ8WPF_Hs5j&export=download&authuser=0&confirm=t&uuid=3f33a3fd-2696-4250-b026-b62f6c445e4a&at=APZUnTUbyMP2tLICvQCO15n8Z4fY%3A1723646561085')\n",
    "# columna_a_cargar = ['Store']\n",
    "df = pd.read_csv('https://drive.usercontent.google.com/download?id=1r0DuLK9JZTbx4ouuuYEGLUS4lZvsa8lG&export=download&authuser=1&confirm=t&uuid=7c1bdf54-2f1b-48d3-87fe-d157d9d9b221&at=APZUnTU_jAENsVpPMq_R9-SF1OpY:1724011140819')"
   ]
  },
  {
   "cell_type": "markdown",
   "metadata": {},
   "source": [
    "Este codigo de abajo, no se termino usando, pero lo dejamos por el momento por las dudas que lo vayamos a usar. "
   ]
  },
  {
   "cell_type": "code",
   "execution_count": 62,
   "metadata": {},
   "outputs": [],
   "source": [
    "columna_a_cargar = ['Brand', 'Description']\n",
    "paraCompletarTablaMarca = pd.read_csv('https://drive.usercontent.google.com/download?id=1r0DuLK9JZTbx4ouuuYEGLUS4lZvsa8lG&export=download&authuser=1&confirm=t&uuid=7c1bdf54-2f1b-48d3-87fe-d157d9d9b221&at=APZUnTU_jAENsVpPMq_R9-SF1OpY:1724011140819', usecols=columna_a_cargar)"
   ]
  },
  {
   "cell_type": "markdown",
   "metadata": {},
   "source": [
    "Este \"columna a cargar 2\" es el que terminamos usando para la tabla de Marcas 2 después de hacer varios intentos, se pudo cargar los datos desde cvs limpio hacia la base de datos, a traves de python."
   ]
  },
  {
   "cell_type": "code",
   "execution_count": 66,
   "metadata": {},
   "outputs": [],
   "source": [
    "columna_a_cargar2 = ['Description']\n",
    "paraCompletarTablaMarca2 = pd.read_csv('https://drive.usercontent.google.com/download?id=1r0DuLK9JZTbx4ouuuYEGLUS4lZvsa8lG&export=download&authuser=1&confirm=t&uuid=7c1bdf54-2f1b-48d3-87fe-d157d9d9b221&at=APZUnTU_jAENsVpPMq_R9-SF1OpY:1724011140819', usecols=columna_a_cargar2)"
   ]
  },
  {
   "cell_type": "code",
   "execution_count": 68,
   "metadata": {},
   "outputs": [
    {
     "data": {
      "text/plain": [
       "474"
      ]
     },
     "execution_count": 68,
     "metadata": {},
     "output_type": "execute_result"
    }
   ],
   "source": [
    "# Antes de hacer correr este codigo, cambiar en la tabla de sql el nombre de BRAND por el de Description. Y tmb, ponele INDENTITY al id\n",
    "paraCompletarTablaMarca2.to_sql('Marcas2', engine, if_exists='append', index=False)"
   ]
  },
  {
   "cell_type": "markdown",
   "metadata": {},
   "source": [
    "se deja el siguiente codigo en comentario, es para no tener que cambiar los nombres en la base de datos, solamente hacer un merge entre sql y los cvs"
   ]
  },
  {
   "cell_type": "code",
   "execution_count": null,
   "metadata": {},
   "outputs": [],
   "source": [
    "# df.rename(columns={'columna1': 'nombre_db1', 'columna2': 'nombre_db2'}, inplace=True)"
   ]
  },
  {
   "cell_type": "code",
   "execution_count": null,
   "metadata": {},
   "outputs": [],
   "source": []
  },
  {
   "cell_type": "markdown",
   "metadata": {},
   "source": [
    "## Vamos a realizar la lectura para luego realizar la carga en la base de datos."
   ]
  },
  {
   "cell_type": "code",
   "execution_count": 5,
   "metadata": {},
   "outputs": [],
   "source": [
    "proveedor = ['VendorName', 'VendorNumber']\n",
    "tablaProveedores = pd.read_csv('https://drive.usercontent.google.com/download?id=1r0DuLK9JZTbx4ouuuYEGLUS4lZvsa8lG&export=download&authuser=1&confirm=t&uuid=7c1bdf54-2f1b-48d3-87fe-d157d9d9b221&at=APZUnTU_jAENsVpPMq_R9-SF1OpY:1724011140819', usecols=proveedor)"
   ]
  },
  {
   "cell_type": "markdown",
   "metadata": {},
   "source": [
    "### TRABAJO SOBRE LA TABLA DE PRODUCTOS"
   ]
  },
  {
   "cell_type": "code",
   "execution_count": 113,
   "metadata": {},
   "outputs": [],
   "source": [
    "productos = ['Brand', 'Description', 'Volume']\n",
    "tablaProductos = pd.read_csv('https://drive.usercontent.google.com/download?id=1eQRPyLADEvVZW03fYWv9igZGxRNrTV2N&export=download&authuser=1&confirm=t&uuid=9727b1f3-4032-4414-b1ad-94b6542c1631&at=APZUnTU4Li_ldcTI0kVOaw_doqwB:1724010882647', usecols=productos)"
   ]
  },
  {
   "cell_type": "code",
   "execution_count": 117,
   "metadata": {},
   "outputs": [],
   "source": [
    "tablaProductos.rename(columns={'Brand': 'Marca', 'Description': 'Nombre', 'Volume': 'Volumen'}, inplace=True)\n"
   ]
  },
  {
   "cell_type": "code",
   "execution_count": 118,
   "metadata": {},
   "outputs": [
    {
     "data": {
      "text/plain": [
       "Index(['Marca', 'Nombre', 'Volumen'], dtype='object')"
      ]
     },
     "execution_count": 118,
     "metadata": {},
     "output_type": "execute_result"
    }
   ],
   "source": [
    "tablaProductos.columns"
   ]
  },
  {
   "cell_type": "code",
   "execution_count": 119,
   "metadata": {},
   "outputs": [],
   "source": [
    "productos_df = tablaProductos[['Marca','Nombre', 'Volumen']].drop_duplicates().reset_index(drop=True)"
   ]
  },
  {
   "cell_type": "code",
   "execution_count": 120,
   "metadata": {},
   "outputs": [
    {
     "data": {
      "text/plain": [
       "Index(['Marca', 'Nombre', 'Volumen'], dtype='object')"
      ]
     },
     "execution_count": 120,
     "metadata": {},
     "output_type": "execute_result"
    }
   ],
   "source": [
    "productos_df.columns"
   ]
  },
  {
   "cell_type": "code",
   "execution_count": 121,
   "metadata": {},
   "outputs": [
    {
     "data": {
      "text/plain": [
       "(1048575, 3)"
      ]
     },
     "execution_count": 121,
     "metadata": {},
     "output_type": "execute_result"
    }
   ],
   "source": [
    "tablaProductos.shape"
   ]
  },
  {
   "cell_type": "code",
   "execution_count": 122,
   "metadata": {},
   "outputs": [
    {
     "data": {
      "text/plain": [
       "(7658, 3)"
      ]
     },
     "execution_count": 122,
     "metadata": {},
     "output_type": "execute_result"
    }
   ],
   "source": [
    "productos_df.shape"
   ]
  },
  {
   "cell_type": "code",
   "execution_count": 123,
   "metadata": {},
   "outputs": [],
   "source": [
    "import uuid"
   ]
  },
  {
   "cell_type": "code",
   "execution_count": 124,
   "metadata": {},
   "outputs": [
    {
     "name": "stdout",
     "output_type": "stream",
     "text": [
      "      Marca                       Nombre  Volumen  ProductoID\n",
      "0      1004   Jim Beam w/2 Rocks Glasses      750           1\n",
      "1      1005      Maker's Mark Combo Pack      375           2\n",
      "2     10058  F Coppola Dmd Ivry Cab Svgn      750           3\n",
      "3      1006  Jim Beam Candy Cane 4/50mLs       50           4\n",
      "4     10062            Terroirs du Rhone      750           5\n",
      "...     ...                          ...      ...         ...\n",
      "7653  45710   Ferrari-Carano Terre Chard      750        7654\n",
      "7654    603           McCormick Gold Rum     1000        7655\n",
      "7655  18732               Anarkos Puglia      750        7656\n",
      "7656    835         Bols Creme De Noyaux     1000        7657\n",
      "7657  18948         Austin Hope 10 Syrah      750        7658\n",
      "\n",
      "[7658 rows x 4 columns]\n"
     ]
    }
   ],
   "source": [
    "productos_df['ProductoID'] = range(1, len(productos_df)+1)\n",
    "print(productos_df)"
   ]
  },
  {
   "cell_type": "code",
   "execution_count": 125,
   "metadata": {},
   "outputs": [],
   "source": [
    "productos_df = productos_df.reindex(columns=[ 'ProductoID', 'Marca', 'Nombre', 'Volumen'])"
   ]
  },
  {
   "cell_type": "code",
   "execution_count": 128,
   "metadata": {},
   "outputs": [
    {
     "data": {
      "text/html": [
       "<div>\n",
       "<style scoped>\n",
       "    .dataframe tbody tr th:only-of-type {\n",
       "        vertical-align: middle;\n",
       "    }\n",
       "\n",
       "    .dataframe tbody tr th {\n",
       "        vertical-align: top;\n",
       "    }\n",
       "\n",
       "    .dataframe thead th {\n",
       "        text-align: right;\n",
       "    }\n",
       "</style>\n",
       "<table border=\"1\" class=\"dataframe\">\n",
       "  <thead>\n",
       "    <tr style=\"text-align: right;\">\n",
       "      <th></th>\n",
       "      <th>ProductoID</th>\n",
       "      <th>Marca</th>\n",
       "      <th>Nombre</th>\n",
       "      <th>Volumen</th>\n",
       "    </tr>\n",
       "  </thead>\n",
       "  <tbody>\n",
       "    <tr>\n",
       "      <th>0</th>\n",
       "      <td>1</td>\n",
       "      <td>1004</td>\n",
       "      <td>Jim Beam w/2 Rocks Glasses</td>\n",
       "      <td>750</td>\n",
       "    </tr>\n",
       "    <tr>\n",
       "      <th>1</th>\n",
       "      <td>2</td>\n",
       "      <td>1005</td>\n",
       "      <td>Maker's Mark Combo Pack</td>\n",
       "      <td>375</td>\n",
       "    </tr>\n",
       "    <tr>\n",
       "      <th>2</th>\n",
       "      <td>3</td>\n",
       "      <td>10058</td>\n",
       "      <td>F Coppola Dmd Ivry Cab Svgn</td>\n",
       "      <td>750</td>\n",
       "    </tr>\n",
       "    <tr>\n",
       "      <th>3</th>\n",
       "      <td>4</td>\n",
       "      <td>1006</td>\n",
       "      <td>Jim Beam Candy Cane 4/50mLs</td>\n",
       "      <td>50</td>\n",
       "    </tr>\n",
       "    <tr>\n",
       "      <th>4</th>\n",
       "      <td>5</td>\n",
       "      <td>10062</td>\n",
       "      <td>Terroirs du Rhone</td>\n",
       "      <td>750</td>\n",
       "    </tr>\n",
       "  </tbody>\n",
       "</table>\n",
       "</div>"
      ],
      "text/plain": [
       "   ProductoID  Marca                       Nombre  Volumen\n",
       "0           1   1004   Jim Beam w/2 Rocks Glasses      750\n",
       "1           2   1005      Maker's Mark Combo Pack      375\n",
       "2           3  10058  F Coppola Dmd Ivry Cab Svgn      750\n",
       "3           4   1006  Jim Beam Candy Cane 4/50mLs       50\n",
       "4           5  10062            Terroirs du Rhone      750"
      ]
     },
     "execution_count": 128,
     "metadata": {},
     "output_type": "execute_result"
    }
   ],
   "source": [
    "productos_df.head(5)"
   ]
  },
  {
   "cell_type": "code",
   "execution_count": 129,
   "metadata": {},
   "outputs": [
    {
     "data": {
      "text/plain": [
       "ProductoID    0\n",
       "Marca         0\n",
       "Nombre        0\n",
       "Volumen       0\n",
       "dtype: int64"
      ]
     },
     "execution_count": 129,
     "metadata": {},
     "output_type": "execute_result"
    }
   ],
   "source": [
    "productos_df.isnull().sum()"
   ]
  },
  {
   "cell_type": "code",
   "execution_count": 130,
   "metadata": {},
   "outputs": [
    {
     "data": {
      "text/plain": [
       "322"
      ]
     },
     "execution_count": 130,
     "metadata": {},
     "output_type": "execute_result"
    }
   ],
   "source": [
    "productos_df.to_sql('Productos', engine, if_exists='append', index=False)"
   ]
  },
  {
   "cell_type": "markdown",
   "metadata": {},
   "source": [
    "### TRABAJANDO SOBRE LA TABLA DE TIENDAS"
   ]
  },
  {
   "cell_type": "code",
   "execution_count": 131,
   "metadata": {},
   "outputs": [],
   "source": [
    "tiendas = ['Store', 'City']\n",
    "tablaTiendas = pd.read_csv('https://drive.usercontent.google.com/download?id=1-n6LPzVEQ5tXXB54O1dLFoFUCwqq4nOW&export=download&authuser=1&confirm=t&uuid=367119ce-9a51-4201-90e1-a02243ea8709&at=APZUnTWL2Pg-H8QeoRX1zXzmmQwU:1724010977504', usecols=tiendas)"
   ]
  },
  {
   "cell_type": "code",
   "execution_count": 132,
   "metadata": {},
   "outputs": [
    {
     "data": {
      "text/plain": [
       "Index(['Store', 'City'], dtype='object')"
      ]
     },
     "execution_count": 132,
     "metadata": {},
     "output_type": "execute_result"
    }
   ],
   "source": [
    "tablaTiendas.columns"
   ]
  },
  {
   "cell_type": "code",
   "execution_count": 133,
   "metadata": {},
   "outputs": [],
   "source": [
    "tablaTiendas.rename(columns={'Store': 'NumeroTienda', 'City': 'Ciudad'}, inplace=True)\n"
   ]
  },
  {
   "cell_type": "code",
   "execution_count": 134,
   "metadata": {},
   "outputs": [],
   "source": [
    "tiendas_df = tablaTiendas[['NumeroTienda','Ciudad']].drop_duplicates().reset_index(drop=True)"
   ]
  },
  {
   "cell_type": "code",
   "execution_count": 136,
   "metadata": {},
   "outputs": [
    {
     "data": {
      "text/plain": [
       "(206529, 2)"
      ]
     },
     "execution_count": 136,
     "metadata": {},
     "output_type": "execute_result"
    }
   ],
   "source": [
    "tablaTiendas.shape"
   ]
  },
  {
   "cell_type": "code",
   "execution_count": 137,
   "metadata": {},
   "outputs": [
    {
     "data": {
      "text/plain": [
       "(79, 2)"
      ]
     },
     "execution_count": 137,
     "metadata": {},
     "output_type": "execute_result"
    }
   ],
   "source": [
    "tiendas_df.shape"
   ]
  },
  {
   "cell_type": "code",
   "execution_count": 138,
   "metadata": {},
   "outputs": [
    {
     "name": "stdout",
     "output_type": "stream",
     "text": [
      "    NumeroTienda        Ciudad  TiendaID\n",
      "0              1  HARDERSFIELD         1\n",
      "1              2      ASHBORNE         2\n",
      "2              3       HORNSEY         3\n",
      "3              4    EANVERNESS         4\n",
      "4              5        SUTTON         5\n",
      "..           ...           ...       ...\n",
      "74            75     BARNCOMBE        75\n",
      "75            76     DONCASTER        76\n",
      "76            77      TAMWORTH        77\n",
      "77            78     EASTHAVEN        78\n",
      "78            79     BALLYMENA        79\n",
      "\n",
      "[79 rows x 3 columns]\n"
     ]
    }
   ],
   "source": [
    "tiendas_df['TiendaID'] = range(1, len(tiendas_df)+1)\n",
    "print(tiendas_df)"
   ]
  },
  {
   "cell_type": "code",
   "execution_count": 139,
   "metadata": {},
   "outputs": [],
   "source": [
    "tiendas_df = tiendas_df.reindex(columns=[ 'TiendaID', 'NumeroTienda', 'Ciudad'])"
   ]
  },
  {
   "cell_type": "code",
   "execution_count": 140,
   "metadata": {},
   "outputs": [
    {
     "data": {
      "text/plain": [
       "Index(['TiendaID', 'NumeroTienda', 'Ciudad'], dtype='object')"
      ]
     },
     "execution_count": 140,
     "metadata": {},
     "output_type": "execute_result"
    }
   ],
   "source": [
    "tiendas_df.columns"
   ]
  },
  {
   "cell_type": "code",
   "execution_count": 141,
   "metadata": {},
   "outputs": [
    {
     "data": {
      "text/plain": [
       "79"
      ]
     },
     "execution_count": 141,
     "metadata": {},
     "output_type": "execute_result"
    }
   ],
   "source": [
    "tiendas_df.to_sql('Tiendas', engine, if_exists='append', index=False)"
   ]
  },
  {
   "cell_type": "markdown",
   "metadata": {},
   "source": [
    "### TRABAJANDO SOBRE LA TABLA DE INVENTARIO"
   ]
  },
  {
   "cell_type": "code",
   "execution_count": 178,
   "metadata": {},
   "outputs": [],
   "source": [
    "# Cargar las tablas relacionadas desde la base de datos\n",
    "df_fk1 = pd.read_sql('SELECT ProductoID, Nombre FROM Productos', engine)\n",
    "df_fk2 = pd.read_sql('SELECT TiendaID, NumeroTienda FROM Tiendas', engine)"
   ]
  },
  {
   "cell_type": "code",
   "execution_count": null,
   "metadata": {},
   "outputs": [],
   "source": []
  },
  {
   "cell_type": "code",
   "execution_count": 144,
   "metadata": {},
   "outputs": [],
   "source": [
    "inventarioInicial = ['Store', 'City', 'Brand', 'Description', 'Price', 'startDate','onHand']\n",
    "tablaInventariosInicial = pd.read_csv('https://drive.usercontent.google.com/download?id=1-n6LPzVEQ5tXXB54O1dLFoFUCwqq4nOW&export=download&authuser=1&confirm=t&uuid=367119ce-9a51-4201-90e1-a02243ea8709&at=APZUnTWL2Pg-H8QeoRX1zXzmmQwU:1724010977504', usecols=inventarioInicial)"
   ]
  },
  {
   "cell_type": "code",
   "execution_count": 145,
   "metadata": {},
   "outputs": [
    {
     "data": {
      "text/plain": [
       "Index(['Store', 'City', 'Brand', 'Description', 'onHand', 'Price',\n",
       "       'startDate'],\n",
       "      dtype='object')"
      ]
     },
     "execution_count": 145,
     "metadata": {},
     "output_type": "execute_result"
    }
   ],
   "source": [
    "tablaInventariosInicial.columns"
   ]
  },
  {
   "cell_type": "code",
   "execution_count": 169,
   "metadata": {},
   "outputs": [],
   "source": [
    "inventarioFinal = ['Store', 'City', 'Brand', 'Description', 'endDate','onHand']\n",
    "tablaInventariosFinal = pd.read_csv('https://drive.usercontent.google.com/download?id=1rdgh46E0dkb0emyE3v8JWh3uGSqRUE0L&export=download&authuser=1&confirm=t&uuid=ef5cabed-1a9f-4f48-9afc-7e9a50b18b82&at=APZUnTXez340bLeUZnJCE9g0KVru:1724011178592', usecols=inventarioFinal)"
   ]
  },
  {
   "cell_type": "code",
   "execution_count": 146,
   "metadata": {},
   "outputs": [],
   "source": [
    "tablaInventariosInicial.rename(columns={'Store': 'NumeroTienda', 'City': 'Ciudad', 'Brand': 'Marca', 'Description': 'Nombre', 'onHand' : 'StockInicial', 'Price': 'Precio', 'startDate':'FechaInicial' }, inplace=True)\n"
   ]
  },
  {
   "cell_type": "code",
   "execution_count": 149,
   "metadata": {},
   "outputs": [
    {
     "data": {
      "text/plain": [
       "Index(['NumeroTienda', 'Ciudad', 'Marca', 'Nombre', 'StockInicial', 'Precio',\n",
       "       'FechaInicial'],\n",
       "      dtype='object')"
      ]
     },
     "execution_count": 149,
     "metadata": {},
     "output_type": "execute_result"
    }
   ],
   "source": [
    "tablaInventariosInicial.columns"
   ]
  },
  {
   "cell_type": "code",
   "execution_count": 151,
   "metadata": {},
   "outputs": [],
   "source": [
    "margeProductos = tablaInventariosInicial.merge(productos_df, on=['Marca', 'Nombre'], how='left')"
   ]
  },
  {
   "cell_type": "code",
   "execution_count": 153,
   "metadata": {},
   "outputs": [],
   "source": [
    "margeTiendas = margeProductos.merge(tiendas_df, on=['NumeroTienda', 'Ciudad'], how='left')"
   ]
  },
  {
   "cell_type": "code",
   "execution_count": 165,
   "metadata": {},
   "outputs": [
    {
     "name": "stdout",
     "output_type": "stream",
     "text": [
      "        ProductoID  TiendaID  Precio  StockInicial FechaInicial\n",
      "0           2313.0         1   12.99             8   2016-01-01\n",
      "1           2337.0         1   10.99             7   2016-01-01\n",
      "2           2354.0         1   36.99             6   2016-01-01\n",
      "3           2379.0         1   38.99             3   2016-01-01\n",
      "4           4303.0         1   34.99             6   2016-01-01\n",
      "...            ...       ...     ...           ...          ...\n",
      "206251      3720.0        79   22.99            13   2016-01-01\n",
      "206252      2076.0        79   13.99            13   2016-01-01\n",
      "206253      2080.0        79   23.99            19   2016-01-01\n",
      "206254      6578.0        79  144.99            12   2016-01-01\n",
      "206255      6316.0        79  119.99            24   2016-01-01\n",
      "\n",
      "[206256 rows x 5 columns]\n"
     ]
    }
   ],
   "source": [
    "inventarioInicial_df = margeTiendas[['ProductoID', 'TiendaID', 'Precio', 'StockInicial', 'FechaInicial']].drop_duplicates().reset_index(drop=True)\n",
    "print(inventarioInicial_df)"
   ]
  },
  {
   "cell_type": "code",
   "execution_count": 164,
   "metadata": {},
   "outputs": [],
   "source": [
    "\n",
    "inventarioInicial_df['ProductoID'] = inventarioInicial_df['ProductoID'].convert_dtypes(int)"
   ]
  },
  {
   "cell_type": "code",
   "execution_count": 170,
   "metadata": {},
   "outputs": [
    {
     "data": {
      "text/plain": [
       "Index(['Store', 'City', 'Brand', 'Description', 'onHand', 'endDate'], dtype='object')"
      ]
     },
     "execution_count": 170,
     "metadata": {},
     "output_type": "execute_result"
    }
   ],
   "source": [
    "tablaInventariosFinal.columns"
   ]
  },
  {
   "cell_type": "code",
   "execution_count": 171,
   "metadata": {},
   "outputs": [],
   "source": [
    "tablaInventariosFinal.rename(columns={'Store': 'NumeroTienda', 'City': 'Ciudad', 'Brand': 'Marca', 'Description': 'Nombre', 'onHand' : 'StockFinal', 'endDate':'FechaFinal' }, inplace=True)\n"
   ]
  },
  {
   "cell_type": "code",
   "execution_count": 172,
   "metadata": {},
   "outputs": [],
   "source": [
    "margeProductos2 = tablaInventariosFinal.merge(productos_df, on=['Marca', 'Nombre'], how='left')"
   ]
  },
  {
   "cell_type": "code",
   "execution_count": 173,
   "metadata": {},
   "outputs": [],
   "source": [
    "margeTiendas2 = margeProductos2.merge(tiendas_df, on=['NumeroTienda', 'Ciudad'], how='left')"
   ]
  },
  {
   "cell_type": "code",
   "execution_count": 174,
   "metadata": {},
   "outputs": [
    {
     "name": "stdout",
     "output_type": "stream",
     "text": [
      "        ProductoID  TiendaID  StockFinal  FechaFinal\n",
      "0           2313.0       1.0          11  2016-12-31\n",
      "1           2354.0       1.0           7  2016-12-31\n",
      "2           2379.0       1.0           7  2016-12-31\n",
      "3           4303.0       1.0           4  2016-12-31\n",
      "4           2514.0       1.0           7  2016-12-31\n",
      "...            ...       ...         ...         ...\n",
      "198017      6314.0       NaN           6  2016-12-31\n",
      "198018      6073.0       NaN           6  2016-12-31\n",
      "198019      7455.0       NaN          12  2016-12-31\n",
      "198020      6074.0       NaN           3  2016-12-31\n",
      "198021      6316.0       NaN           3  2016-12-31\n",
      "\n",
      "[198022 rows x 4 columns]\n"
     ]
    }
   ],
   "source": [
    "inventarioFinal_df = margeTiendas2[['ProductoID', 'TiendaID', 'StockFinal', 'FechaFinal']].drop_duplicates().reset_index(drop=True)\n",
    "print(inventarioFinal_df)"
   ]
  },
  {
   "cell_type": "code",
   "execution_count": 168,
   "metadata": {},
   "outputs": [
    {
     "name": "stdout",
     "output_type": "stream",
     "text": [
      "        ProductoID  TiendaID  Precio  StockInicial FechaInicial  onHand  \\\n",
      "0           2313.0       1.0   12.99           8.0   2016-01-01     NaN   \n",
      "1           2337.0       1.0   10.99           7.0   2016-01-01     NaN   \n",
      "2           2354.0       1.0   36.99           6.0   2016-01-01     NaN   \n",
      "3           2379.0       1.0   38.99           3.0   2016-01-01     NaN   \n",
      "4           4303.0       1.0   34.99           6.0   2016-01-01     NaN   \n",
      "...            ...       ...     ...           ...          ...     ...   \n",
      "224484         NaN       NaN     NaN           NaN          NaN     3.0   \n",
      "224485         NaN       NaN     NaN           NaN          NaN     3.0   \n",
      "224486         NaN       NaN     NaN           NaN          NaN     3.0   \n",
      "224487         NaN       NaN     NaN           NaN          NaN     3.0   \n",
      "224488         NaN       NaN     NaN           NaN          NaN     2.0   \n",
      "\n",
      "           endDate  \n",
      "0              NaN  \n",
      "1              NaN  \n",
      "2              NaN  \n",
      "3              NaN  \n",
      "4              NaN  \n",
      "...            ...  \n",
      "224484  2016-12-31  \n",
      "224485  2016-12-31  \n",
      "224486  2016-12-31  \n",
      "224487  2016-12-31  \n",
      "224488  2016-12-31  \n",
      "\n",
      "[430745 rows x 7 columns]\n"
     ]
    }
   ],
   "source": [
    "df_concat = pd.concat([inventarioInicial_df, tablaInventariosFinal])\n",
    "print(df_concat)\n"
   ]
  },
  {
   "cell_type": "code",
   "execution_count": 11,
   "metadata": {},
   "outputs": [],
   "source": [
    "ventas = ['SalesQuantity','SalesDollars','SalesPrice','SalesDate']\n",
    "tablaVentas = pd.read_csv('https://drive.usercontent.google.com/download?id=1eQRPyLADEvVZW03fYWv9igZGxRNrTV2N&export=download&authuser=1&confirm=t&uuid=9727b1f3-4032-4414-b1ad-94b6542c1631&at=APZUnTU4Li_ldcTI0kVOaw_doqwB:1724010882647', usecols=ventas)"
   ]
  },
  {
   "cell_type": "code",
   "execution_count": 12,
   "metadata": {},
   "outputs": [],
   "source": [
    "compras = ['PONumber','PODate','ReceivingDate','InvoiceDate', 'PayDate','PurchasePrice','Quantity','Dollars']\n",
    "tablaCompras = pd.read_csv('https://drive.usercontent.google.com/download?id=1r0DuLK9JZTbx4ouuuYEGLUS4lZvsa8lG&export=download&authuser=1&confirm=t&uuid=7c1bdf54-2f1b-48d3-87fe-d157d9d9b221&at=APZUnTU_jAENsVpPMq_R9-SF1OpY:1724011140819', usecols=compras)"
   ]
  },
  {
   "cell_type": "markdown",
   "metadata": {},
   "source": [
    "## Vamos a igual los nombres de las tablas para poder cargar los datos"
   ]
  },
  {
   "cell_type": "code",
   "execution_count": 78,
   "metadata": {},
   "outputs": [],
   "source": [
    "tablaProveedores.rename(columns={'VendorName': 'Nombre', 'VendorNumber': 'NumeroProveedor'}, inplace=True)\n",
    "tablaProductos.rename(columns={'Brand': 'Marca', 'Description': 'Nombre', 'Volume': 'Volumen'}, inplace=True)\n",
    "tablaTiendas.rename(columns={'Store': 'NumeroTienda', 'City': 'Ciudad'}, inplace=True)\n",
    "tablaInventariosInicial.rename(columns={'Price': 'Precio', 'startDate': 'FechaInicial', 'onHand': 'StockInicial'}, inplace=True)\n",
    "tablaInventariosFinal.rename(columns={'endDate': 'FechaFinal', 'onHand': 'StockFinal'}, inplace=True)\n",
    "tablaVentas.rename(columns={'SalesQuantity': 'CantidadVendida', 'SalesDollars': 'TotalVenta', 'SalesPrice': 'PrecioVenta', 'SalesDate': 'FechaVenta'}, inplace=True)\n",
    "tablaCompras.rename(columns={'PONumber': 'NumeroOrdenCompra', 'PODate': 'FechaOrdenCompra', 'ReceivingDate': 'FechaRecibido', 'InvoiceDate': 'FechaFacturado', 'PayDate': 'FechaPagado', 'PurchasePrice': 'PrecioCompra', 'Quantity': 'Cantidad', 'Dollars': 'TotalCompra'}, inplace=True)\n"
   ]
  },
  {
   "cell_type": "code",
   "execution_count": 21,
   "metadata": {},
   "outputs": [
    {
     "data": {
      "text/plain": [
       "Index(['NumeroProveedor', 'Nombre'], dtype='object')"
      ]
     },
     "execution_count": 21,
     "metadata": {},
     "output_type": "execute_result"
    }
   ],
   "source": [
    "tablaProveedores.columns"
   ]
  },
  {
   "cell_type": "code",
   "execution_count": 22,
   "metadata": {},
   "outputs": [
    {
     "name": "stdout",
     "output_type": "stream",
     "text": [
      "['ALTAMAR BRANDS LLC         ' 'AMERICAN VINTAGE BEVERAGE  '\n",
      " 'ATLANTIC IMPORTING COMPANY ' 'BACARDI USA INC            '\n",
      " 'BANFI PRODUCTS CORP        ' 'BLACK PRINCE DISTILLERY INC'\n",
      " 'BROWN-FORMAN CORP          ' 'BULLY BOY DISTILLERS       '\n",
      " 'CALEDONIA SPIRITS INC      ' 'CAMPARI AMERICA            '\n",
      " 'CANDIA VINEYARDS           ' 'CASTLE BRANDS CORP.        '\n",
      " 'CENTEUR IMPORTS LLC        ' 'CHARLES JACQUIN ET CIE INC '\n",
      " 'CONSTELLATION BRANDS INC   ' 'CRUSH WINES                '\n",
      " 'DELICATO VINEYARDS INC     ' 'DIAGEO CHATEAU ESTATE WINES'\n",
      " 'DIAGEO NORTH AMERICA INC   ' 'DISARONNO INTERNATIONAL LLC'\n",
      " 'DJINN SPIRITS LLC          ' 'DUGGANS DISTILLED PRODUCTS '\n",
      " 'E & J GALLO WINERY         ' 'EDRINGTON AMERICAS         '\n",
      " 'FABRIZIA SPIRITS LLC       ' 'FLAG HILL WINERY & VINEYARD'\n",
      " 'FORTUNE WINE BROKERS LLC   ' 'FREDERICK WILDMAN & SONS   '\n",
      " 'HEAVEN HILL DISTILLERIES   ' 'HOOD RIVER DISTILLERS, Inc.'\n",
      " 'INCREDIBREW INC            ' 'JEWELL TOWNE VINEYARDS     '\n",
      " 'JIM BEAM BRANDS COMPANY    ' 'KLIN SPIRITS LLC           '\n",
      " 'KOBRAND CORPORATION        ' 'LABELLE VYDS AND WINERY    '\n",
      " 'LAIRD & CO                 ' 'LATITUDE BEVERAGE COMPANY  '\n",
      " 'LUXCO INC                  ' 'M S WALKER INC             '\n",
      " 'MAJESTIC FINE WINES        ' 'MARSALLE COMPANY           '\n",
      " 'MARTIGNETTI COMPANIES ' 'MARTIGNETTI COMPANIES'\n",
      " 'MCCORMICK DISTILLING CO    ' 'MHW LTD                    '\n",
      " 'MOET HENNESSY USA INC      ' 'MOONLIGHT MEADERY          '\n",
      " 'NICHE W & S                ' 'OLE SMOKY DISTILLERY LLC   '\n",
      " 'PALM BAY INTERNATIONAL INC ' 'PERFECTA WINES             '\n",
      " 'PERNOD RICARD USA          ' 'PHILLIPS PRODUCTS CO.      '\n",
      " 'PINE STATE TRADING CO      ' 'POVERTY LANE ORCHARDS      '\n",
      " 'PREMIER DISTRIBUTORS       ' 'PROXIMO SPIRITS INC.       ' 'PSP WINES '\n",
      " 'REMY COINTREAU USA INC     ' 'Russian Standard Vodka     '\n",
      " 'SAZERAC CO INC             ' 'SAZERAC NORTH AMERICA INC. '\n",
      " 'SEA HAGG DISTILLERY LLC    ' 'Serralles Usa LLC          '\n",
      " 'SHAW ROSS INT L IMP LTD    ' 'SIDNEY FRANK IMPORTING CO  '\n",
      " 'SOUTHERN WINE & SPIRITS NE ' 'STAR INDUSTRIES INC.       '\n",
      " 'STATE WINE & SPIRITS   ' 'STE MICHELLE WINE ESTATES  '\n",
      " 'STOLI GROUP,(USA) LLC      ' 'SURVILLE ENTERPRISES CORP  '\n",
      " 'SWEET BABY VINEYARD        ' 'TAKARA SAKE USA INC        '\n",
      " 'TALL SHIP DISTILLERY LLC   ' 'TREASURY WINE ESTATES      '\n",
      " 'TRINCHERO FAMILY ESTATES   ' 'ULTRA BEVERAGE COMPANY LLP '\n",
      " 'VINEDREA WINES LLC         ' 'VINEXTRA INC               '\n",
      " 'VINEYARD BRANDS INC        ' 'VINILANDIA USA             '\n",
      " 'VRANKEN AMERICA            ' 'WEIN BAUER INC             '\n",
      " 'WESTERN SPIRITS BEVERAGE CO' 'WILLIAM GRANT & SONS INC   '\n",
      " 'WINE GROUP INC             ' 'ZORVINO VINEYARDS          '\n",
      " 'APPOLO VINEYARDS LLC       ' 'BRONCO WINE COMPANY        '\n",
      " 'Dunn Wine Brokers          ' 'FULCHINO VINEYARD INC      '\n",
      " 'HAUNTING WHISPER VYDS      ' 'PREMIUM PORT WINES, INC.   '\n",
      " 'SEA BREEZE CELLARS LLC     ' 'SMOKY QUARTZ DISTILLERY LLC'\n",
      " 'STELLAR IMPORTING CO LLC   ' 'THE PIERPONT GROUP LLC     '\n",
      " 'TY KU LLC                  ' 'BLACK ROCK SPIRITS LLC     '\n",
      " 'Circa Wines                ' 'TAMWORTH DISTILLING        '\n",
      " 'THE IMPORTED GRAPE LLC     ' 'WALPOLE MTN VIEW WINERY    '\n",
      " 'MILTONS DISTRIBUTING CO    ' 'ALISA CARR BEVERAGES           '\n",
      " 'CAPSTONE INTERNATIONAL     ' 'MANGO BOTTLING INC         '\n",
      " 'R.P.IMPORTS INC            ' 'SWEETWATER FARM         '\n",
      " 'UNCORKED       ' 'HIGHLAND WINE MERCHANTS LLC'\n",
      " 'PARK STREET IMPORTS LLC    ' 'IRA GOLDMAN AND WILLIAMS, LLP          '\n",
      " 'SILVER MOUNTAIN CIDERS     ' 'FANTASY FINE WINES CORP    '\n",
      " 'ADAMBA IMPORTS INTL INC    ' 'AMERICAN SPIRITS EXCHANGE  '\n",
      " 'TRUETT HURST               ' 'STARK BREWING COMPANY      '\n",
      " 'SOUTHERN GLAZERS W&S OF NE ' 'GILMANTON WINERY & VINEYARD'\n",
      " 'FLAVOR ESSENCE INC         ' 'LAUREATE IMPORTS CO        '\n",
      " 'BLACK COVE BEVERAGES       ' 'LOYAL DOG WINERY           '\n",
      " 'VINEYARD BRANDS LLC        ' 'AAPER ALCOHOL & CHEMICAL CO']\n"
     ]
    }
   ],
   "source": [
    "proveedoresUnicos = tablaProveedores['Nombre'].unique()\n",
    "print(proveedoresUnicos)"
   ]
  },
  {
   "cell_type": "code",
   "execution_count": 24,
   "metadata": {},
   "outputs": [
    {
     "data": {
      "text/plain": [
       "474"
      ]
     },
     "execution_count": 24,
     "metadata": {},
     "output_type": "execute_result"
    }
   ],
   "source": [
    "tablaProveedores.to_sql('Proveedores', engine, if_exists='append', index=False)"
   ]
  },
  {
   "cell_type": "code",
   "execution_count": 25,
   "metadata": {},
   "outputs": [
    {
     "data": {
      "text/plain": [
       "Index(['Marca', 'Nombre', 'Volume'], dtype='object')"
      ]
     },
     "execution_count": 25,
     "metadata": {},
     "output_type": "execute_result"
    }
   ],
   "source": [
    "tablaProductos.columns"
   ]
  },
  {
   "cell_type": "code",
   "execution_count": 26,
   "metadata": {},
   "outputs": [],
   "source": [
    "productosUnicos = tablaProductos['Nombre'].unique()\n"
   ]
  },
  {
   "cell_type": "code",
   "execution_count": 29,
   "metadata": {},
   "outputs": [
    {
     "data": {
      "text/plain": [
       "(1048575, 3)"
      ]
     },
     "execution_count": 29,
     "metadata": {},
     "output_type": "execute_result"
    }
   ],
   "source": [
    "tablaProductos.shape\n"
   ]
  },
  {
   "cell_type": "code",
   "execution_count": 30,
   "metadata": {},
   "outputs": [
    {
     "data": {
      "text/plain": [
       "(6890,)"
      ]
     },
     "execution_count": 30,
     "metadata": {},
     "output_type": "execute_result"
    }
   ],
   "source": [
    "productosUnicos.shape"
   ]
  },
  {
   "cell_type": "code",
   "execution_count": 37,
   "metadata": {},
   "outputs": [
    {
     "data": {
      "text/plain": [
       "75"
      ]
     },
     "execution_count": 37,
     "metadata": {},
     "output_type": "execute_result"
    }
   ],
   "source": [
    "tablaProductos.to_sql('Productos', engine, if_exists='append', index=False)\n"
   ]
  },
  {
   "cell_type": "code",
   "execution_count": 35,
   "metadata": {},
   "outputs": [
    {
     "data": {
      "text/plain": [
       "529"
      ]
     },
     "execution_count": 35,
     "metadata": {},
     "output_type": "execute_result"
    }
   ],
   "source": [
    "tablaTiendas.to_sql('Tiendas', engine, if_exists='append', index=False)"
   ]
  },
  {
   "cell_type": "markdown",
   "metadata": {},
   "source": [
    "tengo problemas con el stock final, el siguiente codigo no corre justamente porque me dice que tengo valores nulos en stock final y obviamente no se puede rellenar la tabla del sql porque ahi no admite nulls. A REVISAR"
   ]
  },
  {
   "cell_type": "code",
   "execution_count": 41,
   "metadata": {},
   "outputs": [],
   "source": [
    "# tablaInventariosCombinada = pd.concat([tablaInventariosInicial, tablaInventariosFinal])\n",
    "# tablaInventariosCombinada.to_sql('Inventario', engine, if_exists='append', index=False)"
   ]
  },
  {
   "cell_type": "markdown",
   "metadata": {},
   "source": [
    "Van de la mano de la anterior. No corre el codigo porque como la table madre no pudo tener un valor de inventarioID, la de ventas va a fallar tambien pero deja eso como nulo que no se puede. Posiblemente se solucione cuando el codigo de arriba corra. "
   ]
  },
  {
   "cell_type": "code",
   "execution_count": 44,
   "metadata": {},
   "outputs": [],
   "source": [
    "# tablaVentas.to_sql('Ventas', engine, if_exists='append', index=False)"
   ]
  },
  {
   "cell_type": "code",
   "execution_count": 45,
   "metadata": {},
   "outputs": [
    {
     "ename": "PendingRollbackError",
     "evalue": "Can't reconnect until invalid transaction is rolled back.  Please rollback() fully before proceeding (Background on this error at: https://sqlalche.me/e/20/8s2b)",
     "output_type": "error",
     "traceback": [
      "\u001b[1;31m---------------------------------------------------------------------------\u001b[0m",
      "\u001b[1;31mPendingRollbackError\u001b[0m                      Traceback (most recent call last)",
      "Cell \u001b[1;32mIn[45], line 1\u001b[0m\n\u001b[1;32m----> 1\u001b[0m \u001b[43mtablaCompras\u001b[49m\u001b[38;5;241;43m.\u001b[39;49m\u001b[43mto_sql\u001b[49m\u001b[43m(\u001b[49m\u001b[38;5;124;43m'\u001b[39;49m\u001b[38;5;124;43mDetallesCompras\u001b[39;49m\u001b[38;5;124;43m'\u001b[39;49m\u001b[43m,\u001b[49m\u001b[43m \u001b[49m\u001b[43mengine\u001b[49m\u001b[43m,\u001b[49m\u001b[43m \u001b[49m\u001b[43mif_exists\u001b[49m\u001b[38;5;241;43m=\u001b[39;49m\u001b[38;5;124;43m'\u001b[39;49m\u001b[38;5;124;43mappend\u001b[39;49m\u001b[38;5;124;43m'\u001b[39;49m\u001b[43m,\u001b[49m\u001b[43m \u001b[49m\u001b[43mindex\u001b[49m\u001b[38;5;241;43m=\u001b[39;49m\u001b[38;5;28;43;01mFalse\u001b[39;49;00m\u001b[43m)\u001b[49m\n",
      "File \u001b[1;32mc:\\Users\\Usuario1\\AppData\\Local\\Programs\\Python\\Python310\\lib\\site-packages\\pandas\\util\\_decorators.py:333\u001b[0m, in \u001b[0;36mdeprecate_nonkeyword_arguments.<locals>.decorate.<locals>.wrapper\u001b[1;34m(*args, **kwargs)\u001b[0m\n\u001b[0;32m    327\u001b[0m \u001b[38;5;28;01mif\u001b[39;00m \u001b[38;5;28mlen\u001b[39m(args) \u001b[38;5;241m>\u001b[39m num_allow_args:\n\u001b[0;32m    328\u001b[0m     warnings\u001b[38;5;241m.\u001b[39mwarn(\n\u001b[0;32m    329\u001b[0m         msg\u001b[38;5;241m.\u001b[39mformat(arguments\u001b[38;5;241m=\u001b[39m_format_argument_list(allow_args)),\n\u001b[0;32m    330\u001b[0m         \u001b[38;5;167;01mFutureWarning\u001b[39;00m,\n\u001b[0;32m    331\u001b[0m         stacklevel\u001b[38;5;241m=\u001b[39mfind_stack_level(),\n\u001b[0;32m    332\u001b[0m     )\n\u001b[1;32m--> 333\u001b[0m \u001b[38;5;28;01mreturn\u001b[39;00m func(\u001b[38;5;241m*\u001b[39margs, \u001b[38;5;241m*\u001b[39m\u001b[38;5;241m*\u001b[39mkwargs)\n",
      "File \u001b[1;32mc:\\Users\\Usuario1\\AppData\\Local\\Programs\\Python\\Python310\\lib\\site-packages\\pandas\\core\\generic.py:3087\u001b[0m, in \u001b[0;36mNDFrame.to_sql\u001b[1;34m(self, name, con, schema, if_exists, index, index_label, chunksize, dtype, method)\u001b[0m\n\u001b[0;32m   2889\u001b[0m \u001b[38;5;250m\u001b[39m\u001b[38;5;124;03m\"\"\"\u001b[39;00m\n\u001b[0;32m   2890\u001b[0m \u001b[38;5;124;03mWrite records stored in a DataFrame to a SQL database.\u001b[39;00m\n\u001b[0;32m   2891\u001b[0m \n\u001b[1;32m   (...)\u001b[0m\n\u001b[0;32m   3083\u001b[0m \u001b[38;5;124;03m[(1,), (None,), (2,)]\u001b[39;00m\n\u001b[0;32m   3084\u001b[0m \u001b[38;5;124;03m\"\"\"\u001b[39;00m  \u001b[38;5;66;03m# noqa: E501\u001b[39;00m\n\u001b[0;32m   3085\u001b[0m \u001b[38;5;28;01mfrom\u001b[39;00m \u001b[38;5;21;01mpandas\u001b[39;00m\u001b[38;5;21;01m.\u001b[39;00m\u001b[38;5;21;01mio\u001b[39;00m \u001b[38;5;28;01mimport\u001b[39;00m sql\n\u001b[1;32m-> 3087\u001b[0m \u001b[38;5;28;01mreturn\u001b[39;00m \u001b[43msql\u001b[49m\u001b[38;5;241;43m.\u001b[39;49m\u001b[43mto_sql\u001b[49m\u001b[43m(\u001b[49m\n\u001b[0;32m   3088\u001b[0m \u001b[43m    \u001b[49m\u001b[38;5;28;43mself\u001b[39;49m\u001b[43m,\u001b[49m\n\u001b[0;32m   3089\u001b[0m \u001b[43m    \u001b[49m\u001b[43mname\u001b[49m\u001b[43m,\u001b[49m\n\u001b[0;32m   3090\u001b[0m \u001b[43m    \u001b[49m\u001b[43mcon\u001b[49m\u001b[43m,\u001b[49m\n\u001b[0;32m   3091\u001b[0m \u001b[43m    \u001b[49m\u001b[43mschema\u001b[49m\u001b[38;5;241;43m=\u001b[39;49m\u001b[43mschema\u001b[49m\u001b[43m,\u001b[49m\n\u001b[0;32m   3092\u001b[0m \u001b[43m    \u001b[49m\u001b[43mif_exists\u001b[49m\u001b[38;5;241;43m=\u001b[39;49m\u001b[43mif_exists\u001b[49m\u001b[43m,\u001b[49m\n\u001b[0;32m   3093\u001b[0m \u001b[43m    \u001b[49m\u001b[43mindex\u001b[49m\u001b[38;5;241;43m=\u001b[39;49m\u001b[43mindex\u001b[49m\u001b[43m,\u001b[49m\n\u001b[0;32m   3094\u001b[0m \u001b[43m    \u001b[49m\u001b[43mindex_label\u001b[49m\u001b[38;5;241;43m=\u001b[39;49m\u001b[43mindex_label\u001b[49m\u001b[43m,\u001b[49m\n\u001b[0;32m   3095\u001b[0m \u001b[43m    \u001b[49m\u001b[43mchunksize\u001b[49m\u001b[38;5;241;43m=\u001b[39;49m\u001b[43mchunksize\u001b[49m\u001b[43m,\u001b[49m\n\u001b[0;32m   3096\u001b[0m \u001b[43m    \u001b[49m\u001b[43mdtype\u001b[49m\u001b[38;5;241;43m=\u001b[39;49m\u001b[43mdtype\u001b[49m\u001b[43m,\u001b[49m\n\u001b[0;32m   3097\u001b[0m \u001b[43m    \u001b[49m\u001b[43mmethod\u001b[49m\u001b[38;5;241;43m=\u001b[39;49m\u001b[43mmethod\u001b[49m\u001b[43m,\u001b[49m\n\u001b[0;32m   3098\u001b[0m \u001b[43m\u001b[49m\u001b[43m)\u001b[49m\n",
      "File \u001b[1;32mc:\\Users\\Usuario1\\AppData\\Local\\Programs\\Python\\Python310\\lib\\site-packages\\pandas\\io\\sql.py:841\u001b[0m, in \u001b[0;36mto_sql\u001b[1;34m(frame, name, con, schema, if_exists, index, index_label, chunksize, dtype, method, engine, **engine_kwargs)\u001b[0m\n\u001b[0;32m    836\u001b[0m \u001b[38;5;28;01melif\u001b[39;00m \u001b[38;5;129;01mnot\u001b[39;00m \u001b[38;5;28misinstance\u001b[39m(frame, DataFrame):\n\u001b[0;32m    837\u001b[0m     \u001b[38;5;28;01mraise\u001b[39;00m \u001b[38;5;167;01mNotImplementedError\u001b[39;00m(\n\u001b[0;32m    838\u001b[0m         \u001b[38;5;124m\"\u001b[39m\u001b[38;5;124m'\u001b[39m\u001b[38;5;124mframe\u001b[39m\u001b[38;5;124m'\u001b[39m\u001b[38;5;124m argument should be either a Series or a DataFrame\u001b[39m\u001b[38;5;124m\"\u001b[39m\n\u001b[0;32m    839\u001b[0m     )\n\u001b[1;32m--> 841\u001b[0m \u001b[38;5;28;01mwith\u001b[39;00m pandasSQL_builder(con, schema\u001b[38;5;241m=\u001b[39mschema, need_transaction\u001b[38;5;241m=\u001b[39m\u001b[38;5;28;01mTrue\u001b[39;00m) \u001b[38;5;28;01mas\u001b[39;00m pandas_sql:\n\u001b[0;32m    842\u001b[0m     \u001b[38;5;28;01mreturn\u001b[39;00m pandas_sql\u001b[38;5;241m.\u001b[39mto_sql(\n\u001b[0;32m    843\u001b[0m         frame,\n\u001b[0;32m    844\u001b[0m         name,\n\u001b[1;32m   (...)\u001b[0m\n\u001b[0;32m    853\u001b[0m         \u001b[38;5;241m*\u001b[39m\u001b[38;5;241m*\u001b[39mengine_kwargs,\n\u001b[0;32m    854\u001b[0m     )\n",
      "File \u001b[1;32mc:\\Users\\Usuario1\\AppData\\Local\\Programs\\Python\\Python310\\lib\\site-packages\\pandas\\io\\sql.py:1645\u001b[0m, in \u001b[0;36mSQLDatabase.__exit__\u001b[1;34m(self, *args)\u001b[0m\n\u001b[0;32m   1643\u001b[0m \u001b[38;5;28;01mdef\u001b[39;00m \u001b[38;5;21m__exit__\u001b[39m(\u001b[38;5;28mself\u001b[39m, \u001b[38;5;241m*\u001b[39margs) \u001b[38;5;241m-\u001b[39m\u001b[38;5;241m>\u001b[39m \u001b[38;5;28;01mNone\u001b[39;00m:\n\u001b[0;32m   1644\u001b[0m     \u001b[38;5;28;01mif\u001b[39;00m \u001b[38;5;129;01mnot\u001b[39;00m \u001b[38;5;28mself\u001b[39m\u001b[38;5;241m.\u001b[39mreturns_generator:\n\u001b[1;32m-> 1645\u001b[0m         \u001b[38;5;28;43mself\u001b[39;49m\u001b[38;5;241;43m.\u001b[39;49m\u001b[43mexit_stack\u001b[49m\u001b[38;5;241;43m.\u001b[39;49m\u001b[43mclose\u001b[49m\u001b[43m(\u001b[49m\u001b[43m)\u001b[49m\n",
      "File \u001b[1;32mc:\\Users\\Usuario1\\AppData\\Local\\Programs\\Python\\Python310\\lib\\contextlib.py:584\u001b[0m, in \u001b[0;36mExitStack.close\u001b[1;34m(self)\u001b[0m\n\u001b[0;32m    582\u001b[0m \u001b[38;5;28;01mdef\u001b[39;00m \u001b[38;5;21mclose\u001b[39m(\u001b[38;5;28mself\u001b[39m):\n\u001b[0;32m    583\u001b[0m \u001b[38;5;250m    \u001b[39m\u001b[38;5;124;03m\"\"\"Immediately unwind the context stack.\"\"\"\u001b[39;00m\n\u001b[1;32m--> 584\u001b[0m     \u001b[38;5;28;43mself\u001b[39;49m\u001b[38;5;241;43m.\u001b[39;49m\u001b[38;5;21;43m__exit__\u001b[39;49m\u001b[43m(\u001b[49m\u001b[38;5;28;43;01mNone\u001b[39;49;00m\u001b[43m,\u001b[49m\u001b[43m \u001b[49m\u001b[38;5;28;43;01mNone\u001b[39;49;00m\u001b[43m,\u001b[49m\u001b[43m \u001b[49m\u001b[38;5;28;43;01mNone\u001b[39;49;00m\u001b[43m)\u001b[49m\n",
      "File \u001b[1;32mc:\\Users\\Usuario1\\AppData\\Local\\Programs\\Python\\Python310\\lib\\contextlib.py:576\u001b[0m, in \u001b[0;36mExitStack.__exit__\u001b[1;34m(self, *exc_details)\u001b[0m\n\u001b[0;32m    572\u001b[0m \u001b[38;5;28;01mtry\u001b[39;00m:\n\u001b[0;32m    573\u001b[0m     \u001b[38;5;66;03m# bare \"raise exc_details[1]\" replaces our carefully\u001b[39;00m\n\u001b[0;32m    574\u001b[0m     \u001b[38;5;66;03m# set-up context\u001b[39;00m\n\u001b[0;32m    575\u001b[0m     fixed_ctx \u001b[38;5;241m=\u001b[39m exc_details[\u001b[38;5;241m1\u001b[39m]\u001b[38;5;241m.\u001b[39m__context__\n\u001b[1;32m--> 576\u001b[0m     \u001b[38;5;28;01mraise\u001b[39;00m exc_details[\u001b[38;5;241m1\u001b[39m]\n\u001b[0;32m    577\u001b[0m \u001b[38;5;28;01mexcept\u001b[39;00m \u001b[38;5;167;01mBaseException\u001b[39;00m:\n\u001b[0;32m    578\u001b[0m     exc_details[\u001b[38;5;241m1\u001b[39m]\u001b[38;5;241m.\u001b[39m__context__ \u001b[38;5;241m=\u001b[39m fixed_ctx\n",
      "File \u001b[1;32mc:\\Users\\Usuario1\\AppData\\Local\\Programs\\Python\\Python310\\lib\\contextlib.py:561\u001b[0m, in \u001b[0;36mExitStack.__exit__\u001b[1;34m(self, *exc_details)\u001b[0m\n\u001b[0;32m    559\u001b[0m \u001b[38;5;28;01massert\u001b[39;00m is_sync\n\u001b[0;32m    560\u001b[0m \u001b[38;5;28;01mtry\u001b[39;00m:\n\u001b[1;32m--> 561\u001b[0m     \u001b[38;5;28;01mif\u001b[39;00m \u001b[43mcb\u001b[49m\u001b[43m(\u001b[49m\u001b[38;5;241;43m*\u001b[39;49m\u001b[43mexc_details\u001b[49m\u001b[43m)\u001b[49m:\n\u001b[0;32m    562\u001b[0m         suppressed_exc \u001b[38;5;241m=\u001b[39m \u001b[38;5;28;01mTrue\u001b[39;00m\n\u001b[0;32m    563\u001b[0m         pending_raise \u001b[38;5;241m=\u001b[39m \u001b[38;5;28;01mFalse\u001b[39;00m\n",
      "File \u001b[1;32mc:\\Users\\Usuario1\\AppData\\Local\\Programs\\Python\\Python310\\lib\\site-packages\\sqlalchemy\\engine\\util.py:147\u001b[0m, in \u001b[0;36mTransactionalContext.__exit__\u001b[1;34m(self, type_, value, traceback)\u001b[0m\n\u001b[0;32m    145\u001b[0m     \u001b[38;5;28mself\u001b[39m\u001b[38;5;241m.\u001b[39mcommit()\n\u001b[0;32m    146\u001b[0m \u001b[38;5;28;01mexcept\u001b[39;00m:\n\u001b[1;32m--> 147\u001b[0m     \u001b[38;5;28;01mwith\u001b[39;00m util\u001b[38;5;241m.\u001b[39msafe_reraise():\n\u001b[0;32m    148\u001b[0m         \u001b[38;5;28;01mif\u001b[39;00m \u001b[38;5;28mself\u001b[39m\u001b[38;5;241m.\u001b[39m_rollback_can_be_called():\n\u001b[0;32m    149\u001b[0m             \u001b[38;5;28mself\u001b[39m\u001b[38;5;241m.\u001b[39mrollback()\n",
      "File \u001b[1;32mc:\\Users\\Usuario1\\AppData\\Local\\Programs\\Python\\Python310\\lib\\site-packages\\sqlalchemy\\util\\langhelpers.py:146\u001b[0m, in \u001b[0;36msafe_reraise.__exit__\u001b[1;34m(self, type_, value, traceback)\u001b[0m\n\u001b[0;32m    144\u001b[0m     \u001b[38;5;28;01massert\u001b[39;00m exc_value \u001b[38;5;129;01mis\u001b[39;00m \u001b[38;5;129;01mnot\u001b[39;00m \u001b[38;5;28;01mNone\u001b[39;00m\n\u001b[0;32m    145\u001b[0m     \u001b[38;5;28mself\u001b[39m\u001b[38;5;241m.\u001b[39m_exc_info \u001b[38;5;241m=\u001b[39m \u001b[38;5;28;01mNone\u001b[39;00m  \u001b[38;5;66;03m# remove potential circular references\u001b[39;00m\n\u001b[1;32m--> 146\u001b[0m     \u001b[38;5;28;01mraise\u001b[39;00m exc_value\u001b[38;5;241m.\u001b[39mwith_traceback(exc_tb)\n\u001b[0;32m    147\u001b[0m \u001b[38;5;28;01melse\u001b[39;00m:\n\u001b[0;32m    148\u001b[0m     \u001b[38;5;28mself\u001b[39m\u001b[38;5;241m.\u001b[39m_exc_info \u001b[38;5;241m=\u001b[39m \u001b[38;5;28;01mNone\u001b[39;00m  \u001b[38;5;66;03m# remove potential circular references\u001b[39;00m\n",
      "File \u001b[1;32mc:\\Users\\Usuario1\\AppData\\Local\\Programs\\Python\\Python310\\lib\\site-packages\\sqlalchemy\\engine\\util.py:145\u001b[0m, in \u001b[0;36mTransactionalContext.__exit__\u001b[1;34m(self, type_, value, traceback)\u001b[0m\n\u001b[0;32m    143\u001b[0m \u001b[38;5;28;01mif\u001b[39;00m type_ \u001b[38;5;129;01mis\u001b[39;00m \u001b[38;5;28;01mNone\u001b[39;00m \u001b[38;5;129;01mand\u001b[39;00m \u001b[38;5;28mself\u001b[39m\u001b[38;5;241m.\u001b[39m_transaction_is_active():\n\u001b[0;32m    144\u001b[0m     \u001b[38;5;28;01mtry\u001b[39;00m:\n\u001b[1;32m--> 145\u001b[0m         \u001b[38;5;28;43mself\u001b[39;49m\u001b[38;5;241;43m.\u001b[39;49m\u001b[43mcommit\u001b[49m\u001b[43m(\u001b[49m\u001b[43m)\u001b[49m\n\u001b[0;32m    146\u001b[0m     \u001b[38;5;28;01mexcept\u001b[39;00m:\n\u001b[0;32m    147\u001b[0m         \u001b[38;5;28;01mwith\u001b[39;00m util\u001b[38;5;241m.\u001b[39msafe_reraise():\n",
      "File \u001b[1;32mc:\\Users\\Usuario1\\AppData\\Local\\Programs\\Python\\Python310\\lib\\site-packages\\sqlalchemy\\engine\\base.py:2631\u001b[0m, in \u001b[0;36mTransaction.commit\u001b[1;34m(self)\u001b[0m\n\u001b[0;32m   2615\u001b[0m \u001b[38;5;250m\u001b[39m\u001b[38;5;124;03m\"\"\"Commit this :class:`.Transaction`.\u001b[39;00m\n\u001b[0;32m   2616\u001b[0m \n\u001b[0;32m   2617\u001b[0m \u001b[38;5;124;03mThe implementation of this may vary based on the type of transaction in\u001b[39;00m\n\u001b[1;32m   (...)\u001b[0m\n\u001b[0;32m   2628\u001b[0m \n\u001b[0;32m   2629\u001b[0m \u001b[38;5;124;03m\"\"\"\u001b[39;00m\n\u001b[0;32m   2630\u001b[0m \u001b[38;5;28;01mtry\u001b[39;00m:\n\u001b[1;32m-> 2631\u001b[0m     \u001b[38;5;28;43mself\u001b[39;49m\u001b[38;5;241;43m.\u001b[39;49m\u001b[43m_do_commit\u001b[49m\u001b[43m(\u001b[49m\u001b[43m)\u001b[49m\n\u001b[0;32m   2632\u001b[0m \u001b[38;5;28;01mfinally\u001b[39;00m:\n\u001b[0;32m   2633\u001b[0m     \u001b[38;5;28;01massert\u001b[39;00m \u001b[38;5;129;01mnot\u001b[39;00m \u001b[38;5;28mself\u001b[39m\u001b[38;5;241m.\u001b[39mis_active\n",
      "File \u001b[1;32mc:\\Users\\Usuario1\\AppData\\Local\\Programs\\Python\\Python310\\lib\\site-packages\\sqlalchemy\\engine\\base.py:2736\u001b[0m, in \u001b[0;36mRootTransaction._do_commit\u001b[1;34m(self)\u001b[0m\n\u001b[0;32m   2733\u001b[0m \u001b[38;5;28;01massert\u001b[39;00m \u001b[38;5;28mself\u001b[39m\u001b[38;5;241m.\u001b[39mconnection\u001b[38;5;241m.\u001b[39m_transaction \u001b[38;5;129;01mis\u001b[39;00m \u001b[38;5;28mself\u001b[39m\n\u001b[0;32m   2735\u001b[0m \u001b[38;5;28;01mtry\u001b[39;00m:\n\u001b[1;32m-> 2736\u001b[0m     \u001b[38;5;28;43mself\u001b[39;49m\u001b[38;5;241;43m.\u001b[39;49m\u001b[43m_connection_commit_impl\u001b[49m\u001b[43m(\u001b[49m\u001b[43m)\u001b[49m\n\u001b[0;32m   2737\u001b[0m \u001b[38;5;28;01mfinally\u001b[39;00m:\n\u001b[0;32m   2738\u001b[0m     \u001b[38;5;66;03m# whether or not commit succeeds, cancel any\u001b[39;00m\n\u001b[0;32m   2739\u001b[0m     \u001b[38;5;66;03m# nested transactions, make this transaction \"inactive\"\u001b[39;00m\n\u001b[0;32m   2740\u001b[0m     \u001b[38;5;66;03m# and remove it as a reset agent\u001b[39;00m\n\u001b[0;32m   2741\u001b[0m     \u001b[38;5;28;01mif\u001b[39;00m \u001b[38;5;28mself\u001b[39m\u001b[38;5;241m.\u001b[39mconnection\u001b[38;5;241m.\u001b[39m_nested_transaction:\n",
      "File \u001b[1;32mc:\\Users\\Usuario1\\AppData\\Local\\Programs\\Python\\Python310\\lib\\site-packages\\sqlalchemy\\engine\\base.py:2707\u001b[0m, in \u001b[0;36mRootTransaction._connection_commit_impl\u001b[1;34m(self)\u001b[0m\n\u001b[0;32m   2706\u001b[0m \u001b[38;5;28;01mdef\u001b[39;00m \u001b[38;5;21m_connection_commit_impl\u001b[39m(\u001b[38;5;28mself\u001b[39m) \u001b[38;5;241m-\u001b[39m\u001b[38;5;241m>\u001b[39m \u001b[38;5;28;01mNone\u001b[39;00m:\n\u001b[1;32m-> 2707\u001b[0m     \u001b[38;5;28;43mself\u001b[39;49m\u001b[38;5;241;43m.\u001b[39;49m\u001b[43mconnection\u001b[49m\u001b[38;5;241;43m.\u001b[39;49m\u001b[43m_commit_impl\u001b[49m\u001b[43m(\u001b[49m\u001b[43m)\u001b[49m\n",
      "File \u001b[1;32mc:\\Users\\Usuario1\\AppData\\Local\\Programs\\Python\\Python310\\lib\\site-packages\\sqlalchemy\\engine\\base.py:1146\u001b[0m, in \u001b[0;36mConnection._commit_impl\u001b[1;34m(self)\u001b[0m\n\u001b[0;32m   1144\u001b[0m     \u001b[38;5;28mself\u001b[39m\u001b[38;5;241m.\u001b[39mengine\u001b[38;5;241m.\u001b[39mdialect\u001b[38;5;241m.\u001b[39mdo_commit(\u001b[38;5;28mself\u001b[39m\u001b[38;5;241m.\u001b[39mconnection)\n\u001b[0;32m   1145\u001b[0m \u001b[38;5;28;01mexcept\u001b[39;00m \u001b[38;5;167;01mBaseException\u001b[39;00m \u001b[38;5;28;01mas\u001b[39;00m e:\n\u001b[1;32m-> 1146\u001b[0m     \u001b[38;5;28;43mself\u001b[39;49m\u001b[38;5;241;43m.\u001b[39;49m\u001b[43m_handle_dbapi_exception\u001b[49m\u001b[43m(\u001b[49m\u001b[43me\u001b[49m\u001b[43m,\u001b[49m\u001b[43m \u001b[49m\u001b[38;5;28;43;01mNone\u001b[39;49;00m\u001b[43m,\u001b[49m\u001b[43m \u001b[49m\u001b[38;5;28;43;01mNone\u001b[39;49;00m\u001b[43m,\u001b[49m\u001b[43m \u001b[49m\u001b[38;5;28;43;01mNone\u001b[39;49;00m\u001b[43m,\u001b[49m\u001b[43m \u001b[49m\u001b[38;5;28;43;01mNone\u001b[39;49;00m\u001b[43m)\u001b[49m\n",
      "File \u001b[1;32mc:\\Users\\Usuario1\\AppData\\Local\\Programs\\Python\\Python310\\lib\\site-packages\\sqlalchemy\\engine\\base.py:2358\u001b[0m, in \u001b[0;36mConnection._handle_dbapi_exception\u001b[1;34m(self, e, statement, parameters, cursor, context, is_sub_exec)\u001b[0m\n\u001b[0;32m   2356\u001b[0m     \u001b[38;5;28;01melse\u001b[39;00m:\n\u001b[0;32m   2357\u001b[0m         \u001b[38;5;28;01massert\u001b[39;00m exc_info[\u001b[38;5;241m1\u001b[39m] \u001b[38;5;129;01mis\u001b[39;00m \u001b[38;5;129;01mnot\u001b[39;00m \u001b[38;5;28;01mNone\u001b[39;00m\n\u001b[1;32m-> 2358\u001b[0m         \u001b[38;5;28;01mraise\u001b[39;00m exc_info[\u001b[38;5;241m1\u001b[39m]\u001b[38;5;241m.\u001b[39mwith_traceback(exc_info[\u001b[38;5;241m2\u001b[39m])\n\u001b[0;32m   2359\u001b[0m \u001b[38;5;28;01mfinally\u001b[39;00m:\n\u001b[0;32m   2360\u001b[0m     \u001b[38;5;28;01mdel\u001b[39;00m \u001b[38;5;28mself\u001b[39m\u001b[38;5;241m.\u001b[39m_reentrant_error\n",
      "File \u001b[1;32mc:\\Users\\Usuario1\\AppData\\Local\\Programs\\Python\\Python310\\lib\\site-packages\\sqlalchemy\\engine\\base.py:1144\u001b[0m, in \u001b[0;36mConnection._commit_impl\u001b[1;34m(self)\u001b[0m\n\u001b[0;32m   1142\u001b[0m         \u001b[38;5;28mself\u001b[39m\u001b[38;5;241m.\u001b[39m_log_info(\u001b[38;5;124m\"\u001b[39m\u001b[38;5;124mCOMMIT\u001b[39m\u001b[38;5;124m\"\u001b[39m)\n\u001b[0;32m   1143\u001b[0m \u001b[38;5;28;01mtry\u001b[39;00m:\n\u001b[1;32m-> 1144\u001b[0m     \u001b[38;5;28mself\u001b[39m\u001b[38;5;241m.\u001b[39mengine\u001b[38;5;241m.\u001b[39mdialect\u001b[38;5;241m.\u001b[39mdo_commit(\u001b[38;5;28;43mself\u001b[39;49m\u001b[38;5;241;43m.\u001b[39;49m\u001b[43mconnection\u001b[49m)\n\u001b[0;32m   1145\u001b[0m \u001b[38;5;28;01mexcept\u001b[39;00m \u001b[38;5;167;01mBaseException\u001b[39;00m \u001b[38;5;28;01mas\u001b[39;00m e:\n\u001b[0;32m   1146\u001b[0m     \u001b[38;5;28mself\u001b[39m\u001b[38;5;241m.\u001b[39m_handle_dbapi_exception(e, \u001b[38;5;28;01mNone\u001b[39;00m, \u001b[38;5;28;01mNone\u001b[39;00m, \u001b[38;5;28;01mNone\u001b[39;00m, \u001b[38;5;28;01mNone\u001b[39;00m)\n",
      "File \u001b[1;32mc:\\Users\\Usuario1\\AppData\\Local\\Programs\\Python\\Python310\\lib\\site-packages\\sqlalchemy\\engine\\base.py:585\u001b[0m, in \u001b[0;36mConnection.connection\u001b[1;34m(self)\u001b[0m\n\u001b[0;32m    583\u001b[0m \u001b[38;5;28;01mif\u001b[39;00m \u001b[38;5;28mself\u001b[39m\u001b[38;5;241m.\u001b[39m_dbapi_connection \u001b[38;5;129;01mis\u001b[39;00m \u001b[38;5;28;01mNone\u001b[39;00m:\n\u001b[0;32m    584\u001b[0m     \u001b[38;5;28;01mtry\u001b[39;00m:\n\u001b[1;32m--> 585\u001b[0m         \u001b[38;5;28;01mreturn\u001b[39;00m \u001b[38;5;28;43mself\u001b[39;49m\u001b[38;5;241;43m.\u001b[39;49m\u001b[43m_revalidate_connection\u001b[49m\u001b[43m(\u001b[49m\u001b[43m)\u001b[49m\n\u001b[0;32m    586\u001b[0m     \u001b[38;5;28;01mexcept\u001b[39;00m (exc\u001b[38;5;241m.\u001b[39mPendingRollbackError, exc\u001b[38;5;241m.\u001b[39mResourceClosedError):\n\u001b[0;32m    587\u001b[0m         \u001b[38;5;28;01mraise\u001b[39;00m\n",
      "File \u001b[1;32mc:\\Users\\Usuario1\\AppData\\Local\\Programs\\Python\\Python310\\lib\\site-packages\\sqlalchemy\\engine\\base.py:677\u001b[0m, in \u001b[0;36mConnection._revalidate_connection\u001b[1;34m(self)\u001b[0m\n\u001b[0;32m    675\u001b[0m \u001b[38;5;28;01mif\u001b[39;00m \u001b[38;5;28mself\u001b[39m\u001b[38;5;241m.\u001b[39m__can_reconnect \u001b[38;5;129;01mand\u001b[39;00m \u001b[38;5;28mself\u001b[39m\u001b[38;5;241m.\u001b[39minvalidated:\n\u001b[0;32m    676\u001b[0m     \u001b[38;5;28;01mif\u001b[39;00m \u001b[38;5;28mself\u001b[39m\u001b[38;5;241m.\u001b[39m_transaction \u001b[38;5;129;01mis\u001b[39;00m \u001b[38;5;129;01mnot\u001b[39;00m \u001b[38;5;28;01mNone\u001b[39;00m:\n\u001b[1;32m--> 677\u001b[0m         \u001b[38;5;28;43mself\u001b[39;49m\u001b[38;5;241;43m.\u001b[39;49m\u001b[43m_invalid_transaction\u001b[49m\u001b[43m(\u001b[49m\u001b[43m)\u001b[49m\n\u001b[0;32m    678\u001b[0m     \u001b[38;5;28mself\u001b[39m\u001b[38;5;241m.\u001b[39m_dbapi_connection \u001b[38;5;241m=\u001b[39m \u001b[38;5;28mself\u001b[39m\u001b[38;5;241m.\u001b[39mengine\u001b[38;5;241m.\u001b[39mraw_connection()\n\u001b[0;32m    679\u001b[0m     \u001b[38;5;28;01mreturn\u001b[39;00m \u001b[38;5;28mself\u001b[39m\u001b[38;5;241m.\u001b[39m_dbapi_connection\n",
      "File \u001b[1;32mc:\\Users\\Usuario1\\AppData\\Local\\Programs\\Python\\Python310\\lib\\site-packages\\sqlalchemy\\engine\\base.py:667\u001b[0m, in \u001b[0;36mConnection._invalid_transaction\u001b[1;34m(self)\u001b[0m\n\u001b[0;32m    666\u001b[0m \u001b[38;5;28;01mdef\u001b[39;00m \u001b[38;5;21m_invalid_transaction\u001b[39m(\u001b[38;5;28mself\u001b[39m) \u001b[38;5;241m-\u001b[39m\u001b[38;5;241m>\u001b[39m NoReturn:\n\u001b[1;32m--> 667\u001b[0m     \u001b[38;5;28;01mraise\u001b[39;00m exc\u001b[38;5;241m.\u001b[39mPendingRollbackError(\n\u001b[0;32m    668\u001b[0m         \u001b[38;5;124m\"\u001b[39m\u001b[38;5;124mCan\u001b[39m\u001b[38;5;124m'\u001b[39m\u001b[38;5;124mt reconnect until invalid \u001b[39m\u001b[38;5;132;01m%s\u001b[39;00m\u001b[38;5;124mtransaction is rolled \u001b[39m\u001b[38;5;124m\"\u001b[39m\n\u001b[0;32m    669\u001b[0m         \u001b[38;5;124m\"\u001b[39m\u001b[38;5;124mback.  Please rollback() fully before proceeding\u001b[39m\u001b[38;5;124m\"\u001b[39m\n\u001b[0;32m    670\u001b[0m         \u001b[38;5;241m%\u001b[39m (\u001b[38;5;124m\"\u001b[39m\u001b[38;5;124msavepoint \u001b[39m\u001b[38;5;124m\"\u001b[39m \u001b[38;5;28;01mif\u001b[39;00m \u001b[38;5;28mself\u001b[39m\u001b[38;5;241m.\u001b[39m_nested_transaction \u001b[38;5;129;01mis\u001b[39;00m \u001b[38;5;129;01mnot\u001b[39;00m \u001b[38;5;28;01mNone\u001b[39;00m \u001b[38;5;28;01melse\u001b[39;00m \u001b[38;5;124m\"\u001b[39m\u001b[38;5;124m\"\u001b[39m),\n\u001b[0;32m    671\u001b[0m         code\u001b[38;5;241m=\u001b[39m\u001b[38;5;124m\"\u001b[39m\u001b[38;5;124m8s2b\u001b[39m\u001b[38;5;124m\"\u001b[39m,\n\u001b[0;32m    672\u001b[0m     )\n",
      "\u001b[1;31mPendingRollbackError\u001b[0m: Can't reconnect until invalid transaction is rolled back.  Please rollback() fully before proceeding (Background on this error at: https://sqlalche.me/e/20/8s2b)"
     ]
    }
   ],
   "source": [
    "tablaCompras.to_sql('DetallesCompras', engine, if_exists='append', index=False)"
   ]
  },
  {
   "cell_type": "markdown",
   "metadata": {},
   "source": [
    "probano de cargar las tablas que tienen FK"
   ]
  },
  {
   "cell_type": "code",
   "execution_count": 56,
   "metadata": {},
   "outputs": [],
   "source": [
    "tablaInventariosInicial.rename(columns={'Description': 'Nombre'}, inplace=True)"
   ]
  },
  {
   "cell_type": "code",
   "execution_count": 59,
   "metadata": {},
   "outputs": [],
   "source": [
    "productoInventario = pd.read_sql('SELECT ProductoID, Nombre FROM Productos', engine)"
   ]
  },
  {
   "cell_type": "code",
   "execution_count": 60,
   "metadata": {},
   "outputs": [
    {
     "ename": "KeyError",
     "evalue": "'Nombre'",
     "output_type": "error",
     "traceback": [
      "\u001b[1;31m---------------------------------------------------------------------------\u001b[0m",
      "\u001b[1;31mKeyError\u001b[0m                                  Traceback (most recent call last)",
      "\u001b[1;32m~\\AppData\\Local\\Temp\\ipykernel_10628\\4188618335.py\u001b[0m in \u001b[0;36m?\u001b[1;34m()\u001b[0m\n\u001b[0;32m      1\u001b[0m \u001b[1;31m# Suponiendo que tienes un campo 'NombreProducto' en tu CSV que coincide con 'Nombre' en 'Productos'\u001b[0m\u001b[1;33m\u001b[0m\u001b[1;33m\u001b[0m\u001b[0m\n\u001b[1;32m----> 2\u001b[1;33m \u001b[0mtablaInventariosInicial\u001b[0m \u001b[1;33m=\u001b[0m \u001b[0mpd\u001b[0m\u001b[1;33m.\u001b[0m\u001b[0mmerge\u001b[0m\u001b[1;33m(\u001b[0m\u001b[0mtablaInventariosInicial\u001b[0m\u001b[1;33m,\u001b[0m \u001b[0mproductoInventario\u001b[0m\u001b[1;33m,\u001b[0m \u001b[0mon\u001b[0m\u001b[1;33m=\u001b[0m\u001b[1;34m'Nombre'\u001b[0m\u001b[1;33m,\u001b[0m \u001b[0mhow\u001b[0m\u001b[1;33m=\u001b[0m\u001b[1;34m'left'\u001b[0m\u001b[1;33m)\u001b[0m\u001b[1;33m\u001b[0m\u001b[1;33m\u001b[0m\u001b[0m\n\u001b[0m",
      "\u001b[1;32mc:\\Users\\Usuario1\\AppData\\Local\\Programs\\Python\\Python310\\lib\\site-packages\\pandas\\core\\reshape\\merge.py\u001b[0m in \u001b[0;36m?\u001b[1;34m(left, right, how, on, left_on, right_on, left_index, right_index, sort, suffixes, copy, indicator, validate)\u001b[0m\n\u001b[0;32m    166\u001b[0m             \u001b[0mvalidate\u001b[0m\u001b[1;33m=\u001b[0m\u001b[0mvalidate\u001b[0m\u001b[1;33m,\u001b[0m\u001b[1;33m\u001b[0m\u001b[1;33m\u001b[0m\u001b[0m\n\u001b[0;32m    167\u001b[0m             \u001b[0mcopy\u001b[0m\u001b[1;33m=\u001b[0m\u001b[0mcopy\u001b[0m\u001b[1;33m,\u001b[0m\u001b[1;33m\u001b[0m\u001b[1;33m\u001b[0m\u001b[0m\n\u001b[0;32m    168\u001b[0m         )\n\u001b[0;32m    169\u001b[0m     \u001b[1;32melse\u001b[0m\u001b[1;33m:\u001b[0m\u001b[1;33m\u001b[0m\u001b[1;33m\u001b[0m\u001b[0m\n\u001b[1;32m--> 170\u001b[1;33m         op = _MergeOperation(\n\u001b[0m\u001b[0;32m    171\u001b[0m             \u001b[0mleft_df\u001b[0m\u001b[1;33m,\u001b[0m\u001b[1;33m\u001b[0m\u001b[1;33m\u001b[0m\u001b[0m\n\u001b[0;32m    172\u001b[0m             \u001b[0mright_df\u001b[0m\u001b[1;33m,\u001b[0m\u001b[1;33m\u001b[0m\u001b[1;33m\u001b[0m\u001b[0m\n\u001b[0;32m    173\u001b[0m             \u001b[0mhow\u001b[0m\u001b[1;33m=\u001b[0m\u001b[0mhow\u001b[0m\u001b[1;33m,\u001b[0m\u001b[1;33m\u001b[0m\u001b[1;33m\u001b[0m\u001b[0m\n",
      "\u001b[1;32mc:\\Users\\Usuario1\\AppData\\Local\\Programs\\Python\\Python310\\lib\\site-packages\\pandas\\core\\reshape\\merge.py\u001b[0m in \u001b[0;36m?\u001b[1;34m(self, left, right, how, on, left_on, right_on, left_index, right_index, sort, suffixes, indicator, validate)\u001b[0m\n\u001b[0;32m    790\u001b[0m             \u001b[0mself\u001b[0m\u001b[1;33m.\u001b[0m\u001b[0mright_join_keys\u001b[0m\u001b[1;33m,\u001b[0m\u001b[1;33m\u001b[0m\u001b[1;33m\u001b[0m\u001b[0m\n\u001b[0;32m    791\u001b[0m             \u001b[0mself\u001b[0m\u001b[1;33m.\u001b[0m\u001b[0mjoin_names\u001b[0m\u001b[1;33m,\u001b[0m\u001b[1;33m\u001b[0m\u001b[1;33m\u001b[0m\u001b[0m\n\u001b[0;32m    792\u001b[0m             \u001b[0mleft_drop\u001b[0m\u001b[1;33m,\u001b[0m\u001b[1;33m\u001b[0m\u001b[1;33m\u001b[0m\u001b[0m\n\u001b[0;32m    793\u001b[0m             \u001b[0mright_drop\u001b[0m\u001b[1;33m,\u001b[0m\u001b[1;33m\u001b[0m\u001b[1;33m\u001b[0m\u001b[0m\n\u001b[1;32m--> 794\u001b[1;33m         ) = self._get_merge_keys()\n\u001b[0m\u001b[0;32m    795\u001b[0m \u001b[1;33m\u001b[0m\u001b[0m\n\u001b[0;32m    796\u001b[0m         \u001b[1;32mif\u001b[0m \u001b[0mleft_drop\u001b[0m\u001b[1;33m:\u001b[0m\u001b[1;33m\u001b[0m\u001b[1;33m\u001b[0m\u001b[0m\n\u001b[0;32m    797\u001b[0m             \u001b[0mself\u001b[0m\u001b[1;33m.\u001b[0m\u001b[0mleft\u001b[0m \u001b[1;33m=\u001b[0m \u001b[0mself\u001b[0m\u001b[1;33m.\u001b[0m\u001b[0mleft\u001b[0m\u001b[1;33m.\u001b[0m\u001b[0m_drop_labels_or_levels\u001b[0m\u001b[1;33m(\u001b[0m\u001b[0mleft_drop\u001b[0m\u001b[1;33m)\u001b[0m\u001b[1;33m\u001b[0m\u001b[1;33m\u001b[0m\u001b[0m\n",
      "\u001b[1;32mc:\\Users\\Usuario1\\AppData\\Local\\Programs\\Python\\Python310\\lib\\site-packages\\pandas\\core\\reshape\\merge.py\u001b[0m in \u001b[0;36m?\u001b[1;34m(self)\u001b[0m\n\u001b[0;32m   1306\u001b[0m                     \u001b[1;32mif\u001b[0m \u001b[0mlk\u001b[0m \u001b[1;32mis\u001b[0m \u001b[1;32mnot\u001b[0m \u001b[1;32mNone\u001b[0m\u001b[1;33m:\u001b[0m\u001b[1;33m\u001b[0m\u001b[1;33m\u001b[0m\u001b[0m\n\u001b[0;32m   1307\u001b[0m                         \u001b[1;31m# Then we're either Hashable or a wrong-length arraylike,\u001b[0m\u001b[1;33m\u001b[0m\u001b[1;33m\u001b[0m\u001b[0m\n\u001b[0;32m   1308\u001b[0m                         \u001b[1;31m#  the latter of which will raise\u001b[0m\u001b[1;33m\u001b[0m\u001b[1;33m\u001b[0m\u001b[0m\n\u001b[0;32m   1309\u001b[0m                         \u001b[0mlk\u001b[0m \u001b[1;33m=\u001b[0m \u001b[0mcast\u001b[0m\u001b[1;33m(\u001b[0m\u001b[0mHashable\u001b[0m\u001b[1;33m,\u001b[0m \u001b[0mlk\u001b[0m\u001b[1;33m)\u001b[0m\u001b[1;33m\u001b[0m\u001b[1;33m\u001b[0m\u001b[0m\n\u001b[1;32m-> 1310\u001b[1;33m                         \u001b[0mleft_keys\u001b[0m\u001b[1;33m.\u001b[0m\u001b[0mappend\u001b[0m\u001b[1;33m(\u001b[0m\u001b[0mleft\u001b[0m\u001b[1;33m.\u001b[0m\u001b[0m_get_label_or_level_values\u001b[0m\u001b[1;33m(\u001b[0m\u001b[0mlk\u001b[0m\u001b[1;33m)\u001b[0m\u001b[1;33m)\u001b[0m\u001b[1;33m\u001b[0m\u001b[1;33m\u001b[0m\u001b[0m\n\u001b[0m\u001b[0;32m   1311\u001b[0m                         \u001b[0mjoin_names\u001b[0m\u001b[1;33m.\u001b[0m\u001b[0mappend\u001b[0m\u001b[1;33m(\u001b[0m\u001b[0mlk\u001b[0m\u001b[1;33m)\u001b[0m\u001b[1;33m\u001b[0m\u001b[1;33m\u001b[0m\u001b[0m\n\u001b[0;32m   1312\u001b[0m                     \u001b[1;32melse\u001b[0m\u001b[1;33m:\u001b[0m\u001b[1;33m\u001b[0m\u001b[1;33m\u001b[0m\u001b[0m\n\u001b[0;32m   1313\u001b[0m                         \u001b[1;31m# work-around for merge_asof(left_index=True)\u001b[0m\u001b[1;33m\u001b[0m\u001b[1;33m\u001b[0m\u001b[0m\n",
      "\u001b[1;32mc:\\Users\\Usuario1\\AppData\\Local\\Programs\\Python\\Python310\\lib\\site-packages\\pandas\\core\\generic.py\u001b[0m in \u001b[0;36m?\u001b[1;34m(self, key, axis)\u001b[0m\n\u001b[0;32m   1907\u001b[0m             \u001b[0mvalues\u001b[0m \u001b[1;33m=\u001b[0m \u001b[0mself\u001b[0m\u001b[1;33m.\u001b[0m\u001b[0mxs\u001b[0m\u001b[1;33m(\u001b[0m\u001b[0mkey\u001b[0m\u001b[1;33m,\u001b[0m \u001b[0maxis\u001b[0m\u001b[1;33m=\u001b[0m\u001b[0mother_axes\u001b[0m\u001b[1;33m[\u001b[0m\u001b[1;36m0\u001b[0m\u001b[1;33m]\u001b[0m\u001b[1;33m)\u001b[0m\u001b[1;33m.\u001b[0m\u001b[0m_values\u001b[0m\u001b[1;33m\u001b[0m\u001b[1;33m\u001b[0m\u001b[0m\n\u001b[0;32m   1908\u001b[0m         \u001b[1;32melif\u001b[0m \u001b[0mself\u001b[0m\u001b[1;33m.\u001b[0m\u001b[0m_is_level_reference\u001b[0m\u001b[1;33m(\u001b[0m\u001b[0mkey\u001b[0m\u001b[1;33m,\u001b[0m \u001b[0maxis\u001b[0m\u001b[1;33m=\u001b[0m\u001b[0maxis\u001b[0m\u001b[1;33m)\u001b[0m\u001b[1;33m:\u001b[0m\u001b[1;33m\u001b[0m\u001b[1;33m\u001b[0m\u001b[0m\n\u001b[0;32m   1909\u001b[0m             \u001b[0mvalues\u001b[0m \u001b[1;33m=\u001b[0m \u001b[0mself\u001b[0m\u001b[1;33m.\u001b[0m\u001b[0maxes\u001b[0m\u001b[1;33m[\u001b[0m\u001b[0maxis\u001b[0m\u001b[1;33m]\u001b[0m\u001b[1;33m.\u001b[0m\u001b[0mget_level_values\u001b[0m\u001b[1;33m(\u001b[0m\u001b[0mkey\u001b[0m\u001b[1;33m)\u001b[0m\u001b[1;33m.\u001b[0m\u001b[0m_values\u001b[0m\u001b[1;33m\u001b[0m\u001b[1;33m\u001b[0m\u001b[0m\n\u001b[0;32m   1910\u001b[0m         \u001b[1;32melse\u001b[0m\u001b[1;33m:\u001b[0m\u001b[1;33m\u001b[0m\u001b[1;33m\u001b[0m\u001b[0m\n\u001b[1;32m-> 1911\u001b[1;33m             \u001b[1;32mraise\u001b[0m \u001b[0mKeyError\u001b[0m\u001b[1;33m(\u001b[0m\u001b[0mkey\u001b[0m\u001b[1;33m)\u001b[0m\u001b[1;33m\u001b[0m\u001b[1;33m\u001b[0m\u001b[0m\n\u001b[0m\u001b[0;32m   1912\u001b[0m \u001b[1;33m\u001b[0m\u001b[0m\n\u001b[0;32m   1913\u001b[0m         \u001b[1;31m# Check for duplicates\u001b[0m\u001b[1;33m\u001b[0m\u001b[1;33m\u001b[0m\u001b[0m\n\u001b[0;32m   1914\u001b[0m         \u001b[1;32mif\u001b[0m \u001b[0mvalues\u001b[0m\u001b[1;33m.\u001b[0m\u001b[0mndim\u001b[0m \u001b[1;33m>\u001b[0m \u001b[1;36m1\u001b[0m\u001b[1;33m:\u001b[0m\u001b[1;33m\u001b[0m\u001b[1;33m\u001b[0m\u001b[0m\n",
      "\u001b[1;31mKeyError\u001b[0m: 'Nombre'"
     ]
    }
   ],
   "source": [
    "# Suponiendo que tienes un campo 'NombreProducto' en tu CSV que coincide con 'Nombre' en 'Productos'\n",
    "tablaInventariosInicial = pd.merge(tablaInventariosInicial, productoInventario, on='Nombre', how='left')"
   ]
  },
  {
   "cell_type": "code",
   "execution_count": 70,
   "metadata": {},
   "outputs": [],
   "source": [
    "import uuid"
   ]
  },
  {
   "cell_type": "code",
   "execution_count": 72,
   "metadata": {},
   "outputs": [
    {
     "name": "stdout",
     "output_type": "stream",
     "text": [
      "      Marca                       Nombre  Tamanio  ProductoID\n",
      "0      1004   Jim Beam w/2 Rocks Glasses      750           1\n",
      "1      1005      Maker's Mark Combo Pack      375           2\n",
      "2     10058  F Coppola Dmd Ivry Cab Svgn      750           3\n",
      "3      1006  Jim Beam Candy Cane 4/50mLs       50           4\n",
      "4     10062            Terroirs du Rhone      750           5\n",
      "...     ...                          ...      ...         ...\n",
      "7653  45710   Ferrari-Carano Terre Chard      750        7654\n",
      "7654    603           McCormick Gold Rum     1000        7655\n",
      "7655  18732               Anarkos Puglia      750        7656\n",
      "7656    835         Bols Creme De Noyaux     1000        7657\n",
      "7657  18948         Austin Hope 10 Syrah      750        7658\n",
      "\n",
      "[7658 rows x 4 columns]\n"
     ]
    }
   ],
   "source": [
    "productos_df['ProductoID'] = range(1, len(productos_df)+1)\n",
    "print(productos_df)"
   ]
  },
  {
   "cell_type": "code",
   "execution_count": 74,
   "metadata": {},
   "outputs": [],
   "source": []
  }
 ],
 "metadata": {
  "kernelspec": {
   "display_name": "Python 3",
   "language": "python",
   "name": "python3"
  },
  "language_info": {
   "codemirror_mode": {
    "name": "ipython",
    "version": 3
   },
   "file_extension": ".py",
   "mimetype": "text/x-python",
   "name": "python",
   "nbconvert_exporter": "python",
   "pygments_lexer": "ipython3",
   "version": "3.10.4"
  }
 },
 "nbformat": 4,
 "nbformat_minor": 2
}
