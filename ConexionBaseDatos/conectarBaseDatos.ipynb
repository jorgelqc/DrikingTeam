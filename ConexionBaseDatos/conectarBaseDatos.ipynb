{
 "cells": [
  {
   "cell_type": "code",
   "execution_count": 7,
   "metadata": {},
   "outputs": [
    {
     "name": "stdout",
     "output_type": "stream",
     "text": [
      "Collecting pyodbc\n",
      "  Downloading pyodbc-5.1.0-cp310-cp310-win_amd64.whl (68 kB)\n",
      "     -------------------------------------- 68.7/68.7 KB 943.5 kB/s eta 0:00:00\n",
      "Installing collected packages: pyodbc\n",
      "Successfully installed pyodbc-5.1.0\n",
      "Note: you may need to restart the kernel to use updated packages.\n"
     ]
    },
    {
     "name": "stderr",
     "output_type": "stream",
     "text": [
      "WARNING: You are using pip version 22.0.4; however, version 24.2 is available.\n",
      "You should consider upgrading via the 'c:\\Users\\Usuario1\\AppData\\Local\\Programs\\Python\\Python310\\python.exe -m pip install --upgrade pip' command.\n"
     ]
    }
   ],
   "source": [
    "pip install pyodbc"
   ]
  },
  {
   "cell_type": "code",
   "execution_count": 8,
   "metadata": {},
   "outputs": [],
   "source": [
    "import pyodbc"
   ]
  },
  {
   "cell_type": "code",
   "execution_count": null,
   "metadata": {},
   "outputs": [],
   "source": [
    "# Configura los detalles de la conexión usando la información proporcionada\n",
    "server = '104.198.176.117' #servidor\n",
    "database = 'DrinkingTeamDB'  # Nombre de la base de datos\n",
    "username = 'datafusionlatam'  # Usuario\n",
    "password = 'DAFTHENRY'  # Contraseña\n",
    "port = '1433' #puerto\n",
    "\n",
    "# Cadena de conexión\n",
    "cnxn_str = f\"DRIVER={{ODBC Driver 17 for SQL Server}};SERVER={server};DATABASE={database};UID={username};PWD={password};PORT={port};ENCRYPT=no;\"\n",
    "\n",
    "# Conectarse a la base de datos\n",
    "cnxn = pyodbc.connect(cnxn_str)\n",
    "\n",
    "# Crear un cursor para ejecutar consultas\n",
    "cursor = cnxn.cursor()\n",
    "\n",
    "# Ejecutar una consulta\n",
    "# cursor.execute(\"SELECT * FROM Productos\")\n",
    "\n",
    "# Recuperar los resultados\n",
    "# rows = cursor.fetchall()\n",
    "\n",
    "# Imprimir los resultados\n",
    "# for row in rows:\n",
    "#    print(row)\n",
    "\n",
    "# Cerrar la conexión\n",
    "cnxn.close()"
   ]
  },
  {
   "cell_type": "markdown",
   "metadata": {},
   "source": [
    "probando cargar datos con mi base local"
   ]
  },
  {
   "cell_type": "code",
   "execution_count": 10,
   "metadata": {},
   "outputs": [
    {
     "name": "stdout",
     "output_type": "stream",
     "text": [
      "Requirement already satisfied: sqlalchemy in c:\\users\\usuario1\\appdata\\local\\programs\\python\\python310\\lib\\site-packages (2.0.32)\n",
      "Requirement already satisfied: greenlet!=0.4.17 in c:\\users\\usuario1\\appdata\\local\\programs\\python\\python310\\lib\\site-packages (from sqlalchemy) (3.0.3)\n",
      "Requirement already satisfied: typing-extensions>=4.6.0 in c:\\users\\usuario1\\appdata\\roaming\\python\\python310\\site-packages (from sqlalchemy) (4.12.2)\n",
      "Note: you may need to restart the kernel to use updated packages.\n"
     ]
    },
    {
     "name": "stderr",
     "output_type": "stream",
     "text": [
      "WARNING: You are using pip version 22.0.4; however, version 24.2 is available.\n",
      "You should consider upgrading via the 'c:\\Users\\Usuario1\\AppData\\Local\\Programs\\Python\\Python310\\python.exe -m pip install --upgrade pip' command.\n"
     ]
    }
   ],
   "source": [
    "pip install sqlalchemy\n"
   ]
  },
  {
   "cell_type": "code",
   "execution_count": 32,
   "metadata": {},
   "outputs": [],
   "source": [
    "import pandas as pd\n",
    "import pyodbc\n",
    "import sqlalchemy"
   ]
  },
  {
   "cell_type": "markdown",
   "metadata": {},
   "source": [
    "conectando a la base local para una vez que esten todas bien, poder subir los datos a la nube (cambiando la conexion de arriba hacia la base que esta en google cloud)"
   ]
  },
  {
   "cell_type": "code",
   "execution_count": 33,
   "metadata": {},
   "outputs": [],
   "source": [
    "from sqlalchemy import create_engine\n",
    "\n",
    "# Configura la conexión a la base de datos local\n",
    "db_user = 'IgnaPrueba'\n",
    "db_pass = 'DAFTHENRY'\n",
    "db_name = 'DrinkinTeamDB'\n",
    "db_host = 'DESKTOP-NP4VJ1H\\SQLEXPRESS'  # Para entornos locales, a menudo es 'localhost' o '127.0.0.1'\n",
    "db_port = '1433'  # Puerto predeterminado de SQL Server, puede variar si has configurado otro\n",
    "\n",
    "# Crear la cadena de conexión\n",
    "engine = create_engine(f'mssql+pyodbc://{db_user}:{db_pass}@{db_host}:{db_port}/{db_name}?driver=ODBC+Driver+17+for+SQL+Server')\n"
   ]
  },
  {
   "cell_type": "markdown",
   "metadata": {},
   "source": [
    "Aqui estoy leyendo todo el codigo de Compras. Hay que hacer lo mismo con los otros 3 dataset, pero hay que ver si los leemos completos o si solamente leemos las columnas que nos interesan. En lo personal, iria solamente por las columnas que nos interesan cargar los datos en la base de datos. "
   ]
  },
  {
   "cell_type": "code",
   "execution_count": 52,
   "metadata": {},
   "outputs": [],
   "source": [
    "#df = pd.read_csv('https://drive.usercontent.google.com/download?id=1Id7ERr7pXVJCfempvpEzseJ8WPF_Hs5j&export=download&authuser=0&confirm=t&uuid=3f33a3fd-2696-4250-b026-b62f6c445e4a&at=APZUnTUbyMP2tLICvQCO15n8Z4fY%3A1723646561085')\n",
    "# columna_a_cargar = ['Store']\n",
    "df = pd.read_csv('https://drive.usercontent.google.com/download?id=1r0DuLK9JZTbx4ouuuYEGLUS4lZvsa8lG&export=download&authuser=1&confirm=t&uuid=7c1bdf54-2f1b-48d3-87fe-d157d9d9b221&at=APZUnTU_jAENsVpPMq_R9-SF1OpY:1724011140819')"
   ]
  },
  {
   "cell_type": "markdown",
   "metadata": {},
   "source": [
    "Este codigo de abajo, no se termino usando, pero lo dejamos por el momento por las dudas que lo vayamos a usar. "
   ]
  },
  {
   "cell_type": "code",
   "execution_count": 62,
   "metadata": {},
   "outputs": [],
   "source": [
    "columna_a_cargar = ['Brand', 'Description']\n",
    "paraCompletarTablaMarca = pd.read_csv('https://drive.usercontent.google.com/download?id=1r0DuLK9JZTbx4ouuuYEGLUS4lZvsa8lG&export=download&authuser=1&confirm=t&uuid=7c1bdf54-2f1b-48d3-87fe-d157d9d9b221&at=APZUnTU_jAENsVpPMq_R9-SF1OpY:1724011140819', usecols=columna_a_cargar)"
   ]
  },
  {
   "cell_type": "markdown",
   "metadata": {},
   "source": [
    "Este \"columna a cargar 2\" es el que terminamos usando para la tabla de Marcas 2 después de hacer varios intentos, se pudo cargar los datos desde cvs limpio hacia la base de datos, a traves de python."
   ]
  },
  {
   "cell_type": "code",
   "execution_count": 66,
   "metadata": {},
   "outputs": [],
   "source": [
    "columna_a_cargar2 = ['Description']\n",
    "paraCompletarTablaMarca2 = pd.read_csv('https://drive.usercontent.google.com/download?id=1r0DuLK9JZTbx4ouuuYEGLUS4lZvsa8lG&export=download&authuser=1&confirm=t&uuid=7c1bdf54-2f1b-48d3-87fe-d157d9d9b221&at=APZUnTU_jAENsVpPMq_R9-SF1OpY:1724011140819', usecols=columna_a_cargar2)"
   ]
  },
  {
   "cell_type": "code",
   "execution_count": 68,
   "metadata": {},
   "outputs": [
    {
     "data": {
      "text/plain": [
       "474"
      ]
     },
     "execution_count": 68,
     "metadata": {},
     "output_type": "execute_result"
    }
   ],
   "source": [
    "# Antes de hacer correr este codigo, cambiar en la tabla de sql el nombre de BRAND por el de Description. Y tmb, ponele INDENTITY al id\n",
    "paraCompletarTablaMarca2.to_sql('Marcas2', engine, if_exists='append', index=False)"
   ]
  },
  {
   "cell_type": "markdown",
   "metadata": {},
   "source": [
    "se deja el siguiente codigo en comentario, es para no tener que cambiar los nombres en la base de datos, solamente hacer un merge entre sql y los cvs. "
   ]
  },
  {
   "cell_type": "code",
   "execution_count": null,
   "metadata": {},
   "outputs": [],
   "source": [
    "# df.rename(columns={'columna1': 'nombre_db1', 'columna2': 'nombre_db2'}, inplace=True)"
   ]
  }
 ],
 "metadata": {
  "kernelspec": {
   "display_name": "Python 3",
   "language": "python",
   "name": "python3"
  },
  "language_info": {
   "codemirror_mode": {
    "name": "ipython",
    "version": 3
   },
   "file_extension": ".py",
   "mimetype": "text/x-python",
   "name": "python",
   "nbconvert_exporter": "python",
   "pygments_lexer": "ipython3",
   "version": "3.10.4"
  }
 },
 "nbformat": 4,
 "nbformat_minor": 2
}
