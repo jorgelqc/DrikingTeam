{
 "cells": [
  {
   "cell_type": "code",
   "execution_count": 3,
   "metadata": {},
   "outputs": [
    {
     "ename": "ModuleNotFoundError",
     "evalue": "No module named 'pyodbc'",
     "output_type": "error",
     "traceback": [
      "\u001b[1;31m---------------------------------------------------------------------------\u001b[0m",
      "\u001b[1;31mModuleNotFoundError\u001b[0m                       Traceback (most recent call last)",
      "Cell \u001b[1;32mIn[3], line 1\u001b[0m\n\u001b[1;32m----> 1\u001b[0m \u001b[38;5;28;01mimport\u001b[39;00m \u001b[38;5;21;01mpyodbc\u001b[39;00m\n",
      "\u001b[1;31mModuleNotFoundError\u001b[0m: No module named 'pyodbc'"
     ]
    }
   ],
   "source": [
    "import pyodbc"
   ]
  },
  {
   "cell_type": "code",
   "execution_count": null,
   "metadata": {},
   "outputs": [],
   "source": [
    "import pyodbc"
   ]
  },
  {
   "cell_type": "code",
   "execution_count": 4,
   "metadata": {},
   "outputs": [
    {
     "ename": "ModuleNotFoundError",
     "evalue": "No module named 'pyodbc'",
     "output_type": "error",
     "traceback": [
      "\u001b[1;31m---------------------------------------------------------------------------\u001b[0m",
      "\u001b[1;31mModuleNotFoundError\u001b[0m                       Traceback (most recent call last)",
      "Cell \u001b[1;32mIn[4], line 1\u001b[0m\n\u001b[1;32m----> 1\u001b[0m \u001b[38;5;28;01mimport\u001b[39;00m \u001b[38;5;21;01mpyodbc\u001b[39;00m\n",
      "\u001b[1;31mModuleNotFoundError\u001b[0m: No module named 'pyodbc'"
     ]
    }
   ],
   "source": [
    "import pyodbc"
   ]
  },
  {
   "cell_type": "code",
   "execution_count": null,
   "metadata": {},
   "outputs": [],
   "source": [
    "# Configura los detalles de la conexión usando la información proporcionada\n",
    "server = '104.198.176.117' #servidor\n",
    "database = 'DrinkingTeamDB'  # Nombre de la base de datos\n",
    "username = 'datafusionlatam'  # Usuario\n",
    "password = 'DAFTHENRY'  # Contraseña\n",
    "port = '1433' #puerto\n",
    "\n",
    "# Cadena de conexión\n",
    "cnxn_str = f\"DRIVER={{ODBC Driver 17 for SQL Server}};SERVER={server};DATABASE={database};UID={username};PWD={password};PORT={port};ENCRYPT=no;\"\n",
    "\n",
    "# Conectarse a la base de datos\n",
    "cnxn = pyodbc.connect(cnxn_str)\n",
    "\n",
    "# Crear un cursor para ejecutar consultas\n",
    "cursor = cnxn.cursor()\n",
    "\n",
    "# Ejecutar una consulta\n",
    "cursor.execute(\"SELECT * FROM Productos\")\n",
    "\n",
    "# Recuperar los resultados\n",
    "rows = cursor.fetchall()\n",
    "\n",
    "# Imprimir los resultados\n",
    "for row in rows:\n",
    "    print(row)\n",
    "\n",
    "# Cerrar la conexión\n",
    "cnxn.close()"
   ]
  },
  {
   "cell_type": "markdown",
   "metadata": {},
   "source": [
    "Esto es lo que encontre yo para conectar la base y también para subir los datos de los archivos cvs."
   ]
  },
  {
   "cell_type": "code",
   "execution_count": null,
   "metadata": {},
   "outputs": [],
   "source": [
    "\n",
    "# Leer el archivo CSV\n",
    "df = pd.read_csv('ruta/al/archivo.csv')\n",
    "\n",
    "# Insertar los datos en la base de datos\n",
    "df.to_sql('nombre_de_la_tabla', engine, if_exists='append', index=False)\n"
   ]
  },
  {
   "cell_type": "markdown",
   "metadata": {},
   "source": []
  }
 ],
 "metadata": {
  "kernelspec": {
   "display_name": "Python 3",
   "language": "python",
   "name": "python3"
  },
  "language_info": {
   "codemirror_mode": {
    "name": "ipython",
    "version": 3
   },
   "file_extension": ".py",
   "mimetype": "text/x-python",
   "name": "python",
   "nbconvert_exporter": "python",
   "pygments_lexer": "ipython3",
   "version": "3.10.4"
  }
 },
 "nbformat": 4,
 "nbformat_minor": 2
}
