{
 "cells": [
  {
   "cell_type": "code",
   "execution_count": 7,
   "metadata": {},
   "outputs": [
    {
     "name": "stdout",
     "output_type": "stream",
     "text": [
      "Collecting pyodbc\n",
      "  Downloading pyodbc-5.1.0-cp310-cp310-win_amd64.whl (68 kB)\n",
      "     -------------------------------------- 68.7/68.7 KB 943.5 kB/s eta 0:00:00\n",
      "Installing collected packages: pyodbc\n",
      "Successfully installed pyodbc-5.1.0\n",
      "Note: you may need to restart the kernel to use updated packages.\n"
     ]
    },
    {
     "name": "stderr",
     "output_type": "stream",
     "text": [
      "WARNING: You are using pip version 22.0.4; however, version 24.2 is available.\n",
      "You should consider upgrading via the 'c:\\Users\\Usuario1\\AppData\\Local\\Programs\\Python\\Python310\\python.exe -m pip install --upgrade pip' command.\n"
     ]
    }
   ],
   "source": [
    "pip install pyodbc"
   ]
  },
  {
   "cell_type": "code",
   "execution_count": 2,
   "metadata": {},
   "outputs": [],
   "source": [
    "import pyodbc"
   ]
  },
  {
   "cell_type": "code",
   "execution_count": null,
   "metadata": {},
   "outputs": [],
   "source": [
    "# Configura los detalles de la conexión usando la información proporcionada\n",
    "server = '104.198.176.117' #servidor\n",
    "database = 'DrinkingTeamDB'  # Nombre de la base de datos\n",
    "username = 'datafusionlatam'  # Usuario\n",
    "password = 'DAFTHENRY'  # Contraseña\n",
    "port = '1433' #puerto\n",
    "\n",
    "# Cadena de conexión\n",
    "cnxn_str = f\"DRIVER={{ODBC Driver 17 for SQL Server}};SERVER={server};DATABASE={database};UID={username};PWD={password};PORT={port};ENCRYPT=no;\"\n",
    "\n",
    "# Conectarse a la base de datos\n",
    "cnxn = pyodbc.connect(cnxn_str)\n",
    "\n",
    "# Crear un cursor para ejecutar consultas\n",
    "cursor = cnxn.cursor()\n",
    "\n",
    "# Ejecutar una consulta\n",
    "# cursor.execute(\"SELECT * FROM Productos\")\n",
    "\n",
    "# Recuperar los resultados\n",
    "# rows = cursor.fetchall()\n",
    "\n",
    "# Imprimir los resultados\n",
    "# for row in rows:\n",
    "#    print(row)\n",
    "\n",
    "# Cerrar la conexión\n",
    "cnxn.close()"
   ]
  },
  {
   "cell_type": "markdown",
   "metadata": {},
   "source": [
    "probando cargar datos con mi base local"
   ]
  },
  {
   "cell_type": "code",
   "execution_count": 10,
   "metadata": {},
   "outputs": [
    {
     "name": "stdout",
     "output_type": "stream",
     "text": [
      "Requirement already satisfied: sqlalchemy in c:\\users\\usuario1\\appdata\\local\\programs\\python\\python310\\lib\\site-packages (2.0.32)\n",
      "Requirement already satisfied: greenlet!=0.4.17 in c:\\users\\usuario1\\appdata\\local\\programs\\python\\python310\\lib\\site-packages (from sqlalchemy) (3.0.3)\n",
      "Requirement already satisfied: typing-extensions>=4.6.0 in c:\\users\\usuario1\\appdata\\roaming\\python\\python310\\site-packages (from sqlalchemy) (4.12.2)\n",
      "Note: you may need to restart the kernel to use updated packages.\n"
     ]
    },
    {
     "name": "stderr",
     "output_type": "stream",
     "text": [
      "WARNING: You are using pip version 22.0.4; however, version 24.2 is available.\n",
      "You should consider upgrading via the 'c:\\Users\\Usuario1\\AppData\\Local\\Programs\\Python\\Python310\\python.exe -m pip install --upgrade pip' command.\n"
     ]
    }
   ],
   "source": [
    "pip install sqlalchemy\n"
   ]
  },
  {
   "cell_type": "code",
   "execution_count": 3,
   "metadata": {},
   "outputs": [],
   "source": [
    "import pandas as pd\n",
    "import pyodbc\n",
    "import sqlalchemy"
   ]
  },
  {
   "cell_type": "markdown",
   "metadata": {},
   "source": [
    "conectando a la base local para una vez que esten todas bien, poder subir los datos a la nube (cambiando la conexion de arriba hacia la base que esta en google cloud)"
   ]
  },
  {
   "cell_type": "code",
   "execution_count": 4,
   "metadata": {},
   "outputs": [],
   "source": [
    "from sqlalchemy import create_engine\n",
    "\n",
    "# Configura la conexión a la base de datos local\n",
    "db_user = 'IgnaPrueba'\n",
    "db_pass = 'DAFTHENRY'\n",
    "db_name = 'DrinkingTeamDB'\n",
    "db_host = 'DESKTOP-NP4VJ1H\\SQLEXPRESS'  # Para entornos locales, a menudo es 'localhost' o '127.0.0.1'\n",
    "db_port = '1433'  # Puerto predeterminado de SQL Server, puede variar si has configurado otro\n",
    "\n",
    "# Crear la cadena de conexión\n",
    "engine = create_engine(f'mssql+pyodbc://{db_user}:{db_pass}@{db_host}:{db_port}/{db_name}?driver=ODBC+Driver+17+for+SQL+Server')\n"
   ]
  },
  {
   "cell_type": "markdown",
   "metadata": {},
   "source": [
    "Aqui estoy leyendo todo el codigo de Compras. Hay que hacer lo mismo con los otros 3 dataset, pero hay que ver si los leemos completos o si solamente leemos las columnas que nos interesan. En lo personal, iria solamente por las columnas que nos interesan cargar los datos en la base de datos. "
   ]
  },
  {
   "cell_type": "code",
   "execution_count": 52,
   "metadata": {},
   "outputs": [],
   "source": [
    "#df = pd.read_csv('https://drive.usercontent.google.com/download?id=1Id7ERr7pXVJCfempvpEzseJ8WPF_Hs5j&export=download&authuser=0&confirm=t&uuid=3f33a3fd-2696-4250-b026-b62f6c445e4a&at=APZUnTUbyMP2tLICvQCO15n8Z4fY%3A1723646561085')\n",
    "# columna_a_cargar = ['Store']\n",
    "df = pd.read_csv('https://drive.usercontent.google.com/download?id=1r0DuLK9JZTbx4ouuuYEGLUS4lZvsa8lG&export=download&authuser=1&confirm=t&uuid=7c1bdf54-2f1b-48d3-87fe-d157d9d9b221&at=APZUnTU_jAENsVpPMq_R9-SF1OpY:1724011140819')"
   ]
  },
  {
   "cell_type": "markdown",
   "metadata": {},
   "source": [
    "Este codigo de abajo, no se termino usando, pero lo dejamos por el momento por las dudas que lo vayamos a usar. "
   ]
  },
  {
   "cell_type": "code",
   "execution_count": 62,
   "metadata": {},
   "outputs": [],
   "source": [
    "columna_a_cargar = ['Brand', 'Description']\n",
    "paraCompletarTablaMarca = pd.read_csv('https://drive.usercontent.google.com/download?id=1r0DuLK9JZTbx4ouuuYEGLUS4lZvsa8lG&export=download&authuser=1&confirm=t&uuid=7c1bdf54-2f1b-48d3-87fe-d157d9d9b221&at=APZUnTU_jAENsVpPMq_R9-SF1OpY:1724011140819', usecols=columna_a_cargar)"
   ]
  },
  {
   "cell_type": "markdown",
   "metadata": {},
   "source": [
    "Este \"columna a cargar 2\" es el que terminamos usando para la tabla de Marcas 2 después de hacer varios intentos, se pudo cargar los datos desde cvs limpio hacia la base de datos, a traves de python."
   ]
  },
  {
   "cell_type": "code",
   "execution_count": 66,
   "metadata": {},
   "outputs": [],
   "source": [
    "columna_a_cargar2 = ['Description']\n",
    "paraCompletarTablaMarca2 = pd.read_csv('https://drive.usercontent.google.com/download?id=1r0DuLK9JZTbx4ouuuYEGLUS4lZvsa8lG&export=download&authuser=1&confirm=t&uuid=7c1bdf54-2f1b-48d3-87fe-d157d9d9b221&at=APZUnTU_jAENsVpPMq_R9-SF1OpY:1724011140819', usecols=columna_a_cargar2)"
   ]
  },
  {
   "cell_type": "code",
   "execution_count": 68,
   "metadata": {},
   "outputs": [
    {
     "data": {
      "text/plain": [
       "474"
      ]
     },
     "execution_count": 68,
     "metadata": {},
     "output_type": "execute_result"
    }
   ],
   "source": [
    "# Antes de hacer correr este codigo, cambiar en la tabla de sql el nombre de BRAND por el de Description. Y tmb, ponele INDENTITY al id\n",
    "paraCompletarTablaMarca2.to_sql('Marcas2', engine, if_exists='append', index=False)"
   ]
  },
  {
   "cell_type": "markdown",
   "metadata": {},
   "source": [
    "se deja el siguiente codigo en comentario, es para no tener que cambiar los nombres en la base de datos, solamente hacer un merge entre sql y los cvs"
   ]
  },
  {
   "cell_type": "code",
   "execution_count": null,
   "metadata": {},
   "outputs": [],
   "source": [
    "# df.rename(columns={'columna1': 'nombre_db1', 'columna2': 'nombre_db2'}, inplace=True)"
   ]
  },
  {
   "cell_type": "code",
   "execution_count": null,
   "metadata": {},
   "outputs": [],
   "source": []
  },
  {
   "cell_type": "markdown",
   "metadata": {},
   "source": [
    "## Vamos a realizar la lectura para luego realizar la carga en la base de datos."
   ]
  },
  {
   "cell_type": "code",
   "execution_count": 5,
   "metadata": {},
   "outputs": [],
   "source": [
    "proveedor = ['VendorName', 'VendorNumber']\n",
    "tablaProveedores = pd.read_csv('https://drive.usercontent.google.com/download?id=1r0DuLK9JZTbx4ouuuYEGLUS4lZvsa8lG&export=download&authuser=1&confirm=t&uuid=7c1bdf54-2f1b-48d3-87fe-d157d9d9b221&at=APZUnTU_jAENsVpPMq_R9-SF1OpY:1724011140819', usecols=proveedor)"
   ]
  },
  {
   "cell_type": "code",
   "execution_count": 6,
   "metadata": {},
   "outputs": [],
   "source": [
    "productos = ['Brand', 'Description', 'Volume']\n",
    "tablaProductos = pd.read_csv('https://drive.usercontent.google.com/download?id=1eQRPyLADEvVZW03fYWv9igZGxRNrTV2N&export=download&authuser=1&confirm=t&uuid=9727b1f3-4032-4414-b1ad-94b6542c1631&at=APZUnTU4Li_ldcTI0kVOaw_doqwB:1724010882647', usecols=productos)"
   ]
  },
  {
   "cell_type": "code",
   "execution_count": 7,
   "metadata": {},
   "outputs": [],
   "source": [
    "tiendas = ['Store', 'City']\n",
    "tablaTiendas = pd.read_csv('https://drive.usercontent.google.com/download?id=1-n6LPzVEQ5tXXB54O1dLFoFUCwqq4nOW&export=download&authuser=1&confirm=t&uuid=367119ce-9a51-4201-90e1-a02243ea8709&at=APZUnTWL2Pg-H8QeoRX1zXzmmQwU:1724010977504', usecols=tiendas)"
   ]
  },
  {
   "cell_type": "code",
   "execution_count": 8,
   "metadata": {},
   "outputs": [],
   "source": [
    "inventarioInicial = ['Price', 'startDate','onHand']\n",
    "tablaInventariosInicial = pd.read_csv('https://drive.usercontent.google.com/download?id=1-n6LPzVEQ5tXXB54O1dLFoFUCwqq4nOW&export=download&authuser=1&confirm=t&uuid=367119ce-9a51-4201-90e1-a02243ea8709&at=APZUnTWL2Pg-H8QeoRX1zXzmmQwU:1724010977504', usecols=inventarioInicial)"
   ]
  },
  {
   "cell_type": "code",
   "execution_count": 10,
   "metadata": {},
   "outputs": [],
   "source": [
    "inventarioFinal = ['endDate','onHand']\n",
    "tablaInventariosFinal = pd.read_csv('https://drive.usercontent.google.com/download?id=1rdgh46E0dkb0emyE3v8JWh3uGSqRUE0L&export=download&authuser=1&confirm=t&uuid=ef5cabed-1a9f-4f48-9afc-7e9a50b18b82&at=APZUnTXez340bLeUZnJCE9g0KVru:1724011178592', usecols=inventarioFinal)"
   ]
  },
  {
   "cell_type": "code",
   "execution_count": 11,
   "metadata": {},
   "outputs": [],
   "source": [
    "ventas = ['SalesQuantity','SalesDollars','SalesPrice','SalesDate']\n",
    "tablaVentas = pd.read_csv('https://drive.usercontent.google.com/download?id=1eQRPyLADEvVZW03fYWv9igZGxRNrTV2N&export=download&authuser=1&confirm=t&uuid=9727b1f3-4032-4414-b1ad-94b6542c1631&at=APZUnTU4Li_ldcTI0kVOaw_doqwB:1724010882647', usecols=ventas)"
   ]
  },
  {
   "cell_type": "code",
   "execution_count": 12,
   "metadata": {},
   "outputs": [],
   "source": [
    "compras = ['PONumber','PODate','ReceivingDate','InvoiceDate', 'PayDate','PurchasePrice','Quantity','Dollars']\n",
    "tablaCompras = pd.read_csv('https://drive.usercontent.google.com/download?id=1r0DuLK9JZTbx4ouuuYEGLUS4lZvsa8lG&export=download&authuser=1&confirm=t&uuid=7c1bdf54-2f1b-48d3-87fe-d157d9d9b221&at=APZUnTU_jAENsVpPMq_R9-SF1OpY:1724011140819', usecols=compras)"
   ]
  },
  {
   "cell_type": "markdown",
   "metadata": {},
   "source": [
    "## Vamos a igual los nombres de las tablas para poder cargar los datos"
   ]
  },
  {
   "cell_type": "code",
   "execution_count": 33,
   "metadata": {},
   "outputs": [],
   "source": [
    "tablaProveedores.rename(columns={'VendorName': 'Nombre', 'VendorNumber': 'NumeroProveedor'}, inplace=True)\n",
    "tablaProductos.rename(columns={'Brand': 'Marca', 'Description': 'Nombre', 'Volume': 'Tamanio'}, inplace=True)\n",
    "tablaTiendas.rename(columns={'Store': 'NumeroTienda', 'City': 'Ciudad'}, inplace=True)\n",
    "tablaInventariosInicial.rename(columns={'Price': 'Precio', 'startDate': 'FechaInicial', 'onHand': 'StockInicial'}, inplace=True)\n",
    "tablaInventariosFinal.rename(columns={'endDate': 'FechaFinal', 'onHand': 'StockFinal'}, inplace=True)\n",
    "tablaVentas.rename(columns={'SalesQuantity': 'CantidadVendida', 'SalesDollars': 'TotalVenta', 'SalesPrice': 'PrecioVenta', 'SalesDate': 'FechaVenta'}, inplace=True)\n",
    "tablaCompras.rename(columns={'PONumber': 'NumeroOrdenCompra', 'PODate': 'FechaOrdenCompra', 'ReceivingDate': 'FechaRecibido', 'InvoiceDate': 'FechaFacturado', 'PayDate': 'FechaPagado', 'PurchasePrice': 'PrecioCompra', 'Quantity': 'Cantidad', 'Dollars': 'TotalCompra'}, inplace=True)\n"
   ]
  },
  {
   "cell_type": "code",
   "execution_count": 21,
   "metadata": {},
   "outputs": [
    {
     "data": {
      "text/plain": [
       "Index(['NumeroProveedor', 'Nombre'], dtype='object')"
      ]
     },
     "execution_count": 21,
     "metadata": {},
     "output_type": "execute_result"
    }
   ],
   "source": [
    "tablaProveedores.columns"
   ]
  },
  {
   "cell_type": "code",
   "execution_count": 22,
   "metadata": {},
   "outputs": [
    {
     "name": "stdout",
     "output_type": "stream",
     "text": [
      "['ALTAMAR BRANDS LLC         ' 'AMERICAN VINTAGE BEVERAGE  '\n",
      " 'ATLANTIC IMPORTING COMPANY ' 'BACARDI USA INC            '\n",
      " 'BANFI PRODUCTS CORP        ' 'BLACK PRINCE DISTILLERY INC'\n",
      " 'BROWN-FORMAN CORP          ' 'BULLY BOY DISTILLERS       '\n",
      " 'CALEDONIA SPIRITS INC      ' 'CAMPARI AMERICA            '\n",
      " 'CANDIA VINEYARDS           ' 'CASTLE BRANDS CORP.        '\n",
      " 'CENTEUR IMPORTS LLC        ' 'CHARLES JACQUIN ET CIE INC '\n",
      " 'CONSTELLATION BRANDS INC   ' 'CRUSH WINES                '\n",
      " 'DELICATO VINEYARDS INC     ' 'DIAGEO CHATEAU ESTATE WINES'\n",
      " 'DIAGEO NORTH AMERICA INC   ' 'DISARONNO INTERNATIONAL LLC'\n",
      " 'DJINN SPIRITS LLC          ' 'DUGGANS DISTILLED PRODUCTS '\n",
      " 'E & J GALLO WINERY         ' 'EDRINGTON AMERICAS         '\n",
      " 'FABRIZIA SPIRITS LLC       ' 'FLAG HILL WINERY & VINEYARD'\n",
      " 'FORTUNE WINE BROKERS LLC   ' 'FREDERICK WILDMAN & SONS   '\n",
      " 'HEAVEN HILL DISTILLERIES   ' 'HOOD RIVER DISTILLERS, Inc.'\n",
      " 'INCREDIBREW INC            ' 'JEWELL TOWNE VINEYARDS     '\n",
      " 'JIM BEAM BRANDS COMPANY    ' 'KLIN SPIRITS LLC           '\n",
      " 'KOBRAND CORPORATION        ' 'LABELLE VYDS AND WINERY    '\n",
      " 'LAIRD & CO                 ' 'LATITUDE BEVERAGE COMPANY  '\n",
      " 'LUXCO INC                  ' 'M S WALKER INC             '\n",
      " 'MAJESTIC FINE WINES        ' 'MARSALLE COMPANY           '\n",
      " 'MARTIGNETTI COMPANIES ' 'MARTIGNETTI COMPANIES'\n",
      " 'MCCORMICK DISTILLING CO    ' 'MHW LTD                    '\n",
      " 'MOET HENNESSY USA INC      ' 'MOONLIGHT MEADERY          '\n",
      " 'NICHE W & S                ' 'OLE SMOKY DISTILLERY LLC   '\n",
      " 'PALM BAY INTERNATIONAL INC ' 'PERFECTA WINES             '\n",
      " 'PERNOD RICARD USA          ' 'PHILLIPS PRODUCTS CO.      '\n",
      " 'PINE STATE TRADING CO      ' 'POVERTY LANE ORCHARDS      '\n",
      " 'PREMIER DISTRIBUTORS       ' 'PROXIMO SPIRITS INC.       ' 'PSP WINES '\n",
      " 'REMY COINTREAU USA INC     ' 'Russian Standard Vodka     '\n",
      " 'SAZERAC CO INC             ' 'SAZERAC NORTH AMERICA INC. '\n",
      " 'SEA HAGG DISTILLERY LLC    ' 'Serralles Usa LLC          '\n",
      " 'SHAW ROSS INT L IMP LTD    ' 'SIDNEY FRANK IMPORTING CO  '\n",
      " 'SOUTHERN WINE & SPIRITS NE ' 'STAR INDUSTRIES INC.       '\n",
      " 'STATE WINE & SPIRITS   ' 'STE MICHELLE WINE ESTATES  '\n",
      " 'STOLI GROUP,(USA) LLC      ' 'SURVILLE ENTERPRISES CORP  '\n",
      " 'SWEET BABY VINEYARD        ' 'TAKARA SAKE USA INC        '\n",
      " 'TALL SHIP DISTILLERY LLC   ' 'TREASURY WINE ESTATES      '\n",
      " 'TRINCHERO FAMILY ESTATES   ' 'ULTRA BEVERAGE COMPANY LLP '\n",
      " 'VINEDREA WINES LLC         ' 'VINEXTRA INC               '\n",
      " 'VINEYARD BRANDS INC        ' 'VINILANDIA USA             '\n",
      " 'VRANKEN AMERICA            ' 'WEIN BAUER INC             '\n",
      " 'WESTERN SPIRITS BEVERAGE CO' 'WILLIAM GRANT & SONS INC   '\n",
      " 'WINE GROUP INC             ' 'ZORVINO VINEYARDS          '\n",
      " 'APPOLO VINEYARDS LLC       ' 'BRONCO WINE COMPANY        '\n",
      " 'Dunn Wine Brokers          ' 'FULCHINO VINEYARD INC      '\n",
      " 'HAUNTING WHISPER VYDS      ' 'PREMIUM PORT WINES, INC.   '\n",
      " 'SEA BREEZE CELLARS LLC     ' 'SMOKY QUARTZ DISTILLERY LLC'\n",
      " 'STELLAR IMPORTING CO LLC   ' 'THE PIERPONT GROUP LLC     '\n",
      " 'TY KU LLC                  ' 'BLACK ROCK SPIRITS LLC     '\n",
      " 'Circa Wines                ' 'TAMWORTH DISTILLING        '\n",
      " 'THE IMPORTED GRAPE LLC     ' 'WALPOLE MTN VIEW WINERY    '\n",
      " 'MILTONS DISTRIBUTING CO    ' 'ALISA CARR BEVERAGES           '\n",
      " 'CAPSTONE INTERNATIONAL     ' 'MANGO BOTTLING INC         '\n",
      " 'R.P.IMPORTS INC            ' 'SWEETWATER FARM         '\n",
      " 'UNCORKED       ' 'HIGHLAND WINE MERCHANTS LLC'\n",
      " 'PARK STREET IMPORTS LLC    ' 'IRA GOLDMAN AND WILLIAMS, LLP          '\n",
      " 'SILVER MOUNTAIN CIDERS     ' 'FANTASY FINE WINES CORP    '\n",
      " 'ADAMBA IMPORTS INTL INC    ' 'AMERICAN SPIRITS EXCHANGE  '\n",
      " 'TRUETT HURST               ' 'STARK BREWING COMPANY      '\n",
      " 'SOUTHERN GLAZERS W&S OF NE ' 'GILMANTON WINERY & VINEYARD'\n",
      " 'FLAVOR ESSENCE INC         ' 'LAUREATE IMPORTS CO        '\n",
      " 'BLACK COVE BEVERAGES       ' 'LOYAL DOG WINERY           '\n",
      " 'VINEYARD BRANDS LLC        ' 'AAPER ALCOHOL & CHEMICAL CO']\n"
     ]
    }
   ],
   "source": [
    "proveedoresUnicos = tablaProveedores['Nombre'].unique()\n",
    "print(proveedoresUnicos)"
   ]
  },
  {
   "cell_type": "code",
   "execution_count": 24,
   "metadata": {},
   "outputs": [
    {
     "data": {
      "text/plain": [
       "474"
      ]
     },
     "execution_count": 24,
     "metadata": {},
     "output_type": "execute_result"
    }
   ],
   "source": [
    "tablaProveedores.to_sql('Proveedores', engine, if_exists='append', index=False)"
   ]
  },
  {
   "cell_type": "code",
   "execution_count": 25,
   "metadata": {},
   "outputs": [
    {
     "data": {
      "text/plain": [
       "Index(['Marca', 'Nombre', 'Volume'], dtype='object')"
      ]
     },
     "execution_count": 25,
     "metadata": {},
     "output_type": "execute_result"
    }
   ],
   "source": [
    "tablaProductos.columns"
   ]
  },
  {
   "cell_type": "code",
   "execution_count": 26,
   "metadata": {},
   "outputs": [],
   "source": [
    "productosUnicos = tablaProductos['Nombre'].unique()\n"
   ]
  },
  {
   "cell_type": "code",
   "execution_count": 29,
   "metadata": {},
   "outputs": [
    {
     "data": {
      "text/plain": [
       "(1048575, 3)"
      ]
     },
     "execution_count": 29,
     "metadata": {},
     "output_type": "execute_result"
    }
   ],
   "source": [
    "tablaProductos.shape\n"
   ]
  },
  {
   "cell_type": "code",
   "execution_count": 30,
   "metadata": {},
   "outputs": [
    {
     "data": {
      "text/plain": [
       "(6890,)"
      ]
     },
     "execution_count": 30,
     "metadata": {},
     "output_type": "execute_result"
    }
   ],
   "source": [
    "productosUnicos.shape"
   ]
  },
  {
   "cell_type": "code",
   "execution_count": 37,
   "metadata": {},
   "outputs": [
    {
     "data": {
      "text/plain": [
       "75"
      ]
     },
     "execution_count": 37,
     "metadata": {},
     "output_type": "execute_result"
    }
   ],
   "source": [
    "tablaProductos.to_sql('Productos', engine, if_exists='append', index=False)\n"
   ]
  },
  {
   "cell_type": "code",
   "execution_count": 35,
   "metadata": {},
   "outputs": [
    {
     "data": {
      "text/plain": [
       "529"
      ]
     },
     "execution_count": 35,
     "metadata": {},
     "output_type": "execute_result"
    }
   ],
   "source": [
    "tablaTiendas.to_sql('Tiendas', engine, if_exists='append', index=False)"
   ]
  },
  {
   "cell_type": "markdown",
   "metadata": {},
   "source": [
    "tengo problemas con el stock final, el siguiente codigo no corre justamente porque me dice que tengo valores nulos en stock final y obviamente no se puede rellenar la tabla del sql porque ahi no admite nulls. A REVISAR"
   ]
  },
  {
   "cell_type": "code",
   "execution_count": 41,
   "metadata": {},
   "outputs": [],
   "source": [
    "# tablaInventariosCombinada = pd.concat([tablaInventariosInicial, tablaInventariosFinal])\n",
    "# tablaInventariosCombinada.to_sql('Inventario', engine, if_exists='append', index=False)"
   ]
  },
  {
   "cell_type": "markdown",
   "metadata": {},
   "source": [
    "Van de la mano de la anterior. No corre el codigo porque como la table madre no pudo tener un valor de inventarioID, la de ventas va a fallar tambien pero deja eso como nulo que no se puede. Posiblemente se solucione cuando el codigo de arriba corra. "
   ]
  },
  {
   "cell_type": "code",
   "execution_count": 44,
   "metadata": {},
   "outputs": [],
   "source": [
    "# tablaVentas.to_sql('Ventas', engine, if_exists='append', index=False)"
   ]
  },
  {
   "cell_type": "code",
   "execution_count": 42,
   "metadata": {},
   "outputs": [
    {
     "data": {
      "text/plain": [
       "64"
      ]
     },
     "execution_count": 42,
     "metadata": {},
     "output_type": "execute_result"
    }
   ],
   "source": [
    "tablaCompras.to_sql('Compras', engine, if_exists='append', index=False)"
   ]
  }
 ],
 "metadata": {
  "kernelspec": {
   "display_name": "Python 3",
   "language": "python",
   "name": "python3"
  },
  "language_info": {
   "codemirror_mode": {
    "name": "ipython",
    "version": 3
   },
   "file_extension": ".py",
   "mimetype": "text/x-python",
   "name": "python",
   "nbconvert_exporter": "python",
   "pygments_lexer": "ipython3",
   "version": "3.10.4"
  }
 },
 "nbformat": 4,
 "nbformat_minor": 2
}
