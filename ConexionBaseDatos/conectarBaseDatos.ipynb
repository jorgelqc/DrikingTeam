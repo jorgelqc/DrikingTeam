{
 "cells": [
  {
   "cell_type": "markdown",
   "metadata": {},
   "source": [
    "### IMPORTACION DE LIBRERIAS"
   ]
  },
  {
   "cell_type": "code",
   "execution_count": 180,
   "metadata": {},
   "outputs": [],
   "source": [
    "import pyodbc\n",
    "import uuid\n",
    "import pandas as pd\n",
    "import numpy as np\n",
    "import sqlalchemy "
   ]
  },
  {
   "cell_type": "markdown",
   "metadata": {},
   "source": [
    "### CONEXION CON LA BASE EN SQL LOCAL"
   ]
  },
  {
   "cell_type": "code",
   "execution_count": 214,
   "metadata": {},
   "outputs": [],
   "source": [
    "from sqlalchemy import create_engine\n",
    "\n",
    "# Configura la conexión a la base de datos local\n",
    "db_user = 'IgnaPrueba'\n",
    "db_pass = 'DAFTHENRY'\n",
    "db_name = 'DrinkingTeamDB'\n",
    "db_host = 'DESKTOP-NP4VJ1H\\SQLEXPRESS'  # Para entornos locales, a menudo es 'localhost' o '127.0.0.1'\n",
    "db_port = '1433'  # Puerto predeterminado de SQL Server, puede variar si has configurado otro\n",
    "\n",
    "# Crear la cadena de conexión\n",
    "engine = create_engine(f'mssql+pyodbc://{db_user}:{db_pass}@{db_host}:{db_port}/{db_name}?driver=ODBC+Driver+17+for+SQL+Server')\n"
   ]
  },
  {
   "cell_type": "markdown",
   "metadata": {},
   "source": [
    "### COMPLETAR LA TABLA DE PRODUCTOS"
   ]
  },
  {
   "cell_type": "code",
   "execution_count": 182,
   "metadata": {},
   "outputs": [],
   "source": [
    "inventarioincial_df= pd.read_csv('https://drive.usercontent.google.com/download?id=1-n6LPzVEQ5tXXB54O1dLFoFUCwqq4nOW&export=download&authuser=1&confirm=t&uuid=367119ce-9a51-4201-90e1-a02243ea8709&at=APZUnTWL2Pg-H8QeoRX1zXzmmQwU:1724010977504', sep=',')"
   ]
  },
  {
   "cell_type": "code",
   "execution_count": 183,
   "metadata": {},
   "outputs": [
    {
     "data": {
      "text/html": [
       "<div>\n",
       "<style scoped>\n",
       "    .dataframe tbody tr th:only-of-type {\n",
       "        vertical-align: middle;\n",
       "    }\n",
       "\n",
       "    .dataframe tbody tr th {\n",
       "        vertical-align: top;\n",
       "    }\n",
       "\n",
       "    .dataframe thead th {\n",
       "        text-align: right;\n",
       "    }\n",
       "</style>\n",
       "<table border=\"1\" class=\"dataframe\">\n",
       "  <thead>\n",
       "    <tr style=\"text-align: right;\">\n",
       "      <th></th>\n",
       "      <th>Unnamed: 0</th>\n",
       "      <th>InventoryId</th>\n",
       "      <th>Store</th>\n",
       "      <th>City</th>\n",
       "      <th>Brand</th>\n",
       "      <th>Description</th>\n",
       "      <th>Size</th>\n",
       "      <th>onHand</th>\n",
       "      <th>Price</th>\n",
       "      <th>startDate</th>\n",
       "    </tr>\n",
       "  </thead>\n",
       "  <tbody>\n",
       "    <tr>\n",
       "      <th>0</th>\n",
       "      <td>0</td>\n",
       "      <td>1_HARDERSFIELD_58</td>\n",
       "      <td>1</td>\n",
       "      <td>HARDERSFIELD</td>\n",
       "      <td>58</td>\n",
       "      <td>Gekkeikan Black &amp; Gold Sake</td>\n",
       "      <td>750mL</td>\n",
       "      <td>8</td>\n",
       "      <td>12.99</td>\n",
       "      <td>2016-01-01</td>\n",
       "    </tr>\n",
       "    <tr>\n",
       "      <th>1</th>\n",
       "      <td>1</td>\n",
       "      <td>1_HARDERSFIELD_60</td>\n",
       "      <td>1</td>\n",
       "      <td>HARDERSFIELD</td>\n",
       "      <td>60</td>\n",
       "      <td>Canadian Club 1858 VAP</td>\n",
       "      <td>750mL</td>\n",
       "      <td>7</td>\n",
       "      <td>10.99</td>\n",
       "      <td>2016-01-01</td>\n",
       "    </tr>\n",
       "    <tr>\n",
       "      <th>2</th>\n",
       "      <td>2</td>\n",
       "      <td>1_HARDERSFIELD_62</td>\n",
       "      <td>1</td>\n",
       "      <td>HARDERSFIELD</td>\n",
       "      <td>62</td>\n",
       "      <td>Herradura Silver Tequila</td>\n",
       "      <td>750mL</td>\n",
       "      <td>6</td>\n",
       "      <td>36.99</td>\n",
       "      <td>2016-01-01</td>\n",
       "    </tr>\n",
       "    <tr>\n",
       "      <th>3</th>\n",
       "      <td>3</td>\n",
       "      <td>1_HARDERSFIELD_63</td>\n",
       "      <td>1</td>\n",
       "      <td>HARDERSFIELD</td>\n",
       "      <td>63</td>\n",
       "      <td>Herradura Reposado Tequila</td>\n",
       "      <td>750mL</td>\n",
       "      <td>3</td>\n",
       "      <td>38.99</td>\n",
       "      <td>2016-01-01</td>\n",
       "    </tr>\n",
       "    <tr>\n",
       "      <th>4</th>\n",
       "      <td>4</td>\n",
       "      <td>1_HARDERSFIELD_72</td>\n",
       "      <td>1</td>\n",
       "      <td>HARDERSFIELD</td>\n",
       "      <td>72</td>\n",
       "      <td>No. 3 London Dry Gin</td>\n",
       "      <td>750mL</td>\n",
       "      <td>6</td>\n",
       "      <td>34.99</td>\n",
       "      <td>2016-01-01</td>\n",
       "    </tr>\n",
       "    <tr>\n",
       "      <th>5</th>\n",
       "      <td>5</td>\n",
       "      <td>1_HARDERSFIELD_75</td>\n",
       "      <td>1</td>\n",
       "      <td>HARDERSFIELD</td>\n",
       "      <td>75</td>\n",
       "      <td>Three Olives Tomato Vodka</td>\n",
       "      <td>750mL</td>\n",
       "      <td>18</td>\n",
       "      <td>14.99</td>\n",
       "      <td>2016-01-01</td>\n",
       "    </tr>\n",
       "    <tr>\n",
       "      <th>6</th>\n",
       "      <td>6</td>\n",
       "      <td>1_HARDERSFIELD_77</td>\n",
       "      <td>1</td>\n",
       "      <td>HARDERSFIELD</td>\n",
       "      <td>77</td>\n",
       "      <td>Three Olives Espresso Vodka</td>\n",
       "      <td>750mL</td>\n",
       "      <td>7</td>\n",
       "      <td>14.99</td>\n",
       "      <td>2016-01-01</td>\n",
       "    </tr>\n",
       "    <tr>\n",
       "      <th>7</th>\n",
       "      <td>7</td>\n",
       "      <td>1_HARDERSFIELD_79</td>\n",
       "      <td>1</td>\n",
       "      <td>HARDERSFIELD</td>\n",
       "      <td>79</td>\n",
       "      <td>Three Olives Loopy Vodka</td>\n",
       "      <td>750mL</td>\n",
       "      <td>2</td>\n",
       "      <td>14.99</td>\n",
       "      <td>2016-01-01</td>\n",
       "    </tr>\n",
       "    <tr>\n",
       "      <th>8</th>\n",
       "      <td>8</td>\n",
       "      <td>1_HARDERSFIELD_115</td>\n",
       "      <td>1</td>\n",
       "      <td>HARDERSFIELD</td>\n",
       "      <td>115</td>\n",
       "      <td>Belvedere Vodka</td>\n",
       "      <td>Liter</td>\n",
       "      <td>5</td>\n",
       "      <td>27.99</td>\n",
       "      <td>2016-01-01</td>\n",
       "    </tr>\n",
       "    <tr>\n",
       "      <th>9</th>\n",
       "      <td>9</td>\n",
       "      <td>1_HARDERSFIELD_120</td>\n",
       "      <td>1</td>\n",
       "      <td>HARDERSFIELD</td>\n",
       "      <td>120</td>\n",
       "      <td>Tarantula Azul Tequila Gift</td>\n",
       "      <td>750mL</td>\n",
       "      <td>11</td>\n",
       "      <td>13.99</td>\n",
       "      <td>2016-01-01</td>\n",
       "    </tr>\n",
       "  </tbody>\n",
       "</table>\n",
       "</div>"
      ],
      "text/plain": [
       "   Unnamed: 0         InventoryId  Store          City  Brand  \\\n",
       "0           0   1_HARDERSFIELD_58      1  HARDERSFIELD     58   \n",
       "1           1   1_HARDERSFIELD_60      1  HARDERSFIELD     60   \n",
       "2           2   1_HARDERSFIELD_62      1  HARDERSFIELD     62   \n",
       "3           3   1_HARDERSFIELD_63      1  HARDERSFIELD     63   \n",
       "4           4   1_HARDERSFIELD_72      1  HARDERSFIELD     72   \n",
       "5           5   1_HARDERSFIELD_75      1  HARDERSFIELD     75   \n",
       "6           6   1_HARDERSFIELD_77      1  HARDERSFIELD     77   \n",
       "7           7   1_HARDERSFIELD_79      1  HARDERSFIELD     79   \n",
       "8           8  1_HARDERSFIELD_115      1  HARDERSFIELD    115   \n",
       "9           9  1_HARDERSFIELD_120      1  HARDERSFIELD    120   \n",
       "\n",
       "                   Description   Size  onHand  Price   startDate  \n",
       "0  Gekkeikan Black & Gold Sake  750mL       8  12.99  2016-01-01  \n",
       "1       Canadian Club 1858 VAP  750mL       7  10.99  2016-01-01  \n",
       "2     Herradura Silver Tequila  750mL       6  36.99  2016-01-01  \n",
       "3   Herradura Reposado Tequila  750mL       3  38.99  2016-01-01  \n",
       "4         No. 3 London Dry Gin  750mL       6  34.99  2016-01-01  \n",
       "5    Three Olives Tomato Vodka  750mL      18  14.99  2016-01-01  \n",
       "6  Three Olives Espresso Vodka  750mL       7  14.99  2016-01-01  \n",
       "7     Three Olives Loopy Vodka  750mL       2  14.99  2016-01-01  \n",
       "8              Belvedere Vodka  Liter       5  27.99  2016-01-01  \n",
       "9  Tarantula Azul Tequila Gift  750mL      11  13.99  2016-01-01  "
      ]
     },
     "execution_count": 183,
     "metadata": {},
     "output_type": "execute_result"
    }
   ],
   "source": [
    "inventarioincial_df.head(10)"
   ]
  },
  {
   "cell_type": "code",
   "execution_count": 192,
   "metadata": {},
   "outputs": [
    {
     "data": {
      "text/plain": [
       "<bound method NDFrame.describe of         Unnamed: 0         InventoryId  Store          City  Brand  \\\n",
       "0                0   1_HARDERSFIELD_58      1  HARDERSFIELD     58   \n",
       "1                1   1_HARDERSFIELD_60      1  HARDERSFIELD     60   \n",
       "2                2   1_HARDERSFIELD_62      1  HARDERSFIELD     62   \n",
       "3                3   1_HARDERSFIELD_63      1  HARDERSFIELD     63   \n",
       "4                4   1_HARDERSFIELD_72      1  HARDERSFIELD     72   \n",
       "...            ...                 ...    ...           ...    ...   \n",
       "206524      206524  79_BALLYMENA_46985     79     BALLYMENA  46985   \n",
       "206525      206525  79_BALLYMENA_47014     79     BALLYMENA  47014   \n",
       "206526      206526  79_BALLYMENA_47090     79     BALLYMENA  47090   \n",
       "206527      206527  79_BALLYMENA_90011     79     BALLYMENA  90011   \n",
       "206528      206528  79_BALLYMENA_90089     79     BALLYMENA  90089   \n",
       "\n",
       "                         Description   Size  onHand   Price   startDate  \n",
       "0        Gekkeikan Black & Gold Sake  750mL       8   12.99  2016-01-01  \n",
       "1             Canadian Club 1858 VAP  750mL       7   10.99  2016-01-01  \n",
       "2           Herradura Silver Tequila  750mL       6   36.99  2016-01-01  \n",
       "3         Herradura Reposado Tequila  750mL       3   38.99  2016-01-01  \n",
       "4               No. 3 London Dry Gin  750mL       6   34.99  2016-01-01  \n",
       "...                              ...    ...     ...     ...         ...  \n",
       "206524  Rodney Strong Cab Svgn Alexa  750mL      13   22.99  2016-01-01  \n",
       "206525           Juan Gil Jumilla Rd  750mL      13   13.99  2016-01-01  \n",
       "206526    Napa Cellars Cab Svgn Napa  750mL      19   23.99  2016-01-01  \n",
       "206527  Ch Pichon Longville 12 Pauil  750mL      12  144.99  2016-01-01  \n",
       "206528    Ch Lynch Bages 12 Pauillac  750mL      24  119.99  2016-01-01  \n",
       "\n",
       "[206529 rows x 10 columns]>"
      ]
     },
     "execution_count": 192,
     "metadata": {},
     "output_type": "execute_result"
    }
   ],
   "source": [
    "inventarioincial_df.describe"
   ]
  },
  {
   "cell_type": "code",
   "execution_count": 184,
   "metadata": {},
   "outputs": [],
   "source": [
    "inventarioFinal_df= pd.read_csv('https://drive.usercontent.google.com/download?id=1rdgh46E0dkb0emyE3v8JWh3uGSqRUE0L&export=download&authuser=1&confirm=t&uuid=ef5cabed-1a9f-4f48-9afc-7e9a50b18b82&at=APZUnTXez340bLeUZnJCE9g0KVru:1724011178592', sep=',')\n"
   ]
  },
  {
   "cell_type": "code",
   "execution_count": 193,
   "metadata": {},
   "outputs": [
    {
     "data": {
      "text/plain": [
       "<bound method NDFrame.describe of         Unnamed: 0        InventoryId  Store          City  Brand  \\\n",
       "0                0  1_HARDERSFIELD_58      1  HARDERSFIELD     58   \n",
       "1                1  1_HARDERSFIELD_62      1  HARDERSFIELD     62   \n",
       "2                2  1_HARDERSFIELD_63      1  HARDERSFIELD     63   \n",
       "3                3  1_HARDERSFIELD_72      1  HARDERSFIELD     72   \n",
       "4                4  1_HARDERSFIELD_75      1  HARDERSFIELD     75   \n",
       "...            ...                ...    ...           ...    ...   \n",
       "224484      224484  81_PEMBROKE_90087     81      PEMBROKE  90087   \n",
       "224485      224485  81_PEMBROKE_90088     81      PEMBROKE  90088   \n",
       "224486      224486  81_PEMBROKE_90089     81      PEMBROKE  90089   \n",
       "224487      224487  81_PEMBROKE_90090     81      PEMBROKE  90090   \n",
       "224488      224488  81_PEMBROKE_90604     81      PEMBROKE  90604   \n",
       "\n",
       "                         Description   Size  onHand   Price     endDate  \n",
       "0        Gekkeikan Black & Gold Sake  750mL      11   12.99  2016-12-31  \n",
       "1           Herradura Silver Tequila  750mL       7   36.99  2016-12-31  \n",
       "2         Herradura Reposado Tequila  750mL       7   38.99  2016-12-31  \n",
       "3               No. 3 London Dry Gin  750mL       4   34.99  2016-12-31  \n",
       "4          Three Olives Tomato Vodka  750mL       7   14.99  2016-12-31  \n",
       "...                              ...    ...     ...     ...         ...  \n",
       "224484  Ch Mouton Rothschild 12 Paui  750mL       3  469.99  2016-12-31  \n",
       "224485  Ch Le Petite Mouton 12 Pauil  750mL       3  134.99  2016-12-31  \n",
       "224486    Ch Lynch Bages 12 Pauillac  750mL       3  119.99  2016-12-31  \n",
       "224487       Ch Lafite Rothschild 12  750mL       3  649.99  2016-12-31  \n",
       "224488        Ch Lynch Bages Pauilac  750mL       2  119.99  2016-12-31  \n",
       "\n",
       "[224489 rows x 10 columns]>"
      ]
     },
     "execution_count": 193,
     "metadata": {},
     "output_type": "execute_result"
    }
   ],
   "source": [
    "inventarioFinal_df.describe"
   ]
  },
  {
   "cell_type": "code",
   "execution_count": 185,
   "metadata": {},
   "outputs": [
    {
     "data": {
      "text/html": [
       "<div>\n",
       "<style scoped>\n",
       "    .dataframe tbody tr th:only-of-type {\n",
       "        vertical-align: middle;\n",
       "    }\n",
       "\n",
       "    .dataframe tbody tr th {\n",
       "        vertical-align: top;\n",
       "    }\n",
       "\n",
       "    .dataframe thead th {\n",
       "        text-align: right;\n",
       "    }\n",
       "</style>\n",
       "<table border=\"1\" class=\"dataframe\">\n",
       "  <thead>\n",
       "    <tr style=\"text-align: right;\">\n",
       "      <th></th>\n",
       "      <th>Unnamed: 0</th>\n",
       "      <th>InventoryId</th>\n",
       "      <th>Store</th>\n",
       "      <th>City</th>\n",
       "      <th>Brand</th>\n",
       "      <th>Description</th>\n",
       "      <th>Size</th>\n",
       "      <th>onHand</th>\n",
       "      <th>Price</th>\n",
       "      <th>endDate</th>\n",
       "    </tr>\n",
       "  </thead>\n",
       "  <tbody>\n",
       "    <tr>\n",
       "      <th>0</th>\n",
       "      <td>0</td>\n",
       "      <td>1_HARDERSFIELD_58</td>\n",
       "      <td>1</td>\n",
       "      <td>HARDERSFIELD</td>\n",
       "      <td>58</td>\n",
       "      <td>Gekkeikan Black &amp; Gold Sake</td>\n",
       "      <td>750mL</td>\n",
       "      <td>11</td>\n",
       "      <td>12.99</td>\n",
       "      <td>2016-12-31</td>\n",
       "    </tr>\n",
       "    <tr>\n",
       "      <th>1</th>\n",
       "      <td>1</td>\n",
       "      <td>1_HARDERSFIELD_62</td>\n",
       "      <td>1</td>\n",
       "      <td>HARDERSFIELD</td>\n",
       "      <td>62</td>\n",
       "      <td>Herradura Silver Tequila</td>\n",
       "      <td>750mL</td>\n",
       "      <td>7</td>\n",
       "      <td>36.99</td>\n",
       "      <td>2016-12-31</td>\n",
       "    </tr>\n",
       "    <tr>\n",
       "      <th>2</th>\n",
       "      <td>2</td>\n",
       "      <td>1_HARDERSFIELD_63</td>\n",
       "      <td>1</td>\n",
       "      <td>HARDERSFIELD</td>\n",
       "      <td>63</td>\n",
       "      <td>Herradura Reposado Tequila</td>\n",
       "      <td>750mL</td>\n",
       "      <td>7</td>\n",
       "      <td>38.99</td>\n",
       "      <td>2016-12-31</td>\n",
       "    </tr>\n",
       "    <tr>\n",
       "      <th>3</th>\n",
       "      <td>3</td>\n",
       "      <td>1_HARDERSFIELD_72</td>\n",
       "      <td>1</td>\n",
       "      <td>HARDERSFIELD</td>\n",
       "      <td>72</td>\n",
       "      <td>No. 3 London Dry Gin</td>\n",
       "      <td>750mL</td>\n",
       "      <td>4</td>\n",
       "      <td>34.99</td>\n",
       "      <td>2016-12-31</td>\n",
       "    </tr>\n",
       "    <tr>\n",
       "      <th>4</th>\n",
       "      <td>4</td>\n",
       "      <td>1_HARDERSFIELD_75</td>\n",
       "      <td>1</td>\n",
       "      <td>HARDERSFIELD</td>\n",
       "      <td>75</td>\n",
       "      <td>Three Olives Tomato Vodka</td>\n",
       "      <td>750mL</td>\n",
       "      <td>7</td>\n",
       "      <td>14.99</td>\n",
       "      <td>2016-12-31</td>\n",
       "    </tr>\n",
       "    <tr>\n",
       "      <th>5</th>\n",
       "      <td>5</td>\n",
       "      <td>1_HARDERSFIELD_77</td>\n",
       "      <td>1</td>\n",
       "      <td>HARDERSFIELD</td>\n",
       "      <td>77</td>\n",
       "      <td>Three Olives Espresso Vodka</td>\n",
       "      <td>750mL</td>\n",
       "      <td>18</td>\n",
       "      <td>14.99</td>\n",
       "      <td>2016-12-31</td>\n",
       "    </tr>\n",
       "    <tr>\n",
       "      <th>6</th>\n",
       "      <td>6</td>\n",
       "      <td>1_HARDERSFIELD_79</td>\n",
       "      <td>1</td>\n",
       "      <td>HARDERSFIELD</td>\n",
       "      <td>79</td>\n",
       "      <td>Three Olives Loopy Vodka</td>\n",
       "      <td>750mL</td>\n",
       "      <td>7</td>\n",
       "      <td>14.99</td>\n",
       "      <td>2016-12-31</td>\n",
       "    </tr>\n",
       "    <tr>\n",
       "      <th>7</th>\n",
       "      <td>7</td>\n",
       "      <td>1_HARDERSFIELD_115</td>\n",
       "      <td>1</td>\n",
       "      <td>HARDERSFIELD</td>\n",
       "      <td>115</td>\n",
       "      <td>Belvedere Vodka</td>\n",
       "      <td>Liter</td>\n",
       "      <td>35</td>\n",
       "      <td>27.99</td>\n",
       "      <td>2016-12-31</td>\n",
       "    </tr>\n",
       "    <tr>\n",
       "      <th>8</th>\n",
       "      <td>8</td>\n",
       "      <td>1_HARDERSFIELD_126</td>\n",
       "      <td>1</td>\n",
       "      <td>HARDERSFIELD</td>\n",
       "      <td>126</td>\n",
       "      <td>Grey Goose Vodka</td>\n",
       "      <td>Liter</td>\n",
       "      <td>36</td>\n",
       "      <td>29.99</td>\n",
       "      <td>2016-12-31</td>\n",
       "    </tr>\n",
       "    <tr>\n",
       "      <th>9</th>\n",
       "      <td>9</td>\n",
       "      <td>1_HARDERSFIELD_159</td>\n",
       "      <td>1</td>\n",
       "      <td>HARDERSFIELD</td>\n",
       "      <td>159</td>\n",
       "      <td>Glenmorangie Original VAP</td>\n",
       "      <td>750mL + 2/</td>\n",
       "      <td>8</td>\n",
       "      <td>34.99</td>\n",
       "      <td>2016-12-31</td>\n",
       "    </tr>\n",
       "  </tbody>\n",
       "</table>\n",
       "</div>"
      ],
      "text/plain": [
       "   Unnamed: 0         InventoryId  Store          City  Brand  \\\n",
       "0           0   1_HARDERSFIELD_58      1  HARDERSFIELD     58   \n",
       "1           1   1_HARDERSFIELD_62      1  HARDERSFIELD     62   \n",
       "2           2   1_HARDERSFIELD_63      1  HARDERSFIELD     63   \n",
       "3           3   1_HARDERSFIELD_72      1  HARDERSFIELD     72   \n",
       "4           4   1_HARDERSFIELD_75      1  HARDERSFIELD     75   \n",
       "5           5   1_HARDERSFIELD_77      1  HARDERSFIELD     77   \n",
       "6           6   1_HARDERSFIELD_79      1  HARDERSFIELD     79   \n",
       "7           7  1_HARDERSFIELD_115      1  HARDERSFIELD    115   \n",
       "8           8  1_HARDERSFIELD_126      1  HARDERSFIELD    126   \n",
       "9           9  1_HARDERSFIELD_159      1  HARDERSFIELD    159   \n",
       "\n",
       "                   Description        Size  onHand  Price     endDate  \n",
       "0  Gekkeikan Black & Gold Sake       750mL      11  12.99  2016-12-31  \n",
       "1     Herradura Silver Tequila       750mL       7  36.99  2016-12-31  \n",
       "2   Herradura Reposado Tequila       750mL       7  38.99  2016-12-31  \n",
       "3         No. 3 London Dry Gin       750mL       4  34.99  2016-12-31  \n",
       "4    Three Olives Tomato Vodka       750mL       7  14.99  2016-12-31  \n",
       "5  Three Olives Espresso Vodka       750mL      18  14.99  2016-12-31  \n",
       "6     Three Olives Loopy Vodka       750mL       7  14.99  2016-12-31  \n",
       "7              Belvedere Vodka       Liter      35  27.99  2016-12-31  \n",
       "8             Grey Goose Vodka       Liter      36  29.99  2016-12-31  \n",
       "9    Glenmorangie Original VAP  750mL + 2/       8  34.99  2016-12-31  "
      ]
     },
     "execution_count": 185,
     "metadata": {},
     "output_type": "execute_result"
    }
   ],
   "source": [
    "inventarioFinal_df.head(10)"
   ]
  },
  {
   "cell_type": "code",
   "execution_count": 187,
   "metadata": {},
   "outputs": [],
   "source": [
    "columnasInventarioFinal_df = inventarioFinal_df[['InventoryId', 'onHand', 'endDate']]"
   ]
  },
  {
   "cell_type": "code",
   "execution_count": 188,
   "metadata": {},
   "outputs": [
    {
     "data": {
      "text/html": [
       "<div>\n",
       "<style scoped>\n",
       "    .dataframe tbody tr th:only-of-type {\n",
       "        vertical-align: middle;\n",
       "    }\n",
       "\n",
       "    .dataframe tbody tr th {\n",
       "        vertical-align: top;\n",
       "    }\n",
       "\n",
       "    .dataframe thead th {\n",
       "        text-align: right;\n",
       "    }\n",
       "</style>\n",
       "<table border=\"1\" class=\"dataframe\">\n",
       "  <thead>\n",
       "    <tr style=\"text-align: right;\">\n",
       "      <th></th>\n",
       "      <th>InventoryId</th>\n",
       "      <th>onHand</th>\n",
       "      <th>endDate</th>\n",
       "    </tr>\n",
       "  </thead>\n",
       "  <tbody>\n",
       "    <tr>\n",
       "      <th>0</th>\n",
       "      <td>1_HARDERSFIELD_58</td>\n",
       "      <td>11</td>\n",
       "      <td>2016-12-31</td>\n",
       "    </tr>\n",
       "    <tr>\n",
       "      <th>1</th>\n",
       "      <td>1_HARDERSFIELD_62</td>\n",
       "      <td>7</td>\n",
       "      <td>2016-12-31</td>\n",
       "    </tr>\n",
       "    <tr>\n",
       "      <th>2</th>\n",
       "      <td>1_HARDERSFIELD_63</td>\n",
       "      <td>7</td>\n",
       "      <td>2016-12-31</td>\n",
       "    </tr>\n",
       "    <tr>\n",
       "      <th>3</th>\n",
       "      <td>1_HARDERSFIELD_72</td>\n",
       "      <td>4</td>\n",
       "      <td>2016-12-31</td>\n",
       "    </tr>\n",
       "    <tr>\n",
       "      <th>4</th>\n",
       "      <td>1_HARDERSFIELD_75</td>\n",
       "      <td>7</td>\n",
       "      <td>2016-12-31</td>\n",
       "    </tr>\n",
       "  </tbody>\n",
       "</table>\n",
       "</div>"
      ],
      "text/plain": [
       "         InventoryId  onHand     endDate\n",
       "0  1_HARDERSFIELD_58      11  2016-12-31\n",
       "1  1_HARDERSFIELD_62       7  2016-12-31\n",
       "2  1_HARDERSFIELD_63       7  2016-12-31\n",
       "3  1_HARDERSFIELD_72       4  2016-12-31\n",
       "4  1_HARDERSFIELD_75       7  2016-12-31"
      ]
     },
     "execution_count": 188,
     "metadata": {},
     "output_type": "execute_result"
    }
   ],
   "source": [
    "columnasInventarioFinal_df.head(5)"
   ]
  },
  {
   "cell_type": "code",
   "execution_count": 189,
   "metadata": {},
   "outputs": [],
   "source": [
    "inventario_df = pd.merge(inventarioincial_df, columnasInventarioFinal_df, on='InventoryId')"
   ]
  },
  {
   "cell_type": "code",
   "execution_count": 190,
   "metadata": {},
   "outputs": [
    {
     "data": {
      "text/html": [
       "<div>\n",
       "<style scoped>\n",
       "    .dataframe tbody tr th:only-of-type {\n",
       "        vertical-align: middle;\n",
       "    }\n",
       "\n",
       "    .dataframe tbody tr th {\n",
       "        vertical-align: top;\n",
       "    }\n",
       "\n",
       "    .dataframe thead th {\n",
       "        text-align: right;\n",
       "    }\n",
       "</style>\n",
       "<table border=\"1\" class=\"dataframe\">\n",
       "  <thead>\n",
       "    <tr style=\"text-align: right;\">\n",
       "      <th></th>\n",
       "      <th>Unnamed: 0</th>\n",
       "      <th>InventoryId</th>\n",
       "      <th>Store</th>\n",
       "      <th>City</th>\n",
       "      <th>Brand</th>\n",
       "      <th>Description</th>\n",
       "      <th>Size</th>\n",
       "      <th>onHand_x</th>\n",
       "      <th>Price</th>\n",
       "      <th>startDate</th>\n",
       "      <th>onHand_y</th>\n",
       "      <th>endDate</th>\n",
       "    </tr>\n",
       "  </thead>\n",
       "  <tbody>\n",
       "    <tr>\n",
       "      <th>0</th>\n",
       "      <td>0</td>\n",
       "      <td>1_HARDERSFIELD_58</td>\n",
       "      <td>1</td>\n",
       "      <td>HARDERSFIELD</td>\n",
       "      <td>58</td>\n",
       "      <td>Gekkeikan Black &amp; Gold Sake</td>\n",
       "      <td>750mL</td>\n",
       "      <td>8</td>\n",
       "      <td>12.99</td>\n",
       "      <td>2016-01-01</td>\n",
       "      <td>11</td>\n",
       "      <td>2016-12-31</td>\n",
       "    </tr>\n",
       "    <tr>\n",
       "      <th>1</th>\n",
       "      <td>2</td>\n",
       "      <td>1_HARDERSFIELD_62</td>\n",
       "      <td>1</td>\n",
       "      <td>HARDERSFIELD</td>\n",
       "      <td>62</td>\n",
       "      <td>Herradura Silver Tequila</td>\n",
       "      <td>750mL</td>\n",
       "      <td>6</td>\n",
       "      <td>36.99</td>\n",
       "      <td>2016-01-01</td>\n",
       "      <td>7</td>\n",
       "      <td>2016-12-31</td>\n",
       "    </tr>\n",
       "    <tr>\n",
       "      <th>2</th>\n",
       "      <td>3</td>\n",
       "      <td>1_HARDERSFIELD_63</td>\n",
       "      <td>1</td>\n",
       "      <td>HARDERSFIELD</td>\n",
       "      <td>63</td>\n",
       "      <td>Herradura Reposado Tequila</td>\n",
       "      <td>750mL</td>\n",
       "      <td>3</td>\n",
       "      <td>38.99</td>\n",
       "      <td>2016-01-01</td>\n",
       "      <td>7</td>\n",
       "      <td>2016-12-31</td>\n",
       "    </tr>\n",
       "    <tr>\n",
       "      <th>3</th>\n",
       "      <td>4</td>\n",
       "      <td>1_HARDERSFIELD_72</td>\n",
       "      <td>1</td>\n",
       "      <td>HARDERSFIELD</td>\n",
       "      <td>72</td>\n",
       "      <td>No. 3 London Dry Gin</td>\n",
       "      <td>750mL</td>\n",
       "      <td>6</td>\n",
       "      <td>34.99</td>\n",
       "      <td>2016-01-01</td>\n",
       "      <td>4</td>\n",
       "      <td>2016-12-31</td>\n",
       "    </tr>\n",
       "    <tr>\n",
       "      <th>4</th>\n",
       "      <td>5</td>\n",
       "      <td>1_HARDERSFIELD_75</td>\n",
       "      <td>1</td>\n",
       "      <td>HARDERSFIELD</td>\n",
       "      <td>75</td>\n",
       "      <td>Three Olives Tomato Vodka</td>\n",
       "      <td>750mL</td>\n",
       "      <td>18</td>\n",
       "      <td>14.99</td>\n",
       "      <td>2016-01-01</td>\n",
       "      <td>7</td>\n",
       "      <td>2016-12-31</td>\n",
       "    </tr>\n",
       "  </tbody>\n",
       "</table>\n",
       "</div>"
      ],
      "text/plain": [
       "   Unnamed: 0        InventoryId  Store          City  Brand  \\\n",
       "0           0  1_HARDERSFIELD_58      1  HARDERSFIELD     58   \n",
       "1           2  1_HARDERSFIELD_62      1  HARDERSFIELD     62   \n",
       "2           3  1_HARDERSFIELD_63      1  HARDERSFIELD     63   \n",
       "3           4  1_HARDERSFIELD_72      1  HARDERSFIELD     72   \n",
       "4           5  1_HARDERSFIELD_75      1  HARDERSFIELD     75   \n",
       "\n",
       "                   Description   Size  onHand_x  Price   startDate  onHand_y  \\\n",
       "0  Gekkeikan Black & Gold Sake  750mL         8  12.99  2016-01-01        11   \n",
       "1     Herradura Silver Tequila  750mL         6  36.99  2016-01-01         7   \n",
       "2   Herradura Reposado Tequila  750mL         3  38.99  2016-01-01         7   \n",
       "3         No. 3 London Dry Gin  750mL         6  34.99  2016-01-01         4   \n",
       "4    Three Olives Tomato Vodka  750mL        18  14.99  2016-01-01         7   \n",
       "\n",
       "      endDate  \n",
       "0  2016-12-31  \n",
       "1  2016-12-31  \n",
       "2  2016-12-31  \n",
       "3  2016-12-31  \n",
       "4  2016-12-31  "
      ]
     },
     "execution_count": 190,
     "metadata": {},
     "output_type": "execute_result"
    }
   ],
   "source": [
    "inventario_df.head(5)"
   ]
  },
  {
   "cell_type": "code",
   "execution_count": 191,
   "metadata": {},
   "outputs": [
    {
     "data": {
      "text/plain": [
       "Unnamed: 0     0\n",
       "InventoryId    0\n",
       "Store          0\n",
       "City           0\n",
       "Brand          0\n",
       "Description    0\n",
       "Size           0\n",
       "onHand_x       0\n",
       "Price          0\n",
       "startDate      0\n",
       "onHand_y       0\n",
       "endDate        0\n",
       "dtype: int64"
      ]
     },
     "execution_count": 191,
     "metadata": {},
     "output_type": "execute_result"
    }
   ],
   "source": [
    "inventario_df.isnull().sum()"
   ]
  },
  {
   "cell_type": "code",
   "execution_count": 297,
   "metadata": {},
   "outputs": [],
   "source": [
    "inventarioTotal = pd.read_csv(r\"C:\\Users\\Usuario1\\Desktop\\HENRY\\Trabajo Final\\Libro1.csv\", sep=';')"
   ]
  },
  {
   "cell_type": "code",
   "execution_count": 298,
   "metadata": {},
   "outputs": [
    {
     "data": {
      "text/html": [
       "<div>\n",
       "<style scoped>\n",
       "    .dataframe tbody tr th:only-of-type {\n",
       "        vertical-align: middle;\n",
       "    }\n",
       "\n",
       "    .dataframe tbody tr th {\n",
       "        vertical-align: top;\n",
       "    }\n",
       "\n",
       "    .dataframe thead th {\n",
       "        text-align: right;\n",
       "    }\n",
       "</style>\n",
       "<table border=\"1\" class=\"dataframe\">\n",
       "  <thead>\n",
       "    <tr style=\"text-align: right;\">\n",
       "      <th></th>\n",
       "      <th>InventoryId</th>\n",
       "      <th>Store</th>\n",
       "      <th>City</th>\n",
       "      <th>Brand</th>\n",
       "      <th>Description</th>\n",
       "      <th>Size</th>\n",
       "      <th>Stock</th>\n",
       "      <th>Price</th>\n",
       "      <th>Date</th>\n",
       "    </tr>\n",
       "  </thead>\n",
       "  <tbody>\n",
       "    <tr>\n",
       "      <th>0</th>\n",
       "      <td>1_HARDERSFIELD_58</td>\n",
       "      <td>1</td>\n",
       "      <td>HARDERSFIELD</td>\n",
       "      <td>58</td>\n",
       "      <td>Gekkeikan Black &amp; Gold Sake</td>\n",
       "      <td>750mL</td>\n",
       "      <td>11</td>\n",
       "      <td>12.99</td>\n",
       "      <td>31/12/2016</td>\n",
       "    </tr>\n",
       "    <tr>\n",
       "      <th>1</th>\n",
       "      <td>1_HARDERSFIELD_62</td>\n",
       "      <td>1</td>\n",
       "      <td>HARDERSFIELD</td>\n",
       "      <td>62</td>\n",
       "      <td>Herradura Silver Tequila</td>\n",
       "      <td>750mL</td>\n",
       "      <td>7</td>\n",
       "      <td>36.99</td>\n",
       "      <td>31/12/2016</td>\n",
       "    </tr>\n",
       "    <tr>\n",
       "      <th>2</th>\n",
       "      <td>1_HARDERSFIELD_63</td>\n",
       "      <td>1</td>\n",
       "      <td>HARDERSFIELD</td>\n",
       "      <td>63</td>\n",
       "      <td>Herradura Reposado Tequila</td>\n",
       "      <td>750mL</td>\n",
       "      <td>7</td>\n",
       "      <td>38.99</td>\n",
       "      <td>31/12/2016</td>\n",
       "    </tr>\n",
       "    <tr>\n",
       "      <th>3</th>\n",
       "      <td>1_HARDERSFIELD_72</td>\n",
       "      <td>1</td>\n",
       "      <td>HARDERSFIELD</td>\n",
       "      <td>72</td>\n",
       "      <td>No. 3 London Dry Gin</td>\n",
       "      <td>750mL</td>\n",
       "      <td>4</td>\n",
       "      <td>34.99</td>\n",
       "      <td>31/12/2016</td>\n",
       "    </tr>\n",
       "    <tr>\n",
       "      <th>4</th>\n",
       "      <td>1_HARDERSFIELD_75</td>\n",
       "      <td>1</td>\n",
       "      <td>HARDERSFIELD</td>\n",
       "      <td>75</td>\n",
       "      <td>Three Olives Tomato Vodka</td>\n",
       "      <td>750mL</td>\n",
       "      <td>7</td>\n",
       "      <td>14.99</td>\n",
       "      <td>31/12/2016</td>\n",
       "    </tr>\n",
       "  </tbody>\n",
       "</table>\n",
       "</div>"
      ],
      "text/plain": [
       "         InventoryId  Store          City  Brand                  Description  \\\n",
       "0  1_HARDERSFIELD_58      1  HARDERSFIELD     58  Gekkeikan Black & Gold Sake   \n",
       "1  1_HARDERSFIELD_62      1  HARDERSFIELD     62     Herradura Silver Tequila   \n",
       "2  1_HARDERSFIELD_63      1  HARDERSFIELD     63   Herradura Reposado Tequila   \n",
       "3  1_HARDERSFIELD_72      1  HARDERSFIELD     72         No. 3 London Dry Gin   \n",
       "4  1_HARDERSFIELD_75      1  HARDERSFIELD     75    Three Olives Tomato Vodka   \n",
       "\n",
       "    Size  Stock  Price        Date  \n",
       "0  750mL     11  12.99  31/12/2016  \n",
       "1  750mL      7  36.99  31/12/2016  \n",
       "2  750mL      7  38.99  31/12/2016  \n",
       "3  750mL      4  34.99  31/12/2016  \n",
       "4  750mL      7  14.99  31/12/2016  "
      ]
     },
     "execution_count": 298,
     "metadata": {},
     "output_type": "execute_result"
    }
   ],
   "source": [
    "inventarioTotal.head(5)"
   ]
  },
  {
   "cell_type": "code",
   "execution_count": 299,
   "metadata": {},
   "outputs": [
    {
     "name": "stdout",
     "output_type": "stream",
     "text": [
      "InventoryId     object\n",
      "Store            int64\n",
      "City            object\n",
      "Brand            int64\n",
      "Description     object\n",
      "Size            object\n",
      "Stock            int64\n",
      "Price          float64\n",
      "Date            object\n",
      "dtype: object\n"
     ]
    }
   ],
   "source": [
    "print(inventarioTotal.dtypes)"
   ]
  },
  {
   "cell_type": "code",
   "execution_count": 300,
   "metadata": {},
   "outputs": [],
   "source": [
    "productos_df = inventarioTotal[['Brand','Description', 'Size']].drop_duplicates().reset_index(drop=True)"
   ]
  },
  {
   "cell_type": "code",
   "execution_count": 301,
   "metadata": {},
   "outputs": [
    {
     "data": {
      "text/plain": [
       "(10878, 3)"
      ]
     },
     "execution_count": 301,
     "metadata": {},
     "output_type": "execute_result"
    }
   ],
   "source": [
    "productos_df.shape"
   ]
  },
  {
   "cell_type": "code",
   "execution_count": 303,
   "metadata": {},
   "outputs": [
    {
     "data": {
      "text/plain": [
       "Brand          0\n",
       "Description    0\n",
       "Size           0\n",
       "dtype: int64"
      ]
     },
     "execution_count": 303,
     "metadata": {},
     "output_type": "execute_result"
    }
   ],
   "source": [
    "productos_df.isnull().sum()"
   ]
  },
  {
   "cell_type": "code",
   "execution_count": 304,
   "metadata": {},
   "outputs": [
    {
     "name": "stdout",
     "output_type": "stream",
     "text": [
      "       Brand                  Description   Size  ProductoID\n",
      "0         58  Gekkeikan Black & Gold Sake  750mL           1\n",
      "1         62     Herradura Silver Tequila  750mL           2\n",
      "2         63   Herradura Reposado Tequila  750mL           3\n",
      "3         72         No. 3 London Dry Gin  750mL           4\n",
      "4         75    Three Olives Tomato Vodka  750mL           5\n",
      "...      ...                          ...    ...         ...\n",
      "10873  38529       Seghesio Cortina Znfdl  750mL       10874\n",
      "10874    808                  Gilbeys Gin  Liter       10875\n",
      "10875    201        Nassua Royale Liqueur  Liter       10876\n",
      "10876  10938     Grahams 40-Yr Tawny Port  750mL       10877\n",
      "10877  23694            Dom Perignon Rose  750mL       10878\n",
      "\n",
      "[10878 rows x 4 columns]\n"
     ]
    }
   ],
   "source": [
    "productos_df['ProductoID'] = range(1, len(productos_df)+1)\n",
    "print(productos_df)"
   ]
  },
  {
   "cell_type": "code",
   "execution_count": 305,
   "metadata": {},
   "outputs": [],
   "source": [
    "productos_df.rename(columns={'Brand': 'Marca', 'Description': 'Nombre', 'Size': 'Volumen'}, inplace=True)\n"
   ]
  },
  {
   "cell_type": "code",
   "execution_count": 306,
   "metadata": {},
   "outputs": [],
   "source": [
    "productos_df = productos_df.reindex(columns=[ 'ProductoID', 'Marca', 'Nombre', 'Volumen'])"
   ]
  },
  {
   "cell_type": "code",
   "execution_count": 307,
   "metadata": {},
   "outputs": [
    {
     "data": {
      "text/plain": [
       "Index(['ProductoID', 'Marca', 'Nombre', 'Volumen'], dtype='object')"
      ]
     },
     "execution_count": 307,
     "metadata": {},
     "output_type": "execute_result"
    }
   ],
   "source": [
    "productos_df.columns"
   ]
  },
  {
   "cell_type": "code",
   "execution_count": 215,
   "metadata": {},
   "outputs": [
    {
     "data": {
      "text/plain": [
       "398"
      ]
     },
     "execution_count": 215,
     "metadata": {},
     "output_type": "execute_result"
    }
   ],
   "source": [
    "productos_df.to_sql('Productos', engine, if_exists='append', index=False)"
   ]
  },
  {
   "cell_type": "code",
   "execution_count": 308,
   "metadata": {},
   "outputs": [
    {
     "name": "stdout",
     "output_type": "stream",
     "text": [
      "ProductoID     int64\n",
      "Marca          int64\n",
      "Nombre        object\n",
      "Volumen       object\n",
      "dtype: object\n"
     ]
    }
   ],
   "source": [
    "print(productos_df.dtypes)"
   ]
  },
  {
   "cell_type": "markdown",
   "metadata": {},
   "source": [
    "### COMPLETAR LA TABLA DE TIENDAS"
   ]
  },
  {
   "cell_type": "code",
   "execution_count": 222,
   "metadata": {},
   "outputs": [],
   "source": [
    "tiendas_df = inventarioTotal[['Store','City']].drop_duplicates().reset_index(drop=True)"
   ]
  },
  {
   "cell_type": "code",
   "execution_count": 223,
   "metadata": {},
   "outputs": [
    {
     "data": {
      "text/plain": [
       "(80, 2)"
      ]
     },
     "execution_count": 223,
     "metadata": {},
     "output_type": "execute_result"
    }
   ],
   "source": [
    "tiendas_df.shape"
   ]
  },
  {
   "cell_type": "code",
   "execution_count": 224,
   "metadata": {},
   "outputs": [
    {
     "data": {
      "text/plain": [
       "Store    0\n",
       "City     0\n",
       "dtype: int64"
      ]
     },
     "execution_count": 224,
     "metadata": {},
     "output_type": "execute_result"
    }
   ],
   "source": [
    "tiendas_df.isnull().sum()"
   ]
  },
  {
   "cell_type": "code",
   "execution_count": 225,
   "metadata": {},
   "outputs": [
    {
     "name": "stdout",
     "output_type": "stream",
     "text": [
      "    Store          City  TiendaID\n",
      "0       1  HARDERSFIELD         1\n",
      "1       2      ASHBORNE         2\n",
      "2       3       HORNSEY         3\n",
      "3       4    EANVERNESS         4\n",
      "4       5        SUTTON         5\n",
      "..    ...           ...       ...\n",
      "75     76     DONCASTER        76\n",
      "76     77      TAMWORTH        77\n",
      "77     78     EASTHAVEN        78\n",
      "78     79     BALLYMENA        79\n",
      "79     81      PEMBROKE        80\n",
      "\n",
      "[80 rows x 3 columns]\n"
     ]
    }
   ],
   "source": [
    "tiendas_df['TiendaID'] = range(1, len(tiendas_df)+1)\n",
    "print(tiendas_df)"
   ]
  },
  {
   "cell_type": "code",
   "execution_count": 226,
   "metadata": {},
   "outputs": [],
   "source": [
    "tiendas_df.rename(columns={'Store': 'NumeroTienda', 'City': 'Ciudad'}, inplace=True)\n"
   ]
  },
  {
   "cell_type": "code",
   "execution_count": 227,
   "metadata": {},
   "outputs": [],
   "source": [
    "tiendas_df = tiendas_df.reindex(columns=[ 'TiendaID', 'NumeroTienda', 'Ciudad'])"
   ]
  },
  {
   "cell_type": "code",
   "execution_count": 228,
   "metadata": {},
   "outputs": [
    {
     "data": {
      "text/plain": [
       "80"
      ]
     },
     "execution_count": 228,
     "metadata": {},
     "output_type": "execute_result"
    }
   ],
   "source": [
    "tiendas_df.to_sql('Tiendas', engine, if_exists='append', index=False)"
   ]
  },
  {
   "cell_type": "markdown",
   "metadata": {},
   "source": [
    "### COMPLETAR LA TABLA DE INVENTARIOS (MERGE)"
   ]
  },
  {
   "cell_type": "code",
   "execution_count": 421,
   "metadata": {},
   "outputs": [],
   "source": [
    "inventarioTotal.rename(columns={'Store': 'NumeroTienda', 'City': 'Ciudad', 'Brand': 'Marca', 'Description': 'Nombre', 'Size': 'Volumen', 'Price':'Precio', 'Date': 'Fecha'}, inplace=True)\n"
   ]
  },
  {
   "cell_type": "code",
   "execution_count": 422,
   "metadata": {},
   "outputs": [
    {
     "data": {
      "text/plain": [
       "Index(['InventoryId', 'NumeroTienda', 'Ciudad', 'Marca', 'Nombre', 'Volumen',\n",
       "       'Stock', 'Precio', 'Fecha'],\n",
       "      dtype='object')"
      ]
     },
     "execution_count": 422,
     "metadata": {},
     "output_type": "execute_result"
    }
   ],
   "source": [
    "inventarioTotal.columns"
   ]
  },
  {
   "cell_type": "code",
   "execution_count": 423,
   "metadata": {},
   "outputs": [],
   "source": [
    "inventarioMerge_df=inventarioTotal.merge(tiendas_df, on=['NumeroTienda','Ciudad'], how='left')"
   ]
  },
  {
   "cell_type": "code",
   "execution_count": 424,
   "metadata": {},
   "outputs": [
    {
     "data": {
      "text/html": [
       "<div>\n",
       "<style scoped>\n",
       "    .dataframe tbody tr th:only-of-type {\n",
       "        vertical-align: middle;\n",
       "    }\n",
       "\n",
       "    .dataframe tbody tr th {\n",
       "        vertical-align: top;\n",
       "    }\n",
       "\n",
       "    .dataframe thead th {\n",
       "        text-align: right;\n",
       "    }\n",
       "</style>\n",
       "<table border=\"1\" class=\"dataframe\">\n",
       "  <thead>\n",
       "    <tr style=\"text-align: right;\">\n",
       "      <th></th>\n",
       "      <th>InventoryId</th>\n",
       "      <th>NumeroTienda</th>\n",
       "      <th>Ciudad</th>\n",
       "      <th>Marca</th>\n",
       "      <th>Nombre</th>\n",
       "      <th>Volumen</th>\n",
       "      <th>Stock</th>\n",
       "      <th>Precio</th>\n",
       "      <th>Fecha</th>\n",
       "      <th>TiendaID</th>\n",
       "    </tr>\n",
       "  </thead>\n",
       "  <tbody>\n",
       "    <tr>\n",
       "      <th>0</th>\n",
       "      <td>1_HARDERSFIELD_58</td>\n",
       "      <td>1</td>\n",
       "      <td>HARDERSFIELD</td>\n",
       "      <td>58</td>\n",
       "      <td>Gekkeikan Black &amp; Gold Sake</td>\n",
       "      <td>750mL</td>\n",
       "      <td>11</td>\n",
       "      <td>12.99</td>\n",
       "      <td>31/12/2016</td>\n",
       "      <td>1</td>\n",
       "    </tr>\n",
       "    <tr>\n",
       "      <th>1</th>\n",
       "      <td>1_HARDERSFIELD_62</td>\n",
       "      <td>1</td>\n",
       "      <td>HARDERSFIELD</td>\n",
       "      <td>62</td>\n",
       "      <td>Herradura Silver Tequila</td>\n",
       "      <td>750mL</td>\n",
       "      <td>7</td>\n",
       "      <td>36.99</td>\n",
       "      <td>31/12/2016</td>\n",
       "      <td>1</td>\n",
       "    </tr>\n",
       "    <tr>\n",
       "      <th>2</th>\n",
       "      <td>1_HARDERSFIELD_63</td>\n",
       "      <td>1</td>\n",
       "      <td>HARDERSFIELD</td>\n",
       "      <td>63</td>\n",
       "      <td>Herradura Reposado Tequila</td>\n",
       "      <td>750mL</td>\n",
       "      <td>7</td>\n",
       "      <td>38.99</td>\n",
       "      <td>31/12/2016</td>\n",
       "      <td>1</td>\n",
       "    </tr>\n",
       "    <tr>\n",
       "      <th>3</th>\n",
       "      <td>1_HARDERSFIELD_72</td>\n",
       "      <td>1</td>\n",
       "      <td>HARDERSFIELD</td>\n",
       "      <td>72</td>\n",
       "      <td>No. 3 London Dry Gin</td>\n",
       "      <td>750mL</td>\n",
       "      <td>4</td>\n",
       "      <td>34.99</td>\n",
       "      <td>31/12/2016</td>\n",
       "      <td>1</td>\n",
       "    </tr>\n",
       "    <tr>\n",
       "      <th>4</th>\n",
       "      <td>1_HARDERSFIELD_75</td>\n",
       "      <td>1</td>\n",
       "      <td>HARDERSFIELD</td>\n",
       "      <td>75</td>\n",
       "      <td>Three Olives Tomato Vodka</td>\n",
       "      <td>750mL</td>\n",
       "      <td>7</td>\n",
       "      <td>14.99</td>\n",
       "      <td>31/12/2016</td>\n",
       "      <td>1</td>\n",
       "    </tr>\n",
       "  </tbody>\n",
       "</table>\n",
       "</div>"
      ],
      "text/plain": [
       "         InventoryId  NumeroTienda        Ciudad  Marca  \\\n",
       "0  1_HARDERSFIELD_58             1  HARDERSFIELD     58   \n",
       "1  1_HARDERSFIELD_62             1  HARDERSFIELD     62   \n",
       "2  1_HARDERSFIELD_63             1  HARDERSFIELD     63   \n",
       "3  1_HARDERSFIELD_72             1  HARDERSFIELD     72   \n",
       "4  1_HARDERSFIELD_75             1  HARDERSFIELD     75   \n",
       "\n",
       "                        Nombre Volumen  Stock  Precio       Fecha  TiendaID  \n",
       "0  Gekkeikan Black & Gold Sake   750mL     11   12.99  31/12/2016         1  \n",
       "1     Herradura Silver Tequila   750mL      7   36.99  31/12/2016         1  \n",
       "2   Herradura Reposado Tequila   750mL      7   38.99  31/12/2016         1  \n",
       "3         No. 3 London Dry Gin   750mL      4   34.99  31/12/2016         1  \n",
       "4    Three Olives Tomato Vodka   750mL      7   14.99  31/12/2016         1  "
      ]
     },
     "execution_count": 424,
     "metadata": {},
     "output_type": "execute_result"
    }
   ],
   "source": [
    "inventarioMerge_df.head(5)"
   ]
  },
  {
   "cell_type": "code",
   "execution_count": 425,
   "metadata": {},
   "outputs": [],
   "source": [
    "inventarioTotalMerge_df=inventarioMerge_df.merge(productos_df, on=['Marca','Nombre', 'Volumen'], how='left')"
   ]
  },
  {
   "cell_type": "code",
   "execution_count": 426,
   "metadata": {},
   "outputs": [
    {
     "data": {
      "text/html": [
       "<div>\n",
       "<style scoped>\n",
       "    .dataframe tbody tr th:only-of-type {\n",
       "        vertical-align: middle;\n",
       "    }\n",
       "\n",
       "    .dataframe tbody tr th {\n",
       "        vertical-align: top;\n",
       "    }\n",
       "\n",
       "    .dataframe thead th {\n",
       "        text-align: right;\n",
       "    }\n",
       "</style>\n",
       "<table border=\"1\" class=\"dataframe\">\n",
       "  <thead>\n",
       "    <tr style=\"text-align: right;\">\n",
       "      <th></th>\n",
       "      <th>InventoryId</th>\n",
       "      <th>NumeroTienda</th>\n",
       "      <th>Ciudad</th>\n",
       "      <th>Marca</th>\n",
       "      <th>Nombre</th>\n",
       "      <th>Volumen</th>\n",
       "      <th>Stock</th>\n",
       "      <th>Precio</th>\n",
       "      <th>Fecha</th>\n",
       "      <th>TiendaID</th>\n",
       "      <th>ProductoID</th>\n",
       "    </tr>\n",
       "  </thead>\n",
       "  <tbody>\n",
       "    <tr>\n",
       "      <th>0</th>\n",
       "      <td>1_HARDERSFIELD_58</td>\n",
       "      <td>1</td>\n",
       "      <td>HARDERSFIELD</td>\n",
       "      <td>58</td>\n",
       "      <td>Gekkeikan Black &amp; Gold Sake</td>\n",
       "      <td>750mL</td>\n",
       "      <td>11</td>\n",
       "      <td>12.99</td>\n",
       "      <td>31/12/2016</td>\n",
       "      <td>1</td>\n",
       "      <td>1</td>\n",
       "    </tr>\n",
       "    <tr>\n",
       "      <th>1</th>\n",
       "      <td>1_HARDERSFIELD_62</td>\n",
       "      <td>1</td>\n",
       "      <td>HARDERSFIELD</td>\n",
       "      <td>62</td>\n",
       "      <td>Herradura Silver Tequila</td>\n",
       "      <td>750mL</td>\n",
       "      <td>7</td>\n",
       "      <td>36.99</td>\n",
       "      <td>31/12/2016</td>\n",
       "      <td>1</td>\n",
       "      <td>2</td>\n",
       "    </tr>\n",
       "    <tr>\n",
       "      <th>2</th>\n",
       "      <td>1_HARDERSFIELD_63</td>\n",
       "      <td>1</td>\n",
       "      <td>HARDERSFIELD</td>\n",
       "      <td>63</td>\n",
       "      <td>Herradura Reposado Tequila</td>\n",
       "      <td>750mL</td>\n",
       "      <td>7</td>\n",
       "      <td>38.99</td>\n",
       "      <td>31/12/2016</td>\n",
       "      <td>1</td>\n",
       "      <td>3</td>\n",
       "    </tr>\n",
       "    <tr>\n",
       "      <th>3</th>\n",
       "      <td>1_HARDERSFIELD_72</td>\n",
       "      <td>1</td>\n",
       "      <td>HARDERSFIELD</td>\n",
       "      <td>72</td>\n",
       "      <td>No. 3 London Dry Gin</td>\n",
       "      <td>750mL</td>\n",
       "      <td>4</td>\n",
       "      <td>34.99</td>\n",
       "      <td>31/12/2016</td>\n",
       "      <td>1</td>\n",
       "      <td>4</td>\n",
       "    </tr>\n",
       "    <tr>\n",
       "      <th>4</th>\n",
       "      <td>1_HARDERSFIELD_75</td>\n",
       "      <td>1</td>\n",
       "      <td>HARDERSFIELD</td>\n",
       "      <td>75</td>\n",
       "      <td>Three Olives Tomato Vodka</td>\n",
       "      <td>750mL</td>\n",
       "      <td>7</td>\n",
       "      <td>14.99</td>\n",
       "      <td>31/12/2016</td>\n",
       "      <td>1</td>\n",
       "      <td>5</td>\n",
       "    </tr>\n",
       "  </tbody>\n",
       "</table>\n",
       "</div>"
      ],
      "text/plain": [
       "         InventoryId  NumeroTienda        Ciudad  Marca  \\\n",
       "0  1_HARDERSFIELD_58             1  HARDERSFIELD     58   \n",
       "1  1_HARDERSFIELD_62             1  HARDERSFIELD     62   \n",
       "2  1_HARDERSFIELD_63             1  HARDERSFIELD     63   \n",
       "3  1_HARDERSFIELD_72             1  HARDERSFIELD     72   \n",
       "4  1_HARDERSFIELD_75             1  HARDERSFIELD     75   \n",
       "\n",
       "                        Nombre Volumen  Stock  Precio       Fecha  TiendaID  \\\n",
       "0  Gekkeikan Black & Gold Sake   750mL     11   12.99  31/12/2016         1   \n",
       "1     Herradura Silver Tequila   750mL      7   36.99  31/12/2016         1   \n",
       "2   Herradura Reposado Tequila   750mL      7   38.99  31/12/2016         1   \n",
       "3         No. 3 London Dry Gin   750mL      4   34.99  31/12/2016         1   \n",
       "4    Three Olives Tomato Vodka   750mL      7   14.99  31/12/2016         1   \n",
       "\n",
       "   ProductoID  \n",
       "0           1  \n",
       "1           2  \n",
       "2           3  \n",
       "3           4  \n",
       "4           5  "
      ]
     },
     "execution_count": 426,
     "metadata": {},
     "output_type": "execute_result"
    }
   ],
   "source": [
    "inventarioTotalMerge_df.head(5)"
   ]
  },
  {
   "cell_type": "code",
   "execution_count": 427,
   "metadata": {},
   "outputs": [
    {
     "name": "stdout",
     "output_type": "stream",
     "text": [
      "               InventoryId  NumeroTienda        Ciudad  Marca  \\\n",
      "0        1_HARDERSFIELD_58             1  HARDERSFIELD     58   \n",
      "1        1_HARDERSFIELD_62             1  HARDERSFIELD     62   \n",
      "2        1_HARDERSFIELD_63             1  HARDERSFIELD     63   \n",
      "3        1_HARDERSFIELD_72             1  HARDERSFIELD     72   \n",
      "4        1_HARDERSFIELD_75             1  HARDERSFIELD     75   \n",
      "...                    ...           ...           ...    ...   \n",
      "431013  79_BALLYMENA_46985            79     BALLYMENA  46985   \n",
      "431014  79_BALLYMENA_47014            79     BALLYMENA  47014   \n",
      "431015  79_BALLYMENA_47090            79     BALLYMENA  47090   \n",
      "431016  79_BALLYMENA_90011            79     BALLYMENA  90011   \n",
      "431017  79_BALLYMENA_90089            79     BALLYMENA  90089   \n",
      "\n",
      "                              Nombre Volumen  Stock  Precio       Fecha  \\\n",
      "0        Gekkeikan Black & Gold Sake   750mL     11   12.99  31/12/2016   \n",
      "1           Herradura Silver Tequila   750mL      7   36.99  31/12/2016   \n",
      "2         Herradura Reposado Tequila   750mL      7   38.99  31/12/2016   \n",
      "3               No. 3 London Dry Gin   750mL      4   34.99  31/12/2016   \n",
      "4          Three Olives Tomato Vodka   750mL      7   14.99  31/12/2016   \n",
      "...                              ...     ...    ...     ...         ...   \n",
      "431013  Rodney Strong Cab Svgn Alexa   750mL     13   22.99  01/01/2016   \n",
      "431014           Juan Gil Jumilla Rd   750mL     13   13.99  01/01/2016   \n",
      "431015    Napa Cellars Cab Svgn Napa   750mL     19   23.99  01/01/2016   \n",
      "431016  Ch Pichon Longville 12 Pauil   750mL     12  144.99  01/01/2016   \n",
      "431017    Ch Lynch Bages 12 Pauillac   750mL     24  119.99  01/01/2016   \n",
      "\n",
      "        TiendaID  ProductoID  InventarioID  \n",
      "0              1           1             1  \n",
      "1              1           2             2  \n",
      "2              1           3             3  \n",
      "3              1           4             4  \n",
      "4              1           5             5  \n",
      "...          ...         ...           ...  \n",
      "431013        79        3189        431014  \n",
      "431014        79        3190        431015  \n",
      "431015        79        3191        431016  \n",
      "431016        79        7497        431017  \n",
      "431017        79        7505        431018  \n",
      "\n",
      "[431018 rows x 12 columns]\n"
     ]
    }
   ],
   "source": [
    "inventarioTotalMerge_df['InventarioID'] = range(1, len(inventarioTotalMerge_df)+1)\n",
    "print(inventarioTotalMerge_df)"
   ]
  },
  {
   "cell_type": "code",
   "execution_count": 428,
   "metadata": {},
   "outputs": [
    {
     "data": {
      "text/html": [
       "<div>\n",
       "<style scoped>\n",
       "    .dataframe tbody tr th:only-of-type {\n",
       "        vertical-align: middle;\n",
       "    }\n",
       "\n",
       "    .dataframe tbody tr th {\n",
       "        vertical-align: top;\n",
       "    }\n",
       "\n",
       "    .dataframe thead th {\n",
       "        text-align: right;\n",
       "    }\n",
       "</style>\n",
       "<table border=\"1\" class=\"dataframe\">\n",
       "  <thead>\n",
       "    <tr style=\"text-align: right;\">\n",
       "      <th></th>\n",
       "      <th>InventoryId</th>\n",
       "      <th>NumeroTienda</th>\n",
       "      <th>Ciudad</th>\n",
       "      <th>Marca</th>\n",
       "      <th>Nombre</th>\n",
       "      <th>Volumen</th>\n",
       "      <th>Stock</th>\n",
       "      <th>Precio</th>\n",
       "      <th>Fecha</th>\n",
       "      <th>TiendaID</th>\n",
       "      <th>ProductoID</th>\n",
       "      <th>InventarioID</th>\n",
       "    </tr>\n",
       "  </thead>\n",
       "  <tbody>\n",
       "    <tr>\n",
       "      <th>0</th>\n",
       "      <td>1_HARDERSFIELD_58</td>\n",
       "      <td>1</td>\n",
       "      <td>HARDERSFIELD</td>\n",
       "      <td>58</td>\n",
       "      <td>Gekkeikan Black &amp; Gold Sake</td>\n",
       "      <td>750mL</td>\n",
       "      <td>11</td>\n",
       "      <td>12.99</td>\n",
       "      <td>31/12/2016</td>\n",
       "      <td>1</td>\n",
       "      <td>1</td>\n",
       "      <td>1</td>\n",
       "    </tr>\n",
       "    <tr>\n",
       "      <th>1</th>\n",
       "      <td>1_HARDERSFIELD_62</td>\n",
       "      <td>1</td>\n",
       "      <td>HARDERSFIELD</td>\n",
       "      <td>62</td>\n",
       "      <td>Herradura Silver Tequila</td>\n",
       "      <td>750mL</td>\n",
       "      <td>7</td>\n",
       "      <td>36.99</td>\n",
       "      <td>31/12/2016</td>\n",
       "      <td>1</td>\n",
       "      <td>2</td>\n",
       "      <td>2</td>\n",
       "    </tr>\n",
       "    <tr>\n",
       "      <th>2</th>\n",
       "      <td>1_HARDERSFIELD_63</td>\n",
       "      <td>1</td>\n",
       "      <td>HARDERSFIELD</td>\n",
       "      <td>63</td>\n",
       "      <td>Herradura Reposado Tequila</td>\n",
       "      <td>750mL</td>\n",
       "      <td>7</td>\n",
       "      <td>38.99</td>\n",
       "      <td>31/12/2016</td>\n",
       "      <td>1</td>\n",
       "      <td>3</td>\n",
       "      <td>3</td>\n",
       "    </tr>\n",
       "    <tr>\n",
       "      <th>3</th>\n",
       "      <td>1_HARDERSFIELD_72</td>\n",
       "      <td>1</td>\n",
       "      <td>HARDERSFIELD</td>\n",
       "      <td>72</td>\n",
       "      <td>No. 3 London Dry Gin</td>\n",
       "      <td>750mL</td>\n",
       "      <td>4</td>\n",
       "      <td>34.99</td>\n",
       "      <td>31/12/2016</td>\n",
       "      <td>1</td>\n",
       "      <td>4</td>\n",
       "      <td>4</td>\n",
       "    </tr>\n",
       "    <tr>\n",
       "      <th>4</th>\n",
       "      <td>1_HARDERSFIELD_75</td>\n",
       "      <td>1</td>\n",
       "      <td>HARDERSFIELD</td>\n",
       "      <td>75</td>\n",
       "      <td>Three Olives Tomato Vodka</td>\n",
       "      <td>750mL</td>\n",
       "      <td>7</td>\n",
       "      <td>14.99</td>\n",
       "      <td>31/12/2016</td>\n",
       "      <td>1</td>\n",
       "      <td>5</td>\n",
       "      <td>5</td>\n",
       "    </tr>\n",
       "  </tbody>\n",
       "</table>\n",
       "</div>"
      ],
      "text/plain": [
       "         InventoryId  NumeroTienda        Ciudad  Marca  \\\n",
       "0  1_HARDERSFIELD_58             1  HARDERSFIELD     58   \n",
       "1  1_HARDERSFIELD_62             1  HARDERSFIELD     62   \n",
       "2  1_HARDERSFIELD_63             1  HARDERSFIELD     63   \n",
       "3  1_HARDERSFIELD_72             1  HARDERSFIELD     72   \n",
       "4  1_HARDERSFIELD_75             1  HARDERSFIELD     75   \n",
       "\n",
       "                        Nombre Volumen  Stock  Precio       Fecha  TiendaID  \\\n",
       "0  Gekkeikan Black & Gold Sake   750mL     11   12.99  31/12/2016         1   \n",
       "1     Herradura Silver Tequila   750mL      7   36.99  31/12/2016         1   \n",
       "2   Herradura Reposado Tequila   750mL      7   38.99  31/12/2016         1   \n",
       "3         No. 3 London Dry Gin   750mL      4   34.99  31/12/2016         1   \n",
       "4    Three Olives Tomato Vodka   750mL      7   14.99  31/12/2016         1   \n",
       "\n",
       "   ProductoID  InventarioID  \n",
       "0           1             1  \n",
       "1           2             2  \n",
       "2           3             3  \n",
       "3           4             4  \n",
       "4           5             5  "
      ]
     },
     "execution_count": 428,
     "metadata": {},
     "output_type": "execute_result"
    }
   ],
   "source": [
    "inventarioTotalMerge_df.head(5)"
   ]
  },
  {
   "cell_type": "code",
   "execution_count": 430,
   "metadata": {},
   "outputs": [
    {
     "data": {
      "text/plain": [
       "Index(['InventoryId', 'NumeroTienda', 'Ciudad', 'Marca', 'Nombre', 'Volumen',\n",
       "       'Stock', 'Precio', 'Fecha', 'TiendaID', 'ProductoID', 'InventarioID'],\n",
       "      dtype='object')"
      ]
     },
     "execution_count": 430,
     "metadata": {},
     "output_type": "execute_result"
    }
   ],
   "source": [
    "inventarioTotalMerge_df.columns"
   ]
  },
  {
   "cell_type": "code",
   "execution_count": 321,
   "metadata": {},
   "outputs": [],
   "source": [
    "inventarioTotalMerge_df = inventarioTotalMerge_df.reindex(columns=[ 'InventarioID', 'ProductoID', 'TiendaID', 'Precio', 'Stock', 'Fecha'])"
   ]
  },
  {
   "cell_type": "code",
   "execution_count": 326,
   "metadata": {},
   "outputs": [],
   "source": [
    "inventarioTotalFinal = inventarioTotalMerge_df[['InventarioID', 'ProductoID', 'TiendaID', 'Precio', 'Stock', 'Fecha']]"
   ]
  },
  {
   "cell_type": "code",
   "execution_count": 328,
   "metadata": {},
   "outputs": [
    {
     "data": {
      "text/html": [
       "<div>\n",
       "<style scoped>\n",
       "    .dataframe tbody tr th:only-of-type {\n",
       "        vertical-align: middle;\n",
       "    }\n",
       "\n",
       "    .dataframe tbody tr th {\n",
       "        vertical-align: top;\n",
       "    }\n",
       "\n",
       "    .dataframe thead th {\n",
       "        text-align: right;\n",
       "    }\n",
       "</style>\n",
       "<table border=\"1\" class=\"dataframe\">\n",
       "  <thead>\n",
       "    <tr style=\"text-align: right;\">\n",
       "      <th></th>\n",
       "      <th>InventarioID</th>\n",
       "      <th>ProductoID</th>\n",
       "      <th>TiendaID</th>\n",
       "      <th>Precio</th>\n",
       "      <th>Stock</th>\n",
       "      <th>Fecha</th>\n",
       "    </tr>\n",
       "  </thead>\n",
       "  <tbody>\n",
       "    <tr>\n",
       "      <th>0</th>\n",
       "      <td>1</td>\n",
       "      <td>1</td>\n",
       "      <td>1</td>\n",
       "      <td>12.99</td>\n",
       "      <td>11</td>\n",
       "      <td>31/12/2016</td>\n",
       "    </tr>\n",
       "    <tr>\n",
       "      <th>1</th>\n",
       "      <td>2</td>\n",
       "      <td>2</td>\n",
       "      <td>1</td>\n",
       "      <td>36.99</td>\n",
       "      <td>7</td>\n",
       "      <td>31/12/2016</td>\n",
       "    </tr>\n",
       "    <tr>\n",
       "      <th>2</th>\n",
       "      <td>3</td>\n",
       "      <td>3</td>\n",
       "      <td>1</td>\n",
       "      <td>38.99</td>\n",
       "      <td>7</td>\n",
       "      <td>31/12/2016</td>\n",
       "    </tr>\n",
       "    <tr>\n",
       "      <th>3</th>\n",
       "      <td>4</td>\n",
       "      <td>4</td>\n",
       "      <td>1</td>\n",
       "      <td>34.99</td>\n",
       "      <td>4</td>\n",
       "      <td>31/12/2016</td>\n",
       "    </tr>\n",
       "    <tr>\n",
       "      <th>4</th>\n",
       "      <td>5</td>\n",
       "      <td>5</td>\n",
       "      <td>1</td>\n",
       "      <td>14.99</td>\n",
       "      <td>7</td>\n",
       "      <td>31/12/2016</td>\n",
       "    </tr>\n",
       "  </tbody>\n",
       "</table>\n",
       "</div>"
      ],
      "text/plain": [
       "   InventarioID  ProductoID  TiendaID  Precio  Stock       Fecha\n",
       "0             1           1         1   12.99     11  31/12/2016\n",
       "1             2           2         1   36.99      7  31/12/2016\n",
       "2             3           3         1   38.99      7  31/12/2016\n",
       "3             4           4         1   34.99      4  31/12/2016\n",
       "4             5           5         1   14.99      7  31/12/2016"
      ]
     },
     "execution_count": 328,
     "metadata": {},
     "output_type": "execute_result"
    }
   ],
   "source": [
    "inventarioTotalFinal.head(5)"
   ]
  },
  {
   "cell_type": "code",
   "execution_count": 338,
   "metadata": {},
   "outputs": [],
   "source": [
    "inventarioTotalFinal['Fecha'] = pd.to_datetime(inventarioTotalFinal['Fecha'])"
   ]
  },
  {
   "cell_type": "code",
   "execution_count": 339,
   "metadata": {},
   "outputs": [
    {
     "data": {
      "text/plain": [
       "3"
      ]
     },
     "execution_count": 339,
     "metadata": {},
     "output_type": "execute_result"
    }
   ],
   "source": [
    "inventarioTotalFinal.to_sql('Inventario', engine, if_exists='append', index=False)"
   ]
  },
  {
   "cell_type": "markdown",
   "metadata": {},
   "source": [
    "### COMPLETAR LA TABLA DE PROVEEDORES"
   ]
  },
  {
   "cell_type": "code",
   "execution_count": 340,
   "metadata": {},
   "outputs": [],
   "source": [
    "proveedor = ['VendorName', 'VendorNumber']\n",
    "tablaProveedores = pd.read_csv('https://drive.usercontent.google.com/download?id=1r0DuLK9JZTbx4ouuuYEGLUS4lZvsa8lG&export=download&authuser=1&confirm=t&uuid=7c1bdf54-2f1b-48d3-87fe-d157d9d9b221&at=APZUnTU_jAENsVpPMq_R9-SF1OpY:1724011140819', usecols=proveedor)\n"
   ]
  },
  {
   "cell_type": "code",
   "execution_count": 341,
   "metadata": {},
   "outputs": [
    {
     "data": {
      "text/plain": [
       "Index(['VendorNumber', 'VendorName'], dtype='object')"
      ]
     },
     "execution_count": 341,
     "metadata": {},
     "output_type": "execute_result"
    }
   ],
   "source": [
    "tablaProveedores.columns"
   ]
  },
  {
   "cell_type": "code",
   "execution_count": 344,
   "metadata": {},
   "outputs": [
    {
     "data": {
      "text/plain": [
       "VendorNumber    0\n",
       "VendorName      0\n",
       "dtype: int64"
      ]
     },
     "execution_count": 344,
     "metadata": {},
     "output_type": "execute_result"
    }
   ],
   "source": [
    "tablaProveedores.isnull().sum()"
   ]
  },
  {
   "cell_type": "code",
   "execution_count": 345,
   "metadata": {},
   "outputs": [
    {
     "data": {
      "text/plain": [
       "(2372474, 2)"
      ]
     },
     "execution_count": 345,
     "metadata": {},
     "output_type": "execute_result"
    }
   ],
   "source": [
    "tablaProveedores.shape"
   ]
  },
  {
   "cell_type": "code",
   "execution_count": 342,
   "metadata": {},
   "outputs": [],
   "source": [
    "proveedores_df = tablaProveedores[['VendorNumber','VendorName']].drop_duplicates().reset_index(drop=True)"
   ]
  },
  {
   "cell_type": "code",
   "execution_count": 346,
   "metadata": {},
   "outputs": [
    {
     "data": {
      "text/plain": [
       "(129, 2)"
      ]
     },
     "execution_count": 346,
     "metadata": {},
     "output_type": "execute_result"
    }
   ],
   "source": [
    "proveedores_df.shape"
   ]
  },
  {
   "cell_type": "code",
   "execution_count": 377,
   "metadata": {},
   "outputs": [
    {
     "name": "stdout",
     "output_type": "stream",
     "text": [
      "     ProveedorID                       Nombre  NumeroProveedor\n",
      "0              1  ALTAMAR BRANDS LLC                       105\n",
      "1              2  AMERICAN VINTAGE BEVERAGE               4466\n",
      "2              3  ATLANTIC IMPORTING COMPANY               388\n",
      "3              4  BACARDI USA INC                          480\n",
      "4              5  BANFI PRODUCTS CORP                      516\n",
      "..           ...                          ...              ...\n",
      "128          129  AAPER ALCOHOL & CHEMICAL CO               54\n",
      "129          130               WHYTE & MACKAY             9710\n",
      "130          131                  BERNIKO LLC             1002\n",
      "131          132               WHYTE & MACKAY             9710\n",
      "132          133                  BERNIKO LLC             1002\n",
      "\n",
      "[133 rows x 3 columns]\n"
     ]
    }
   ],
   "source": [
    "proveedores_df['ProveedorID'] = range(1, len(proveedores_df)+1)\n",
    "print(proveedores_df)"
   ]
  },
  {
   "cell_type": "code",
   "execution_count": 348,
   "metadata": {},
   "outputs": [],
   "source": [
    "proveedores_df.rename(columns={'VendorNumber': 'NumeroProveedor', 'VendorName': 'Nombre'}, inplace=True)\n"
   ]
  },
  {
   "cell_type": "code",
   "execution_count": 373,
   "metadata": {},
   "outputs": [],
   "source": [
    "nuevo_df = pd.DataFrame({'ProveedorID': [130, 131], 'Nombre': ['WHYTE & MACKAY', 'BERNIKO LLC'], 'NumeroProveedor': [9710, 1002]})\n",
    "\n",
    "# Concatenar los DataFrames\n",
    "proveedores_df = pd.concat([proveedores_df, nuevo_df], ignore_index=True)"
   ]
  },
  {
   "cell_type": "code",
   "execution_count": 378,
   "metadata": {},
   "outputs": [
    {
     "name": "stdout",
     "output_type": "stream",
     "text": [
      "     ProveedorID                       Nombre  NumeroProveedor\n",
      "0              1  ALTAMAR BRANDS LLC                       105\n",
      "1              2  AMERICAN VINTAGE BEVERAGE               4466\n",
      "2              3  ATLANTIC IMPORTING COMPANY               388\n",
      "3              4  BACARDI USA INC                          480\n",
      "4              5  BANFI PRODUCTS CORP                      516\n",
      "..           ...                          ...              ...\n",
      "126          127  LOYAL DOG WINERY                        5083\n",
      "127          128  VINEYARD BRANDS LLC                     1587\n",
      "128          129  AAPER ALCOHOL & CHEMICAL CO               54\n",
      "129          130               WHYTE & MACKAY             9710\n",
      "130          131                  BERNIKO LLC             1002\n",
      "\n",
      "[131 rows x 3 columns]\n"
     ]
    }
   ],
   "source": [
    "proveedores_df = proveedores_df.drop(index=[131, 132])\n",
    "print(proveedores_df)"
   ]
  },
  {
   "cell_type": "code",
   "execution_count": 396,
   "metadata": {},
   "outputs": [
    {
     "data": {
      "text/plain": [
       "Index(['ProveedorID', 'Nombre', 'NumeroProveedor'], dtype='object')"
      ]
     },
     "execution_count": 396,
     "metadata": {},
     "output_type": "execute_result"
    }
   ],
   "source": [
    "proveedores_df.columns"
   ]
  },
  {
   "cell_type": "code",
   "execution_count": 397,
   "metadata": {},
   "outputs": [],
   "source": [
    "proveedores_df = proveedores_df.reindex(columns=[ 'ProveedorID', 'Nombre', 'NumeroProveedor'])"
   ]
  },
  {
   "cell_type": "code",
   "execution_count": 351,
   "metadata": {},
   "outputs": [
    {
     "data": {
      "text/plain": [
       "129"
      ]
     },
     "execution_count": 351,
     "metadata": {},
     "output_type": "execute_result"
    }
   ],
   "source": [
    "proveedores_df.to_sql('Proveedores', engine, if_exists='append', index=False)"
   ]
  },
  {
   "cell_type": "markdown",
   "metadata": {},
   "source": [
    "### COMPLETAR LA TABLA DE VENTAS"
   ]
  },
  {
   "cell_type": "code",
   "execution_count": 352,
   "metadata": {},
   "outputs": [],
   "source": [
    "tablaVentas = pd.read_csv('https://drive.usercontent.google.com/download?id=1eQRPyLADEvVZW03fYWv9igZGxRNrTV2N&export=download&authuser=1&confirm=t&uuid=9727b1f3-4032-4414-b1ad-94b6542c1631&at=APZUnTU4Li_ldcTI0kVOaw_doqwB:1724010882647')"
   ]
  },
  {
   "cell_type": "code",
   "execution_count": 399,
   "metadata": {},
   "outputs": [
    {
     "data": {
      "text/plain": [
       "Index(['Unnamed: 0', 'InventoryId', 'Store', 'Brand', 'Description', 'Size',\n",
       "       'SalesQuantity', 'SalesDollars', 'SalesPrice', 'SalesDate', 'Volume',\n",
       "       'Classification', 'ExciseTax', 'VendorNo', 'VendorName'],\n",
       "      dtype='object')"
      ]
     },
     "execution_count": 399,
     "metadata": {},
     "output_type": "execute_result"
    }
   ],
   "source": [
    "tablaVentas.columns "
   ]
  },
  {
   "cell_type": "code",
   "execution_count": 400,
   "metadata": {},
   "outputs": [],
   "source": [
    "tablaVentas_df = tablaVentas[['InventoryId', 'VendorNo', 'VendorName', 'SalesQuantity', 'SalesDollars', 'SalesPrice', 'SalesDate']]"
   ]
  },
  {
   "cell_type": "code",
   "execution_count": 401,
   "metadata": {},
   "outputs": [
    {
     "data": {
      "text/plain": [
       "Index(['InventoryId', 'VendorNo', 'VendorName', 'SalesQuantity',\n",
       "       'SalesDollars', 'SalesPrice', 'SalesDate'],\n",
       "      dtype='object')"
      ]
     },
     "execution_count": 401,
     "metadata": {},
     "output_type": "execute_result"
    }
   ],
   "source": [
    "tablaVentas_df.columns"
   ]
  },
  {
   "cell_type": "code",
   "execution_count": 402,
   "metadata": {},
   "outputs": [
    {
     "name": "stderr",
     "output_type": "stream",
     "text": [
      "C:\\Users\\Usuario1\\AppData\\Local\\Temp\\ipykernel_10628\\2202405841.py:1: SettingWithCopyWarning: \n",
      "A value is trying to be set on a copy of a slice from a DataFrame\n",
      "\n",
      "See the caveats in the documentation: https://pandas.pydata.org/pandas-docs/stable/user_guide/indexing.html#returning-a-view-versus-a-copy\n",
      "  tablaVentas_df.rename(columns={'VendorNo': 'NumeroProveedor', 'VendorName': 'Nombre', 'SalesQuantity' : 'CantidadVendida', 'SalesDollars' : 'TotalVentas', 'SalesPrice' : 'PrecioVenta', 'SalesDate' : 'Fecha' }, inplace=True)\n"
     ]
    }
   ],
   "source": [
    "tablaVentas_df.rename(columns={'VendorNo': 'NumeroProveedor', 'VendorName': 'Nombre', 'SalesQuantity' : 'CantidadVendida', 'SalesDollars' : 'TotalVentas', 'SalesPrice' : 'PrecioVenta', 'SalesDate' : 'Fecha' }, inplace=True)\n"
   ]
  },
  {
   "cell_type": "code",
   "execution_count": 403,
   "metadata": {},
   "outputs": [
    {
     "data": {
      "text/plain": [
       "Index(['InventoryId', 'NumeroProveedor', 'Nombre', 'CantidadVendida',\n",
       "       'TotalVentas', 'PrecioVenta', 'Fecha'],\n",
       "      dtype='object')"
      ]
     },
     "execution_count": 403,
     "metadata": {},
     "output_type": "execute_result"
    }
   ],
   "source": [
    "tablaVentas_df.columns"
   ]
  },
  {
   "cell_type": "code",
   "execution_count": 404,
   "metadata": {},
   "outputs": [],
   "source": [
    "ventasMerge=tablaVentas_df.merge(proveedores_df, on=['NumeroProveedor','Nombre'], how='left')"
   ]
  },
  {
   "cell_type": "code",
   "execution_count": 405,
   "metadata": {},
   "outputs": [
    {
     "data": {
      "text/plain": [
       "ProveedorID        0\n",
       "Nombre             0\n",
       "NumeroProveedor    0\n",
       "dtype: int64"
      ]
     },
     "execution_count": 405,
     "metadata": {},
     "output_type": "execute_result"
    }
   ],
   "source": [
    "proveedores_df.isnull().sum()"
   ]
  },
  {
   "cell_type": "code",
   "execution_count": 410,
   "metadata": {},
   "outputs": [],
   "source": [
    "ventasMerge.loc[374815, 'ProveedorID'] = 130\n",
    "ventasMerge.loc[873327, 'ProveedorID'] = 131"
   ]
  },
  {
   "cell_type": "code",
   "execution_count": 417,
   "metadata": {},
   "outputs": [
    {
     "data": {
      "text/html": [
       "<div>\n",
       "<style scoped>\n",
       "    .dataframe tbody tr th:only-of-type {\n",
       "        vertical-align: middle;\n",
       "    }\n",
       "\n",
       "    .dataframe tbody tr th {\n",
       "        vertical-align: top;\n",
       "    }\n",
       "\n",
       "    .dataframe thead th {\n",
       "        text-align: right;\n",
       "    }\n",
       "</style>\n",
       "<table border=\"1\" class=\"dataframe\">\n",
       "  <thead>\n",
       "    <tr style=\"text-align: right;\">\n",
       "      <th></th>\n",
       "      <th>InventoryId</th>\n",
       "      <th>NumeroProveedor</th>\n",
       "      <th>Nombre</th>\n",
       "      <th>CantidadVendida</th>\n",
       "      <th>TotalVentas</th>\n",
       "      <th>PrecioVenta</th>\n",
       "      <th>Fecha</th>\n",
       "      <th>ProveedorID</th>\n",
       "    </tr>\n",
       "  </thead>\n",
       "  <tbody>\n",
       "    <tr>\n",
       "      <th>0</th>\n",
       "      <td>1_HARDERSFIELD_1004</td>\n",
       "      <td>12546</td>\n",
       "      <td>JIM BEAM BRANDS COMPANY</td>\n",
       "      <td>1</td>\n",
       "      <td>16.49</td>\n",
       "      <td>16.49</td>\n",
       "      <td>2016-01-01</td>\n",
       "      <td>33</td>\n",
       "    </tr>\n",
       "    <tr>\n",
       "      <th>1</th>\n",
       "      <td>1_HARDERSFIELD_1004</td>\n",
       "      <td>12546</td>\n",
       "      <td>JIM BEAM BRANDS COMPANY</td>\n",
       "      <td>2</td>\n",
       "      <td>32.98</td>\n",
       "      <td>16.49</td>\n",
       "      <td>2016-01-02</td>\n",
       "      <td>33</td>\n",
       "    </tr>\n",
       "    <tr>\n",
       "      <th>2</th>\n",
       "      <td>1_HARDERSFIELD_1004</td>\n",
       "      <td>12546</td>\n",
       "      <td>JIM BEAM BRANDS COMPANY</td>\n",
       "      <td>1</td>\n",
       "      <td>16.49</td>\n",
       "      <td>16.49</td>\n",
       "      <td>2016-01-03</td>\n",
       "      <td>33</td>\n",
       "    </tr>\n",
       "    <tr>\n",
       "      <th>3</th>\n",
       "      <td>1_HARDERSFIELD_1004</td>\n",
       "      <td>12546</td>\n",
       "      <td>JIM BEAM BRANDS COMPANY</td>\n",
       "      <td>1</td>\n",
       "      <td>14.49</td>\n",
       "      <td>14.49</td>\n",
       "      <td>2016-01-08</td>\n",
       "      <td>33</td>\n",
       "    </tr>\n",
       "    <tr>\n",
       "      <th>4</th>\n",
       "      <td>1_HARDERSFIELD_1005</td>\n",
       "      <td>12546</td>\n",
       "      <td>JIM BEAM BRANDS COMPANY</td>\n",
       "      <td>2</td>\n",
       "      <td>69.98</td>\n",
       "      <td>34.99</td>\n",
       "      <td>2016-01-09</td>\n",
       "      <td>33</td>\n",
       "    </tr>\n",
       "  </tbody>\n",
       "</table>\n",
       "</div>"
      ],
      "text/plain": [
       "           InventoryId  NumeroProveedor                       Nombre  \\\n",
       "0  1_HARDERSFIELD_1004            12546  JIM BEAM BRANDS COMPANY       \n",
       "1  1_HARDERSFIELD_1004            12546  JIM BEAM BRANDS COMPANY       \n",
       "2  1_HARDERSFIELD_1004            12546  JIM BEAM BRANDS COMPANY       \n",
       "3  1_HARDERSFIELD_1004            12546  JIM BEAM BRANDS COMPANY       \n",
       "4  1_HARDERSFIELD_1005            12546  JIM BEAM BRANDS COMPANY       \n",
       "\n",
       "   CantidadVendida  TotalVentas  PrecioVenta       Fecha  ProveedorID  \n",
       "0                1        16.49        16.49  2016-01-01           33  \n",
       "1                2        32.98        16.49  2016-01-02           33  \n",
       "2                1        16.49        16.49  2016-01-03           33  \n",
       "3                1        14.49        14.49  2016-01-08           33  \n",
       "4                2        69.98        34.99  2016-01-09           33  "
      ]
     },
     "execution_count": 417,
     "metadata": {},
     "output_type": "execute_result"
    }
   ],
   "source": [
    "ventasMerge.head(5)"
   ]
  },
  {
   "cell_type": "code",
   "execution_count": 416,
   "metadata": {},
   "outputs": [],
   "source": [
    "ventasMerge['ProveedorID']=ventasMerge['ProveedorID'].astype(int)"
   ]
  },
  {
   "cell_type": "code",
   "execution_count": 412,
   "metadata": {},
   "outputs": [
    {
     "data": {
      "text/plain": [
       "InventoryId        0\n",
       "NumeroProveedor    0\n",
       "Nombre             0\n",
       "CantidadVendida    0\n",
       "TotalVentas        0\n",
       "PrecioVenta        0\n",
       "Fecha              0\n",
       "ProveedorID        0\n",
       "dtype: int64"
      ]
     },
     "execution_count": 412,
     "metadata": {},
     "output_type": "execute_result"
    }
   ],
   "source": [
    "ventasMerge.isnull().sum()"
   ]
  },
  {
   "cell_type": "code",
   "execution_count": 436,
   "metadata": {},
   "outputs": [
    {
     "data": {
      "text/plain": [
       "Index(['InventoryId', 'NumeroTienda', 'Ciudad', 'Marca', 'Nombre', 'Volumen',\n",
       "       'Stock', 'Precio', 'Fecha', 'TiendaID', 'ProductoID', 'InventarioID'],\n",
       "      dtype='object')"
      ]
     },
     "execution_count": 436,
     "metadata": {},
     "output_type": "execute_result"
    }
   ],
   "source": [
    "inventarioTotalMerge_df.columns"
   ]
  },
  {
   "cell_type": "code",
   "execution_count": 437,
   "metadata": {},
   "outputs": [
    {
     "data": {
      "text/plain": [
       "Index(['InventoryId', 'NumeroProveedor', 'Nombre', 'CantidadVendida',\n",
       "       'TotalVentas', 'PrecioVenta', 'Fecha', 'ProveedorID'],\n",
       "      dtype='object')"
      ]
     },
     "execution_count": 437,
     "metadata": {},
     "output_type": "execute_result"
    }
   ],
   "source": [
    "ventasMerge.columns"
   ]
  },
  {
   "cell_type": "code",
   "execution_count": 441,
   "metadata": {},
   "outputs": [],
   "source": [
    "ventasInventarioMerge=ventasMerge.merge(inventarioTotalMerge_df, on=['InventoryId'], how='inner')"
   ]
  },
  {
   "cell_type": "code",
   "execution_count": 442,
   "metadata": {},
   "outputs": [
    {
     "data": {
      "text/html": [
       "<div>\n",
       "<style scoped>\n",
       "    .dataframe tbody tr th:only-of-type {\n",
       "        vertical-align: middle;\n",
       "    }\n",
       "\n",
       "    .dataframe tbody tr th {\n",
       "        vertical-align: top;\n",
       "    }\n",
       "\n",
       "    .dataframe thead th {\n",
       "        text-align: right;\n",
       "    }\n",
       "</style>\n",
       "<table border=\"1\" class=\"dataframe\">\n",
       "  <thead>\n",
       "    <tr style=\"text-align: right;\">\n",
       "      <th></th>\n",
       "      <th>InventoryId</th>\n",
       "      <th>NumeroProveedor</th>\n",
       "      <th>Nombre_x</th>\n",
       "      <th>CantidadVendida</th>\n",
       "      <th>TotalVentas</th>\n",
       "      <th>PrecioVenta</th>\n",
       "      <th>Fecha_x</th>\n",
       "      <th>ProveedorID</th>\n",
       "      <th>NumeroTienda</th>\n",
       "      <th>Ciudad</th>\n",
       "      <th>Marca</th>\n",
       "      <th>Nombre_y</th>\n",
       "      <th>Volumen</th>\n",
       "      <th>Stock</th>\n",
       "      <th>Precio</th>\n",
       "      <th>Fecha_y</th>\n",
       "      <th>TiendaID</th>\n",
       "      <th>ProductoID</th>\n",
       "      <th>InventarioID</th>\n",
       "    </tr>\n",
       "  </thead>\n",
       "  <tbody>\n",
       "    <tr>\n",
       "      <th>0</th>\n",
       "      <td>1_HARDERSFIELD_1004</td>\n",
       "      <td>12546</td>\n",
       "      <td>JIM BEAM BRANDS COMPANY</td>\n",
       "      <td>1</td>\n",
       "      <td>16.49</td>\n",
       "      <td>16.49</td>\n",
       "      <td>2016-01-01</td>\n",
       "      <td>33</td>\n",
       "      <td>1</td>\n",
       "      <td>HARDERSFIELD</td>\n",
       "      <td>1004</td>\n",
       "      <td>Jim Beam w/2 Rocks Glasses</td>\n",
       "      <td>750mL</td>\n",
       "      <td>17</td>\n",
       "      <td>16.49</td>\n",
       "      <td>01/01/2016</td>\n",
       "      <td>1</td>\n",
       "      <td>9663</td>\n",
       "      <td>224607</td>\n",
       "    </tr>\n",
       "    <tr>\n",
       "      <th>1</th>\n",
       "      <td>1_HARDERSFIELD_1004</td>\n",
       "      <td>12546</td>\n",
       "      <td>JIM BEAM BRANDS COMPANY</td>\n",
       "      <td>2</td>\n",
       "      <td>32.98</td>\n",
       "      <td>16.49</td>\n",
       "      <td>2016-01-02</td>\n",
       "      <td>33</td>\n",
       "      <td>1</td>\n",
       "      <td>HARDERSFIELD</td>\n",
       "      <td>1004</td>\n",
       "      <td>Jim Beam w/2 Rocks Glasses</td>\n",
       "      <td>750mL</td>\n",
       "      <td>17</td>\n",
       "      <td>16.49</td>\n",
       "      <td>01/01/2016</td>\n",
       "      <td>1</td>\n",
       "      <td>9663</td>\n",
       "      <td>224607</td>\n",
       "    </tr>\n",
       "    <tr>\n",
       "      <th>2</th>\n",
       "      <td>1_HARDERSFIELD_1004</td>\n",
       "      <td>12546</td>\n",
       "      <td>JIM BEAM BRANDS COMPANY</td>\n",
       "      <td>1</td>\n",
       "      <td>16.49</td>\n",
       "      <td>16.49</td>\n",
       "      <td>2016-01-03</td>\n",
       "      <td>33</td>\n",
       "      <td>1</td>\n",
       "      <td>HARDERSFIELD</td>\n",
       "      <td>1004</td>\n",
       "      <td>Jim Beam w/2 Rocks Glasses</td>\n",
       "      <td>750mL</td>\n",
       "      <td>17</td>\n",
       "      <td>16.49</td>\n",
       "      <td>01/01/2016</td>\n",
       "      <td>1</td>\n",
       "      <td>9663</td>\n",
       "      <td>224607</td>\n",
       "    </tr>\n",
       "    <tr>\n",
       "      <th>3</th>\n",
       "      <td>1_HARDERSFIELD_1004</td>\n",
       "      <td>12546</td>\n",
       "      <td>JIM BEAM BRANDS COMPANY</td>\n",
       "      <td>1</td>\n",
       "      <td>14.49</td>\n",
       "      <td>14.49</td>\n",
       "      <td>2016-01-08</td>\n",
       "      <td>33</td>\n",
       "      <td>1</td>\n",
       "      <td>HARDERSFIELD</td>\n",
       "      <td>1004</td>\n",
       "      <td>Jim Beam w/2 Rocks Glasses</td>\n",
       "      <td>750mL</td>\n",
       "      <td>17</td>\n",
       "      <td>16.49</td>\n",
       "      <td>01/01/2016</td>\n",
       "      <td>1</td>\n",
       "      <td>9663</td>\n",
       "      <td>224607</td>\n",
       "    </tr>\n",
       "    <tr>\n",
       "      <th>4</th>\n",
       "      <td>1_HARDERSFIELD_1005</td>\n",
       "      <td>12546</td>\n",
       "      <td>JIM BEAM BRANDS COMPANY</td>\n",
       "      <td>2</td>\n",
       "      <td>69.98</td>\n",
       "      <td>34.99</td>\n",
       "      <td>2016-01-09</td>\n",
       "      <td>33</td>\n",
       "      <td>1</td>\n",
       "      <td>HARDERSFIELD</td>\n",
       "      <td>1005</td>\n",
       "      <td>Maker's Mark Combo Pack</td>\n",
       "      <td>375mL 2 Pk</td>\n",
       "      <td>7</td>\n",
       "      <td>34.99</td>\n",
       "      <td>01/01/2016</td>\n",
       "      <td>1</td>\n",
       "      <td>9664</td>\n",
       "      <td>224608</td>\n",
       "    </tr>\n",
       "  </tbody>\n",
       "</table>\n",
       "</div>"
      ],
      "text/plain": [
       "           InventoryId  NumeroProveedor                     Nombre_x  \\\n",
       "0  1_HARDERSFIELD_1004            12546  JIM BEAM BRANDS COMPANY       \n",
       "1  1_HARDERSFIELD_1004            12546  JIM BEAM BRANDS COMPANY       \n",
       "2  1_HARDERSFIELD_1004            12546  JIM BEAM BRANDS COMPANY       \n",
       "3  1_HARDERSFIELD_1004            12546  JIM BEAM BRANDS COMPANY       \n",
       "4  1_HARDERSFIELD_1005            12546  JIM BEAM BRANDS COMPANY       \n",
       "\n",
       "   CantidadVendida  TotalVentas  PrecioVenta     Fecha_x  ProveedorID  \\\n",
       "0                1        16.49        16.49  2016-01-01           33   \n",
       "1                2        32.98        16.49  2016-01-02           33   \n",
       "2                1        16.49        16.49  2016-01-03           33   \n",
       "3                1        14.49        14.49  2016-01-08           33   \n",
       "4                2        69.98        34.99  2016-01-09           33   \n",
       "\n",
       "   NumeroTienda        Ciudad  Marca                    Nombre_y     Volumen  \\\n",
       "0             1  HARDERSFIELD   1004  Jim Beam w/2 Rocks Glasses       750mL   \n",
       "1             1  HARDERSFIELD   1004  Jim Beam w/2 Rocks Glasses       750mL   \n",
       "2             1  HARDERSFIELD   1004  Jim Beam w/2 Rocks Glasses       750mL   \n",
       "3             1  HARDERSFIELD   1004  Jim Beam w/2 Rocks Glasses       750mL   \n",
       "4             1  HARDERSFIELD   1005     Maker's Mark Combo Pack  375mL 2 Pk   \n",
       "\n",
       "   Stock  Precio     Fecha_y  TiendaID  ProductoID  InventarioID  \n",
       "0     17   16.49  01/01/2016         1        9663        224607  \n",
       "1     17   16.49  01/01/2016         1        9663        224607  \n",
       "2     17   16.49  01/01/2016         1        9663        224607  \n",
       "3     17   16.49  01/01/2016         1        9663        224607  \n",
       "4      7   34.99  01/01/2016         1        9664        224608  "
      ]
     },
     "execution_count": 442,
     "metadata": {},
     "output_type": "execute_result"
    }
   ],
   "source": [
    "ventasInventarioMerge.head(5)"
   ]
  },
  {
   "cell_type": "code",
   "execution_count": 443,
   "metadata": {},
   "outputs": [
    {
     "data": {
      "text/plain": [
       "InventoryId        0\n",
       "NumeroProveedor    0\n",
       "Nombre_x           0\n",
       "CantidadVendida    0\n",
       "TotalVentas        0\n",
       "PrecioVenta        0\n",
       "Fecha_x            0\n",
       "ProveedorID        0\n",
       "NumeroTienda       0\n",
       "Ciudad             0\n",
       "Marca              0\n",
       "Nombre_y           0\n",
       "Volumen            0\n",
       "Stock              0\n",
       "Precio             0\n",
       "Fecha_y            0\n",
       "TiendaID           0\n",
       "ProductoID         0\n",
       "InventarioID       0\n",
       "dtype: int64"
      ]
     },
     "execution_count": 443,
     "metadata": {},
     "output_type": "execute_result"
    }
   ],
   "source": [
    "ventasInventarioMerge.isnull().sum()"
   ]
  },
  {
   "cell_type": "code",
   "execution_count": 446,
   "metadata": {},
   "outputs": [
    {
     "data": {
      "text/plain": [
       "Index(['InventoryId', 'NumeroProveedor', 'Nombre_x', 'CantidadVendida',\n",
       "       'TotalVentas', 'PrecioVenta', 'Fecha_x', 'ProveedorID', 'NumeroTienda',\n",
       "       'Ciudad', 'Marca', 'Nombre_y', 'Volumen', 'Stock', 'Precio', 'Fecha_y',\n",
       "       'TiendaID', 'ProductoID', 'InventarioID', 'VentasID'],\n",
       "      dtype='object')"
      ]
     },
     "execution_count": 446,
     "metadata": {},
     "output_type": "execute_result"
    }
   ],
   "source": [
    "ventasInventarioMerge.columns"
   ]
  },
  {
   "cell_type": "code",
   "execution_count": 445,
   "metadata": {},
   "outputs": [
    {
     "name": "stdout",
     "output_type": "stream",
     "text": [
      "                 InventoryId  NumeroProveedor                     Nombre_x  \\\n",
      "0        1_HARDERSFIELD_1004            12546  JIM BEAM BRANDS COMPANY       \n",
      "1        1_HARDERSFIELD_1004            12546  JIM BEAM BRANDS COMPANY       \n",
      "2        1_HARDERSFIELD_1004            12546  JIM BEAM BRANDS COMPANY       \n",
      "3        1_HARDERSFIELD_1004            12546  JIM BEAM BRANDS COMPANY       \n",
      "4        1_HARDERSFIELD_1005            12546  JIM BEAM BRANDS COMPANY       \n",
      "...                      ...              ...                          ...   \n",
      "1995044  19_WINTERVALE_39384             2000  SOUTHERN WINE & SPIRITS NE    \n",
      "1995045  19_WINTERVALE_39384             2000  SOUTHERN WINE & SPIRITS NE    \n",
      "1995046  19_WINTERVALE_39384             2000  SOUTHERN WINE & SPIRITS NE    \n",
      "1995047  19_WINTERVALE_39384             2000  SOUTHERN WINE & SPIRITS NE    \n",
      "1995048  19_WINTERVALE_39384             2000  SOUTHERN WINE & SPIRITS NE    \n",
      "\n",
      "         CantidadVendida  TotalVentas  PrecioVenta     Fecha_x  ProveedorID  \\\n",
      "0                      1        16.49        16.49  2016-01-01           33   \n",
      "1                      2        32.98        16.49  2016-01-02           33   \n",
      "2                      1        16.49        16.49  2016-01-03           33   \n",
      "3                      1        14.49        14.49  2016-01-08           33   \n",
      "4                      2        69.98        34.99  2016-01-09           33   \n",
      "...                  ...          ...          ...         ...          ...   \n",
      "1995044                1        12.95        12.95  2016-02-19           68   \n",
      "1995045                3        38.85        12.95  2016-02-22           68   \n",
      "1995046                3        38.85        12.95  2016-02-22           68   \n",
      "1995047                2        25.90        12.95  2016-02-24           68   \n",
      "1995048                2        25.90        12.95  2016-02-24           68   \n",
      "\n",
      "         NumeroTienda        Ciudad  Marca                    Nombre_y  \\\n",
      "0                   1  HARDERSFIELD   1004  Jim Beam w/2 Rocks Glasses   \n",
      "1                   1  HARDERSFIELD   1004  Jim Beam w/2 Rocks Glasses   \n",
      "2                   1  HARDERSFIELD   1004  Jim Beam w/2 Rocks Glasses   \n",
      "3                   1  HARDERSFIELD   1004  Jim Beam w/2 Rocks Glasses   \n",
      "4                   1  HARDERSFIELD   1005     Maker's Mark Combo Pack   \n",
      "...               ...           ...    ...                         ...   \n",
      "1995044            19    WINTERVALE  39384    F Coppola Diamond Pnt Nr   \n",
      "1995045            19    WINTERVALE  39384    F Coppola Diamond Pnt Nr   \n",
      "1995046            19    WINTERVALE  39384    F Coppola Diamond Pnt Nr   \n",
      "1995047            19    WINTERVALE  39384    F Coppola Diamond Pnt Nr   \n",
      "1995048            19    WINTERVALE  39384    F Coppola Diamond Pnt Nr   \n",
      "\n",
      "            Volumen  Stock  Precio     Fecha_y  TiendaID  ProductoID  \\\n",
      "0             750mL     17   16.49  01/01/2016         1        9663   \n",
      "1             750mL     17   16.49  01/01/2016         1        9663   \n",
      "2             750mL     17   16.49  01/01/2016         1        9663   \n",
      "3             750mL     17   16.49  01/01/2016         1        9663   \n",
      "4        375mL 2 Pk      7   34.99  01/01/2016         1        9664   \n",
      "...             ...    ...     ...         ...       ...         ...   \n",
      "1995044       750mL      7   16.99  01/01/2016        19        3008   \n",
      "1995045       750mL     10   16.99  31/12/2016        19        3008   \n",
      "1995046       750mL      7   16.99  01/01/2016        19        3008   \n",
      "1995047       750mL     10   16.99  31/12/2016        19        3008   \n",
      "1995048       750mL      7   16.99  01/01/2016        19        3008   \n",
      "\n",
      "         InventarioID  VentasID  \n",
      "0              224607         1  \n",
      "1              224607         2  \n",
      "2              224607         3  \n",
      "3              224607         4  \n",
      "4              224608         5  \n",
      "...               ...       ...  \n",
      "1995044        268933   1995045  \n",
      "1995045         45155   1995046  \n",
      "1995046        268933   1995047  \n",
      "1995047         45155   1995048  \n",
      "1995048        268933   1995049  \n",
      "\n",
      "[1995049 rows x 20 columns]\n"
     ]
    }
   ],
   "source": [
    "ventasInventarioMerge['VentasID'] = range(1, len(ventasInventarioMerge)+1)\n",
    "print(ventasInventarioMerge)"
   ]
  },
  {
   "cell_type": "code",
   "execution_count": 449,
   "metadata": {},
   "outputs": [
    {
     "data": {
      "text/plain": [
       "Index(['InventoryId', 'NumeroProveedor', 'Nombre_x', 'CantidadVendida',\n",
       "       'TotalVenta', 'PrecioVenta', 'FechaVenta', 'ProveedorID',\n",
       "       'NumeroTienda', 'Ciudad', 'Marca', 'Nombre_y', 'Volumen', 'Stock',\n",
       "       'Precio', 'Fecha_y', 'TiendaID', 'ProductoID', 'InventarioID',\n",
       "       'VentasID'],\n",
       "      dtype='object')"
      ]
     },
     "execution_count": 449,
     "metadata": {},
     "output_type": "execute_result"
    }
   ],
   "source": [
    "ventasInventarioMerge.columns"
   ]
  },
  {
   "cell_type": "code",
   "execution_count": 451,
   "metadata": {},
   "outputs": [],
   "source": [
    "ventasInventarioMerge.rename(columns={ 'VentasID': 'VentaID', 'TotalVentas': 'TotalVenta', 'Fecha_x': 'FechaVenta'}, inplace=True)\n"
   ]
  },
  {
   "cell_type": "code",
   "execution_count": 452,
   "metadata": {},
   "outputs": [],
   "source": [
    "ventasInventarioMergeCarga = ventasInventarioMerge.reindex(columns=[ 'VentaID', 'InventarioID', 'ProveedorID', 'CantidadVendida', 'TotalVenta', 'PrecioVenta', 'FechaVenta'])"
   ]
  },
  {
   "cell_type": "code",
   "execution_count": 453,
   "metadata": {},
   "outputs": [
    {
     "data": {
      "text/plain": [
       "121"
      ]
     },
     "execution_count": 453,
     "metadata": {},
     "output_type": "execute_result"
    }
   ],
   "source": [
    "ventasInventarioMergeCarga.to_sql('Ventas', engine, if_exists='append', index=False)"
   ]
  },
  {
   "cell_type": "markdown",
   "metadata": {},
   "source": [
    "### COMPLETAR LA TABLA DE COMPRAS"
   ]
  },
  {
   "cell_type": "code",
   "execution_count": 409,
   "metadata": {},
   "outputs": [],
   "source": [
    "tablaCompras = pd.read_csv('https://drive.usercontent.google.com/download?id=1r0DuLK9JZTbx4ouuuYEGLUS4lZvsa8lG&export=download&authuser=1&confirm=t&uuid=7c1bdf54-2f1b-48d3-87fe-d157d9d9b221&at=APZUnTU_jAENsVpPMq_R9-SF1OpY:1724011140819')\n"
   ]
  },
  {
   "cell_type": "code",
   "execution_count": 455,
   "metadata": {},
   "outputs": [
    {
     "data": {
      "text/plain": [
       "(2372474, 17)"
      ]
     },
     "execution_count": 455,
     "metadata": {},
     "output_type": "execute_result"
    }
   ],
   "source": [
    "tablaCompras.shape"
   ]
  },
  {
   "cell_type": "code",
   "execution_count": 454,
   "metadata": {},
   "outputs": [
    {
     "data": {
      "text/plain": [
       "Index(['Unnamed: 0', 'InventoryId', 'Store', 'Brand', 'Description', 'Size',\n",
       "       'VendorNumber', 'VendorName', 'PONumber', 'PODate', 'ReceivingDate',\n",
       "       'InvoiceDate', 'PayDate', 'PurchasePrice', 'Quantity', 'Dollars',\n",
       "       'Classification'],\n",
       "      dtype='object')"
      ]
     },
     "execution_count": 454,
     "metadata": {},
     "output_type": "execute_result"
    }
   ],
   "source": [
    "tablaCompras.columns"
   ]
  },
  {
   "cell_type": "code",
   "execution_count": null,
   "metadata": {},
   "outputs": [],
   "source": [
    "tablaCompras_df = tablaCompras[['InventoryId', 'VendorNo', 'VendorName', 'SalesQuantity', 'SalesDollars', 'SalesPrice', 'SalesDate']]"
   ]
  },
  {
   "cell_type": "code",
   "execution_count": null,
   "metadata": {},
   "outputs": [],
   "source": [
    "tablaCompras_df.rename(columns={'VendorNo': 'NumeroProveedor', 'VendorName': 'Nombre', 'SalesQuantity' : 'CantidadVendida', 'SalesDollars' : 'TotalVentas', 'SalesPrice' : 'PrecioVenta', 'SalesDate' : 'Fecha' }, inplace=True)\n"
   ]
  },
  {
   "cell_type": "code",
   "execution_count": null,
   "metadata": {},
   "outputs": [],
   "source": [
    "comprasMerge=tablaCompras_df.merge(proveedores_df, on=['NumeroProveedor','Nombre'], how='left')"
   ]
  }
 ],
 "metadata": {
  "language_info": {
   "name": "python"
  }
 },
 "nbformat": 4,
 "nbformat_minor": 2
}
