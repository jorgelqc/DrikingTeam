{
 "cells": [
  {
   "cell_type": "markdown",
   "metadata": {},
   "source": [
    "# Librerías"
   ]
  },
  {
   "cell_type": "code",
   "execution_count": 1,
   "metadata": {},
   "outputs": [],
   "source": [
    "import pyodbc\n",
    "import uuid\n",
    "import pandas as pd\n",
    "import numpy as np\n",
    "import sqlalchemy "
   ]
  },
  {
   "cell_type": "markdown",
   "metadata": {},
   "source": [
    "# Conexión a la nube"
   ]
  },
  {
   "cell_type": "code",
   "execution_count": 3,
   "metadata": {},
   "outputs": [],
   "source": [
    "from sqlalchemy import create_engine\n",
    "\n",
    "# Configura la conexión a la base de datos local\n",
    "db_user = 'datafusionlatam'\n",
    "db_pass = 'DAFTHENRY'\n",
    "db_name = 'DrinkingTeamDB'\n",
    "db_host = '104.198.176.117'  # Direccion ip para la conexion a la base de datos en la nube \n",
    "db_port = '1433'  # puerto de conexion \n",
    "\n",
    "# Crear la cadena de conexión\n",
    "engine = create_engine(f'mssql+pyodbc://{db_user}:{db_pass}@{db_host}:{db_port}/{db_name}?driver=ODBC+Driver+17+for+SQL+Server')\n"
   ]
  },
  {
   "cell_type": "markdown",
   "metadata": {},
   "source": [
    "### Lectura de archivos"
   ]
  },
  {
   "cell_type": "code",
   "execution_count": 4,
   "metadata": {},
   "outputs": [],
   "source": [
    "inventario_inicial_limpio_df= pd.read_csv('https://drive.usercontent.google.com/download?id=1-n6LPzVEQ5tXXB54O1dLFoFUCwqq4nOW&export=download&authuser=1&confirm=t&uuid=367119ce-9a51-4201-90e1-a02243ea8709&at=APZUnTWL2Pg-H8QeoRX1zXzmmQwU:1724010977504', sep=',')"
   ]
  },
  {
   "cell_type": "code",
   "execution_count": 5,
   "metadata": {},
   "outputs": [
    {
     "data": {
      "text/html": [
       "<div>\n",
       "<style scoped>\n",
       "    .dataframe tbody tr th:only-of-type {\n",
       "        vertical-align: middle;\n",
       "    }\n",
       "\n",
       "    .dataframe tbody tr th {\n",
       "        vertical-align: top;\n",
       "    }\n",
       "\n",
       "    .dataframe thead th {\n",
       "        text-align: right;\n",
       "    }\n",
       "</style>\n",
       "<table border=\"1\" class=\"dataframe\">\n",
       "  <thead>\n",
       "    <tr style=\"text-align: right;\">\n",
       "      <th></th>\n",
       "      <th>Unnamed: 0</th>\n",
       "      <th>InventoryId</th>\n",
       "      <th>Store</th>\n",
       "      <th>City</th>\n",
       "      <th>Brand</th>\n",
       "      <th>Description</th>\n",
       "      <th>Size</th>\n",
       "      <th>onHand</th>\n",
       "      <th>Price</th>\n",
       "      <th>startDate</th>\n",
       "    </tr>\n",
       "  </thead>\n",
       "  <tbody>\n",
       "    <tr>\n",
       "      <th>0</th>\n",
       "      <td>0</td>\n",
       "      <td>1_HARDERSFIELD_58</td>\n",
       "      <td>1</td>\n",
       "      <td>HARDERSFIELD</td>\n",
       "      <td>58</td>\n",
       "      <td>Gekkeikan Black &amp; Gold Sake</td>\n",
       "      <td>750mL</td>\n",
       "      <td>8</td>\n",
       "      <td>12.99</td>\n",
       "      <td>2016-01-01</td>\n",
       "    </tr>\n",
       "    <tr>\n",
       "      <th>1</th>\n",
       "      <td>1</td>\n",
       "      <td>1_HARDERSFIELD_60</td>\n",
       "      <td>1</td>\n",
       "      <td>HARDERSFIELD</td>\n",
       "      <td>60</td>\n",
       "      <td>Canadian Club 1858 VAP</td>\n",
       "      <td>750mL</td>\n",
       "      <td>7</td>\n",
       "      <td>10.99</td>\n",
       "      <td>2016-01-01</td>\n",
       "    </tr>\n",
       "    <tr>\n",
       "      <th>2</th>\n",
       "      <td>2</td>\n",
       "      <td>1_HARDERSFIELD_62</td>\n",
       "      <td>1</td>\n",
       "      <td>HARDERSFIELD</td>\n",
       "      <td>62</td>\n",
       "      <td>Herradura Silver Tequila</td>\n",
       "      <td>750mL</td>\n",
       "      <td>6</td>\n",
       "      <td>36.99</td>\n",
       "      <td>2016-01-01</td>\n",
       "    </tr>\n",
       "    <tr>\n",
       "      <th>3</th>\n",
       "      <td>3</td>\n",
       "      <td>1_HARDERSFIELD_63</td>\n",
       "      <td>1</td>\n",
       "      <td>HARDERSFIELD</td>\n",
       "      <td>63</td>\n",
       "      <td>Herradura Reposado Tequila</td>\n",
       "      <td>750mL</td>\n",
       "      <td>3</td>\n",
       "      <td>38.99</td>\n",
       "      <td>2016-01-01</td>\n",
       "    </tr>\n",
       "    <tr>\n",
       "      <th>4</th>\n",
       "      <td>4</td>\n",
       "      <td>1_HARDERSFIELD_72</td>\n",
       "      <td>1</td>\n",
       "      <td>HARDERSFIELD</td>\n",
       "      <td>72</td>\n",
       "      <td>No. 3 London Dry Gin</td>\n",
       "      <td>750mL</td>\n",
       "      <td>6</td>\n",
       "      <td>34.99</td>\n",
       "      <td>2016-01-01</td>\n",
       "    </tr>\n",
       "  </tbody>\n",
       "</table>\n",
       "</div>"
      ],
      "text/plain": [
       "   Unnamed: 0        InventoryId  Store          City  Brand  \\\n",
       "0           0  1_HARDERSFIELD_58      1  HARDERSFIELD     58   \n",
       "1           1  1_HARDERSFIELD_60      1  HARDERSFIELD     60   \n",
       "2           2  1_HARDERSFIELD_62      1  HARDERSFIELD     62   \n",
       "3           3  1_HARDERSFIELD_63      1  HARDERSFIELD     63   \n",
       "4           4  1_HARDERSFIELD_72      1  HARDERSFIELD     72   \n",
       "\n",
       "                   Description   Size  onHand  Price   startDate  \n",
       "0  Gekkeikan Black & Gold Sake  750mL       8  12.99  2016-01-01  \n",
       "1       Canadian Club 1858 VAP  750mL       7  10.99  2016-01-01  \n",
       "2     Herradura Silver Tequila  750mL       6  36.99  2016-01-01  \n",
       "3   Herradura Reposado Tequila  750mL       3  38.99  2016-01-01  \n",
       "4         No. 3 London Dry Gin  750mL       6  34.99  2016-01-01  "
      ]
     },
     "execution_count": 5,
     "metadata": {},
     "output_type": "execute_result"
    }
   ],
   "source": [
    "inventario_inicial_limpio_df.head(5)"
   ]
  },
  {
   "cell_type": "code",
   "execution_count": 6,
   "metadata": {},
   "outputs": [],
   "source": [
    "inventario_final_limpio_df= pd.read_csv('https://drive.usercontent.google.com/download?id=1rdgh46E0dkb0emyE3v8JWh3uGSqRUE0L&export=download&authuser=1&confirm=t&uuid=ef5cabed-1a9f-4f48-9afc-7e9a50b18b82&at=APZUnTXez340bLeUZnJCE9g0KVru:1724011178592', sep=',')\n"
   ]
  },
  {
   "cell_type": "code",
   "execution_count": 7,
   "metadata": {},
   "outputs": [
    {
     "data": {
      "text/html": [
       "<div>\n",
       "<style scoped>\n",
       "    .dataframe tbody tr th:only-of-type {\n",
       "        vertical-align: middle;\n",
       "    }\n",
       "\n",
       "    .dataframe tbody tr th {\n",
       "        vertical-align: top;\n",
       "    }\n",
       "\n",
       "    .dataframe thead th {\n",
       "        text-align: right;\n",
       "    }\n",
       "</style>\n",
       "<table border=\"1\" class=\"dataframe\">\n",
       "  <thead>\n",
       "    <tr style=\"text-align: right;\">\n",
       "      <th></th>\n",
       "      <th>Unnamed: 0</th>\n",
       "      <th>InventoryId</th>\n",
       "      <th>Store</th>\n",
       "      <th>City</th>\n",
       "      <th>Brand</th>\n",
       "      <th>Description</th>\n",
       "      <th>Size</th>\n",
       "      <th>onHand</th>\n",
       "      <th>Price</th>\n",
       "      <th>endDate</th>\n",
       "    </tr>\n",
       "  </thead>\n",
       "  <tbody>\n",
       "    <tr>\n",
       "      <th>0</th>\n",
       "      <td>0</td>\n",
       "      <td>1_HARDERSFIELD_58</td>\n",
       "      <td>1</td>\n",
       "      <td>HARDERSFIELD</td>\n",
       "      <td>58</td>\n",
       "      <td>Gekkeikan Black &amp; Gold Sake</td>\n",
       "      <td>750mL</td>\n",
       "      <td>11</td>\n",
       "      <td>12.99</td>\n",
       "      <td>2016-12-31</td>\n",
       "    </tr>\n",
       "    <tr>\n",
       "      <th>1</th>\n",
       "      <td>1</td>\n",
       "      <td>1_HARDERSFIELD_62</td>\n",
       "      <td>1</td>\n",
       "      <td>HARDERSFIELD</td>\n",
       "      <td>62</td>\n",
       "      <td>Herradura Silver Tequila</td>\n",
       "      <td>750mL</td>\n",
       "      <td>7</td>\n",
       "      <td>36.99</td>\n",
       "      <td>2016-12-31</td>\n",
       "    </tr>\n",
       "    <tr>\n",
       "      <th>2</th>\n",
       "      <td>2</td>\n",
       "      <td>1_HARDERSFIELD_63</td>\n",
       "      <td>1</td>\n",
       "      <td>HARDERSFIELD</td>\n",
       "      <td>63</td>\n",
       "      <td>Herradura Reposado Tequila</td>\n",
       "      <td>750mL</td>\n",
       "      <td>7</td>\n",
       "      <td>38.99</td>\n",
       "      <td>2016-12-31</td>\n",
       "    </tr>\n",
       "    <tr>\n",
       "      <th>3</th>\n",
       "      <td>3</td>\n",
       "      <td>1_HARDERSFIELD_72</td>\n",
       "      <td>1</td>\n",
       "      <td>HARDERSFIELD</td>\n",
       "      <td>72</td>\n",
       "      <td>No. 3 London Dry Gin</td>\n",
       "      <td>750mL</td>\n",
       "      <td>4</td>\n",
       "      <td>34.99</td>\n",
       "      <td>2016-12-31</td>\n",
       "    </tr>\n",
       "    <tr>\n",
       "      <th>4</th>\n",
       "      <td>4</td>\n",
       "      <td>1_HARDERSFIELD_75</td>\n",
       "      <td>1</td>\n",
       "      <td>HARDERSFIELD</td>\n",
       "      <td>75</td>\n",
       "      <td>Three Olives Tomato Vodka</td>\n",
       "      <td>750mL</td>\n",
       "      <td>7</td>\n",
       "      <td>14.99</td>\n",
       "      <td>2016-12-31</td>\n",
       "    </tr>\n",
       "  </tbody>\n",
       "</table>\n",
       "</div>"
      ],
      "text/plain": [
       "   Unnamed: 0        InventoryId  Store          City  Brand  \\\n",
       "0           0  1_HARDERSFIELD_58      1  HARDERSFIELD     58   \n",
       "1           1  1_HARDERSFIELD_62      1  HARDERSFIELD     62   \n",
       "2           2  1_HARDERSFIELD_63      1  HARDERSFIELD     63   \n",
       "3           3  1_HARDERSFIELD_72      1  HARDERSFIELD     72   \n",
       "4           4  1_HARDERSFIELD_75      1  HARDERSFIELD     75   \n",
       "\n",
       "                   Description   Size  onHand  Price     endDate  \n",
       "0  Gekkeikan Black & Gold Sake  750mL      11  12.99  2016-12-31  \n",
       "1     Herradura Silver Tequila  750mL       7  36.99  2016-12-31  \n",
       "2   Herradura Reposado Tequila  750mL       7  38.99  2016-12-31  \n",
       "3         No. 3 London Dry Gin  750mL       4  34.99  2016-12-31  \n",
       "4    Three Olives Tomato Vodka  750mL       7  14.99  2016-12-31  "
      ]
     },
     "execution_count": 7,
     "metadata": {},
     "output_type": "execute_result"
    }
   ],
   "source": [
    "inventario_final_limpio_df.head(5)"
   ]
  },
  {
   "cell_type": "code",
   "execution_count": 8,
   "metadata": {},
   "outputs": [],
   "source": [
    "compras_limpio_df= pd.read_csv ('https://drive.usercontent.google.com/download?id=1r0DuLK9JZTbx4ouuuYEGLUS4lZvsa8lG&export=download&authuser=1&confirm=t&uuid=7c1bdf54-2f1b-48d3-87fe-d157d9d9b221&at=APZUnTU_jAENsVpPMq_R9-SF1OpY:1724011140819')"
   ]
  },
  {
   "cell_type": "code",
   "execution_count": 9,
   "metadata": {},
   "outputs": [
    {
     "data": {
      "text/html": [
       "<div>\n",
       "<style scoped>\n",
       "    .dataframe tbody tr th:only-of-type {\n",
       "        vertical-align: middle;\n",
       "    }\n",
       "\n",
       "    .dataframe tbody tr th {\n",
       "        vertical-align: top;\n",
       "    }\n",
       "\n",
       "    .dataframe thead th {\n",
       "        text-align: right;\n",
       "    }\n",
       "</style>\n",
       "<table border=\"1\" class=\"dataframe\">\n",
       "  <thead>\n",
       "    <tr style=\"text-align: right;\">\n",
       "      <th></th>\n",
       "      <th>Unnamed: 0</th>\n",
       "      <th>InventoryId</th>\n",
       "      <th>Store</th>\n",
       "      <th>Brand</th>\n",
       "      <th>Description</th>\n",
       "      <th>Size</th>\n",
       "      <th>VendorNumber</th>\n",
       "      <th>VendorName</th>\n",
       "      <th>PONumber</th>\n",
       "      <th>PODate</th>\n",
       "      <th>ReceivingDate</th>\n",
       "      <th>InvoiceDate</th>\n",
       "      <th>PayDate</th>\n",
       "      <th>PurchasePrice</th>\n",
       "      <th>Quantity</th>\n",
       "      <th>Dollars</th>\n",
       "      <th>Classification</th>\n",
       "    </tr>\n",
       "  </thead>\n",
       "  <tbody>\n",
       "    <tr>\n",
       "      <th>0</th>\n",
       "      <td>0</td>\n",
       "      <td>69_MOUNTMEND_8412</td>\n",
       "      <td>69</td>\n",
       "      <td>8412</td>\n",
       "      <td>Tequila Ocho Plata Fresno</td>\n",
       "      <td>750</td>\n",
       "      <td>105</td>\n",
       "      <td>ALTAMAR BRANDS LLC</td>\n",
       "      <td>8124</td>\n",
       "      <td>2015-12-21</td>\n",
       "      <td>2016-01-02</td>\n",
       "      <td>2016-01-04</td>\n",
       "      <td>2016-02-16</td>\n",
       "      <td>35.71</td>\n",
       "      <td>6</td>\n",
       "      <td>214.26</td>\n",
       "      <td>1</td>\n",
       "    </tr>\n",
       "    <tr>\n",
       "      <th>1</th>\n",
       "      <td>1</td>\n",
       "      <td>30_CULCHETH_5255</td>\n",
       "      <td>30</td>\n",
       "      <td>5255</td>\n",
       "      <td>TGI Fridays Ultimte Mudslide</td>\n",
       "      <td>1750</td>\n",
       "      <td>4466</td>\n",
       "      <td>AMERICAN VINTAGE BEVERAGE</td>\n",
       "      <td>8137</td>\n",
       "      <td>2015-12-22</td>\n",
       "      <td>2016-01-01</td>\n",
       "      <td>2016-01-07</td>\n",
       "      <td>2016-02-21</td>\n",
       "      <td>9.35</td>\n",
       "      <td>4</td>\n",
       "      <td>37.40</td>\n",
       "      <td>1</td>\n",
       "    </tr>\n",
       "    <tr>\n",
       "      <th>2</th>\n",
       "      <td>2</td>\n",
       "      <td>34_PITMERDEN_5215</td>\n",
       "      <td>34</td>\n",
       "      <td>5215</td>\n",
       "      <td>TGI Fridays Long Island Iced</td>\n",
       "      <td>1750</td>\n",
       "      <td>4466</td>\n",
       "      <td>AMERICAN VINTAGE BEVERAGE</td>\n",
       "      <td>8137</td>\n",
       "      <td>2015-12-22</td>\n",
       "      <td>2016-01-02</td>\n",
       "      <td>2016-01-07</td>\n",
       "      <td>2016-02-21</td>\n",
       "      <td>9.41</td>\n",
       "      <td>5</td>\n",
       "      <td>47.05</td>\n",
       "      <td>1</td>\n",
       "    </tr>\n",
       "    <tr>\n",
       "      <th>3</th>\n",
       "      <td>3</td>\n",
       "      <td>1_HARDERSFIELD_5255</td>\n",
       "      <td>1</td>\n",
       "      <td>5255</td>\n",
       "      <td>TGI Fridays Ultimte Mudslide</td>\n",
       "      <td>1750</td>\n",
       "      <td>4466</td>\n",
       "      <td>AMERICAN VINTAGE BEVERAGE</td>\n",
       "      <td>8137</td>\n",
       "      <td>2015-12-22</td>\n",
       "      <td>2016-01-01</td>\n",
       "      <td>2016-01-07</td>\n",
       "      <td>2016-02-21</td>\n",
       "      <td>9.35</td>\n",
       "      <td>6</td>\n",
       "      <td>56.10</td>\n",
       "      <td>1</td>\n",
       "    </tr>\n",
       "    <tr>\n",
       "      <th>4</th>\n",
       "      <td>4</td>\n",
       "      <td>76_DONCASTER_2034</td>\n",
       "      <td>76</td>\n",
       "      <td>2034</td>\n",
       "      <td>Glendalough Double Barrel</td>\n",
       "      <td>750</td>\n",
       "      <td>388</td>\n",
       "      <td>ATLANTIC IMPORTING COMPANY</td>\n",
       "      <td>8169</td>\n",
       "      <td>2015-12-24</td>\n",
       "      <td>2016-01-02</td>\n",
       "      <td>2016-01-09</td>\n",
       "      <td>2016-02-16</td>\n",
       "      <td>21.32</td>\n",
       "      <td>5</td>\n",
       "      <td>106.60</td>\n",
       "      <td>1</td>\n",
       "    </tr>\n",
       "  </tbody>\n",
       "</table>\n",
       "</div>"
      ],
      "text/plain": [
       "   Unnamed: 0          InventoryId  Store  Brand  \\\n",
       "0           0    69_MOUNTMEND_8412     69   8412   \n",
       "1           1     30_CULCHETH_5255     30   5255   \n",
       "2           2    34_PITMERDEN_5215     34   5215   \n",
       "3           3  1_HARDERSFIELD_5255      1   5255   \n",
       "4           4    76_DONCASTER_2034     76   2034   \n",
       "\n",
       "                    Description  Size  VendorNumber  \\\n",
       "0     Tequila Ocho Plata Fresno   750           105   \n",
       "1  TGI Fridays Ultimte Mudslide  1750          4466   \n",
       "2  TGI Fridays Long Island Iced  1750          4466   \n",
       "3  TGI Fridays Ultimte Mudslide  1750          4466   \n",
       "4     Glendalough Double Barrel   750           388   \n",
       "\n",
       "                    VendorName  PONumber      PODate ReceivingDate  \\\n",
       "0  ALTAMAR BRANDS LLC               8124  2015-12-21    2016-01-02   \n",
       "1  AMERICAN VINTAGE BEVERAGE        8137  2015-12-22    2016-01-01   \n",
       "2  AMERICAN VINTAGE BEVERAGE        8137  2015-12-22    2016-01-02   \n",
       "3  AMERICAN VINTAGE BEVERAGE        8137  2015-12-22    2016-01-01   \n",
       "4  ATLANTIC IMPORTING COMPANY       8169  2015-12-24    2016-01-02   \n",
       "\n",
       "  InvoiceDate     PayDate  PurchasePrice  Quantity  Dollars  Classification  \n",
       "0  2016-01-04  2016-02-16          35.71         6   214.26               1  \n",
       "1  2016-01-07  2016-02-21           9.35         4    37.40               1  \n",
       "2  2016-01-07  2016-02-21           9.41         5    47.05               1  \n",
       "3  2016-01-07  2016-02-21           9.35         6    56.10               1  \n",
       "4  2016-01-09  2016-02-16          21.32         5   106.60               1  "
      ]
     },
     "execution_count": 9,
     "metadata": {},
     "output_type": "execute_result"
    }
   ],
   "source": [
    "compras_limpio_df.head(5)"
   ]
  },
  {
   "cell_type": "code",
   "execution_count": 10,
   "metadata": {},
   "outputs": [],
   "source": [
    "ventas_limpio_df= pd.read_csv('https://drive.usercontent.google.com/download?id=1eQRPyLADEvVZW03fYWv9igZGxRNrTV2N&export=download&authuser=1&confirm=t&uuid=9727b1f3-4032-4414-b1ad-94b6542c1631&at=APZUnTU4Li_ldcTI0kVOaw_doqwB:1724010882647')"
   ]
  },
  {
   "cell_type": "code",
   "execution_count": 11,
   "metadata": {},
   "outputs": [
    {
     "data": {
      "text/html": [
       "<div>\n",
       "<style scoped>\n",
       "    .dataframe tbody tr th:only-of-type {\n",
       "        vertical-align: middle;\n",
       "    }\n",
       "\n",
       "    .dataframe tbody tr th {\n",
       "        vertical-align: top;\n",
       "    }\n",
       "\n",
       "    .dataframe thead th {\n",
       "        text-align: right;\n",
       "    }\n",
       "</style>\n",
       "<table border=\"1\" class=\"dataframe\">\n",
       "  <thead>\n",
       "    <tr style=\"text-align: right;\">\n",
       "      <th></th>\n",
       "      <th>Unnamed: 0</th>\n",
       "      <th>InventoryId</th>\n",
       "      <th>Store</th>\n",
       "      <th>Brand</th>\n",
       "      <th>Description</th>\n",
       "      <th>Size</th>\n",
       "      <th>SalesQuantity</th>\n",
       "      <th>SalesDollars</th>\n",
       "      <th>SalesPrice</th>\n",
       "      <th>SalesDate</th>\n",
       "      <th>Volume</th>\n",
       "      <th>Classification</th>\n",
       "      <th>ExciseTax</th>\n",
       "      <th>VendorNo</th>\n",
       "      <th>VendorName</th>\n",
       "    </tr>\n",
       "  </thead>\n",
       "  <tbody>\n",
       "    <tr>\n",
       "      <th>0</th>\n",
       "      <td>0</td>\n",
       "      <td>1_HARDERSFIELD_1004</td>\n",
       "      <td>1</td>\n",
       "      <td>1004</td>\n",
       "      <td>Jim Beam w/2 Rocks Glasses</td>\n",
       "      <td>750mL</td>\n",
       "      <td>1</td>\n",
       "      <td>16.49</td>\n",
       "      <td>16.49</td>\n",
       "      <td>2016-01-01</td>\n",
       "      <td>750</td>\n",
       "      <td>1</td>\n",
       "      <td>0.79</td>\n",
       "      <td>12546</td>\n",
       "      <td>JIM BEAM BRANDS COMPANY</td>\n",
       "    </tr>\n",
       "    <tr>\n",
       "      <th>1</th>\n",
       "      <td>1</td>\n",
       "      <td>1_HARDERSFIELD_1004</td>\n",
       "      <td>1</td>\n",
       "      <td>1004</td>\n",
       "      <td>Jim Beam w/2 Rocks Glasses</td>\n",
       "      <td>750mL</td>\n",
       "      <td>2</td>\n",
       "      <td>32.98</td>\n",
       "      <td>16.49</td>\n",
       "      <td>2016-01-02</td>\n",
       "      <td>750</td>\n",
       "      <td>1</td>\n",
       "      <td>1.57</td>\n",
       "      <td>12546</td>\n",
       "      <td>JIM BEAM BRANDS COMPANY</td>\n",
       "    </tr>\n",
       "    <tr>\n",
       "      <th>2</th>\n",
       "      <td>2</td>\n",
       "      <td>1_HARDERSFIELD_1004</td>\n",
       "      <td>1</td>\n",
       "      <td>1004</td>\n",
       "      <td>Jim Beam w/2 Rocks Glasses</td>\n",
       "      <td>750mL</td>\n",
       "      <td>1</td>\n",
       "      <td>16.49</td>\n",
       "      <td>16.49</td>\n",
       "      <td>2016-01-03</td>\n",
       "      <td>750</td>\n",
       "      <td>1</td>\n",
       "      <td>0.79</td>\n",
       "      <td>12546</td>\n",
       "      <td>JIM BEAM BRANDS COMPANY</td>\n",
       "    </tr>\n",
       "    <tr>\n",
       "      <th>3</th>\n",
       "      <td>3</td>\n",
       "      <td>1_HARDERSFIELD_1004</td>\n",
       "      <td>1</td>\n",
       "      <td>1004</td>\n",
       "      <td>Jim Beam w/2 Rocks Glasses</td>\n",
       "      <td>750mL</td>\n",
       "      <td>1</td>\n",
       "      <td>14.49</td>\n",
       "      <td>14.49</td>\n",
       "      <td>2016-01-08</td>\n",
       "      <td>750</td>\n",
       "      <td>1</td>\n",
       "      <td>0.79</td>\n",
       "      <td>12546</td>\n",
       "      <td>JIM BEAM BRANDS COMPANY</td>\n",
       "    </tr>\n",
       "    <tr>\n",
       "      <th>4</th>\n",
       "      <td>4</td>\n",
       "      <td>1_HARDERSFIELD_1005</td>\n",
       "      <td>1</td>\n",
       "      <td>1005</td>\n",
       "      <td>Maker's Mark Combo Pack</td>\n",
       "      <td>375mL 2 Pk</td>\n",
       "      <td>2</td>\n",
       "      <td>69.98</td>\n",
       "      <td>34.99</td>\n",
       "      <td>2016-01-09</td>\n",
       "      <td>375</td>\n",
       "      <td>1</td>\n",
       "      <td>0.79</td>\n",
       "      <td>12546</td>\n",
       "      <td>JIM BEAM BRANDS COMPANY</td>\n",
       "    </tr>\n",
       "  </tbody>\n",
       "</table>\n",
       "</div>"
      ],
      "text/plain": [
       "   Unnamed: 0          InventoryId  Store  Brand                 Description  \\\n",
       "0           0  1_HARDERSFIELD_1004      1   1004  Jim Beam w/2 Rocks Glasses   \n",
       "1           1  1_HARDERSFIELD_1004      1   1004  Jim Beam w/2 Rocks Glasses   \n",
       "2           2  1_HARDERSFIELD_1004      1   1004  Jim Beam w/2 Rocks Glasses   \n",
       "3           3  1_HARDERSFIELD_1004      1   1004  Jim Beam w/2 Rocks Glasses   \n",
       "4           4  1_HARDERSFIELD_1005      1   1005     Maker's Mark Combo Pack   \n",
       "\n",
       "         Size  SalesQuantity  SalesDollars  SalesPrice   SalesDate  Volume  \\\n",
       "0       750mL              1         16.49       16.49  2016-01-01     750   \n",
       "1       750mL              2         32.98       16.49  2016-01-02     750   \n",
       "2       750mL              1         16.49       16.49  2016-01-03     750   \n",
       "3       750mL              1         14.49       14.49  2016-01-08     750   \n",
       "4  375mL 2 Pk              2         69.98       34.99  2016-01-09     375   \n",
       "\n",
       "   Classification  ExciseTax  VendorNo                   VendorName  \n",
       "0               1       0.79     12546  JIM BEAM BRANDS COMPANY      \n",
       "1               1       1.57     12546  JIM BEAM BRANDS COMPANY      \n",
       "2               1       0.79     12546  JIM BEAM BRANDS COMPANY      \n",
       "3               1       0.79     12546  JIM BEAM BRANDS COMPANY      \n",
       "4               1       0.79     12546  JIM BEAM BRANDS COMPANY      "
      ]
     },
     "execution_count": 11,
     "metadata": {},
     "output_type": "execute_result"
    }
   ],
   "source": [
    "ventas_limpio_df.head(5)"
   ]
  },
  {
   "cell_type": "markdown",
   "metadata": {},
   "source": [
    "### Tabla Productos"
   ]
  },
  {
   "cell_type": "markdown",
   "metadata": {},
   "source": [
    "##### Se extraen de los csv las columnas Brand, Description y Size que son identicas para crear la tabla productos "
   ]
  },
  {
   "cell_type": "code",
   "execution_count": 12,
   "metadata": {},
   "outputs": [],
   "source": [
    "inventario_inicial_productos=inventario_inicial_limpio_df[['Brand','Description','Size']].drop_duplicates().reset_index(drop=True)"
   ]
  },
  {
   "cell_type": "code",
   "execution_count": 13,
   "metadata": {},
   "outputs": [
    {
     "data": {
      "text/html": [
       "<div>\n",
       "<style scoped>\n",
       "    .dataframe tbody tr th:only-of-type {\n",
       "        vertical-align: middle;\n",
       "    }\n",
       "\n",
       "    .dataframe tbody tr th {\n",
       "        vertical-align: top;\n",
       "    }\n",
       "\n",
       "    .dataframe thead th {\n",
       "        text-align: right;\n",
       "    }\n",
       "</style>\n",
       "<table border=\"1\" class=\"dataframe\">\n",
       "  <thead>\n",
       "    <tr style=\"text-align: right;\">\n",
       "      <th></th>\n",
       "      <th>Brand</th>\n",
       "      <th>Description</th>\n",
       "      <th>Size</th>\n",
       "    </tr>\n",
       "  </thead>\n",
       "  <tbody>\n",
       "    <tr>\n",
       "      <th>0</th>\n",
       "      <td>58</td>\n",
       "      <td>Gekkeikan Black &amp; Gold Sake</td>\n",
       "      <td>750mL</td>\n",
       "    </tr>\n",
       "    <tr>\n",
       "      <th>1</th>\n",
       "      <td>60</td>\n",
       "      <td>Canadian Club 1858 VAP</td>\n",
       "      <td>750mL</td>\n",
       "    </tr>\n",
       "    <tr>\n",
       "      <th>2</th>\n",
       "      <td>62</td>\n",
       "      <td>Herradura Silver Tequila</td>\n",
       "      <td>750mL</td>\n",
       "    </tr>\n",
       "    <tr>\n",
       "      <th>3</th>\n",
       "      <td>63</td>\n",
       "      <td>Herradura Reposado Tequila</td>\n",
       "      <td>750mL</td>\n",
       "    </tr>\n",
       "    <tr>\n",
       "      <th>4</th>\n",
       "      <td>72</td>\n",
       "      <td>No. 3 London Dry Gin</td>\n",
       "      <td>750mL</td>\n",
       "    </tr>\n",
       "  </tbody>\n",
       "</table>\n",
       "</div>"
      ],
      "text/plain": [
       "   Brand                  Description   Size\n",
       "0     58  Gekkeikan Black & Gold Sake  750mL\n",
       "1     60       Canadian Club 1858 VAP  750mL\n",
       "2     62     Herradura Silver Tequila  750mL\n",
       "3     63   Herradura Reposado Tequila  750mL\n",
       "4     72         No. 3 London Dry Gin  750mL"
      ]
     },
     "execution_count": 13,
     "metadata": {},
     "output_type": "execute_result"
    }
   ],
   "source": [
    "inventario_inicial_productos.head(5)"
   ]
  },
  {
   "cell_type": "code",
   "execution_count": 14,
   "metadata": {},
   "outputs": [],
   "source": [
    "inventario_final_productos=inventario_final_limpio_df[['Brand','Description','Size']].drop_duplicates().reset_index(drop=True)"
   ]
  },
  {
   "cell_type": "code",
   "execution_count": 15,
   "metadata": {},
   "outputs": [
    {
     "data": {
      "text/html": [
       "<div>\n",
       "<style scoped>\n",
       "    .dataframe tbody tr th:only-of-type {\n",
       "        vertical-align: middle;\n",
       "    }\n",
       "\n",
       "    .dataframe tbody tr th {\n",
       "        vertical-align: top;\n",
       "    }\n",
       "\n",
       "    .dataframe thead th {\n",
       "        text-align: right;\n",
       "    }\n",
       "</style>\n",
       "<table border=\"1\" class=\"dataframe\">\n",
       "  <thead>\n",
       "    <tr style=\"text-align: right;\">\n",
       "      <th></th>\n",
       "      <th>Brand</th>\n",
       "      <th>Description</th>\n",
       "      <th>Size</th>\n",
       "    </tr>\n",
       "  </thead>\n",
       "  <tbody>\n",
       "    <tr>\n",
       "      <th>0</th>\n",
       "      <td>58</td>\n",
       "      <td>Gekkeikan Black &amp; Gold Sake</td>\n",
       "      <td>750mL</td>\n",
       "    </tr>\n",
       "    <tr>\n",
       "      <th>1</th>\n",
       "      <td>62</td>\n",
       "      <td>Herradura Silver Tequila</td>\n",
       "      <td>750mL</td>\n",
       "    </tr>\n",
       "    <tr>\n",
       "      <th>2</th>\n",
       "      <td>63</td>\n",
       "      <td>Herradura Reposado Tequila</td>\n",
       "      <td>750mL</td>\n",
       "    </tr>\n",
       "    <tr>\n",
       "      <th>3</th>\n",
       "      <td>72</td>\n",
       "      <td>No. 3 London Dry Gin</td>\n",
       "      <td>750mL</td>\n",
       "    </tr>\n",
       "    <tr>\n",
       "      <th>4</th>\n",
       "      <td>75</td>\n",
       "      <td>Three Olives Tomato Vodka</td>\n",
       "      <td>750mL</td>\n",
       "    </tr>\n",
       "  </tbody>\n",
       "</table>\n",
       "</div>"
      ],
      "text/plain": [
       "   Brand                  Description   Size\n",
       "0     58  Gekkeikan Black & Gold Sake  750mL\n",
       "1     62     Herradura Silver Tequila  750mL\n",
       "2     63   Herradura Reposado Tequila  750mL\n",
       "3     72         No. 3 London Dry Gin  750mL\n",
       "4     75    Three Olives Tomato Vodka  750mL"
      ]
     },
     "execution_count": 15,
     "metadata": {},
     "output_type": "execute_result"
    }
   ],
   "source": [
    "inventario_final_productos.head(5)"
   ]
  },
  {
   "cell_type": "code",
   "execution_count": 16,
   "metadata": {},
   "outputs": [],
   "source": [
    "ventas_productos=ventas_limpio_df[['Brand','Description','Size']].drop_duplicates().reset_index(drop=True)"
   ]
  },
  {
   "cell_type": "code",
   "execution_count": 17,
   "metadata": {},
   "outputs": [
    {
     "data": {
      "text/html": [
       "<div>\n",
       "<style scoped>\n",
       "    .dataframe tbody tr th:only-of-type {\n",
       "        vertical-align: middle;\n",
       "    }\n",
       "\n",
       "    .dataframe tbody tr th {\n",
       "        vertical-align: top;\n",
       "    }\n",
       "\n",
       "    .dataframe thead th {\n",
       "        text-align: right;\n",
       "    }\n",
       "</style>\n",
       "<table border=\"1\" class=\"dataframe\">\n",
       "  <thead>\n",
       "    <tr style=\"text-align: right;\">\n",
       "      <th></th>\n",
       "      <th>Brand</th>\n",
       "      <th>Description</th>\n",
       "      <th>Size</th>\n",
       "    </tr>\n",
       "  </thead>\n",
       "  <tbody>\n",
       "    <tr>\n",
       "      <th>0</th>\n",
       "      <td>1004</td>\n",
       "      <td>Jim Beam w/2 Rocks Glasses</td>\n",
       "      <td>750mL</td>\n",
       "    </tr>\n",
       "    <tr>\n",
       "      <th>1</th>\n",
       "      <td>1005</td>\n",
       "      <td>Maker's Mark Combo Pack</td>\n",
       "      <td>375mL 2 Pk</td>\n",
       "    </tr>\n",
       "    <tr>\n",
       "      <th>2</th>\n",
       "      <td>10058</td>\n",
       "      <td>F Coppola Dmd Ivry Cab Svgn</td>\n",
       "      <td>750mL</td>\n",
       "    </tr>\n",
       "    <tr>\n",
       "      <th>3</th>\n",
       "      <td>1006</td>\n",
       "      <td>Jim Beam Candy Cane 4/50mLs</td>\n",
       "      <td>50mL 4 Pk</td>\n",
       "    </tr>\n",
       "    <tr>\n",
       "      <th>4</th>\n",
       "      <td>10062</td>\n",
       "      <td>Terroirs du Rhone</td>\n",
       "      <td>750mL</td>\n",
       "    </tr>\n",
       "  </tbody>\n",
       "</table>\n",
       "</div>"
      ],
      "text/plain": [
       "   Brand                  Description        Size\n",
       "0   1004   Jim Beam w/2 Rocks Glasses       750mL\n",
       "1   1005      Maker's Mark Combo Pack  375mL 2 Pk\n",
       "2  10058  F Coppola Dmd Ivry Cab Svgn       750mL\n",
       "3   1006  Jim Beam Candy Cane 4/50mLs   50mL 4 Pk\n",
       "4  10062            Terroirs du Rhone       750mL"
      ]
     },
     "execution_count": 17,
     "metadata": {},
     "output_type": "execute_result"
    }
   ],
   "source": [
    "ventas_productos.head(5)"
   ]
  },
  {
   "cell_type": "markdown",
   "metadata": {},
   "source": [
    "##### Se concatenan las filas en un solo DataFrames"
   ]
  },
  {
   "cell_type": "code",
   "execution_count": 18,
   "metadata": {},
   "outputs": [],
   "source": [
    "#Lista de dataframes a concatenar\n",
    "lista_dataframes_productos= [inventario_inicial_productos,inventario_final_productos,ventas_productos]\n",
    "\n",
    "#Concatenar los DataFrames\n",
    "productos_concatenados= pd.concat(lista_dataframes_productos,ignore_index=True )"
   ]
  },
  {
   "cell_type": "code",
   "execution_count": 19,
   "metadata": {},
   "outputs": [
    {
     "data": {
      "text/html": [
       "<div>\n",
       "<style scoped>\n",
       "    .dataframe tbody tr th:only-of-type {\n",
       "        vertical-align: middle;\n",
       "    }\n",
       "\n",
       "    .dataframe tbody tr th {\n",
       "        vertical-align: top;\n",
       "    }\n",
       "\n",
       "    .dataframe thead th {\n",
       "        text-align: right;\n",
       "    }\n",
       "</style>\n",
       "<table border=\"1\" class=\"dataframe\">\n",
       "  <thead>\n",
       "    <tr style=\"text-align: right;\">\n",
       "      <th></th>\n",
       "      <th>Brand</th>\n",
       "      <th>Description</th>\n",
       "      <th>Size</th>\n",
       "    </tr>\n",
       "  </thead>\n",
       "  <tbody>\n",
       "    <tr>\n",
       "      <th>0</th>\n",
       "      <td>58</td>\n",
       "      <td>Gekkeikan Black &amp; Gold Sake</td>\n",
       "      <td>750mL</td>\n",
       "    </tr>\n",
       "    <tr>\n",
       "      <th>1</th>\n",
       "      <td>60</td>\n",
       "      <td>Canadian Club 1858 VAP</td>\n",
       "      <td>750mL</td>\n",
       "    </tr>\n",
       "    <tr>\n",
       "      <th>2</th>\n",
       "      <td>62</td>\n",
       "      <td>Herradura Silver Tequila</td>\n",
       "      <td>750mL</td>\n",
       "    </tr>\n",
       "    <tr>\n",
       "      <th>3</th>\n",
       "      <td>63</td>\n",
       "      <td>Herradura Reposado Tequila</td>\n",
       "      <td>750mL</td>\n",
       "    </tr>\n",
       "    <tr>\n",
       "      <th>4</th>\n",
       "      <td>72</td>\n",
       "      <td>No. 3 London Dry Gin</td>\n",
       "      <td>750mL</td>\n",
       "    </tr>\n",
       "  </tbody>\n",
       "</table>\n",
       "</div>"
      ],
      "text/plain": [
       "   Brand                  Description   Size\n",
       "0     58  Gekkeikan Black & Gold Sake  750mL\n",
       "1     60       Canadian Club 1858 VAP  750mL\n",
       "2     62     Herradura Silver Tequila  750mL\n",
       "3     63   Herradura Reposado Tequila  750mL\n",
       "4     72         No. 3 London Dry Gin  750mL"
      ]
     },
     "execution_count": 19,
     "metadata": {},
     "output_type": "execute_result"
    }
   ],
   "source": [
    "productos_concatenados.head(5)"
   ]
  },
  {
   "cell_type": "code",
   "execution_count": 20,
   "metadata": {},
   "outputs": [
    {
     "data": {
      "text/plain": [
       "(25405, 3)"
      ]
     },
     "execution_count": 20,
     "metadata": {},
     "output_type": "execute_result"
    }
   ],
   "source": [
    "productos_concatenados.shape"
   ]
  },
  {
   "cell_type": "code",
   "execution_count": 21,
   "metadata": {},
   "outputs": [],
   "source": [
    "#Se eliminan duplicados\n",
    "productos_df=productos_concatenados[['Brand','Description','Size']].drop_duplicates().reset_index(drop=True)"
   ]
  },
  {
   "cell_type": "code",
   "execution_count": 22,
   "metadata": {},
   "outputs": [
    {
     "data": {
      "text/plain": [
       "(11123, 3)"
      ]
     },
     "execution_count": 22,
     "metadata": {},
     "output_type": "execute_result"
    }
   ],
   "source": [
    "productos_df.shape"
   ]
  },
  {
   "cell_type": "markdown",
   "metadata": {},
   "source": [
    "##### Se genera ID, se renombran las columnas y reordenan "
   ]
  },
  {
   "cell_type": "code",
   "execution_count": 23,
   "metadata": {},
   "outputs": [
    {
     "name": "stdout",
     "output_type": "stream",
     "text": [
      "       Brand                   Description   Size  ProductoID\n",
      "0         58   Gekkeikan Black & Gold Sake  750mL           1\n",
      "1         60        Canadian Club 1858 VAP  750mL           2\n",
      "2         62      Herradura Silver Tequila  750mL           3\n",
      "3         63    Herradura Reposado Tequila  750mL           4\n",
      "4         72          No. 3 London Dry Gin  750mL           5\n",
      "...      ...                           ...    ...         ...\n",
      "11118  24791  St Mayhem Red Coffee & Peppe  750mL       11119\n",
      "11119  24792   St Mayhem Wh Peach & Ginger  750mL       11120\n",
      "11120  36269        Stags Leap Merlot Napa  750mL       11121\n",
      "11121  13183               Alpataco Malbec  750mL       11122\n",
      "11122  45710    Ferrari-Carano Terre Chard  750mL       11123\n",
      "\n",
      "[11123 rows x 4 columns]\n"
     ]
    }
   ],
   "source": [
    "#Se genera el ID autoincremental\n",
    "productos_df['ProductoID'] = range(1, len(productos_df)+1)\n",
    "print(productos_df)"
   ]
  },
  {
   "cell_type": "code",
   "execution_count": 24,
   "metadata": {},
   "outputs": [
    {
     "name": "stdout",
     "output_type": "stream",
     "text": [
      "       Marca                        Nombre Volumen  ProductoID\n",
      "0         58   Gekkeikan Black & Gold Sake   750mL           1\n",
      "1         60        Canadian Club 1858 VAP   750mL           2\n",
      "2         62      Herradura Silver Tequila   750mL           3\n",
      "3         63    Herradura Reposado Tequila   750mL           4\n",
      "4         72          No. 3 London Dry Gin   750mL           5\n",
      "...      ...                           ...     ...         ...\n",
      "11118  24791  St Mayhem Red Coffee & Peppe   750mL       11119\n",
      "11119  24792   St Mayhem Wh Peach & Ginger   750mL       11120\n",
      "11120  36269        Stags Leap Merlot Napa   750mL       11121\n",
      "11121  13183               Alpataco Malbec   750mL       11122\n",
      "11122  45710    Ferrari-Carano Terre Chard   750mL       11123\n",
      "\n",
      "[11123 rows x 4 columns]\n"
     ]
    }
   ],
   "source": [
    "#Se renombran las columnas\n",
    "productos_df.rename(columns={'Brand': 'Marca', 'Description': 'Nombre', 'Size':'Volumen'}, inplace=True)\n",
    "print(productos_df)\n"
   ]
  },
  {
   "cell_type": "code",
   "execution_count": 25,
   "metadata": {},
   "outputs": [
    {
     "name": "stdout",
     "output_type": "stream",
     "text": [
      "       ProductoID  Marca                        Nombre Volumen\n",
      "0               1     58   Gekkeikan Black & Gold Sake   750mL\n",
      "1               2     60        Canadian Club 1858 VAP   750mL\n",
      "2               3     62      Herradura Silver Tequila   750mL\n",
      "3               4     63    Herradura Reposado Tequila   750mL\n",
      "4               5     72          No. 3 London Dry Gin   750mL\n",
      "...           ...    ...                           ...     ...\n",
      "11118       11119  24791  St Mayhem Red Coffee & Peppe   750mL\n",
      "11119       11120  24792   St Mayhem Wh Peach & Ginger   750mL\n",
      "11120       11121  36269        Stags Leap Merlot Napa   750mL\n",
      "11121       11122  13183               Alpataco Malbec   750mL\n",
      "11122       11123  45710    Ferrari-Carano Terre Chard   750mL\n",
      "\n",
      "[11123 rows x 4 columns]\n"
     ]
    }
   ],
   "source": [
    "#Se reordenan las columnas\n",
    "productos_df = productos_df.reindex(columns=[ 'ProductoID', 'Marca', 'Nombre','Volumen'])\n",
    "print(productos_df)"
   ]
  },
  {
   "cell_type": "markdown",
   "metadata": {},
   "source": [
    "##### Se seleccionan los datos que poblaran la base de datos"
   ]
  },
  {
   "cell_type": "code",
   "execution_count": 26,
   "metadata": {},
   "outputs": [
    {
     "name": "stdout",
     "output_type": "stream",
     "text": [
      "       Marca                        Nombre Volumen\n",
      "0         58   Gekkeikan Black & Gold Sake   750mL\n",
      "1         60        Canadian Club 1858 VAP   750mL\n",
      "2         62      Herradura Silver Tequila   750mL\n",
      "3         63    Herradura Reposado Tequila   750mL\n",
      "4         72          No. 3 London Dry Gin   750mL\n",
      "...      ...                           ...     ...\n",
      "11118  24791  St Mayhem Red Coffee & Peppe   750mL\n",
      "11119  24792   St Mayhem Wh Peach & Ginger   750mL\n",
      "11120  36269        Stags Leap Merlot Napa   750mL\n",
      "11121  13183               Alpataco Malbec   750mL\n",
      "11122  45710    Ferrari-Carano Terre Chard   750mL\n",
      "\n",
      "[11123 rows x 3 columns]\n"
     ]
    }
   ],
   "source": [
    "datos_productos=productos_df[['Marca', 'Nombre','Volumen']]\n",
    "print(datos_productos)"
   ]
  },
  {
   "cell_type": "code",
   "execution_count": 27,
   "metadata": {},
   "outputs": [
    {
     "data": {
      "text/plain": [
       "638"
      ]
     },
     "execution_count": 27,
     "metadata": {},
     "output_type": "execute_result"
    }
   ],
   "source": [
    "datos_productos.to_sql('Productos', engine, if_exists='append', index=False)"
   ]
  },
  {
   "cell_type": "markdown",
   "metadata": {},
   "source": [
    "### Tabla Tiendas"
   ]
  },
  {
   "cell_type": "markdown",
   "metadata": {},
   "source": [
    "##### Se extran las columnas Store y City de los csv"
   ]
  },
  {
   "cell_type": "code",
   "execution_count": 28,
   "metadata": {},
   "outputs": [],
   "source": [
    "inventario_inicial_tiendas=inventario_inicial_limpio_df[['Store','City']].drop_duplicates().reset_index(drop=True)"
   ]
  },
  {
   "cell_type": "code",
   "execution_count": 29,
   "metadata": {},
   "outputs": [
    {
     "data": {
      "text/html": [
       "<div>\n",
       "<style scoped>\n",
       "    .dataframe tbody tr th:only-of-type {\n",
       "        vertical-align: middle;\n",
       "    }\n",
       "\n",
       "    .dataframe tbody tr th {\n",
       "        vertical-align: top;\n",
       "    }\n",
       "\n",
       "    .dataframe thead th {\n",
       "        text-align: right;\n",
       "    }\n",
       "</style>\n",
       "<table border=\"1\" class=\"dataframe\">\n",
       "  <thead>\n",
       "    <tr style=\"text-align: right;\">\n",
       "      <th></th>\n",
       "      <th>Store</th>\n",
       "      <th>City</th>\n",
       "    </tr>\n",
       "  </thead>\n",
       "  <tbody>\n",
       "    <tr>\n",
       "      <th>0</th>\n",
       "      <td>1</td>\n",
       "      <td>HARDERSFIELD</td>\n",
       "    </tr>\n",
       "    <tr>\n",
       "      <th>1</th>\n",
       "      <td>2</td>\n",
       "      <td>ASHBORNE</td>\n",
       "    </tr>\n",
       "    <tr>\n",
       "      <th>2</th>\n",
       "      <td>3</td>\n",
       "      <td>HORNSEY</td>\n",
       "    </tr>\n",
       "    <tr>\n",
       "      <th>3</th>\n",
       "      <td>4</td>\n",
       "      <td>EANVERNESS</td>\n",
       "    </tr>\n",
       "    <tr>\n",
       "      <th>4</th>\n",
       "      <td>5</td>\n",
       "      <td>SUTTON</td>\n",
       "    </tr>\n",
       "  </tbody>\n",
       "</table>\n",
       "</div>"
      ],
      "text/plain": [
       "   Store          City\n",
       "0      1  HARDERSFIELD\n",
       "1      2      ASHBORNE\n",
       "2      3       HORNSEY\n",
       "3      4    EANVERNESS\n",
       "4      5        SUTTON"
      ]
     },
     "execution_count": 29,
     "metadata": {},
     "output_type": "execute_result"
    }
   ],
   "source": [
    "inventario_inicial_tiendas.head(5)"
   ]
  },
  {
   "cell_type": "code",
   "execution_count": 30,
   "metadata": {},
   "outputs": [],
   "source": [
    "inventario_final_tiendas=inventario_final_limpio_df[['Store','City']].drop_duplicates().reset_index(drop=True)"
   ]
  },
  {
   "cell_type": "code",
   "execution_count": 31,
   "metadata": {},
   "outputs": [
    {
     "data": {
      "text/html": [
       "<div>\n",
       "<style scoped>\n",
       "    .dataframe tbody tr th:only-of-type {\n",
       "        vertical-align: middle;\n",
       "    }\n",
       "\n",
       "    .dataframe tbody tr th {\n",
       "        vertical-align: top;\n",
       "    }\n",
       "\n",
       "    .dataframe thead th {\n",
       "        text-align: right;\n",
       "    }\n",
       "</style>\n",
       "<table border=\"1\" class=\"dataframe\">\n",
       "  <thead>\n",
       "    <tr style=\"text-align: right;\">\n",
       "      <th></th>\n",
       "      <th>Store</th>\n",
       "      <th>City</th>\n",
       "    </tr>\n",
       "  </thead>\n",
       "  <tbody>\n",
       "    <tr>\n",
       "      <th>0</th>\n",
       "      <td>1</td>\n",
       "      <td>HARDERSFIELD</td>\n",
       "    </tr>\n",
       "    <tr>\n",
       "      <th>1</th>\n",
       "      <td>2</td>\n",
       "      <td>ASHBORNE</td>\n",
       "    </tr>\n",
       "    <tr>\n",
       "      <th>2</th>\n",
       "      <td>3</td>\n",
       "      <td>HORNSEY</td>\n",
       "    </tr>\n",
       "    <tr>\n",
       "      <th>3</th>\n",
       "      <td>4</td>\n",
       "      <td>EANVERNESS</td>\n",
       "    </tr>\n",
       "    <tr>\n",
       "      <th>4</th>\n",
       "      <td>5</td>\n",
       "      <td>SUTTON</td>\n",
       "    </tr>\n",
       "  </tbody>\n",
       "</table>\n",
       "</div>"
      ],
      "text/plain": [
       "   Store          City\n",
       "0      1  HARDERSFIELD\n",
       "1      2      ASHBORNE\n",
       "2      3       HORNSEY\n",
       "3      4    EANVERNESS\n",
       "4      5        SUTTON"
      ]
     },
     "execution_count": 31,
     "metadata": {},
     "output_type": "execute_result"
    }
   ],
   "source": [
    "inventario_final_tiendas.head(5)"
   ]
  },
  {
   "cell_type": "markdown",
   "metadata": {},
   "source": [
    "##### Se concatenan las filas en un solo DataFrames"
   ]
  },
  {
   "cell_type": "code",
   "execution_count": 32,
   "metadata": {},
   "outputs": [],
   "source": [
    "#Lista de dataframes a concatenar\n",
    "lista_dataframes_tiendas= [inventario_inicial_tiendas,inventario_final_tiendas]\n",
    "\n",
    "#Concatenar los DataFrames\n",
    "tiendas_concatenadas= pd.concat(lista_dataframes_tiendas,ignore_index=True )"
   ]
  },
  {
   "cell_type": "code",
   "execution_count": 33,
   "metadata": {},
   "outputs": [
    {
     "data": {
      "text/html": [
       "<div>\n",
       "<style scoped>\n",
       "    .dataframe tbody tr th:only-of-type {\n",
       "        vertical-align: middle;\n",
       "    }\n",
       "\n",
       "    .dataframe tbody tr th {\n",
       "        vertical-align: top;\n",
       "    }\n",
       "\n",
       "    .dataframe thead th {\n",
       "        text-align: right;\n",
       "    }\n",
       "</style>\n",
       "<table border=\"1\" class=\"dataframe\">\n",
       "  <thead>\n",
       "    <tr style=\"text-align: right;\">\n",
       "      <th></th>\n",
       "      <th>Store</th>\n",
       "      <th>City</th>\n",
       "    </tr>\n",
       "  </thead>\n",
       "  <tbody>\n",
       "    <tr>\n",
       "      <th>0</th>\n",
       "      <td>1</td>\n",
       "      <td>HARDERSFIELD</td>\n",
       "    </tr>\n",
       "    <tr>\n",
       "      <th>1</th>\n",
       "      <td>2</td>\n",
       "      <td>ASHBORNE</td>\n",
       "    </tr>\n",
       "    <tr>\n",
       "      <th>2</th>\n",
       "      <td>3</td>\n",
       "      <td>HORNSEY</td>\n",
       "    </tr>\n",
       "    <tr>\n",
       "      <th>3</th>\n",
       "      <td>4</td>\n",
       "      <td>EANVERNESS</td>\n",
       "    </tr>\n",
       "    <tr>\n",
       "      <th>4</th>\n",
       "      <td>5</td>\n",
       "      <td>SUTTON</td>\n",
       "    </tr>\n",
       "  </tbody>\n",
       "</table>\n",
       "</div>"
      ],
      "text/plain": [
       "   Store          City\n",
       "0      1  HARDERSFIELD\n",
       "1      2      ASHBORNE\n",
       "2      3       HORNSEY\n",
       "3      4    EANVERNESS\n",
       "4      5        SUTTON"
      ]
     },
     "execution_count": 33,
     "metadata": {},
     "output_type": "execute_result"
    }
   ],
   "source": [
    "tiendas_concatenadas.head(5)"
   ]
  },
  {
   "cell_type": "code",
   "execution_count": 34,
   "metadata": {},
   "outputs": [
    {
     "data": {
      "text/plain": [
       "(159, 2)"
      ]
     },
     "execution_count": 34,
     "metadata": {},
     "output_type": "execute_result"
    }
   ],
   "source": [
    "tiendas_concatenadas.shape"
   ]
  },
  {
   "cell_type": "code",
   "execution_count": 35,
   "metadata": {},
   "outputs": [],
   "source": [
    "#Se encontro una tienda con ciudad 'Desconocido' como la tienda es la numero 46 se rrelleno ese valor con la ciudad correspondiente\n",
    "tiendas_concatenadas.loc[124,'City']='TYWARDREATH'"
   ]
  },
  {
   "cell_type": "code",
   "execution_count": 36,
   "metadata": {},
   "outputs": [],
   "source": [
    "#Se eliminan duplicados\n",
    "tiendas_df=tiendas_concatenadas[['Store', 'City']].drop_duplicates().reset_index(drop=True)"
   ]
  },
  {
   "cell_type": "code",
   "execution_count": 37,
   "metadata": {},
   "outputs": [
    {
     "data": {
      "text/plain": [
       "(80, 2)"
      ]
     },
     "execution_count": 37,
     "metadata": {},
     "output_type": "execute_result"
    }
   ],
   "source": [
    "tiendas_df.shape"
   ]
  },
  {
   "cell_type": "markdown",
   "metadata": {},
   "source": [
    "##### Se genera ID, se renombran las columna y ordenan"
   ]
  },
  {
   "cell_type": "code",
   "execution_count": 38,
   "metadata": {},
   "outputs": [
    {
     "name": "stdout",
     "output_type": "stream",
     "text": [
      "    Store          City  TiendaID\n",
      "0       1  HARDERSFIELD         1\n",
      "1       2      ASHBORNE         2\n",
      "2       3       HORNSEY         3\n",
      "3       4    EANVERNESS         4\n",
      "4       5        SUTTON         5\n",
      "..    ...           ...       ...\n",
      "75     76     DONCASTER        76\n",
      "76     77      TAMWORTH        77\n",
      "77     78     EASTHAVEN        78\n",
      "78     79     BALLYMENA        79\n",
      "79     81      PEMBROKE        80\n",
      "\n",
      "[80 rows x 3 columns]\n"
     ]
    }
   ],
   "source": [
    "#Se genera ID autoincremental\n",
    "tiendas_df['TiendaID'] = range(1, len(tiendas_df)+1)\n",
    "print(tiendas_df)"
   ]
  },
  {
   "cell_type": "code",
   "execution_count": 39,
   "metadata": {},
   "outputs": [
    {
     "name": "stdout",
     "output_type": "stream",
     "text": [
      "    NumeroTienda        Ciudad  TiendaID\n",
      "0              1  HARDERSFIELD         1\n",
      "1              2      ASHBORNE         2\n",
      "2              3       HORNSEY         3\n",
      "3              4    EANVERNESS         4\n",
      "4              5        SUTTON         5\n",
      "..           ...           ...       ...\n",
      "75            76     DONCASTER        76\n",
      "76            77      TAMWORTH        77\n",
      "77            78     EASTHAVEN        78\n",
      "78            79     BALLYMENA        79\n",
      "79            81      PEMBROKE        80\n",
      "\n",
      "[80 rows x 3 columns]\n"
     ]
    }
   ],
   "source": [
    "#Se renombran las columnas\n",
    "tiendas_df.rename(columns={'Store': 'NumeroTienda', 'City': 'Ciudad'}, inplace=True)\n",
    "print(tiendas_df)"
   ]
  },
  {
   "cell_type": "code",
   "execution_count": 40,
   "metadata": {},
   "outputs": [
    {
     "name": "stdout",
     "output_type": "stream",
     "text": [
      "    TiendaID  NumeroTienda        Ciudad\n",
      "0          1             1  HARDERSFIELD\n",
      "1          2             2      ASHBORNE\n",
      "2          3             3       HORNSEY\n",
      "3          4             4    EANVERNESS\n",
      "4          5             5        SUTTON\n",
      "..       ...           ...           ...\n",
      "75        76            76     DONCASTER\n",
      "76        77            77      TAMWORTH\n",
      "77        78            78     EASTHAVEN\n",
      "78        79            79     BALLYMENA\n",
      "79        80            81      PEMBROKE\n",
      "\n",
      "[80 rows x 3 columns]\n"
     ]
    }
   ],
   "source": [
    "#Se reordenan las columnas\n",
    "tiendas_df = tiendas_df.reindex(columns=[ 'TiendaID', 'NumeroTienda', 'Ciudad'])\n",
    "print(tiendas_df)"
   ]
  },
  {
   "cell_type": "markdown",
   "metadata": {},
   "source": [
    "##### Se seleccionan los datos que poblaran la base de datos"
   ]
  },
  {
   "cell_type": "code",
   "execution_count": 41,
   "metadata": {},
   "outputs": [
    {
     "name": "stdout",
     "output_type": "stream",
     "text": [
      "    TiendaID  NumeroTienda        Ciudad\n",
      "0          1             1  HARDERSFIELD\n",
      "1          2             2      ASHBORNE\n",
      "2          3             3       HORNSEY\n",
      "3          4             4    EANVERNESS\n",
      "4          5             5        SUTTON\n",
      "..       ...           ...           ...\n",
      "75        76            76     DONCASTER\n",
      "76        77            77      TAMWORTH\n",
      "77        78            78     EASTHAVEN\n",
      "78        79            79     BALLYMENA\n",
      "79        80            81      PEMBROKE\n",
      "\n",
      "[80 rows x 3 columns]\n"
     ]
    }
   ],
   "source": [
    "datos_tiendas=tiendas_df[['NumeroTienda', 'Ciudad']]\n",
    "print(tiendas_df)"
   ]
  },
  {
   "cell_type": "code",
   "execution_count": 42,
   "metadata": {},
   "outputs": [
    {
     "data": {
      "text/plain": [
       "80"
      ]
     },
     "execution_count": 42,
     "metadata": {},
     "output_type": "execute_result"
    }
   ],
   "source": [
    "datos_tiendas.to_sql('Tiendas', engine, if_exists='append', index=False)"
   ]
  },
  {
   "cell_type": "markdown",
   "metadata": {},
   "source": [
    "### Tabla Proveedores"
   ]
  },
  {
   "cell_type": "markdown",
   "metadata": {},
   "source": [
    "##### Se extraen las columnas VendorNumero, VendorName de los csv"
   ]
  },
  {
   "cell_type": "code",
   "execution_count": 43,
   "metadata": {},
   "outputs": [],
   "source": [
    "ventas_proveedores=ventas_limpio_df[['VendorNo','VendorName']].drop_duplicates().reset_index(drop=True)"
   ]
  },
  {
   "cell_type": "code",
   "execution_count": 44,
   "metadata": {},
   "outputs": [
    {
     "data": {
      "text/html": [
       "<div>\n",
       "<style scoped>\n",
       "    .dataframe tbody tr th:only-of-type {\n",
       "        vertical-align: middle;\n",
       "    }\n",
       "\n",
       "    .dataframe tbody tr th {\n",
       "        vertical-align: top;\n",
       "    }\n",
       "\n",
       "    .dataframe thead th {\n",
       "        text-align: right;\n",
       "    }\n",
       "</style>\n",
       "<table border=\"1\" class=\"dataframe\">\n",
       "  <thead>\n",
       "    <tr style=\"text-align: right;\">\n",
       "      <th></th>\n",
       "      <th>VendorNo</th>\n",
       "      <th>VendorName</th>\n",
       "    </tr>\n",
       "  </thead>\n",
       "  <tbody>\n",
       "    <tr>\n",
       "      <th>0</th>\n",
       "      <td>12546</td>\n",
       "      <td>JIM BEAM BRANDS COMPANY</td>\n",
       "    </tr>\n",
       "    <tr>\n",
       "      <th>1</th>\n",
       "      <td>2000</td>\n",
       "      <td>SOUTHERN WINE &amp; SPIRITS NE</td>\n",
       "    </tr>\n",
       "    <tr>\n",
       "      <th>2</th>\n",
       "      <td>10754</td>\n",
       "      <td>PERFECTA WINES</td>\n",
       "    </tr>\n",
       "    <tr>\n",
       "      <th>3</th>\n",
       "      <td>8352</td>\n",
       "      <td>LUXCO INC</td>\n",
       "    </tr>\n",
       "    <tr>\n",
       "      <th>4</th>\n",
       "      <td>17035</td>\n",
       "      <td>PERNOD RICARD USA</td>\n",
       "    </tr>\n",
       "  </tbody>\n",
       "</table>\n",
       "</div>"
      ],
      "text/plain": [
       "   VendorNo                   VendorName\n",
       "0     12546  JIM BEAM BRANDS COMPANY    \n",
       "1      2000  SOUTHERN WINE & SPIRITS NE \n",
       "2     10754  PERFECTA WINES             \n",
       "3      8352  LUXCO INC                  \n",
       "4     17035  PERNOD RICARD USA          "
      ]
     },
     "execution_count": 44,
     "metadata": {},
     "output_type": "execute_result"
    }
   ],
   "source": [
    "ventas_proveedores.head(5)"
   ]
  },
  {
   "cell_type": "code",
   "execution_count": 45,
   "metadata": {},
   "outputs": [],
   "source": [
    "compras_proveedores=compras_limpio_df[['VendorNumber','VendorName']].drop_duplicates().reset_index(drop=True)"
   ]
  },
  {
   "cell_type": "code",
   "execution_count": 46,
   "metadata": {},
   "outputs": [
    {
     "data": {
      "text/html": [
       "<div>\n",
       "<style scoped>\n",
       "    .dataframe tbody tr th:only-of-type {\n",
       "        vertical-align: middle;\n",
       "    }\n",
       "\n",
       "    .dataframe tbody tr th {\n",
       "        vertical-align: top;\n",
       "    }\n",
       "\n",
       "    .dataframe thead th {\n",
       "        text-align: right;\n",
       "    }\n",
       "</style>\n",
       "<table border=\"1\" class=\"dataframe\">\n",
       "  <thead>\n",
       "    <tr style=\"text-align: right;\">\n",
       "      <th></th>\n",
       "      <th>VendorNumber</th>\n",
       "      <th>VendorName</th>\n",
       "    </tr>\n",
       "  </thead>\n",
       "  <tbody>\n",
       "    <tr>\n",
       "      <th>0</th>\n",
       "      <td>105</td>\n",
       "      <td>ALTAMAR BRANDS LLC</td>\n",
       "    </tr>\n",
       "    <tr>\n",
       "      <th>1</th>\n",
       "      <td>4466</td>\n",
       "      <td>AMERICAN VINTAGE BEVERAGE</td>\n",
       "    </tr>\n",
       "    <tr>\n",
       "      <th>2</th>\n",
       "      <td>388</td>\n",
       "      <td>ATLANTIC IMPORTING COMPANY</td>\n",
       "    </tr>\n",
       "    <tr>\n",
       "      <th>3</th>\n",
       "      <td>480</td>\n",
       "      <td>BACARDI USA INC</td>\n",
       "    </tr>\n",
       "    <tr>\n",
       "      <th>4</th>\n",
       "      <td>516</td>\n",
       "      <td>BANFI PRODUCTS CORP</td>\n",
       "    </tr>\n",
       "  </tbody>\n",
       "</table>\n",
       "</div>"
      ],
      "text/plain": [
       "   VendorNumber                   VendorName\n",
       "0           105  ALTAMAR BRANDS LLC         \n",
       "1          4466  AMERICAN VINTAGE BEVERAGE  \n",
       "2           388  ATLANTIC IMPORTING COMPANY \n",
       "3           480  BACARDI USA INC            \n",
       "4           516  BANFI PRODUCTS CORP        "
      ]
     },
     "execution_count": 46,
     "metadata": {},
     "output_type": "execute_result"
    }
   ],
   "source": [
    "compras_proveedores.head(5)"
   ]
  },
  {
   "cell_type": "markdown",
   "metadata": {},
   "source": [
    "##### Se renombran las columnas para que coincidan"
   ]
  },
  {
   "cell_type": "code",
   "execution_count": 47,
   "metadata": {},
   "outputs": [
    {
     "name": "stdout",
     "output_type": "stream",
     "text": [
      "     NumeroProveedor                                   Nombre\n",
      "0              12546              JIM BEAM BRANDS COMPANY    \n",
      "1               2000              SOUTHERN WINE & SPIRITS NE \n",
      "2              10754              PERFECTA WINES             \n",
      "3               8352              LUXCO INC                  \n",
      "4              17035              PERNOD RICARD USA          \n",
      "..               ...                                      ...\n",
      "112             9710              WHYTE & MACKAY             \n",
      "113             1265              BLACK ROCK SPIRITS LLC     \n",
      "114             1003              BRONCO WINE COMPANY        \n",
      "115                2  IRA GOLDMAN AND WILLIAMS, LLP          \n",
      "116             1002              BERNIKO LLC                \n",
      "\n",
      "[117 rows x 2 columns]\n"
     ]
    }
   ],
   "source": [
    "#Se renombran las columnas\n",
    "ventas_proveedores.rename(columns={'VendorNo': 'NumeroProveedor', 'VendorName': 'Nombre'}, inplace=True)\n",
    "print(ventas_proveedores)"
   ]
  },
  {
   "cell_type": "code",
   "execution_count": 48,
   "metadata": {},
   "outputs": [
    {
     "name": "stdout",
     "output_type": "stream",
     "text": [
      "     NumeroProveedor                       Nombre\n",
      "0                105  ALTAMAR BRANDS LLC         \n",
      "1               4466  AMERICAN VINTAGE BEVERAGE  \n",
      "2                388  ATLANTIC IMPORTING COMPANY \n",
      "3                480  BACARDI USA INC            \n",
      "4                516  BANFI PRODUCTS CORP        \n",
      "..               ...                          ...\n",
      "124             4901  LAUREATE IMPORTS CO        \n",
      "125            90059  BLACK COVE BEVERAGES       \n",
      "126             5083  LOYAL DOG WINERY           \n",
      "127             1587  VINEYARD BRANDS LLC        \n",
      "128               54  AAPER ALCOHOL & CHEMICAL CO\n",
      "\n",
      "[129 rows x 2 columns]\n"
     ]
    }
   ],
   "source": [
    "compras_proveedores.rename(columns={'VendorNumber': 'NumeroProveedor', 'VendorName': 'Nombre'}, inplace=True)\n",
    "print(compras_proveedores)"
   ]
  },
  {
   "cell_type": "markdown",
   "metadata": {},
   "source": [
    "##### Se concatenan los DataFrames"
   ]
  },
  {
   "cell_type": "code",
   "execution_count": 49,
   "metadata": {},
   "outputs": [],
   "source": [
    "#Lista de dataframes a concatenar\n",
    "lista_dataframes_proveedores= [ventas_proveedores,compras_proveedores]\n",
    "\n",
    "#Concatenar los DataFrames\n",
    "proveedores_concatenados= pd.concat(lista_dataframes_proveedores,ignore_index=True )"
   ]
  },
  {
   "cell_type": "code",
   "execution_count": 50,
   "metadata": {},
   "outputs": [
    {
     "data": {
      "text/html": [
       "<div>\n",
       "<style scoped>\n",
       "    .dataframe tbody tr th:only-of-type {\n",
       "        vertical-align: middle;\n",
       "    }\n",
       "\n",
       "    .dataframe tbody tr th {\n",
       "        vertical-align: top;\n",
       "    }\n",
       "\n",
       "    .dataframe thead th {\n",
       "        text-align: right;\n",
       "    }\n",
       "</style>\n",
       "<table border=\"1\" class=\"dataframe\">\n",
       "  <thead>\n",
       "    <tr style=\"text-align: right;\">\n",
       "      <th></th>\n",
       "      <th>NumeroProveedor</th>\n",
       "      <th>Nombre</th>\n",
       "    </tr>\n",
       "  </thead>\n",
       "  <tbody>\n",
       "    <tr>\n",
       "      <th>0</th>\n",
       "      <td>12546</td>\n",
       "      <td>JIM BEAM BRANDS COMPANY</td>\n",
       "    </tr>\n",
       "    <tr>\n",
       "      <th>1</th>\n",
       "      <td>2000</td>\n",
       "      <td>SOUTHERN WINE &amp; SPIRITS NE</td>\n",
       "    </tr>\n",
       "    <tr>\n",
       "      <th>2</th>\n",
       "      <td>10754</td>\n",
       "      <td>PERFECTA WINES</td>\n",
       "    </tr>\n",
       "    <tr>\n",
       "      <th>3</th>\n",
       "      <td>8352</td>\n",
       "      <td>LUXCO INC</td>\n",
       "    </tr>\n",
       "    <tr>\n",
       "      <th>4</th>\n",
       "      <td>17035</td>\n",
       "      <td>PERNOD RICARD USA</td>\n",
       "    </tr>\n",
       "  </tbody>\n",
       "</table>\n",
       "</div>"
      ],
      "text/plain": [
       "   NumeroProveedor                       Nombre\n",
       "0            12546  JIM BEAM BRANDS COMPANY    \n",
       "1             2000  SOUTHERN WINE & SPIRITS NE \n",
       "2            10754  PERFECTA WINES             \n",
       "3             8352  LUXCO INC                  \n",
       "4            17035  PERNOD RICARD USA          "
      ]
     },
     "execution_count": 50,
     "metadata": {},
     "output_type": "execute_result"
    }
   ],
   "source": [
    "proveedores_concatenados.head(5)"
   ]
  },
  {
   "cell_type": "code",
   "execution_count": 51,
   "metadata": {},
   "outputs": [
    {
     "data": {
      "text/plain": [
       "(246, 2)"
      ]
     },
     "execution_count": 51,
     "metadata": {},
     "output_type": "execute_result"
    }
   ],
   "source": [
    "proveedores_concatenados.shape"
   ]
  },
  {
   "cell_type": "code",
   "execution_count": 52,
   "metadata": {},
   "outputs": [],
   "source": [
    "#Se eliminan duplicados\n",
    "proveedores_df=proveedores_concatenados[['NumeroProveedor', 'Nombre']].drop_duplicates().reset_index(drop=True)"
   ]
  },
  {
   "cell_type": "code",
   "execution_count": 53,
   "metadata": {},
   "outputs": [
    {
     "data": {
      "text/plain": [
       "(131, 2)"
      ]
     },
     "execution_count": 53,
     "metadata": {},
     "output_type": "execute_result"
    }
   ],
   "source": [
    "proveedores_df.shape"
   ]
  },
  {
   "cell_type": "markdown",
   "metadata": {},
   "source": [
    "##### Se genera ID, se reordenan las columnas "
   ]
  },
  {
   "cell_type": "code",
   "execution_count": 54,
   "metadata": {},
   "outputs": [
    {
     "name": "stdout",
     "output_type": "stream",
     "text": [
      "     NumeroProveedor                       Nombre  ProveedorID\n",
      "0              12546  JIM BEAM BRANDS COMPANY                1\n",
      "1               2000  SOUTHERN WINE & SPIRITS NE             2\n",
      "2              10754  PERFECTA WINES                         3\n",
      "3               8352  LUXCO INC                              4\n",
      "4              17035  PERNOD RICARD USA                      5\n",
      "..               ...                          ...          ...\n",
      "126             4901  LAUREATE IMPORTS CO                  127\n",
      "127            90059  BLACK COVE BEVERAGES                 128\n",
      "128             5083  LOYAL DOG WINERY                     129\n",
      "129             1587  VINEYARD BRANDS LLC                  130\n",
      "130               54  AAPER ALCOHOL & CHEMICAL CO          131\n",
      "\n",
      "[131 rows x 3 columns]\n"
     ]
    }
   ],
   "source": [
    "#Se genera ID autoincremental\n",
    "proveedores_df['ProveedorID'] = range(1, len(proveedores_df)+1)\n",
    "print(proveedores_df)"
   ]
  },
  {
   "cell_type": "code",
   "execution_count": 55,
   "metadata": {},
   "outputs": [
    {
     "name": "stdout",
     "output_type": "stream",
     "text": [
      "     ProveedorID                       Nombre  NumeroProveedor\n",
      "0              1  JIM BEAM BRANDS COMPANY                12546\n",
      "1              2  SOUTHERN WINE & SPIRITS NE              2000\n",
      "2              3  PERFECTA WINES                         10754\n",
      "3              4  LUXCO INC                               8352\n",
      "4              5  PERNOD RICARD USA                      17035\n",
      "..           ...                          ...              ...\n",
      "126          127  LAUREATE IMPORTS CO                     4901\n",
      "127          128  BLACK COVE BEVERAGES                   90059\n",
      "128          129  LOYAL DOG WINERY                        5083\n",
      "129          130  VINEYARD BRANDS LLC                     1587\n",
      "130          131  AAPER ALCOHOL & CHEMICAL CO               54\n",
      "\n",
      "[131 rows x 3 columns]\n"
     ]
    }
   ],
   "source": [
    "#Se reordenan las columnas\n",
    "proveedores_df = proveedores_df.reindex(columns=[ 'ProveedorID', 'Nombre', 'NumeroProveedor'])\n",
    "print(proveedores_df)"
   ]
  },
  {
   "cell_type": "markdown",
   "metadata": {},
   "source": [
    "##### Se seleccionan los datos que poblaran la base de datos"
   ]
  },
  {
   "cell_type": "code",
   "execution_count": 56,
   "metadata": {},
   "outputs": [
    {
     "name": "stdout",
     "output_type": "stream",
     "text": [
      "                          Nombre  NumeroProveedor\n",
      "0    JIM BEAM BRANDS COMPANY                12546\n",
      "1    SOUTHERN WINE & SPIRITS NE              2000\n",
      "2    PERFECTA WINES                         10754\n",
      "3    LUXCO INC                               8352\n",
      "4    PERNOD RICARD USA                      17035\n",
      "..                           ...              ...\n",
      "126  LAUREATE IMPORTS CO                     4901\n",
      "127  BLACK COVE BEVERAGES                   90059\n",
      "128  LOYAL DOG WINERY                        5083\n",
      "129  VINEYARD BRANDS LLC                     1587\n",
      "130  AAPER ALCOHOL & CHEMICAL CO               54\n",
      "\n",
      "[131 rows x 2 columns]\n"
     ]
    }
   ],
   "source": [
    "datos_proveedores=proveedores_df[['Nombre', 'NumeroProveedor']]\n",
    "print(datos_proveedores)"
   ]
  },
  {
   "cell_type": "code",
   "execution_count": 57,
   "metadata": {},
   "outputs": [
    {
     "data": {
      "text/plain": [
       "131"
      ]
     },
     "execution_count": 57,
     "metadata": {},
     "output_type": "execute_result"
    }
   ],
   "source": [
    "datos_proveedores.to_sql('Proveedores', engine, if_exists='append', index=False)"
   ]
  },
  {
   "cell_type": "markdown",
   "metadata": {},
   "source": [
    "### Tabla Inventarios"
   ]
  },
  {
   "cell_type": "markdown",
   "metadata": {},
   "source": [
    "##### Se extraen la columna InventoryId de los csv"
   ]
  },
  {
   "cell_type": "code",
   "execution_count": 58,
   "metadata": {},
   "outputs": [],
   "source": [
    "#Se lee un nuevo csv de los registros de inventarios juntos\n",
    "inventario_total=pd.read_csv('https://storage.googleapis.com/archivos_limpios/InventarioTotal.csv', sep=';')\n"
   ]
  },
  {
   "cell_type": "code",
   "execution_count": 59,
   "metadata": {},
   "outputs": [
    {
     "data": {
      "text/html": [
       "<div>\n",
       "<style scoped>\n",
       "    .dataframe tbody tr th:only-of-type {\n",
       "        vertical-align: middle;\n",
       "    }\n",
       "\n",
       "    .dataframe tbody tr th {\n",
       "        vertical-align: top;\n",
       "    }\n",
       "\n",
       "    .dataframe thead th {\n",
       "        text-align: right;\n",
       "    }\n",
       "</style>\n",
       "<table border=\"1\" class=\"dataframe\">\n",
       "  <thead>\n",
       "    <tr style=\"text-align: right;\">\n",
       "      <th></th>\n",
       "      <th>InventoryId</th>\n",
       "      <th>Store</th>\n",
       "      <th>City</th>\n",
       "      <th>Brand</th>\n",
       "      <th>Description</th>\n",
       "      <th>Size</th>\n",
       "      <th>Stock</th>\n",
       "      <th>Price</th>\n",
       "      <th>Date</th>\n",
       "    </tr>\n",
       "  </thead>\n",
       "  <tbody>\n",
       "    <tr>\n",
       "      <th>0</th>\n",
       "      <td>1_HARDERSFIELD_58</td>\n",
       "      <td>1</td>\n",
       "      <td>HARDERSFIELD</td>\n",
       "      <td>58</td>\n",
       "      <td>Gekkeikan Black &amp; Gold Sake</td>\n",
       "      <td>750mL</td>\n",
       "      <td>11</td>\n",
       "      <td>12.99</td>\n",
       "      <td>31/12/2016</td>\n",
       "    </tr>\n",
       "    <tr>\n",
       "      <th>1</th>\n",
       "      <td>1_HARDERSFIELD_62</td>\n",
       "      <td>1</td>\n",
       "      <td>HARDERSFIELD</td>\n",
       "      <td>62</td>\n",
       "      <td>Herradura Silver Tequila</td>\n",
       "      <td>750mL</td>\n",
       "      <td>7</td>\n",
       "      <td>36.99</td>\n",
       "      <td>31/12/2016</td>\n",
       "    </tr>\n",
       "    <tr>\n",
       "      <th>2</th>\n",
       "      <td>1_HARDERSFIELD_63</td>\n",
       "      <td>1</td>\n",
       "      <td>HARDERSFIELD</td>\n",
       "      <td>63</td>\n",
       "      <td>Herradura Reposado Tequila</td>\n",
       "      <td>750mL</td>\n",
       "      <td>7</td>\n",
       "      <td>38.99</td>\n",
       "      <td>31/12/2016</td>\n",
       "    </tr>\n",
       "    <tr>\n",
       "      <th>3</th>\n",
       "      <td>1_HARDERSFIELD_72</td>\n",
       "      <td>1</td>\n",
       "      <td>HARDERSFIELD</td>\n",
       "      <td>72</td>\n",
       "      <td>No. 3 London Dry Gin</td>\n",
       "      <td>750mL</td>\n",
       "      <td>4</td>\n",
       "      <td>34.99</td>\n",
       "      <td>31/12/2016</td>\n",
       "    </tr>\n",
       "    <tr>\n",
       "      <th>4</th>\n",
       "      <td>1_HARDERSFIELD_75</td>\n",
       "      <td>1</td>\n",
       "      <td>HARDERSFIELD</td>\n",
       "      <td>75</td>\n",
       "      <td>Three Olives Tomato Vodka</td>\n",
       "      <td>750mL</td>\n",
       "      <td>7</td>\n",
       "      <td>14.99</td>\n",
       "      <td>31/12/2016</td>\n",
       "    </tr>\n",
       "  </tbody>\n",
       "</table>\n",
       "</div>"
      ],
      "text/plain": [
       "         InventoryId  Store          City  Brand                  Description  \\\n",
       "0  1_HARDERSFIELD_58      1  HARDERSFIELD     58  Gekkeikan Black & Gold Sake   \n",
       "1  1_HARDERSFIELD_62      1  HARDERSFIELD     62     Herradura Silver Tequila   \n",
       "2  1_HARDERSFIELD_63      1  HARDERSFIELD     63   Herradura Reposado Tequila   \n",
       "3  1_HARDERSFIELD_72      1  HARDERSFIELD     72         No. 3 London Dry Gin   \n",
       "4  1_HARDERSFIELD_75      1  HARDERSFIELD     75    Three Olives Tomato Vodka   \n",
       "\n",
       "    Size  Stock  Price        Date  \n",
       "0  750mL     11  12.99  31/12/2016  \n",
       "1  750mL      7  36.99  31/12/2016  \n",
       "2  750mL      7  38.99  31/12/2016  \n",
       "3  750mL      4  34.99  31/12/2016  \n",
       "4  750mL      7  14.99  31/12/2016  "
      ]
     },
     "execution_count": 59,
     "metadata": {},
     "output_type": "execute_result"
    }
   ],
   "source": [
    "inventario_total.head(5)"
   ]
  },
  {
   "cell_type": "code",
   "execution_count": 60,
   "metadata": {},
   "outputs": [],
   "source": [
    "inventarios=inventario_total[['InventoryId']].drop_duplicates().reset_index(drop=True)"
   ]
  },
  {
   "cell_type": "code",
   "execution_count": 61,
   "metadata": {},
   "outputs": [
    {
     "data": {
      "text/html": [
       "<div>\n",
       "<style scoped>\n",
       "    .dataframe tbody tr th:only-of-type {\n",
       "        vertical-align: middle;\n",
       "    }\n",
       "\n",
       "    .dataframe tbody tr th {\n",
       "        vertical-align: top;\n",
       "    }\n",
       "\n",
       "    .dataframe thead th {\n",
       "        text-align: right;\n",
       "    }\n",
       "</style>\n",
       "<table border=\"1\" class=\"dataframe\">\n",
       "  <thead>\n",
       "    <tr style=\"text-align: right;\">\n",
       "      <th></th>\n",
       "      <th>InventoryId</th>\n",
       "    </tr>\n",
       "  </thead>\n",
       "  <tbody>\n",
       "    <tr>\n",
       "      <th>0</th>\n",
       "      <td>1_HARDERSFIELD_58</td>\n",
       "    </tr>\n",
       "    <tr>\n",
       "      <th>1</th>\n",
       "      <td>1_HARDERSFIELD_62</td>\n",
       "    </tr>\n",
       "    <tr>\n",
       "      <th>2</th>\n",
       "      <td>1_HARDERSFIELD_63</td>\n",
       "    </tr>\n",
       "    <tr>\n",
       "      <th>3</th>\n",
       "      <td>1_HARDERSFIELD_72</td>\n",
       "    </tr>\n",
       "    <tr>\n",
       "      <th>4</th>\n",
       "      <td>1_HARDERSFIELD_75</td>\n",
       "    </tr>\n",
       "  </tbody>\n",
       "</table>\n",
       "</div>"
      ],
      "text/plain": [
       "         InventoryId\n",
       "0  1_HARDERSFIELD_58\n",
       "1  1_HARDERSFIELD_62\n",
       "2  1_HARDERSFIELD_63\n",
       "3  1_HARDERSFIELD_72\n",
       "4  1_HARDERSFIELD_75"
      ]
     },
     "execution_count": 61,
     "metadata": {},
     "output_type": "execute_result"
    }
   ],
   "source": [
    "inventarios.head(5)"
   ]
  },
  {
   "cell_type": "code",
   "execution_count": 62,
   "metadata": {},
   "outputs": [],
   "source": [
    "compras_inventario=compras_limpio_df[['InventoryId']].drop_duplicates().reset_index(drop=True)"
   ]
  },
  {
   "cell_type": "code",
   "execution_count": 63,
   "metadata": {},
   "outputs": [
    {
     "data": {
      "text/html": [
       "<div>\n",
       "<style scoped>\n",
       "    .dataframe tbody tr th:only-of-type {\n",
       "        vertical-align: middle;\n",
       "    }\n",
       "\n",
       "    .dataframe tbody tr th {\n",
       "        vertical-align: top;\n",
       "    }\n",
       "\n",
       "    .dataframe thead th {\n",
       "        text-align: right;\n",
       "    }\n",
       "</style>\n",
       "<table border=\"1\" class=\"dataframe\">\n",
       "  <thead>\n",
       "    <tr style=\"text-align: right;\">\n",
       "      <th></th>\n",
       "      <th>InventoryId</th>\n",
       "    </tr>\n",
       "  </thead>\n",
       "  <tbody>\n",
       "    <tr>\n",
       "      <th>0</th>\n",
       "      <td>69_MOUNTMEND_8412</td>\n",
       "    </tr>\n",
       "    <tr>\n",
       "      <th>1</th>\n",
       "      <td>30_CULCHETH_5255</td>\n",
       "    </tr>\n",
       "    <tr>\n",
       "      <th>2</th>\n",
       "      <td>34_PITMERDEN_5215</td>\n",
       "    </tr>\n",
       "    <tr>\n",
       "      <th>3</th>\n",
       "      <td>1_HARDERSFIELD_5255</td>\n",
       "    </tr>\n",
       "    <tr>\n",
       "      <th>4</th>\n",
       "      <td>76_DONCASTER_2034</td>\n",
       "    </tr>\n",
       "  </tbody>\n",
       "</table>\n",
       "</div>"
      ],
      "text/plain": [
       "           InventoryId\n",
       "0    69_MOUNTMEND_8412\n",
       "1     30_CULCHETH_5255\n",
       "2    34_PITMERDEN_5215\n",
       "3  1_HARDERSFIELD_5255\n",
       "4    76_DONCASTER_2034"
      ]
     },
     "execution_count": 63,
     "metadata": {},
     "output_type": "execute_result"
    }
   ],
   "source": [
    "compras_inventario.head(5)"
   ]
  },
  {
   "cell_type": "code",
   "execution_count": 64,
   "metadata": {},
   "outputs": [],
   "source": [
    "ventas_inventario=ventas_limpio_df[['InventoryId']].drop_duplicates().reset_index(drop=True)"
   ]
  },
  {
   "cell_type": "code",
   "execution_count": 65,
   "metadata": {},
   "outputs": [
    {
     "data": {
      "text/html": [
       "<div>\n",
       "<style scoped>\n",
       "    .dataframe tbody tr th:only-of-type {\n",
       "        vertical-align: middle;\n",
       "    }\n",
       "\n",
       "    .dataframe tbody tr th {\n",
       "        vertical-align: top;\n",
       "    }\n",
       "\n",
       "    .dataframe thead th {\n",
       "        text-align: right;\n",
       "    }\n",
       "</style>\n",
       "<table border=\"1\" class=\"dataframe\">\n",
       "  <thead>\n",
       "    <tr style=\"text-align: right;\">\n",
       "      <th></th>\n",
       "      <th>InventoryId</th>\n",
       "    </tr>\n",
       "  </thead>\n",
       "  <tbody>\n",
       "    <tr>\n",
       "      <th>0</th>\n",
       "      <td>1_HARDERSFIELD_1004</td>\n",
       "    </tr>\n",
       "    <tr>\n",
       "      <th>1</th>\n",
       "      <td>1_HARDERSFIELD_1005</td>\n",
       "    </tr>\n",
       "    <tr>\n",
       "      <th>2</th>\n",
       "      <td>1_HARDERSFIELD_10058</td>\n",
       "    </tr>\n",
       "    <tr>\n",
       "      <th>3</th>\n",
       "      <td>1_HARDERSFIELD_1006</td>\n",
       "    </tr>\n",
       "    <tr>\n",
       "      <th>4</th>\n",
       "      <td>1_HARDERSFIELD_10062</td>\n",
       "    </tr>\n",
       "  </tbody>\n",
       "</table>\n",
       "</div>"
      ],
      "text/plain": [
       "            InventoryId\n",
       "0   1_HARDERSFIELD_1004\n",
       "1   1_HARDERSFIELD_1005\n",
       "2  1_HARDERSFIELD_10058\n",
       "3   1_HARDERSFIELD_1006\n",
       "4  1_HARDERSFIELD_10062"
      ]
     },
     "execution_count": 65,
     "metadata": {},
     "output_type": "execute_result"
    }
   ],
   "source": [
    "ventas_inventario.head(5)"
   ]
  },
  {
   "cell_type": "markdown",
   "metadata": {},
   "source": [
    "##### Se concatenan los DataFrames"
   ]
  },
  {
   "cell_type": "code",
   "execution_count": 66,
   "metadata": {},
   "outputs": [],
   "source": [
    "#Lista de dataframes a concatenar\n",
    "lista_dataframes_inventarios= [inventarios, compras_inventario, ventas_inventario]\n",
    "\n",
    "#Concatenar los DataFrames\n",
    "inventarios_concatenados= pd.concat(lista_dataframes_inventarios,ignore_index=True )"
   ]
  },
  {
   "cell_type": "code",
   "execution_count": 67,
   "metadata": {},
   "outputs": [
    {
     "data": {
      "text/html": [
       "<div>\n",
       "<style scoped>\n",
       "    .dataframe tbody tr th:only-of-type {\n",
       "        vertical-align: middle;\n",
       "    }\n",
       "\n",
       "    .dataframe tbody tr th {\n",
       "        vertical-align: top;\n",
       "    }\n",
       "\n",
       "    .dataframe thead th {\n",
       "        text-align: right;\n",
       "    }\n",
       "</style>\n",
       "<table border=\"1\" class=\"dataframe\">\n",
       "  <thead>\n",
       "    <tr style=\"text-align: right;\">\n",
       "      <th></th>\n",
       "      <th>InventoryId</th>\n",
       "    </tr>\n",
       "  </thead>\n",
       "  <tbody>\n",
       "    <tr>\n",
       "      <th>0</th>\n",
       "      <td>1_HARDERSFIELD_58</td>\n",
       "    </tr>\n",
       "    <tr>\n",
       "      <th>1</th>\n",
       "      <td>1_HARDERSFIELD_62</td>\n",
       "    </tr>\n",
       "    <tr>\n",
       "      <th>2</th>\n",
       "      <td>1_HARDERSFIELD_63</td>\n",
       "    </tr>\n",
       "    <tr>\n",
       "      <th>3</th>\n",
       "      <td>1_HARDERSFIELD_72</td>\n",
       "    </tr>\n",
       "    <tr>\n",
       "      <th>4</th>\n",
       "      <td>1_HARDERSFIELD_75</td>\n",
       "    </tr>\n",
       "  </tbody>\n",
       "</table>\n",
       "</div>"
      ],
      "text/plain": [
       "         InventoryId\n",
       "0  1_HARDERSFIELD_58\n",
       "1  1_HARDERSFIELD_62\n",
       "2  1_HARDERSFIELD_63\n",
       "3  1_HARDERSFIELD_72\n",
       "4  1_HARDERSFIELD_75"
      ]
     },
     "execution_count": 67,
     "metadata": {},
     "output_type": "execute_result"
    }
   ],
   "source": [
    "inventarios_concatenados.head(5)"
   ]
  },
  {
   "cell_type": "code",
   "execution_count": 68,
   "metadata": {},
   "outputs": [
    {
     "data": {
      "text/plain": [
       "(670873, 1)"
      ]
     },
     "execution_count": 68,
     "metadata": {},
     "output_type": "execute_result"
    }
   ],
   "source": [
    "inventarios_concatenados.shape"
   ]
  },
  {
   "cell_type": "code",
   "execution_count": 69,
   "metadata": {},
   "outputs": [],
   "source": [
    "#Se eliminan duplicados\n",
    "inventarios_df=inventarios_concatenados[['InventoryId']].drop_duplicates().reset_index(drop=True)"
   ]
  },
  {
   "cell_type": "code",
   "execution_count": 70,
   "metadata": {},
   "outputs": [
    {
     "data": {
      "text/plain": [
       "(276276, 1)"
      ]
     },
     "execution_count": 70,
     "metadata": {},
     "output_type": "execute_result"
    }
   ],
   "source": [
    "inventarios_df.shape"
   ]
  },
  {
   "cell_type": "markdown",
   "metadata": {},
   "source": [
    "##### Se genera el ID"
   ]
  },
  {
   "cell_type": "code",
   "execution_count": 71,
   "metadata": {},
   "outputs": [
    {
     "name": "stdout",
     "output_type": "stream",
     "text": [
      "                 InventoryId  InventarioID\n",
      "0          1_HARDERSFIELD_58             1\n",
      "1          1_HARDERSFIELD_62             2\n",
      "2          1_HARDERSFIELD_63             3\n",
      "3          1_HARDERSFIELD_72             4\n",
      "4          1_HARDERSFIELD_75             5\n",
      "...                      ...           ...\n",
      "276271        3_HORNSEY_5962        276272\n",
      "276272    13_TARMSWORTH_2901        276273\n",
      "276273  47_PELLA'S WISH_5836        276274\n",
      "276274    55_DRY GULCH_11150        276275\n",
      "276275    55_DRY GULCH_13725        276276\n",
      "\n",
      "[276276 rows x 2 columns]\n"
     ]
    }
   ],
   "source": [
    "#Se genera ID autoincremental\n",
    "inventarios_df['InventarioID'] = range(1, len(inventarios_df)+1)\n",
    "print(inventarios_df)"
   ]
  },
  {
   "cell_type": "markdown",
   "metadata": {},
   "source": [
    "##### Se incorporan las claves foraneas en la tabla inventarios"
   ]
  },
  {
   "cell_type": "code",
   "execution_count": 72,
   "metadata": {},
   "outputs": [],
   "source": [
    "#Se renombran las columnas\n",
    "inventario_total.rename(columns={'Store': 'NumeroTienda', 'City': 'Ciudad','Brand': 'Marca', 'Description': 'Nombre', 'Size':'Volumen','onHand':'Stock', 'Price':'Precio', 'Date':'Fecha'}, inplace=True)\n"
   ]
  },
  {
   "cell_type": "code",
   "execution_count": 73,
   "metadata": {},
   "outputs": [
    {
     "data": {
      "text/plain": [
       "Index(['InventoryId', 'NumeroTienda', 'Ciudad', 'Marca', 'Nombre', 'Volumen',\n",
       "       'Stock', 'Precio', 'Fecha'],\n",
       "      dtype='object')"
      ]
     },
     "execution_count": 73,
     "metadata": {},
     "output_type": "execute_result"
    }
   ],
   "source": [
    "inventario_total.columns"
   ]
  },
  {
   "cell_type": "code",
   "execution_count": 74,
   "metadata": {},
   "outputs": [],
   "source": [
    "inventarioMerge_df=inventario_total.merge(productos_df, on=['Marca','Nombre', 'Volumen'], how='left')"
   ]
  },
  {
   "cell_type": "code",
   "execution_count": 75,
   "metadata": {},
   "outputs": [
    {
     "data": {
      "text/html": [
       "<div>\n",
       "<style scoped>\n",
       "    .dataframe tbody tr th:only-of-type {\n",
       "        vertical-align: middle;\n",
       "    }\n",
       "\n",
       "    .dataframe tbody tr th {\n",
       "        vertical-align: top;\n",
       "    }\n",
       "\n",
       "    .dataframe thead th {\n",
       "        text-align: right;\n",
       "    }\n",
       "</style>\n",
       "<table border=\"1\" class=\"dataframe\">\n",
       "  <thead>\n",
       "    <tr style=\"text-align: right;\">\n",
       "      <th></th>\n",
       "      <th>InventoryId</th>\n",
       "      <th>NumeroTienda</th>\n",
       "      <th>Ciudad</th>\n",
       "      <th>Marca</th>\n",
       "      <th>Nombre</th>\n",
       "      <th>Volumen</th>\n",
       "      <th>Stock</th>\n",
       "      <th>Precio</th>\n",
       "      <th>Fecha</th>\n",
       "      <th>ProductoID</th>\n",
       "    </tr>\n",
       "  </thead>\n",
       "  <tbody>\n",
       "    <tr>\n",
       "      <th>0</th>\n",
       "      <td>1_HARDERSFIELD_58</td>\n",
       "      <td>1</td>\n",
       "      <td>HARDERSFIELD</td>\n",
       "      <td>58</td>\n",
       "      <td>Gekkeikan Black &amp; Gold Sake</td>\n",
       "      <td>750mL</td>\n",
       "      <td>11</td>\n",
       "      <td>12.99</td>\n",
       "      <td>31/12/2016</td>\n",
       "      <td>1</td>\n",
       "    </tr>\n",
       "    <tr>\n",
       "      <th>1</th>\n",
       "      <td>1_HARDERSFIELD_62</td>\n",
       "      <td>1</td>\n",
       "      <td>HARDERSFIELD</td>\n",
       "      <td>62</td>\n",
       "      <td>Herradura Silver Tequila</td>\n",
       "      <td>750mL</td>\n",
       "      <td>7</td>\n",
       "      <td>36.99</td>\n",
       "      <td>31/12/2016</td>\n",
       "      <td>3</td>\n",
       "    </tr>\n",
       "    <tr>\n",
       "      <th>2</th>\n",
       "      <td>1_HARDERSFIELD_63</td>\n",
       "      <td>1</td>\n",
       "      <td>HARDERSFIELD</td>\n",
       "      <td>63</td>\n",
       "      <td>Herradura Reposado Tequila</td>\n",
       "      <td>750mL</td>\n",
       "      <td>7</td>\n",
       "      <td>38.99</td>\n",
       "      <td>31/12/2016</td>\n",
       "      <td>4</td>\n",
       "    </tr>\n",
       "    <tr>\n",
       "      <th>3</th>\n",
       "      <td>1_HARDERSFIELD_72</td>\n",
       "      <td>1</td>\n",
       "      <td>HARDERSFIELD</td>\n",
       "      <td>72</td>\n",
       "      <td>No. 3 London Dry Gin</td>\n",
       "      <td>750mL</td>\n",
       "      <td>4</td>\n",
       "      <td>34.99</td>\n",
       "      <td>31/12/2016</td>\n",
       "      <td>5</td>\n",
       "    </tr>\n",
       "    <tr>\n",
       "      <th>4</th>\n",
       "      <td>1_HARDERSFIELD_75</td>\n",
       "      <td>1</td>\n",
       "      <td>HARDERSFIELD</td>\n",
       "      <td>75</td>\n",
       "      <td>Three Olives Tomato Vodka</td>\n",
       "      <td>750mL</td>\n",
       "      <td>7</td>\n",
       "      <td>14.99</td>\n",
       "      <td>31/12/2016</td>\n",
       "      <td>6</td>\n",
       "    </tr>\n",
       "  </tbody>\n",
       "</table>\n",
       "</div>"
      ],
      "text/plain": [
       "         InventoryId  NumeroTienda        Ciudad  Marca  \\\n",
       "0  1_HARDERSFIELD_58             1  HARDERSFIELD     58   \n",
       "1  1_HARDERSFIELD_62             1  HARDERSFIELD     62   \n",
       "2  1_HARDERSFIELD_63             1  HARDERSFIELD     63   \n",
       "3  1_HARDERSFIELD_72             1  HARDERSFIELD     72   \n",
       "4  1_HARDERSFIELD_75             1  HARDERSFIELD     75   \n",
       "\n",
       "                        Nombre Volumen  Stock  Precio       Fecha  ProductoID  \n",
       "0  Gekkeikan Black & Gold Sake   750mL     11   12.99  31/12/2016           1  \n",
       "1     Herradura Silver Tequila   750mL      7   36.99  31/12/2016           3  \n",
       "2   Herradura Reposado Tequila   750mL      7   38.99  31/12/2016           4  \n",
       "3         No. 3 London Dry Gin   750mL      4   34.99  31/12/2016           5  \n",
       "4    Three Olives Tomato Vodka   750mL      7   14.99  31/12/2016           6  "
      ]
     },
     "execution_count": 75,
     "metadata": {},
     "output_type": "execute_result"
    }
   ],
   "source": [
    "inventarioMerge_df.head(5)"
   ]
  },
  {
   "cell_type": "code",
   "execution_count": 76,
   "metadata": {},
   "outputs": [],
   "source": [
    "inventarioMerge2_df=inventarioMerge_df.merge(tiendas_df, on=['NumeroTienda', 'Ciudad'], how='left')"
   ]
  },
  {
   "cell_type": "code",
   "execution_count": 77,
   "metadata": {},
   "outputs": [
    {
     "data": {
      "text/html": [
       "<div>\n",
       "<style scoped>\n",
       "    .dataframe tbody tr th:only-of-type {\n",
       "        vertical-align: middle;\n",
       "    }\n",
       "\n",
       "    .dataframe tbody tr th {\n",
       "        vertical-align: top;\n",
       "    }\n",
       "\n",
       "    .dataframe thead th {\n",
       "        text-align: right;\n",
       "    }\n",
       "</style>\n",
       "<table border=\"1\" class=\"dataframe\">\n",
       "  <thead>\n",
       "    <tr style=\"text-align: right;\">\n",
       "      <th></th>\n",
       "      <th>InventoryId</th>\n",
       "      <th>NumeroTienda</th>\n",
       "      <th>Ciudad</th>\n",
       "      <th>Marca</th>\n",
       "      <th>Nombre</th>\n",
       "      <th>Volumen</th>\n",
       "      <th>Stock</th>\n",
       "      <th>Precio</th>\n",
       "      <th>Fecha</th>\n",
       "      <th>ProductoID</th>\n",
       "      <th>TiendaID</th>\n",
       "    </tr>\n",
       "  </thead>\n",
       "  <tbody>\n",
       "    <tr>\n",
       "      <th>0</th>\n",
       "      <td>1_HARDERSFIELD_58</td>\n",
       "      <td>1</td>\n",
       "      <td>HARDERSFIELD</td>\n",
       "      <td>58</td>\n",
       "      <td>Gekkeikan Black &amp; Gold Sake</td>\n",
       "      <td>750mL</td>\n",
       "      <td>11</td>\n",
       "      <td>12.99</td>\n",
       "      <td>31/12/2016</td>\n",
       "      <td>1</td>\n",
       "      <td>1</td>\n",
       "    </tr>\n",
       "    <tr>\n",
       "      <th>1</th>\n",
       "      <td>1_HARDERSFIELD_62</td>\n",
       "      <td>1</td>\n",
       "      <td>HARDERSFIELD</td>\n",
       "      <td>62</td>\n",
       "      <td>Herradura Silver Tequila</td>\n",
       "      <td>750mL</td>\n",
       "      <td>7</td>\n",
       "      <td>36.99</td>\n",
       "      <td>31/12/2016</td>\n",
       "      <td>3</td>\n",
       "      <td>1</td>\n",
       "    </tr>\n",
       "    <tr>\n",
       "      <th>2</th>\n",
       "      <td>1_HARDERSFIELD_63</td>\n",
       "      <td>1</td>\n",
       "      <td>HARDERSFIELD</td>\n",
       "      <td>63</td>\n",
       "      <td>Herradura Reposado Tequila</td>\n",
       "      <td>750mL</td>\n",
       "      <td>7</td>\n",
       "      <td>38.99</td>\n",
       "      <td>31/12/2016</td>\n",
       "      <td>4</td>\n",
       "      <td>1</td>\n",
       "    </tr>\n",
       "    <tr>\n",
       "      <th>3</th>\n",
       "      <td>1_HARDERSFIELD_72</td>\n",
       "      <td>1</td>\n",
       "      <td>HARDERSFIELD</td>\n",
       "      <td>72</td>\n",
       "      <td>No. 3 London Dry Gin</td>\n",
       "      <td>750mL</td>\n",
       "      <td>4</td>\n",
       "      <td>34.99</td>\n",
       "      <td>31/12/2016</td>\n",
       "      <td>5</td>\n",
       "      <td>1</td>\n",
       "    </tr>\n",
       "    <tr>\n",
       "      <th>4</th>\n",
       "      <td>1_HARDERSFIELD_75</td>\n",
       "      <td>1</td>\n",
       "      <td>HARDERSFIELD</td>\n",
       "      <td>75</td>\n",
       "      <td>Three Olives Tomato Vodka</td>\n",
       "      <td>750mL</td>\n",
       "      <td>7</td>\n",
       "      <td>14.99</td>\n",
       "      <td>31/12/2016</td>\n",
       "      <td>6</td>\n",
       "      <td>1</td>\n",
       "    </tr>\n",
       "  </tbody>\n",
       "</table>\n",
       "</div>"
      ],
      "text/plain": [
       "         InventoryId  NumeroTienda        Ciudad  Marca  \\\n",
       "0  1_HARDERSFIELD_58             1  HARDERSFIELD     58   \n",
       "1  1_HARDERSFIELD_62             1  HARDERSFIELD     62   \n",
       "2  1_HARDERSFIELD_63             1  HARDERSFIELD     63   \n",
       "3  1_HARDERSFIELD_72             1  HARDERSFIELD     72   \n",
       "4  1_HARDERSFIELD_75             1  HARDERSFIELD     75   \n",
       "\n",
       "                        Nombre Volumen  Stock  Precio       Fecha  ProductoID  \\\n",
       "0  Gekkeikan Black & Gold Sake   750mL     11   12.99  31/12/2016           1   \n",
       "1     Herradura Silver Tequila   750mL      7   36.99  31/12/2016           3   \n",
       "2   Herradura Reposado Tequila   750mL      7   38.99  31/12/2016           4   \n",
       "3         No. 3 London Dry Gin   750mL      4   34.99  31/12/2016           5   \n",
       "4    Three Olives Tomato Vodka   750mL      7   14.99  31/12/2016           6   \n",
       "\n",
       "   TiendaID  \n",
       "0         1  \n",
       "1         1  \n",
       "2         1  \n",
       "3         1  \n",
       "4         1  "
      ]
     },
     "execution_count": 77,
     "metadata": {},
     "output_type": "execute_result"
    }
   ],
   "source": [
    "inventarioMerge2_df.head(5)"
   ]
  },
  {
   "cell_type": "code",
   "execution_count": 78,
   "metadata": {},
   "outputs": [],
   "source": [
    "inventarioMerge3_df=inventarioMerge2_df.merge(inventarios_df, on=['InventoryId'], how='left')"
   ]
  },
  {
   "cell_type": "code",
   "execution_count": 79,
   "metadata": {},
   "outputs": [
    {
     "data": {
      "text/html": [
       "<div>\n",
       "<style scoped>\n",
       "    .dataframe tbody tr th:only-of-type {\n",
       "        vertical-align: middle;\n",
       "    }\n",
       "\n",
       "    .dataframe tbody tr th {\n",
       "        vertical-align: top;\n",
       "    }\n",
       "\n",
       "    .dataframe thead th {\n",
       "        text-align: right;\n",
       "    }\n",
       "</style>\n",
       "<table border=\"1\" class=\"dataframe\">\n",
       "  <thead>\n",
       "    <tr style=\"text-align: right;\">\n",
       "      <th></th>\n",
       "      <th>InventoryId</th>\n",
       "      <th>NumeroTienda</th>\n",
       "      <th>Ciudad</th>\n",
       "      <th>Marca</th>\n",
       "      <th>Nombre</th>\n",
       "      <th>Volumen</th>\n",
       "      <th>Stock</th>\n",
       "      <th>Precio</th>\n",
       "      <th>Fecha</th>\n",
       "      <th>ProductoID</th>\n",
       "      <th>TiendaID</th>\n",
       "      <th>InventarioID</th>\n",
       "    </tr>\n",
       "  </thead>\n",
       "  <tbody>\n",
       "    <tr>\n",
       "      <th>0</th>\n",
       "      <td>1_HARDERSFIELD_58</td>\n",
       "      <td>1</td>\n",
       "      <td>HARDERSFIELD</td>\n",
       "      <td>58</td>\n",
       "      <td>Gekkeikan Black &amp; Gold Sake</td>\n",
       "      <td>750mL</td>\n",
       "      <td>11</td>\n",
       "      <td>12.99</td>\n",
       "      <td>31/12/2016</td>\n",
       "      <td>1</td>\n",
       "      <td>1</td>\n",
       "      <td>1</td>\n",
       "    </tr>\n",
       "    <tr>\n",
       "      <th>1</th>\n",
       "      <td>1_HARDERSFIELD_62</td>\n",
       "      <td>1</td>\n",
       "      <td>HARDERSFIELD</td>\n",
       "      <td>62</td>\n",
       "      <td>Herradura Silver Tequila</td>\n",
       "      <td>750mL</td>\n",
       "      <td>7</td>\n",
       "      <td>36.99</td>\n",
       "      <td>31/12/2016</td>\n",
       "      <td>3</td>\n",
       "      <td>1</td>\n",
       "      <td>2</td>\n",
       "    </tr>\n",
       "    <tr>\n",
       "      <th>2</th>\n",
       "      <td>1_HARDERSFIELD_63</td>\n",
       "      <td>1</td>\n",
       "      <td>HARDERSFIELD</td>\n",
       "      <td>63</td>\n",
       "      <td>Herradura Reposado Tequila</td>\n",
       "      <td>750mL</td>\n",
       "      <td>7</td>\n",
       "      <td>38.99</td>\n",
       "      <td>31/12/2016</td>\n",
       "      <td>4</td>\n",
       "      <td>1</td>\n",
       "      <td>3</td>\n",
       "    </tr>\n",
       "    <tr>\n",
       "      <th>3</th>\n",
       "      <td>1_HARDERSFIELD_72</td>\n",
       "      <td>1</td>\n",
       "      <td>HARDERSFIELD</td>\n",
       "      <td>72</td>\n",
       "      <td>No. 3 London Dry Gin</td>\n",
       "      <td>750mL</td>\n",
       "      <td>4</td>\n",
       "      <td>34.99</td>\n",
       "      <td>31/12/2016</td>\n",
       "      <td>5</td>\n",
       "      <td>1</td>\n",
       "      <td>4</td>\n",
       "    </tr>\n",
       "    <tr>\n",
       "      <th>4</th>\n",
       "      <td>1_HARDERSFIELD_75</td>\n",
       "      <td>1</td>\n",
       "      <td>HARDERSFIELD</td>\n",
       "      <td>75</td>\n",
       "      <td>Three Olives Tomato Vodka</td>\n",
       "      <td>750mL</td>\n",
       "      <td>7</td>\n",
       "      <td>14.99</td>\n",
       "      <td>31/12/2016</td>\n",
       "      <td>6</td>\n",
       "      <td>1</td>\n",
       "      <td>5</td>\n",
       "    </tr>\n",
       "  </tbody>\n",
       "</table>\n",
       "</div>"
      ],
      "text/plain": [
       "         InventoryId  NumeroTienda        Ciudad  Marca  \\\n",
       "0  1_HARDERSFIELD_58             1  HARDERSFIELD     58   \n",
       "1  1_HARDERSFIELD_62             1  HARDERSFIELD     62   \n",
       "2  1_HARDERSFIELD_63             1  HARDERSFIELD     63   \n",
       "3  1_HARDERSFIELD_72             1  HARDERSFIELD     72   \n",
       "4  1_HARDERSFIELD_75             1  HARDERSFIELD     75   \n",
       "\n",
       "                        Nombre Volumen  Stock  Precio       Fecha  ProductoID  \\\n",
       "0  Gekkeikan Black & Gold Sake   750mL     11   12.99  31/12/2016           1   \n",
       "1     Herradura Silver Tequila   750mL      7   36.99  31/12/2016           3   \n",
       "2   Herradura Reposado Tequila   750mL      7   38.99  31/12/2016           4   \n",
       "3         No. 3 London Dry Gin   750mL      4   34.99  31/12/2016           5   \n",
       "4    Three Olives Tomato Vodka   750mL      7   14.99  31/12/2016           6   \n",
       "\n",
       "   TiendaID  InventarioID  \n",
       "0         1             1  \n",
       "1         1             2  \n",
       "2         1             3  \n",
       "3         1             4  \n",
       "4         1             5  "
      ]
     },
     "execution_count": 79,
     "metadata": {},
     "output_type": "execute_result"
    }
   ],
   "source": [
    "inventarioMerge3_df.head(5)"
   ]
  },
  {
   "cell_type": "code",
   "execution_count": 80,
   "metadata": {},
   "outputs": [
    {
     "name": "stdout",
     "output_type": "stream",
     "text": [
      "        InventarioID  ProductoID  TiendaID  Precio       Fecha  Stock\n",
      "0                  1           1         1   12.99  31/12/2016     11\n",
      "1                  2           3         1   36.99  31/12/2016      7\n",
      "2                  3           4         1   38.99  31/12/2016      7\n",
      "3                  4           5         1   34.99  31/12/2016      4\n",
      "4                  5           6         1   14.99  31/12/2016      7\n",
      "...              ...         ...       ...     ...         ...    ...\n",
      "431013        220894        4840        79   22.99  01/01/2016     13\n",
      "431014        220895        3254        79   13.99  01/01/2016     13\n",
      "431015        220896        3255        79   23.99  01/01/2016     19\n",
      "431016        220897        7039        79  144.99  01/01/2016     12\n",
      "431017        220898        7048        79  119.99  01/01/2016     24\n",
      "\n",
      "[431018 rows x 6 columns]\n"
     ]
    }
   ],
   "source": [
    "#Se reordenan las columnas\n",
    "inventarios_totales_df = inventarioMerge3_df.reindex(columns=[ 'InventarioID', 'ProductoID', 'TiendaID', 'Precio', 'Fecha', 'Stock'])\n",
    "print(inventarios_totales_df)"
   ]
  },
  {
   "cell_type": "code",
   "execution_count": 81,
   "metadata": {},
   "outputs": [
    {
     "data": {
      "text/html": [
       "<div>\n",
       "<style scoped>\n",
       "    .dataframe tbody tr th:only-of-type {\n",
       "        vertical-align: middle;\n",
       "    }\n",
       "\n",
       "    .dataframe tbody tr th {\n",
       "        vertical-align: top;\n",
       "    }\n",
       "\n",
       "    .dataframe thead th {\n",
       "        text-align: right;\n",
       "    }\n",
       "</style>\n",
       "<table border=\"1\" class=\"dataframe\">\n",
       "  <thead>\n",
       "    <tr style=\"text-align: right;\">\n",
       "      <th></th>\n",
       "      <th>InventarioID</th>\n",
       "      <th>ProductoID</th>\n",
       "      <th>TiendaID</th>\n",
       "      <th>Precio</th>\n",
       "      <th>Fecha</th>\n",
       "      <th>Stock</th>\n",
       "    </tr>\n",
       "  </thead>\n",
       "  <tbody>\n",
       "    <tr>\n",
       "      <th>0</th>\n",
       "      <td>1</td>\n",
       "      <td>1</td>\n",
       "      <td>1</td>\n",
       "      <td>12.99</td>\n",
       "      <td>31/12/2016</td>\n",
       "      <td>11</td>\n",
       "    </tr>\n",
       "    <tr>\n",
       "      <th>1</th>\n",
       "      <td>2</td>\n",
       "      <td>3</td>\n",
       "      <td>1</td>\n",
       "      <td>36.99</td>\n",
       "      <td>31/12/2016</td>\n",
       "      <td>7</td>\n",
       "    </tr>\n",
       "    <tr>\n",
       "      <th>2</th>\n",
       "      <td>3</td>\n",
       "      <td>4</td>\n",
       "      <td>1</td>\n",
       "      <td>38.99</td>\n",
       "      <td>31/12/2016</td>\n",
       "      <td>7</td>\n",
       "    </tr>\n",
       "    <tr>\n",
       "      <th>3</th>\n",
       "      <td>4</td>\n",
       "      <td>5</td>\n",
       "      <td>1</td>\n",
       "      <td>34.99</td>\n",
       "      <td>31/12/2016</td>\n",
       "      <td>4</td>\n",
       "    </tr>\n",
       "    <tr>\n",
       "      <th>4</th>\n",
       "      <td>5</td>\n",
       "      <td>6</td>\n",
       "      <td>1</td>\n",
       "      <td>14.99</td>\n",
       "      <td>31/12/2016</td>\n",
       "      <td>7</td>\n",
       "    </tr>\n",
       "  </tbody>\n",
       "</table>\n",
       "</div>"
      ],
      "text/plain": [
       "   InventarioID  ProductoID  TiendaID  Precio       Fecha  Stock\n",
       "0             1           1         1   12.99  31/12/2016     11\n",
       "1             2           3         1   36.99  31/12/2016      7\n",
       "2             3           4         1   38.99  31/12/2016      7\n",
       "3             4           5         1   34.99  31/12/2016      4\n",
       "4             5           6         1   14.99  31/12/2016      7"
      ]
     },
     "execution_count": 81,
     "metadata": {},
     "output_type": "execute_result"
    }
   ],
   "source": [
    "inventarios_totales_df.head(5)"
   ]
  },
  {
   "cell_type": "markdown",
   "metadata": {},
   "source": [
    "##### Se seleccionan los datos que poblaran la base de datos"
   ]
  },
  {
   "cell_type": "code",
   "execution_count": 82,
   "metadata": {},
   "outputs": [
    {
     "name": "stdout",
     "output_type": "stream",
     "text": [
      "        ProductoID  TiendaID  Precio       Fecha  Stock\n",
      "0                1         1   12.99  31/12/2016     11\n",
      "1                3         1   36.99  31/12/2016      7\n",
      "2                4         1   38.99  31/12/2016      7\n",
      "3                5         1   34.99  31/12/2016      4\n",
      "4                6         1   14.99  31/12/2016      7\n",
      "...            ...       ...     ...         ...    ...\n",
      "431013        4840        79   22.99  01/01/2016     13\n",
      "431014        3254        79   13.99  01/01/2016     13\n",
      "431015        3255        79   23.99  01/01/2016     19\n",
      "431016        7039        79  144.99  01/01/2016     12\n",
      "431017        7048        79  119.99  01/01/2016     24\n",
      "\n",
      "[431018 rows x 5 columns]\n"
     ]
    }
   ],
   "source": [
    "datos_inventarios=inventarios_totales_df[['ProductoID', 'TiendaID','Precio', 'Fecha', 'Stock']]\n",
    "print(datos_inventarios)"
   ]
  },
  {
   "cell_type": "code",
   "execution_count": 83,
   "metadata": {},
   "outputs": [
    {
     "name": "stderr",
     "output_type": "stream",
     "text": [
      "C:\\Users\\jorge\\AppData\\Local\\Temp\\ipykernel_6736\\1301791535.py:1: UserWarning: Parsing dates in %d/%m/%Y format when dayfirst=False (the default) was specified. Pass `dayfirst=True` or specify a format to silence this warning.\n",
      "  datos_inventarios['Fecha'] = pd.to_datetime(datos_inventarios['Fecha'])\n",
      "C:\\Users\\jorge\\AppData\\Local\\Temp\\ipykernel_6736\\1301791535.py:1: SettingWithCopyWarning: \n",
      "A value is trying to be set on a copy of a slice from a DataFrame.\n",
      "Try using .loc[row_indexer,col_indexer] = value instead\n",
      "\n",
      "See the caveats in the documentation: https://pandas.pydata.org/pandas-docs/stable/user_guide/indexing.html#returning-a-view-versus-a-copy\n",
      "  datos_inventarios['Fecha'] = pd.to_datetime(datos_inventarios['Fecha'])\n"
     ]
    }
   ],
   "source": [
    "datos_inventarios['Fecha'] = pd.to_datetime(datos_inventarios['Fecha'])"
   ]
  },
  {
   "cell_type": "code",
   "execution_count": 84,
   "metadata": {},
   "outputs": [
    {
     "data": {
      "text/plain": [
       "286"
      ]
     },
     "execution_count": 84,
     "metadata": {},
     "output_type": "execute_result"
    }
   ],
   "source": [
    "datos_inventarios.to_sql('Inventario', engine, if_exists='append', index=False)"
   ]
  },
  {
   "cell_type": "markdown",
   "metadata": {},
   "source": [
    "### Tabla Ventas"
   ]
  },
  {
   "cell_type": "markdown",
   "metadata": {},
   "source": [
    "##### Se seleccionan los datos de los csv"
   ]
  },
  {
   "cell_type": "code",
   "execution_count": 85,
   "metadata": {},
   "outputs": [
    {
     "data": {
      "text/plain": [
       "Index(['Unnamed: 0', 'InventoryId', 'Store', 'Brand', 'Description', 'Size',\n",
       "       'SalesQuantity', 'SalesDollars', 'SalesPrice', 'SalesDate', 'Volume',\n",
       "       'Classification', 'ExciseTax', 'VendorNo', 'VendorName'],\n",
       "      dtype='object')"
      ]
     },
     "execution_count": 85,
     "metadata": {},
     "output_type": "execute_result"
    }
   ],
   "source": [
    "ventas_limpio_df.columns"
   ]
  },
  {
   "cell_type": "code",
   "execution_count": 86,
   "metadata": {},
   "outputs": [],
   "source": [
    "ventas_df=ventas_limpio_df[['InventoryId','SalesQuantity', 'SalesDollars', 'SalesPrice', 'SalesDate', 'VendorNo', 'VendorName']]"
   ]
  },
  {
   "cell_type": "code",
   "execution_count": 87,
   "metadata": {},
   "outputs": [
    {
     "name": "stderr",
     "output_type": "stream",
     "text": [
      "C:\\Users\\jorge\\AppData\\Local\\Temp\\ipykernel_6736\\3923381477.py:2: SettingWithCopyWarning: \n",
      "A value is trying to be set on a copy of a slice from a DataFrame\n",
      "\n",
      "See the caveats in the documentation: https://pandas.pydata.org/pandas-docs/stable/user_guide/indexing.html#returning-a-view-versus-a-copy\n",
      "  ventas_df.rename(columns={'SalesQuantity':'CantidadVendida' , 'SalesDollars':'TotalVenta' , 'SalesPrice': 'PrecioVenta', 'SalesDate':'FechaVenta', 'VendorNo':'NumeroProveedor', 'VendorName':'Nombre'}, inplace=True)\n"
     ]
    }
   ],
   "source": [
    "#Se renombran las columnas\n",
    "ventas_df.rename(columns={'SalesQuantity':'CantidadVendida' , 'SalesDollars':'TotalVenta' , 'SalesPrice': 'PrecioVenta', 'SalesDate':'FechaVenta', 'VendorNo':'NumeroProveedor', 'VendorName':'Nombre'}, inplace=True)"
   ]
  },
  {
   "cell_type": "markdown",
   "metadata": {},
   "source": [
    "##### Se incorporan las claves foraneas en la tabla ventas"
   ]
  },
  {
   "cell_type": "code",
   "execution_count": 88,
   "metadata": {},
   "outputs": [],
   "source": [
    "ventasMerge=ventas_df.merge(proveedores_df, on=['NumeroProveedor','Nombre'], how='left')"
   ]
  },
  {
   "cell_type": "code",
   "execution_count": 89,
   "metadata": {},
   "outputs": [
    {
     "data": {
      "text/html": [
       "<div>\n",
       "<style scoped>\n",
       "    .dataframe tbody tr th:only-of-type {\n",
       "        vertical-align: middle;\n",
       "    }\n",
       "\n",
       "    .dataframe tbody tr th {\n",
       "        vertical-align: top;\n",
       "    }\n",
       "\n",
       "    .dataframe thead th {\n",
       "        text-align: right;\n",
       "    }\n",
       "</style>\n",
       "<table border=\"1\" class=\"dataframe\">\n",
       "  <thead>\n",
       "    <tr style=\"text-align: right;\">\n",
       "      <th></th>\n",
       "      <th>InventoryId</th>\n",
       "      <th>CantidadVendida</th>\n",
       "      <th>TotalVenta</th>\n",
       "      <th>PrecioVenta</th>\n",
       "      <th>FechaVenta</th>\n",
       "      <th>NumeroProveedor</th>\n",
       "      <th>Nombre</th>\n",
       "      <th>ProveedorID</th>\n",
       "    </tr>\n",
       "  </thead>\n",
       "  <tbody>\n",
       "    <tr>\n",
       "      <th>0</th>\n",
       "      <td>1_HARDERSFIELD_1004</td>\n",
       "      <td>1</td>\n",
       "      <td>16.49</td>\n",
       "      <td>16.49</td>\n",
       "      <td>2016-01-01</td>\n",
       "      <td>12546</td>\n",
       "      <td>JIM BEAM BRANDS COMPANY</td>\n",
       "      <td>1</td>\n",
       "    </tr>\n",
       "    <tr>\n",
       "      <th>1</th>\n",
       "      <td>1_HARDERSFIELD_1004</td>\n",
       "      <td>2</td>\n",
       "      <td>32.98</td>\n",
       "      <td>16.49</td>\n",
       "      <td>2016-01-02</td>\n",
       "      <td>12546</td>\n",
       "      <td>JIM BEAM BRANDS COMPANY</td>\n",
       "      <td>1</td>\n",
       "    </tr>\n",
       "    <tr>\n",
       "      <th>2</th>\n",
       "      <td>1_HARDERSFIELD_1004</td>\n",
       "      <td>1</td>\n",
       "      <td>16.49</td>\n",
       "      <td>16.49</td>\n",
       "      <td>2016-01-03</td>\n",
       "      <td>12546</td>\n",
       "      <td>JIM BEAM BRANDS COMPANY</td>\n",
       "      <td>1</td>\n",
       "    </tr>\n",
       "    <tr>\n",
       "      <th>3</th>\n",
       "      <td>1_HARDERSFIELD_1004</td>\n",
       "      <td>1</td>\n",
       "      <td>14.49</td>\n",
       "      <td>14.49</td>\n",
       "      <td>2016-01-08</td>\n",
       "      <td>12546</td>\n",
       "      <td>JIM BEAM BRANDS COMPANY</td>\n",
       "      <td>1</td>\n",
       "    </tr>\n",
       "    <tr>\n",
       "      <th>4</th>\n",
       "      <td>1_HARDERSFIELD_1005</td>\n",
       "      <td>2</td>\n",
       "      <td>69.98</td>\n",
       "      <td>34.99</td>\n",
       "      <td>2016-01-09</td>\n",
       "      <td>12546</td>\n",
       "      <td>JIM BEAM BRANDS COMPANY</td>\n",
       "      <td>1</td>\n",
       "    </tr>\n",
       "  </tbody>\n",
       "</table>\n",
       "</div>"
      ],
      "text/plain": [
       "           InventoryId  CantidadVendida  TotalVenta  PrecioVenta  FechaVenta  \\\n",
       "0  1_HARDERSFIELD_1004                1       16.49        16.49  2016-01-01   \n",
       "1  1_HARDERSFIELD_1004                2       32.98        16.49  2016-01-02   \n",
       "2  1_HARDERSFIELD_1004                1       16.49        16.49  2016-01-03   \n",
       "3  1_HARDERSFIELD_1004                1       14.49        14.49  2016-01-08   \n",
       "4  1_HARDERSFIELD_1005                2       69.98        34.99  2016-01-09   \n",
       "\n",
       "   NumeroProveedor                       Nombre  ProveedorID  \n",
       "0            12546  JIM BEAM BRANDS COMPANY                1  \n",
       "1            12546  JIM BEAM BRANDS COMPANY                1  \n",
       "2            12546  JIM BEAM BRANDS COMPANY                1  \n",
       "3            12546  JIM BEAM BRANDS COMPANY                1  \n",
       "4            12546  JIM BEAM BRANDS COMPANY                1  "
      ]
     },
     "execution_count": 89,
     "metadata": {},
     "output_type": "execute_result"
    }
   ],
   "source": [
    "ventasMerge.head(5)"
   ]
  },
  {
   "cell_type": "code",
   "execution_count": 90,
   "metadata": {},
   "outputs": [],
   "source": [
    "ventasMerge2=ventasMerge.merge(inventarios_df, on=['InventoryId'], how='left')"
   ]
  },
  {
   "cell_type": "code",
   "execution_count": 91,
   "metadata": {},
   "outputs": [
    {
     "data": {
      "text/html": [
       "<div>\n",
       "<style scoped>\n",
       "    .dataframe tbody tr th:only-of-type {\n",
       "        vertical-align: middle;\n",
       "    }\n",
       "\n",
       "    .dataframe tbody tr th {\n",
       "        vertical-align: top;\n",
       "    }\n",
       "\n",
       "    .dataframe thead th {\n",
       "        text-align: right;\n",
       "    }\n",
       "</style>\n",
       "<table border=\"1\" class=\"dataframe\">\n",
       "  <thead>\n",
       "    <tr style=\"text-align: right;\">\n",
       "      <th></th>\n",
       "      <th>InventoryId</th>\n",
       "      <th>CantidadVendida</th>\n",
       "      <th>TotalVenta</th>\n",
       "      <th>PrecioVenta</th>\n",
       "      <th>FechaVenta</th>\n",
       "      <th>NumeroProveedor</th>\n",
       "      <th>Nombre</th>\n",
       "      <th>ProveedorID</th>\n",
       "      <th>InventarioID</th>\n",
       "    </tr>\n",
       "  </thead>\n",
       "  <tbody>\n",
       "    <tr>\n",
       "      <th>0</th>\n",
       "      <td>1_HARDERSFIELD_1004</td>\n",
       "      <td>1</td>\n",
       "      <td>16.49</td>\n",
       "      <td>16.49</td>\n",
       "      <td>2016-01-01</td>\n",
       "      <td>12546</td>\n",
       "      <td>JIM BEAM BRANDS COMPANY</td>\n",
       "      <td>1</td>\n",
       "      <td>224509</td>\n",
       "    </tr>\n",
       "    <tr>\n",
       "      <th>1</th>\n",
       "      <td>1_HARDERSFIELD_1004</td>\n",
       "      <td>2</td>\n",
       "      <td>32.98</td>\n",
       "      <td>16.49</td>\n",
       "      <td>2016-01-02</td>\n",
       "      <td>12546</td>\n",
       "      <td>JIM BEAM BRANDS COMPANY</td>\n",
       "      <td>1</td>\n",
       "      <td>224509</td>\n",
       "    </tr>\n",
       "    <tr>\n",
       "      <th>2</th>\n",
       "      <td>1_HARDERSFIELD_1004</td>\n",
       "      <td>1</td>\n",
       "      <td>16.49</td>\n",
       "      <td>16.49</td>\n",
       "      <td>2016-01-03</td>\n",
       "      <td>12546</td>\n",
       "      <td>JIM BEAM BRANDS COMPANY</td>\n",
       "      <td>1</td>\n",
       "      <td>224509</td>\n",
       "    </tr>\n",
       "    <tr>\n",
       "      <th>3</th>\n",
       "      <td>1_HARDERSFIELD_1004</td>\n",
       "      <td>1</td>\n",
       "      <td>14.49</td>\n",
       "      <td>14.49</td>\n",
       "      <td>2016-01-08</td>\n",
       "      <td>12546</td>\n",
       "      <td>JIM BEAM BRANDS COMPANY</td>\n",
       "      <td>1</td>\n",
       "      <td>224509</td>\n",
       "    </tr>\n",
       "    <tr>\n",
       "      <th>4</th>\n",
       "      <td>1_HARDERSFIELD_1005</td>\n",
       "      <td>2</td>\n",
       "      <td>69.98</td>\n",
       "      <td>34.99</td>\n",
       "      <td>2016-01-09</td>\n",
       "      <td>12546</td>\n",
       "      <td>JIM BEAM BRANDS COMPANY</td>\n",
       "      <td>1</td>\n",
       "      <td>224510</td>\n",
       "    </tr>\n",
       "  </tbody>\n",
       "</table>\n",
       "</div>"
      ],
      "text/plain": [
       "           InventoryId  CantidadVendida  TotalVenta  PrecioVenta  FechaVenta  \\\n",
       "0  1_HARDERSFIELD_1004                1       16.49        16.49  2016-01-01   \n",
       "1  1_HARDERSFIELD_1004                2       32.98        16.49  2016-01-02   \n",
       "2  1_HARDERSFIELD_1004                1       16.49        16.49  2016-01-03   \n",
       "3  1_HARDERSFIELD_1004                1       14.49        14.49  2016-01-08   \n",
       "4  1_HARDERSFIELD_1005                2       69.98        34.99  2016-01-09   \n",
       "\n",
       "   NumeroProveedor                       Nombre  ProveedorID  InventarioID  \n",
       "0            12546  JIM BEAM BRANDS COMPANY                1        224509  \n",
       "1            12546  JIM BEAM BRANDS COMPANY                1        224509  \n",
       "2            12546  JIM BEAM BRANDS COMPANY                1        224509  \n",
       "3            12546  JIM BEAM BRANDS COMPANY                1        224509  \n",
       "4            12546  JIM BEAM BRANDS COMPANY                1        224510  "
      ]
     },
     "execution_count": 91,
     "metadata": {},
     "output_type": "execute_result"
    }
   ],
   "source": [
    "ventasMerge2.head(5)"
   ]
  },
  {
   "cell_type": "code",
   "execution_count": 92,
   "metadata": {},
   "outputs": [
    {
     "data": {
      "text/plain": [
       "(1048575, 9)"
      ]
     },
     "execution_count": 92,
     "metadata": {},
     "output_type": "execute_result"
    }
   ],
   "source": [
    "ventasMerge2.shape"
   ]
  },
  {
   "cell_type": "markdown",
   "metadata": {},
   "source": [
    "##### Se reordenan las columnas y se establece el flujo de datos a la base"
   ]
  },
  {
   "cell_type": "code",
   "execution_count": 93,
   "metadata": {},
   "outputs": [
    {
     "name": "stdout",
     "output_type": "stream",
     "text": [
      "         InventarioID  ProveedorID  CantidadVendida  TotalVenta  PrecioVenta  \\\n",
      "0              224509            1                1       16.49        16.49   \n",
      "1              224509            1                2       32.98        16.49   \n",
      "2              224509            1                1       16.49        16.49   \n",
      "3              224509            1                1       14.49        14.49   \n",
      "4              224510            1                2       69.98        34.99   \n",
      "...               ...          ...              ...         ...          ...   \n",
      "1048570         45155            2                4       51.80        12.95   \n",
      "1048571         45155            2                8      103.60        12.95   \n",
      "1048572         45155            2                1       12.95        12.95   \n",
      "1048573         45155            2                3       38.85        12.95   \n",
      "1048574         45155            2                2       25.90        12.95   \n",
      "\n",
      "         FechaVenta  \n",
      "0        2016-01-01  \n",
      "1        2016-01-02  \n",
      "2        2016-01-03  \n",
      "3        2016-01-08  \n",
      "4        2016-01-09  \n",
      "...             ...  \n",
      "1048570  2016-02-12  \n",
      "1048571  2016-02-13  \n",
      "1048572  2016-02-19  \n",
      "1048573  2016-02-22  \n",
      "1048574  2016-02-24  \n",
      "\n",
      "[1048575 rows x 6 columns]\n"
     ]
    }
   ],
   "source": [
    "#Se reordenan las columnas\n",
    "datos_ventas= ventasMerge2.reindex(columns=[ 'InventarioID', 'ProveedorID', 'CantidadVendida', 'TotalVenta', 'PrecioVenta', 'FechaVenta'])\n",
    "print(datos_ventas)"
   ]
  },
  {
   "cell_type": "code",
   "execution_count": 94,
   "metadata": {},
   "outputs": [
    {
     "data": {
      "text/plain": [
       "179"
      ]
     },
     "execution_count": 94,
     "metadata": {},
     "output_type": "execute_result"
    }
   ],
   "source": [
    "datos_ventas.to_sql('Ventas', engine, if_exists='append', index=False)"
   ]
  },
  {
   "cell_type": "markdown",
   "metadata": {},
   "source": [
    "### Tabla Compras"
   ]
  },
  {
   "cell_type": "markdown",
   "metadata": {},
   "source": [
    "##### Se seleccionan los datos de los csv"
   ]
  },
  {
   "cell_type": "code",
   "execution_count": 95,
   "metadata": {},
   "outputs": [
    {
     "data": {
      "text/plain": [
       "Index(['Unnamed: 0', 'InventoryId', 'Store', 'Brand', 'Description', 'Size',\n",
       "       'VendorNumber', 'VendorName', 'PONumber', 'PODate', 'ReceivingDate',\n",
       "       'InvoiceDate', 'PayDate', 'PurchasePrice', 'Quantity', 'Dollars',\n",
       "       'Classification'],\n",
       "      dtype='object')"
      ]
     },
     "execution_count": 95,
     "metadata": {},
     "output_type": "execute_result"
    }
   ],
   "source": [
    "compras_limpio_df.columns"
   ]
  },
  {
   "cell_type": "code",
   "execution_count": 96,
   "metadata": {},
   "outputs": [
    {
     "data": {
      "text/plain": [
       "(2372474, 17)"
      ]
     },
     "execution_count": 96,
     "metadata": {},
     "output_type": "execute_result"
    }
   ],
   "source": [
    "compras_limpio_df.shape"
   ]
  },
  {
   "cell_type": "code",
   "execution_count": 97,
   "metadata": {},
   "outputs": [],
   "source": [
    "compras_df=compras_limpio_df[['InventoryId','VendorNumber', 'VendorName','PONumber', 'PODate', 'ReceivingDate','InvoiceDate', 'PayDate', 'PurchasePrice', 'Quantity', 'Dollars']]"
   ]
  },
  {
   "cell_type": "code",
   "execution_count": 98,
   "metadata": {},
   "outputs": [
    {
     "name": "stderr",
     "output_type": "stream",
     "text": [
      "C:\\Users\\jorge\\AppData\\Local\\Temp\\ipykernel_6736\\384235215.py:2: SettingWithCopyWarning: \n",
      "A value is trying to be set on a copy of a slice from a DataFrame\n",
      "\n",
      "See the caveats in the documentation: https://pandas.pydata.org/pandas-docs/stable/user_guide/indexing.html#returning-a-view-versus-a-copy\n",
      "  compras_df.rename(columns={'VendorNumber':'NumeroProveedor', 'VendorName':'Nombre', 'PONumber':'NumeroOrdenCompra', 'PODate':'FechaOrdenCompra', 'ReceivingDate':'FechaRecibido','InvoiceDate':'FechaFacturado', 'PayDate': 'FechaPagado', 'PurchasePrice':'PrecioCompra', 'Quantity':'Cantidad', 'Dollars':'TotalCompra'}, inplace=True)\n"
     ]
    }
   ],
   "source": [
    "#Se renombran las columnas\n",
    "compras_df.rename(columns={'VendorNumber':'NumeroProveedor', 'VendorName':'Nombre', 'PONumber':'NumeroOrdenCompra', 'PODate':'FechaOrdenCompra', 'ReceivingDate':'FechaRecibido','InvoiceDate':'FechaFacturado', 'PayDate': 'FechaPagado', 'PurchasePrice':'PrecioCompra', 'Quantity':'Cantidad', 'Dollars':'TotalCompra'}, inplace=True)"
   ]
  },
  {
   "cell_type": "markdown",
   "metadata": {},
   "source": [
    "##### Se incorporan las claves foraneas en la tabla compras"
   ]
  },
  {
   "cell_type": "code",
   "execution_count": 99,
   "metadata": {},
   "outputs": [],
   "source": [
    "comprasMerge=compras_df.merge(proveedores_df, on=['NumeroProveedor','Nombre'], how='left')"
   ]
  },
  {
   "cell_type": "code",
   "execution_count": 100,
   "metadata": {},
   "outputs": [
    {
     "data": {
      "text/html": [
       "<div>\n",
       "<style scoped>\n",
       "    .dataframe tbody tr th:only-of-type {\n",
       "        vertical-align: middle;\n",
       "    }\n",
       "\n",
       "    .dataframe tbody tr th {\n",
       "        vertical-align: top;\n",
       "    }\n",
       "\n",
       "    .dataframe thead th {\n",
       "        text-align: right;\n",
       "    }\n",
       "</style>\n",
       "<table border=\"1\" class=\"dataframe\">\n",
       "  <thead>\n",
       "    <tr style=\"text-align: right;\">\n",
       "      <th></th>\n",
       "      <th>InventoryId</th>\n",
       "      <th>NumeroProveedor</th>\n",
       "      <th>Nombre</th>\n",
       "      <th>NumeroOrdenCompra</th>\n",
       "      <th>FechaOrdenCompra</th>\n",
       "      <th>FechaRecibido</th>\n",
       "      <th>FechaFacturado</th>\n",
       "      <th>FechaPagado</th>\n",
       "      <th>PrecioCompra</th>\n",
       "      <th>Cantidad</th>\n",
       "      <th>TotalCompra</th>\n",
       "      <th>ProveedorID</th>\n",
       "    </tr>\n",
       "  </thead>\n",
       "  <tbody>\n",
       "    <tr>\n",
       "      <th>0</th>\n",
       "      <td>69_MOUNTMEND_8412</td>\n",
       "      <td>105</td>\n",
       "      <td>ALTAMAR BRANDS LLC</td>\n",
       "      <td>8124</td>\n",
       "      <td>2015-12-21</td>\n",
       "      <td>2016-01-02</td>\n",
       "      <td>2016-01-04</td>\n",
       "      <td>2016-02-16</td>\n",
       "      <td>35.71</td>\n",
       "      <td>6</td>\n",
       "      <td>214.26</td>\n",
       "      <td>89</td>\n",
       "    </tr>\n",
       "    <tr>\n",
       "      <th>1</th>\n",
       "      <td>30_CULCHETH_5255</td>\n",
       "      <td>4466</td>\n",
       "      <td>AMERICAN VINTAGE BEVERAGE</td>\n",
       "      <td>8137</td>\n",
       "      <td>2015-12-22</td>\n",
       "      <td>2016-01-01</td>\n",
       "      <td>2016-01-07</td>\n",
       "      <td>2016-02-21</td>\n",
       "      <td>9.35</td>\n",
       "      <td>4</td>\n",
       "      <td>37.40</td>\n",
       "      <td>84</td>\n",
       "    </tr>\n",
       "    <tr>\n",
       "      <th>2</th>\n",
       "      <td>34_PITMERDEN_5215</td>\n",
       "      <td>4466</td>\n",
       "      <td>AMERICAN VINTAGE BEVERAGE</td>\n",
       "      <td>8137</td>\n",
       "      <td>2015-12-22</td>\n",
       "      <td>2016-01-02</td>\n",
       "      <td>2016-01-07</td>\n",
       "      <td>2016-02-21</td>\n",
       "      <td>9.41</td>\n",
       "      <td>5</td>\n",
       "      <td>47.05</td>\n",
       "      <td>84</td>\n",
       "    </tr>\n",
       "    <tr>\n",
       "      <th>3</th>\n",
       "      <td>1_HARDERSFIELD_5255</td>\n",
       "      <td>4466</td>\n",
       "      <td>AMERICAN VINTAGE BEVERAGE</td>\n",
       "      <td>8137</td>\n",
       "      <td>2015-12-22</td>\n",
       "      <td>2016-01-01</td>\n",
       "      <td>2016-01-07</td>\n",
       "      <td>2016-02-21</td>\n",
       "      <td>9.35</td>\n",
       "      <td>6</td>\n",
       "      <td>56.10</td>\n",
       "      <td>84</td>\n",
       "    </tr>\n",
       "    <tr>\n",
       "      <th>4</th>\n",
       "      <td>76_DONCASTER_2034</td>\n",
       "      <td>388</td>\n",
       "      <td>ATLANTIC IMPORTING COMPANY</td>\n",
       "      <td>8169</td>\n",
       "      <td>2015-12-24</td>\n",
       "      <td>2016-01-02</td>\n",
       "      <td>2016-01-09</td>\n",
       "      <td>2016-02-16</td>\n",
       "      <td>21.32</td>\n",
       "      <td>5</td>\n",
       "      <td>106.60</td>\n",
       "      <td>63</td>\n",
       "    </tr>\n",
       "  </tbody>\n",
       "</table>\n",
       "</div>"
      ],
      "text/plain": [
       "           InventoryId  NumeroProveedor                       Nombre  \\\n",
       "0    69_MOUNTMEND_8412              105  ALTAMAR BRANDS LLC            \n",
       "1     30_CULCHETH_5255             4466  AMERICAN VINTAGE BEVERAGE     \n",
       "2    34_PITMERDEN_5215             4466  AMERICAN VINTAGE BEVERAGE     \n",
       "3  1_HARDERSFIELD_5255             4466  AMERICAN VINTAGE BEVERAGE     \n",
       "4    76_DONCASTER_2034              388  ATLANTIC IMPORTING COMPANY    \n",
       "\n",
       "   NumeroOrdenCompra FechaOrdenCompra FechaRecibido FechaFacturado  \\\n",
       "0               8124       2015-12-21    2016-01-02     2016-01-04   \n",
       "1               8137       2015-12-22    2016-01-01     2016-01-07   \n",
       "2               8137       2015-12-22    2016-01-02     2016-01-07   \n",
       "3               8137       2015-12-22    2016-01-01     2016-01-07   \n",
       "4               8169       2015-12-24    2016-01-02     2016-01-09   \n",
       "\n",
       "  FechaPagado  PrecioCompra  Cantidad  TotalCompra  ProveedorID  \n",
       "0  2016-02-16         35.71         6       214.26           89  \n",
       "1  2016-02-21          9.35         4        37.40           84  \n",
       "2  2016-02-21          9.41         5        47.05           84  \n",
       "3  2016-02-21          9.35         6        56.10           84  \n",
       "4  2016-02-16         21.32         5       106.60           63  "
      ]
     },
     "execution_count": 100,
     "metadata": {},
     "output_type": "execute_result"
    }
   ],
   "source": [
    "comprasMerge.head(5)"
   ]
  },
  {
   "cell_type": "code",
   "execution_count": 101,
   "metadata": {},
   "outputs": [],
   "source": [
    "comprasMerge2=comprasMerge.merge(inventarios_df, on=['InventoryId'], how='left')"
   ]
  },
  {
   "cell_type": "code",
   "execution_count": 102,
   "metadata": {},
   "outputs": [
    {
     "data": {
      "text/html": [
       "<div>\n",
       "<style scoped>\n",
       "    .dataframe tbody tr th:only-of-type {\n",
       "        vertical-align: middle;\n",
       "    }\n",
       "\n",
       "    .dataframe tbody tr th {\n",
       "        vertical-align: top;\n",
       "    }\n",
       "\n",
       "    .dataframe thead th {\n",
       "        text-align: right;\n",
       "    }\n",
       "</style>\n",
       "<table border=\"1\" class=\"dataframe\">\n",
       "  <thead>\n",
       "    <tr style=\"text-align: right;\">\n",
       "      <th></th>\n",
       "      <th>InventoryId</th>\n",
       "      <th>NumeroProveedor</th>\n",
       "      <th>Nombre</th>\n",
       "      <th>NumeroOrdenCompra</th>\n",
       "      <th>FechaOrdenCompra</th>\n",
       "      <th>FechaRecibido</th>\n",
       "      <th>FechaFacturado</th>\n",
       "      <th>FechaPagado</th>\n",
       "      <th>PrecioCompra</th>\n",
       "      <th>Cantidad</th>\n",
       "      <th>TotalCompra</th>\n",
       "      <th>ProveedorID</th>\n",
       "      <th>InventarioID</th>\n",
       "    </tr>\n",
       "  </thead>\n",
       "  <tbody>\n",
       "    <tr>\n",
       "      <th>0</th>\n",
       "      <td>69_MOUNTMEND_8412</td>\n",
       "      <td>105</td>\n",
       "      <td>ALTAMAR BRANDS LLC</td>\n",
       "      <td>8124</td>\n",
       "      <td>2015-12-21</td>\n",
       "      <td>2016-01-02</td>\n",
       "      <td>2016-01-04</td>\n",
       "      <td>2016-02-16</td>\n",
       "      <td>35.71</td>\n",
       "      <td>6</td>\n",
       "      <td>214.26</td>\n",
       "      <td>89</td>\n",
       "      <td>183937</td>\n",
       "    </tr>\n",
       "    <tr>\n",
       "      <th>1</th>\n",
       "      <td>30_CULCHETH_5255</td>\n",
       "      <td>4466</td>\n",
       "      <td>AMERICAN VINTAGE BEVERAGE</td>\n",
       "      <td>8137</td>\n",
       "      <td>2015-12-22</td>\n",
       "      <td>2016-01-01</td>\n",
       "      <td>2016-01-07</td>\n",
       "      <td>2016-02-21</td>\n",
       "      <td>9.35</td>\n",
       "      <td>4</td>\n",
       "      <td>37.40</td>\n",
       "      <td>84</td>\n",
       "      <td>69023</td>\n",
       "    </tr>\n",
       "    <tr>\n",
       "      <th>2</th>\n",
       "      <td>34_PITMERDEN_5215</td>\n",
       "      <td>4466</td>\n",
       "      <td>AMERICAN VINTAGE BEVERAGE</td>\n",
       "      <td>8137</td>\n",
       "      <td>2015-12-22</td>\n",
       "      <td>2016-01-02</td>\n",
       "      <td>2016-01-07</td>\n",
       "      <td>2016-02-21</td>\n",
       "      <td>9.41</td>\n",
       "      <td>5</td>\n",
       "      <td>47.05</td>\n",
       "      <td>84</td>\n",
       "      <td>81251</td>\n",
       "    </tr>\n",
       "    <tr>\n",
       "      <th>3</th>\n",
       "      <td>1_HARDERSFIELD_5255</td>\n",
       "      <td>4466</td>\n",
       "      <td>AMERICAN VINTAGE BEVERAGE</td>\n",
       "      <td>8137</td>\n",
       "      <td>2015-12-22</td>\n",
       "      <td>2016-01-01</td>\n",
       "      <td>2016-01-07</td>\n",
       "      <td>2016-02-21</td>\n",
       "      <td>9.35</td>\n",
       "      <td>6</td>\n",
       "      <td>56.10</td>\n",
       "      <td>84</td>\n",
       "      <td>1272</td>\n",
       "    </tr>\n",
       "    <tr>\n",
       "      <th>4</th>\n",
       "      <td>76_DONCASTER_2034</td>\n",
       "      <td>388</td>\n",
       "      <td>ATLANTIC IMPORTING COMPANY</td>\n",
       "      <td>8169</td>\n",
       "      <td>2015-12-24</td>\n",
       "      <td>2016-01-02</td>\n",
       "      <td>2016-01-09</td>\n",
       "      <td>2016-02-16</td>\n",
       "      <td>21.32</td>\n",
       "      <td>5</td>\n",
       "      <td>106.60</td>\n",
       "      <td>63</td>\n",
       "      <td>207939</td>\n",
       "    </tr>\n",
       "  </tbody>\n",
       "</table>\n",
       "</div>"
      ],
      "text/plain": [
       "           InventoryId  NumeroProveedor                       Nombre  \\\n",
       "0    69_MOUNTMEND_8412              105  ALTAMAR BRANDS LLC            \n",
       "1     30_CULCHETH_5255             4466  AMERICAN VINTAGE BEVERAGE     \n",
       "2    34_PITMERDEN_5215             4466  AMERICAN VINTAGE BEVERAGE     \n",
       "3  1_HARDERSFIELD_5255             4466  AMERICAN VINTAGE BEVERAGE     \n",
       "4    76_DONCASTER_2034              388  ATLANTIC IMPORTING COMPANY    \n",
       "\n",
       "   NumeroOrdenCompra FechaOrdenCompra FechaRecibido FechaFacturado  \\\n",
       "0               8124       2015-12-21    2016-01-02     2016-01-04   \n",
       "1               8137       2015-12-22    2016-01-01     2016-01-07   \n",
       "2               8137       2015-12-22    2016-01-02     2016-01-07   \n",
       "3               8137       2015-12-22    2016-01-01     2016-01-07   \n",
       "4               8169       2015-12-24    2016-01-02     2016-01-09   \n",
       "\n",
       "  FechaPagado  PrecioCompra  Cantidad  TotalCompra  ProveedorID  InventarioID  \n",
       "0  2016-02-16         35.71         6       214.26           89        183937  \n",
       "1  2016-02-21          9.35         4        37.40           84         69023  \n",
       "2  2016-02-21          9.41         5        47.05           84         81251  \n",
       "3  2016-02-21          9.35         6        56.10           84          1272  \n",
       "4  2016-02-16         21.32         5       106.60           63        207939  "
      ]
     },
     "execution_count": 102,
     "metadata": {},
     "output_type": "execute_result"
    }
   ],
   "source": [
    "comprasMerge2.head(5)"
   ]
  },
  {
   "cell_type": "code",
   "execution_count": 103,
   "metadata": {},
   "outputs": [
    {
     "data": {
      "text/plain": [
       "(2372474, 13)"
      ]
     },
     "execution_count": 103,
     "metadata": {},
     "output_type": "execute_result"
    }
   ],
   "source": [
    "comprasMerge2.shape"
   ]
  },
  {
   "cell_type": "code",
   "execution_count": 104,
   "metadata": {},
   "outputs": [
    {
     "data": {
      "text/plain": [
       "Index(['InventoryId', 'NumeroProveedor', 'Nombre', 'NumeroOrdenCompra',\n",
       "       'FechaOrdenCompra', 'FechaRecibido', 'FechaFacturado', 'FechaPagado',\n",
       "       'PrecioCompra', 'Cantidad', 'TotalCompra', 'ProveedorID',\n",
       "       'InventarioID'],\n",
       "      dtype='object')"
      ]
     },
     "execution_count": 104,
     "metadata": {},
     "output_type": "execute_result"
    }
   ],
   "source": [
    "comprasMerge2.columns"
   ]
  },
  {
   "cell_type": "markdown",
   "metadata": {},
   "source": [
    "##### Se reordenan las columnas y se establece el flujo de datos a la base"
   ]
  },
  {
   "cell_type": "code",
   "execution_count": 105,
   "metadata": {},
   "outputs": [
    {
     "name": "stdout",
     "output_type": "stream",
     "text": [
      "         InventarioID  ProveedorID  NumeroOrdenCompra FechaOrdenCompra  \\\n",
      "0              183937           89               8124       2015-12-21   \n",
      "1               69023           84               8137       2015-12-22   \n",
      "2               81251           84               8137       2015-12-22   \n",
      "3                1272           84               8137       2015-12-22   \n",
      "4              207939           63               8169       2015-12-24   \n",
      "...               ...          ...                ...              ...   \n",
      "2372469        122337           61              13593       2016-12-19   \n",
      "2372470          2313           61              13593       2016-12-19   \n",
      "2372471        171402           61              13593       2016-12-19   \n",
      "2372472        185071           61              13593       2016-12-19   \n",
      "2372473        142388           61              13593       2016-12-19   \n",
      "\n",
      "        FechaRecibido FechaFacturado FechaPagado  PrecioCompra  Cantidad  \\\n",
      "0          2016-01-02     2016-01-04  2016-02-16         35.71         6   \n",
      "1          2016-01-01     2016-01-07  2016-02-21          9.35         4   \n",
      "2          2016-01-02     2016-01-07  2016-02-21          9.41         5   \n",
      "3          2016-01-01     2016-01-07  2016-02-21          9.35         6   \n",
      "4          2016-01-02     2016-01-09  2016-02-16         21.32         5   \n",
      "...               ...            ...         ...           ...       ...   \n",
      "2372469    2016-12-28     2017-01-09  2017-02-06          8.06        12   \n",
      "2372470    2016-12-27     2017-01-09  2017-02-06          9.39        12   \n",
      "2372471    2016-12-26     2017-01-09  2017-02-06          6.75        12   \n",
      "2372472    2016-12-26     2017-01-09  2017-02-06          9.39        12   \n",
      "2372473    2016-12-28     2017-01-09  2017-02-06          8.06        12   \n",
      "\n",
      "         TotalCompra  \n",
      "0             214.26  \n",
      "1              37.40  \n",
      "2              47.05  \n",
      "3              56.10  \n",
      "4             106.60  \n",
      "...              ...  \n",
      "2372469        96.72  \n",
      "2372470       112.68  \n",
      "2372471        81.00  \n",
      "2372472       112.68  \n",
      "2372473        96.72  \n",
      "\n",
      "[2372474 rows x 10 columns]\n"
     ]
    }
   ],
   "source": [
    "#Se reordenan las columnas\n",
    "datos_compras = comprasMerge2.reindex(columns=['InventarioID','ProveedorID', 'NumeroOrdenCompra', 'FechaOrdenCompra', 'FechaRecibido', 'FechaFacturado', 'FechaPagado', 'PrecioCompra', 'Cantidad', 'TotalCompra'])\n",
    "print(datos_compras)"
   ]
  },
  {
   "cell_type": "code",
   "execution_count": 106,
   "metadata": {},
   "outputs": [
    {
     "data": {
      "text/plain": [
       "115"
      ]
     },
     "execution_count": 106,
     "metadata": {},
     "output_type": "execute_result"
    }
   ],
   "source": [
    "datos_compras.to_sql('Compras', engine, if_exists='append', index=False)"
   ]
  },
  {
   "cell_type": "markdown",
   "metadata": {},
   "source": [
    "# Finalizacion de la ingesta de datos dentro de la base de datos en la nube"
   ]
  }
 ],
 "metadata": {
  "kernelspec": {
   "display_name": "Python 3",
   "language": "python",
   "name": "python3"
  },
  "language_info": {
   "codemirror_mode": {
    "name": "ipython",
    "version": 3
   },
   "file_extension": ".py",
   "mimetype": "text/x-python",
   "name": "python",
   "nbconvert_exporter": "python",
   "pygments_lexer": "ipython3",
   "version": "3.12.4"
  }
 },
 "nbformat": 4,
 "nbformat_minor": 2
}
